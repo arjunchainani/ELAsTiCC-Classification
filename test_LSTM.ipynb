{
 "cells": [
  {
   "cell_type": "markdown",
   "id": "3926cbe0-c3fa-43c4-98b7-2e6710c32e46",
   "metadata": {},
   "source": [
    "# Training and validating RNN + MPL model with the WHXE loss function"
   ]
  },
  {
   "cell_type": "markdown",
   "id": "b3d39334-1647-4390-bfe5-0587e786d7b3",
   "metadata": {
    "tags": []
   },
   "source": [
    "## Imports"
   ]
  },
  {
   "cell_type": "code",
   "execution_count": 1,
   "id": "0c99e109-b675-47d0-b6a1-0a3c5ec2eda5",
   "metadata": {},
   "outputs": [
    {
     "name": "stderr",
     "output_type": "stream",
     "text": [
      "2024-06-17 08:16:51.047795: I tensorflow/core/util/port.cc:113] oneDNN custom operations are on. You may see slightly different numerical results due to floating-point round-off errors from different computation orders. To turn them off, set the environment variable `TF_ENABLE_ONEDNN_OPTS=0`.\n",
      "2024-06-17 08:16:52.466944: E external/local_xla/xla/stream_executor/cuda/cuda_dnn.cc:9373] Unable to register cuDNN factory: Attempting to register factory for plugin cuDNN when one has already been registered\n",
      "2024-06-17 08:16:52.468465: E external/local_xla/xla/stream_executor/cuda/cuda_fft.cc:607] Unable to register cuFFT factory: Attempting to register factory for plugin cuFFT when one has already been registered\n",
      "2024-06-17 08:16:52.664714: E external/local_xla/xla/stream_executor/cuda/cuda_blas.cc:1534] Unable to register cuBLAS factory: Attempting to register factory for plugin cuBLAS when one has already been registered\n",
      "2024-06-17 08:16:53.031900: I tensorflow/core/platform/cpu_feature_guard.cc:183] This TensorFlow binary is optimized to use available CPU instructions in performance-critical operations.\n",
      "To enable the following instructions: SSE3 SSE4.1 SSE4.2 AVX, in other operations, rebuild TensorFlow with the appropriate compiler flags.\n"
     ]
    }
   ],
   "source": [
    "import time\n",
    "import pickle\n",
    "import platform\n",
    "import os\n",
    "import imageio\n",
    "import numpy as np\n",
    "import pandas as pd\n",
    "import matplotlib.pyplot as plt\n",
    "import tensorflow as tf\n",
    "import random \n",
    "\n",
    "from sklearn.model_selection import train_test_split\n",
    "from tensorflow.keras.callbacks import EarlyStopping\n",
    "from tensorflow.keras.utils import plot_model\n",
    "from sklearn.metrics import confusion_matrix, ConfusionMatrixDisplay, classification_report\n",
    "from tensorflow import keras\n",
    "from tqdm import tqdm\n",
    "\n",
    "from LSTM_model import get_LSTM_Classifier\n",
    "from dataloader import LSSTSourceDataSet, load, get_augmented_data, get_static_features, ts_length\n",
    "from loss import WHXE_Loss\n",
    "from taxonomy import get_taxonomy_tree, get_prediction_probs, get_highest_prob_path, plot_colored_tree\n",
    "from vizualizations import make_gif, plot_confusion_matrix, plot_roc_curves\n",
    "from interpret_results import get_conditional_probabilites, save_all_cf_and_rocs, save_leaf_cf_and_rocs"
   ]
  },
  {
   "cell_type": "code",
   "execution_count": 2,
   "id": "794f3197-2c38-4fbd-9c1a-ea7b1ab0316c",
   "metadata": {},
   "outputs": [
    {
     "name": "stdout",
     "output_type": "stream",
     "text": [
      "Tensorflow version 2.15.0\n",
      "Python version 3.10.12\n"
     ]
    }
   ],
   "source": [
    "print(\"Tensorflow version\", tf.__version__)\n",
    "print(\"Python version\", platform.python_version())"
   ]
  },
  {
   "cell_type": "code",
   "execution_count": 3,
   "id": "b3d607ed-361c-46f8-a222-ab8eeb010dcd",
   "metadata": {},
   "outputs": [],
   "source": [
    "seed = 42\n",
    "random.seed(seed)"
   ]
  },
  {
   "cell_type": "markdown",
   "id": "86ac99b5-6252-4f61-8ea5-f115dd45534e",
   "metadata": {},
   "source": [
    "## Load and balance the tensors:"
   ]
  },
  {
   "cell_type": "markdown",
   "id": "8f5f0400-9c0a-4205-9a40-b0d92523099e",
   "metadata": {},
   "source": [
    "This step takes a while because it has load from disc to memory..."
   ]
  },
  {
   "cell_type": "code",
   "execution_count": 4,
   "id": "5584753a-7d5f-4f4f-b21b-e343a8334b61",
   "metadata": {},
   "outputs": [],
   "source": [
    "X_ts = load(\"processed/test/x_ts.pkl\")\n",
    "X_static = load(\"processed/test/x_static.pkl\")\n",
    "Y = load(\"processed/test/y.pkl\")\n",
    "astrophysical_classes = load(\"processed/test/a_labels.pkl\")"
   ]
  },
  {
   "cell_type": "code",
   "execution_count": 5,
   "id": "5d41f77e-42dc-4a9f-97b4-5a2e08d31a7a",
   "metadata": {},
   "outputs": [
    {
     "name": "stdout",
     "output_type": "stream",
     "text": [
      "Total sample count = 463528\n"
     ]
    },
    {
     "data": {
      "text/html": [
       "<div>\n",
       "<style scoped>\n",
       "    .dataframe tbody tr th:only-of-type {\n",
       "        vertical-align: middle;\n",
       "    }\n",
       "\n",
       "    .dataframe tbody tr th {\n",
       "        vertical-align: top;\n",
       "    }\n",
       "\n",
       "    .dataframe thead th {\n",
       "        text-align: right;\n",
       "    }\n",
       "</style>\n",
       "<table border=\"1\" class=\"dataframe\">\n",
       "  <thead>\n",
       "    <tr style=\"text-align: right;\">\n",
       "      <th></th>\n",
       "      <th>Class</th>\n",
       "      <th>Count</th>\n",
       "    </tr>\n",
       "  </thead>\n",
       "  <tbody>\n",
       "    <tr>\n",
       "      <th>0</th>\n",
       "      <td>AGN</td>\n",
       "      <td>32681</td>\n",
       "    </tr>\n",
       "    <tr>\n",
       "      <th>1</th>\n",
       "      <td>CART</td>\n",
       "      <td>3517</td>\n",
       "    </tr>\n",
       "    <tr>\n",
       "      <th>2</th>\n",
       "      <td>Cepheid</td>\n",
       "      <td>5901</td>\n",
       "    </tr>\n",
       "    <tr>\n",
       "      <th>3</th>\n",
       "      <td>Delta Scuti</td>\n",
       "      <td>8849</td>\n",
       "    </tr>\n",
       "    <tr>\n",
       "      <th>4</th>\n",
       "      <td>Dwarf Novae</td>\n",
       "      <td>3439</td>\n",
       "    </tr>\n",
       "    <tr>\n",
       "      <th>5</th>\n",
       "      <td>EB</td>\n",
       "      <td>28480</td>\n",
       "    </tr>\n",
       "    <tr>\n",
       "      <th>6</th>\n",
       "      <td>ILOT</td>\n",
       "      <td>3197</td>\n",
       "    </tr>\n",
       "    <tr>\n",
       "      <th>7</th>\n",
       "      <td>KN</td>\n",
       "      <td>1896</td>\n",
       "    </tr>\n",
       "    <tr>\n",
       "      <th>8</th>\n",
       "      <td>M-dwarf Flare</td>\n",
       "      <td>796</td>\n",
       "    </tr>\n",
       "    <tr>\n",
       "      <th>9</th>\n",
       "      <td>PISN</td>\n",
       "      <td>27250</td>\n",
       "    </tr>\n",
       "    <tr>\n",
       "      <th>10</th>\n",
       "      <td>RR Lyrae</td>\n",
       "      <td>6014</td>\n",
       "    </tr>\n",
       "    <tr>\n",
       "      <th>11</th>\n",
       "      <td>SLSN</td>\n",
       "      <td>28322</td>\n",
       "    </tr>\n",
       "    <tr>\n",
       "      <th>12</th>\n",
       "      <td>SNI91bg</td>\n",
       "      <td>12272</td>\n",
       "    </tr>\n",
       "    <tr>\n",
       "      <th>13</th>\n",
       "      <td>SNII</td>\n",
       "      <td>129230</td>\n",
       "    </tr>\n",
       "    <tr>\n",
       "      <th>14</th>\n",
       "      <td>SNIa</td>\n",
       "      <td>51745</td>\n",
       "    </tr>\n",
       "    <tr>\n",
       "      <th>15</th>\n",
       "      <td>SNIax</td>\n",
       "      <td>12012</td>\n",
       "    </tr>\n",
       "    <tr>\n",
       "      <th>16</th>\n",
       "      <td>SNIb/c</td>\n",
       "      <td>72105</td>\n",
       "    </tr>\n",
       "    <tr>\n",
       "      <th>17</th>\n",
       "      <td>TDE</td>\n",
       "      <td>28285</td>\n",
       "    </tr>\n",
       "    <tr>\n",
       "      <th>18</th>\n",
       "      <td>uLens</td>\n",
       "      <td>7537</td>\n",
       "    </tr>\n",
       "  </tbody>\n",
       "</table>\n",
       "</div>"
      ],
      "text/plain": [
       "            Class   Count\n",
       "0             AGN   32681\n",
       "1            CART    3517\n",
       "2         Cepheid    5901\n",
       "3     Delta Scuti    8849\n",
       "4     Dwarf Novae    3439\n",
       "5              EB   28480\n",
       "6            ILOT    3197\n",
       "7              KN    1896\n",
       "8   M-dwarf Flare     796\n",
       "9            PISN   27250\n",
       "10       RR Lyrae    6014\n",
       "11           SLSN   28322\n",
       "12        SNI91bg   12272\n",
       "13           SNII  129230\n",
       "14           SNIa   51745\n",
       "15          SNIax   12012\n",
       "16         SNIb/c   72105\n",
       "17            TDE   28285\n",
       "18          uLens    7537"
      ]
     },
     "execution_count": 5,
     "metadata": {},
     "output_type": "execute_result"
    }
   ],
   "source": [
    "a, b = np.unique(astrophysical_classes, return_counts=True)\n",
    "print(f\"Total sample count = {np.sum(b)}\")\n",
    "pd.DataFrame(data = {'Class': a, 'Count': b})"
   ]
  },
  {
   "cell_type": "markdown",
   "id": "0747b5af-28d8-474a-afba-5b7d0c366fe5",
   "metadata": {},
   "source": [
    "Small step to convert X_static from a dictionary to an array"
   ]
  },
  {
   "cell_type": "code",
   "execution_count": 6,
   "id": "48e9969f-c0a8-48ee-87ff-31f98810a827",
   "metadata": {},
   "outputs": [
    {
     "name": "stderr",
     "output_type": "stream",
     "text": [
      "100%|██████████| 463528/463528 [00:02<00:00, 170670.85it/s]\n"
     ]
    }
   ],
   "source": [
    "for i in tqdm(range(len(X_static))):        \n",
    "    X_static[i] = get_static_features(X_static[i])"
   ]
  },
  {
   "cell_type": "code",
   "execution_count": 7,
   "id": "1ad3d07a-c2d3-4cf6-b5aa-46ebb0fa17e5",
   "metadata": {},
   "outputs": [
    {
     "data": {
      "text/html": [
       "<div>\n",
       "<style scoped>\n",
       "    .dataframe tbody tr th:only-of-type {\n",
       "        vertical-align: middle;\n",
       "    }\n",
       "\n",
       "    .dataframe tbody tr th {\n",
       "        vertical-align: top;\n",
       "    }\n",
       "\n",
       "    .dataframe thead th {\n",
       "        text-align: right;\n",
       "    }\n",
       "</style>\n",
       "<table border=\"1\" class=\"dataframe\">\n",
       "  <thead>\n",
       "    <tr style=\"text-align: right;\">\n",
       "      <th></th>\n",
       "      <th>Class</th>\n",
       "      <th>Count</th>\n",
       "    </tr>\n",
       "  </thead>\n",
       "  <tbody>\n",
       "    <tr>\n",
       "      <th>0</th>\n",
       "      <td>AGN</td>\n",
       "      <td>750</td>\n",
       "    </tr>\n",
       "    <tr>\n",
       "      <th>1</th>\n",
       "      <td>CART</td>\n",
       "      <td>750</td>\n",
       "    </tr>\n",
       "    <tr>\n",
       "      <th>2</th>\n",
       "      <td>Cepheid</td>\n",
       "      <td>750</td>\n",
       "    </tr>\n",
       "    <tr>\n",
       "      <th>3</th>\n",
       "      <td>Delta Scuti</td>\n",
       "      <td>750</td>\n",
       "    </tr>\n",
       "    <tr>\n",
       "      <th>4</th>\n",
       "      <td>Dwarf Novae</td>\n",
       "      <td>750</td>\n",
       "    </tr>\n",
       "    <tr>\n",
       "      <th>5</th>\n",
       "      <td>EB</td>\n",
       "      <td>750</td>\n",
       "    </tr>\n",
       "    <tr>\n",
       "      <th>6</th>\n",
       "      <td>ILOT</td>\n",
       "      <td>750</td>\n",
       "    </tr>\n",
       "    <tr>\n",
       "      <th>7</th>\n",
       "      <td>KN</td>\n",
       "      <td>750</td>\n",
       "    </tr>\n",
       "    <tr>\n",
       "      <th>8</th>\n",
       "      <td>M-dwarf Flare</td>\n",
       "      <td>750</td>\n",
       "    </tr>\n",
       "    <tr>\n",
       "      <th>9</th>\n",
       "      <td>PISN</td>\n",
       "      <td>750</td>\n",
       "    </tr>\n",
       "    <tr>\n",
       "      <th>10</th>\n",
       "      <td>RR Lyrae</td>\n",
       "      <td>750</td>\n",
       "    </tr>\n",
       "    <tr>\n",
       "      <th>11</th>\n",
       "      <td>SLSN</td>\n",
       "      <td>750</td>\n",
       "    </tr>\n",
       "    <tr>\n",
       "      <th>12</th>\n",
       "      <td>SNI91bg</td>\n",
       "      <td>750</td>\n",
       "    </tr>\n",
       "    <tr>\n",
       "      <th>13</th>\n",
       "      <td>SNII</td>\n",
       "      <td>750</td>\n",
       "    </tr>\n",
       "    <tr>\n",
       "      <th>14</th>\n",
       "      <td>SNIa</td>\n",
       "      <td>750</td>\n",
       "    </tr>\n",
       "    <tr>\n",
       "      <th>15</th>\n",
       "      <td>SNIax</td>\n",
       "      <td>750</td>\n",
       "    </tr>\n",
       "    <tr>\n",
       "      <th>16</th>\n",
       "      <td>SNIb/c</td>\n",
       "      <td>750</td>\n",
       "    </tr>\n",
       "    <tr>\n",
       "      <th>17</th>\n",
       "      <td>TDE</td>\n",
       "      <td>750</td>\n",
       "    </tr>\n",
       "    <tr>\n",
       "      <th>18</th>\n",
       "      <td>uLens</td>\n",
       "      <td>750</td>\n",
       "    </tr>\n",
       "  </tbody>\n",
       "</table>\n",
       "</div>"
      ],
      "text/plain": [
       "            Class  Count\n",
       "0             AGN    750\n",
       "1            CART    750\n",
       "2         Cepheid    750\n",
       "3     Delta Scuti    750\n",
       "4     Dwarf Novae    750\n",
       "5              EB    750\n",
       "6            ILOT    750\n",
       "7              KN    750\n",
       "8   M-dwarf Flare    750\n",
       "9            PISN    750\n",
       "10       RR Lyrae    750\n",
       "11           SLSN    750\n",
       "12        SNI91bg    750\n",
       "13           SNII    750\n",
       "14           SNIa    750\n",
       "15          SNIax    750\n",
       "16         SNIb/c    750\n",
       "17            TDE    750\n",
       "18          uLens    750"
      ]
     },
     "execution_count": 7,
     "metadata": {},
     "output_type": "execute_result"
    }
   ],
   "source": [
    "max_class_count = 750\n",
    "\n",
    "X_ts_balanced = []\n",
    "X_static_balanced = []\n",
    "Y_balanced = []\n",
    "astrophysical_classes_balanced = []\n",
    "\n",
    "for c in np.unique(astrophysical_classes):\n",
    "\n",
    "    idx = list(np.where(np.array(astrophysical_classes) == c)[0])\n",
    "    \n",
    "    if len(idx) > max_class_count:\n",
    "        idx = random.sample(idx, max_class_count)\n",
    " \n",
    "    X_ts_balanced += [X_ts[i] for i in idx]\n",
    "    X_static_balanced += [X_static[i] for i in idx]\n",
    "    Y_balanced += [Y[i] for i in idx]\n",
    "    astrophysical_classes_balanced += [astrophysical_classes[i] for i in idx]\n",
    "\n",
    "# Print summary of the data set used for training and validation\n",
    "a, b = np.unique(astrophysical_classes_balanced, return_counts=True)\n",
    "data_summary = pd.DataFrame(data = {'Class': a, 'Count': b})\n",
    "data_summary"
   ]
  },
  {
   "cell_type": "code",
   "execution_count": 8,
   "id": "0563af85-c44f-4002-a8c4-c0eb3aa50d94",
   "metadata": {},
   "outputs": [],
   "source": [
    "del X_ts, X_static, Y, astrophysical_classes"
   ]
  },
  {
   "cell_type": "markdown",
   "id": "eb22df76-fd85-46a3-bc72-cf8285d52cd0",
   "metadata": {},
   "source": [
    "## Load the best model and run inference on the test set"
   ]
  },
  {
   "cell_type": "code",
   "execution_count": 12,
   "id": "72e51ba3-b711-48df-8369-b62ff93003af",
   "metadata": {},
   "outputs": [],
   "source": [
    "tree = get_taxonomy_tree()"
   ]
  },
  {
   "cell_type": "code",
   "execution_count": 9,
   "id": "ca62e204-7471-44cc-9b22-8348f4e946a8",
   "metadata": {},
   "outputs": [
    {
     "name": "stderr",
     "output_type": "stream",
     "text": [
      "2024-06-17 08:18:04.626195: I tensorflow/core/common_runtime/gpu/gpu_device.cc:1926] Created device /job:localhost/replica:0/task:0/device:GPU:0 with 31127 MB memory:  -> device: 0, name: Tesla V100-SXM2-32GB, pci bus id: 0000:3a:00.0, compute capability: 7.0\n",
      "2024-06-17 08:18:04.627505: I tensorflow/core/common_runtime/gpu/gpu_device.cc:1926] Created device /job:localhost/replica:0/task:0/device:GPU:1 with 31127 MB memory:  -> device: 1, name: Tesla V100-SXM2-32GB, pci bus id: 0000:b3:00.0, compute capability: 7.0\n"
     ]
    }
   ],
   "source": [
    "best_model = keras.models.load_model(f\"models/lsst_rate_agnostic/best_model.h5\", compile=False)"
   ]
  },
  {
   "cell_type": "code",
   "execution_count": 10,
   "id": "1a343fc2-e951-4659-89bb-67208cdc4db9",
   "metadata": {},
   "outputs": [],
   "source": [
    "fractions = [0.1, 0.2, 0.3, 0.4, 0.5, 0.6, 0.7, 0.8, 0.9, 1]"
   ]
  },
  {
   "cell_type": "code",
   "execution_count": 13,
   "id": "d7a79713-2f62-4f4b-b744-63394b432338",
   "metadata": {
    "tags": []
   },
   "outputs": [
    {
     "name": "stdout",
     "output_type": "stream",
     "text": [
      "Running inference for 10% light curves...\n"
     ]
    },
    {
     "name": "stderr",
     "output_type": "stream",
     "text": [
      "100%|██████████| 14250/14250 [00:01<00:00, 13739.11it/s]\n"
     ]
    },
    {
     "name": "stdout",
     "output_type": "stream",
     "text": [
      "446/446 [==============================] - 1s 3ms/step\n",
      "For 10% of the light curve, these are the statistics:\n",
      "              precision    recall  f1-score   support\n",
      "\n",
      "   Transient       0.93      1.00      0.96     10500\n",
      "    Variable       0.99      0.78      0.87      3750\n",
      "\n",
      "    accuracy                           0.94     14250\n",
      "   macro avg       0.96      0.89      0.92     14250\n",
      "weighted avg       0.94      0.94      0.94     14250\n",
      "\n",
      "===========\n",
      "              precision    recall  f1-score   support\n",
      "\n",
      "         AGN       1.00      0.44      0.61       750\n",
      "        Fast       0.84      0.77      0.80      3000\n",
      "        Long       0.72      0.60      0.65      3750\n",
      "    Periodic       0.99      0.86      0.92      3000\n",
      "          SN       0.59      0.87      0.70      3750\n",
      "\n",
      "    accuracy                           0.75     14250\n",
      "   macro avg       0.83      0.71      0.74     14250\n",
      "weighted avg       0.79      0.75      0.75     14250\n",
      "\n",
      "===========\n",
      "               precision    recall  f1-score   support\n",
      "\n",
      "          AGN       1.00      0.45      0.62       750\n",
      "         CART       0.26      0.04      0.07       750\n",
      "      Cepheid       0.97      0.84      0.90       750\n",
      "  Delta Scuti       0.91      0.46      0.61       750\n",
      "  Dwarf Novae       0.34      0.97      0.50       750\n",
      "           EB       0.92      0.47      0.62       750\n",
      "         ILOT       0.52      0.22      0.31       750\n",
      "           KN       0.74      0.15      0.25       750\n",
      "M-dwarf Flare       0.86      0.06      0.11       750\n",
      "         PISN       0.61      0.67      0.64       750\n",
      "     RR Lyrae       0.58      0.92      0.71       750\n",
      "         SLSN       0.41      0.61      0.49       750\n",
      "      SNI91bg       0.40      0.33      0.36       750\n",
      "         SNII       0.15      0.37      0.21       750\n",
      "         SNIa       0.19      0.44      0.27       750\n",
      "        SNIax       0.20      0.09      0.12       750\n",
      "       SNIb/c       0.22      0.19      0.21       750\n",
      "          TDE       0.30      0.39      0.34       750\n",
      "        uLens       0.60      0.38      0.46       750\n",
      "\n",
      "     accuracy                           0.42     14250\n",
      "    macro avg       0.54      0.42      0.41     14250\n",
      " weighted avg       0.54      0.42      0.41     14250\n",
      "\n",
      "Running inference for 20% light curves...\n"
     ]
    },
    {
     "name": "stderr",
     "output_type": "stream",
     "text": [
      "100%|██████████| 14250/14250 [00:00<00:00, 14252.39it/s]\n"
     ]
    },
    {
     "name": "stdout",
     "output_type": "stream",
     "text": [
      "446/446 [==============================] - 2s 4ms/step\n",
      "For 20% of the light curve, these are the statistics:\n",
      "              precision    recall  f1-score   support\n",
      "\n",
      "   Transient       0.95      1.00      0.97     10500\n",
      "    Variable       0.99      0.85      0.92      3750\n",
      "\n",
      "    accuracy                           0.96     14250\n",
      "   macro avg       0.97      0.93      0.95     14250\n",
      "weighted avg       0.96      0.96      0.96     14250\n",
      "\n",
      "===========\n",
      "              precision    recall  f1-score   support\n",
      "\n",
      "         AGN       1.00      0.58      0.74       750\n",
      "        Fast       0.90      0.80      0.85      3000\n",
      "        Long       0.77      0.67      0.71      3750\n",
      "    Periodic       0.99      0.92      0.96      3000\n",
      "          SN       0.64      0.88      0.74      3750\n",
      "\n",
      "    accuracy                           0.80     14250\n",
      "   macro avg       0.86      0.77      0.80     14250\n",
      "weighted avg       0.82      0.80      0.80     14250\n",
      "\n",
      "===========\n",
      "               precision    recall  f1-score   support\n",
      "\n",
      "          AGN       1.00      0.60      0.75       750\n",
      "         CART       0.33      0.07      0.11       750\n",
      "      Cepheid       0.96      0.93      0.95       750\n",
      "  Delta Scuti       0.96      0.70      0.81       750\n",
      "  Dwarf Novae       0.38      0.98      0.55       750\n",
      "           EB       0.96      0.62      0.75       750\n",
      "         ILOT       0.67      0.36      0.47       750\n",
      "           KN       0.82      0.36      0.50       750\n",
      "M-dwarf Flare       0.96      0.20      0.34       750\n",
      "         PISN       0.66      0.75      0.70       750\n",
      "     RR Lyrae       0.70      0.94      0.80       750\n",
      "         SLSN       0.43      0.68      0.53       750\n",
      "      SNI91bg       0.47      0.53      0.50       750\n",
      "         SNII       0.19      0.32      0.23       750\n",
      "         SNIa       0.24      0.54      0.33       750\n",
      "        SNIax       0.26      0.11      0.16       750\n",
      "       SNIb/c       0.30      0.26      0.28       750\n",
      "          TDE       0.43      0.48      0.45       750\n",
      "        uLens       0.78      0.40      0.53       750\n",
      "\n",
      "     accuracy                           0.52     14250\n",
      "    macro avg       0.61      0.52      0.51     14250\n",
      " weighted avg       0.61      0.52      0.51     14250\n",
      "\n",
      "Running inference for 30% light curves...\n"
     ]
    },
    {
     "name": "stderr",
     "output_type": "stream",
     "text": [
      "100%|██████████| 14250/14250 [00:00<00:00, 14324.42it/s]\n"
     ]
    },
    {
     "name": "stdout",
     "output_type": "stream",
     "text": [
      "446/446 [==============================] - 2s 4ms/step\n",
      "For 30% of the light curve, these are the statistics:\n",
      "              precision    recall  f1-score   support\n",
      "\n",
      "   Transient       0.96      1.00      0.98     10500\n",
      "    Variable       0.99      0.89      0.94      3750\n",
      "\n",
      "    accuracy                           0.97     14250\n",
      "   macro avg       0.98      0.94      0.96     14250\n",
      "weighted avg       0.97      0.97      0.97     14250\n",
      "\n",
      "===========\n",
      "              precision    recall  f1-score   support\n",
      "\n",
      "         AGN       1.00      0.70      0.82       750\n",
      "        Fast       0.93      0.84      0.88      3000\n",
      "        Long       0.82      0.70      0.75      3750\n",
      "    Periodic       0.99      0.94      0.97      3000\n",
      "          SN       0.68      0.90      0.77      3750\n",
      "\n",
      "    accuracy                           0.83     14250\n",
      "   macro avg       0.88      0.82      0.84     14250\n",
      "weighted avg       0.85      0.83      0.83     14250\n",
      "\n",
      "===========\n",
      "               precision    recall  f1-score   support\n",
      "\n",
      "          AGN       1.00      0.72      0.84       750\n",
      "         CART       0.38      0.08      0.14       750\n",
      "      Cepheid       0.97      0.95      0.96       750\n",
      "  Delta Scuti       0.97      0.80      0.88       750\n",
      "  Dwarf Novae       0.42      0.98      0.59       750\n",
      "           EB       0.97      0.69      0.81       750\n",
      "         ILOT       0.75      0.48      0.58       750\n",
      "           KN       0.87      0.51      0.64       750\n",
      "M-dwarf Flare       0.96      0.31      0.47       750\n",
      "         PISN       0.72      0.84      0.78       750\n",
      "     RR Lyrae       0.75      0.96      0.84       750\n",
      "         SLSN       0.48      0.72      0.58       750\n",
      "      SNI91bg       0.52      0.62      0.56       750\n",
      "         SNII       0.23      0.33      0.27       750\n",
      "         SNIa       0.27      0.58      0.37       750\n",
      "        SNIax       0.33      0.16      0.21       750\n",
      "       SNIb/c       0.32      0.28      0.30       750\n",
      "          TDE       0.56      0.56      0.56       750\n",
      "        uLens       0.84      0.48      0.61       750\n",
      "\n",
      "     accuracy                           0.58     14250\n",
      "    macro avg       0.65      0.58      0.58     14250\n",
      " weighted avg       0.65      0.58      0.58     14250\n",
      "\n",
      "Running inference for 40% light curves...\n"
     ]
    },
    {
     "name": "stderr",
     "output_type": "stream",
     "text": [
      "100%|██████████| 14250/14250 [00:01<00:00, 14174.70it/s]\n"
     ]
    },
    {
     "name": "stdout",
     "output_type": "stream",
     "text": [
      "446/446 [==============================] - 2s 5ms/step\n",
      "For 40% of the light curve, these are the statistics:\n",
      "              precision    recall  f1-score   support\n",
      "\n",
      "   Transient       0.97      1.00      0.99     10500\n",
      "    Variable       0.99      0.92      0.96      3750\n",
      "\n",
      "    accuracy                           0.98     14250\n",
      "   macro avg       0.98      0.96      0.97     14250\n",
      "weighted avg       0.98      0.98      0.98     14250\n",
      "\n",
      "===========\n",
      "              precision    recall  f1-score   support\n",
      "\n",
      "         AGN       1.00      0.80      0.89       750\n",
      "        Fast       0.94      0.87      0.90      3000\n",
      "        Long       0.85      0.71      0.78      3750\n",
      "    Periodic       0.99      0.95      0.97      3000\n",
      "          SN       0.70      0.91      0.79      3750\n",
      "\n",
      "    accuracy                           0.85     14250\n",
      "   macro avg       0.90      0.85      0.87     14250\n",
      "weighted avg       0.87      0.85      0.85     14250\n",
      "\n",
      "===========\n",
      "               precision    recall  f1-score   support\n",
      "\n",
      "          AGN       0.99      0.82      0.90       750\n",
      "         CART       0.41      0.08      0.14       750\n",
      "      Cepheid       0.97      0.96      0.96       750\n",
      "  Delta Scuti       0.99      0.84      0.91       750\n",
      "  Dwarf Novae       0.47      0.97      0.63       750\n",
      "           EB       0.98      0.74      0.84       750\n",
      "         ILOT       0.80      0.53      0.64       750\n",
      "           KN       0.89      0.61      0.72       750\n",
      "M-dwarf Flare       0.96      0.39      0.55       750\n",
      "         PISN       0.75      0.88      0.81       750\n",
      "     RR Lyrae       0.78      0.97      0.87       750\n",
      "         SLSN       0.53      0.74      0.62       750\n",
      "      SNI91bg       0.55      0.70      0.61       750\n",
      "         SNII       0.27      0.35      0.31       750\n",
      "         SNIa       0.30      0.63      0.40       750\n",
      "        SNIax       0.38      0.19      0.25       750\n",
      "       SNIb/c       0.37      0.35      0.36       750\n",
      "          TDE       0.65      0.61      0.63       750\n",
      "        uLens       0.86      0.59      0.70       750\n",
      "\n",
      "     accuracy                           0.63     14250\n",
      "    macro avg       0.68      0.63      0.62     14250\n",
      " weighted avg       0.68      0.63      0.62     14250\n",
      "\n",
      "Running inference for 50% light curves...\n"
     ]
    },
    {
     "name": "stderr",
     "output_type": "stream",
     "text": [
      "100%|██████████| 14250/14250 [00:00<00:00, 14329.98it/s]\n"
     ]
    },
    {
     "name": "stdout",
     "output_type": "stream",
     "text": [
      "446/446 [==============================] - 2s 6ms/step\n",
      "For 50% of the light curve, these are the statistics:\n",
      "              precision    recall  f1-score   support\n",
      "\n",
      "   Transient       0.98      1.00      0.99     10500\n",
      "    Variable       1.00      0.95      0.97      3750\n",
      "\n",
      "    accuracy                           0.99     14250\n",
      "   macro avg       0.99      0.97      0.98     14250\n",
      "weighted avg       0.99      0.99      0.99     14250\n",
      "\n",
      "===========\n",
      "              precision    recall  f1-score   support\n",
      "\n",
      "         AGN       0.99      0.88      0.93       750\n",
      "        Fast       0.95      0.90      0.92      3000\n",
      "        Long       0.88      0.73      0.80      3750\n",
      "    Periodic       1.00      0.96      0.98      3000\n",
      "          SN       0.73      0.92      0.81      3750\n",
      "\n",
      "    accuracy                           0.87     14250\n",
      "   macro avg       0.91      0.88      0.89     14250\n",
      "weighted avg       0.89      0.87      0.87     14250\n",
      "\n",
      "===========\n",
      "               precision    recall  f1-score   support\n",
      "\n",
      "          AGN       0.99      0.89      0.94       750\n",
      "         CART       0.47      0.10      0.17       750\n",
      "      Cepheid       0.96      0.97      0.97       750\n",
      "  Delta Scuti       0.99      0.88      0.93       750\n",
      "  Dwarf Novae       0.52      0.96      0.67       750\n",
      "           EB       0.99      0.79      0.88       750\n",
      "         ILOT       0.83      0.59      0.69       750\n",
      "           KN       0.90      0.70      0.79       750\n",
      "M-dwarf Flare       0.96      0.48      0.64       750\n",
      "         PISN       0.76      0.92      0.83       750\n",
      "     RR Lyrae       0.82      0.97      0.89       750\n",
      "         SLSN       0.59      0.77      0.67       750\n",
      "      SNI91bg       0.55      0.73      0.63       750\n",
      "         SNII       0.31      0.38      0.34       750\n",
      "         SNIa       0.33      0.66      0.44       750\n",
      "        SNIax       0.41      0.20      0.27       750\n",
      "       SNIb/c       0.37      0.35      0.36       750\n",
      "          TDE       0.73      0.65      0.69       750\n",
      "        uLens       0.86      0.69      0.76       750\n",
      "\n",
      "     accuracy                           0.67     14250\n",
      "    macro avg       0.70      0.67      0.66     14250\n",
      " weighted avg       0.70      0.67      0.66     14250\n",
      "\n",
      "Running inference for 60% light curves...\n"
     ]
    },
    {
     "name": "stderr",
     "output_type": "stream",
     "text": [
      "100%|██████████| 14250/14250 [00:01<00:00, 14147.89it/s]\n"
     ]
    },
    {
     "name": "stdout",
     "output_type": "stream",
     "text": [
      "446/446 [==============================] - 3s 6ms/step\n",
      "For 60% of the light curve, these are the statistics:\n",
      "              precision    recall  f1-score   support\n",
      "\n",
      "   Transient       0.99      1.00      0.99     10500\n",
      "    Variable       0.99      0.96      0.98      3750\n",
      "\n",
      "    accuracy                           0.99     14250\n",
      "   macro avg       0.99      0.98      0.99     14250\n",
      "weighted avg       0.99      0.99      0.99     14250\n",
      "\n",
      "===========\n",
      "              precision    recall  f1-score   support\n",
      "\n",
      "         AGN       0.99      0.93      0.96       750\n",
      "        Fast       0.96      0.92      0.94      3000\n",
      "        Long       0.91      0.75      0.82      3750\n",
      "    Periodic       0.99      0.97      0.98      3000\n",
      "          SN       0.75      0.93      0.83      3750\n",
      "\n",
      "    accuracy                           0.89     14250\n",
      "   macro avg       0.92      0.90      0.91     14250\n",
      "weighted avg       0.90      0.89      0.89     14250\n",
      "\n",
      "===========\n",
      "               precision    recall  f1-score   support\n",
      "\n",
      "          AGN       0.99      0.94      0.96       750\n",
      "         CART       0.51      0.12      0.19       750\n",
      "      Cepheid       0.96      0.97      0.97       750\n",
      "  Delta Scuti       1.00      0.89      0.94       750\n",
      "  Dwarf Novae       0.59      0.95      0.72       750\n",
      "           EB       0.96      0.83      0.89       750\n",
      "         ILOT       0.86      0.63      0.73       750\n",
      "           KN       0.92      0.77      0.84       750\n",
      "M-dwarf Flare       0.94      0.58      0.72       750\n",
      "         PISN       0.76      0.93      0.84       750\n",
      "     RR Lyrae       0.85      0.97      0.91       750\n",
      "         SLSN       0.65      0.78      0.71       750\n",
      "      SNI91bg       0.57      0.78      0.66       750\n",
      "         SNII       0.37      0.41      0.39       750\n",
      "         SNIa       0.35      0.69      0.47       750\n",
      "        SNIax       0.42      0.22      0.29       750\n",
      "       SNIb/c       0.39      0.38      0.39       750\n",
      "          TDE       0.78      0.69      0.73       750\n",
      "        uLens       0.89      0.75      0.82       750\n",
      "\n",
      "     accuracy                           0.70     14250\n",
      "    macro avg       0.72      0.70      0.69     14250\n",
      " weighted avg       0.72      0.70      0.69     14250\n",
      "\n",
      "Running inference for 70% light curves...\n"
     ]
    },
    {
     "name": "stderr",
     "output_type": "stream",
     "text": [
      "100%|██████████| 14250/14250 [00:01<00:00, 14121.94it/s]\n"
     ]
    },
    {
     "name": "stdout",
     "output_type": "stream",
     "text": [
      "446/446 [==============================] - 3s 7ms/step\n",
      "For 70% of the light curve, these are the statistics:\n",
      "              precision    recall  f1-score   support\n",
      "\n",
      "   Transient       0.99      1.00      0.99     10500\n",
      "    Variable       0.99      0.98      0.98      3750\n",
      "\n",
      "    accuracy                           0.99     14250\n",
      "   macro avg       0.99      0.99      0.99     14250\n",
      "weighted avg       0.99      0.99      0.99     14250\n",
      "\n",
      "===========\n",
      "              precision    recall  f1-score   support\n",
      "\n",
      "         AGN       0.98      0.96      0.97       750\n",
      "        Fast       0.97      0.93      0.95      3000\n",
      "        Long       0.92      0.75      0.83      3750\n",
      "    Periodic       0.99      0.98      0.99      3000\n",
      "          SN       0.77      0.94      0.85      3750\n",
      "\n",
      "    accuracy                           0.90     14250\n",
      "   macro avg       0.93      0.91      0.92     14250\n",
      "weighted avg       0.91      0.90      0.90     14250\n",
      "\n",
      "===========\n",
      "               precision    recall  f1-score   support\n",
      "\n",
      "          AGN       0.98      0.96      0.97       750\n",
      "         CART       0.57      0.13      0.22       750\n",
      "      Cepheid       0.96      0.98      0.97       750\n",
      "  Delta Scuti       0.99      0.91      0.95       750\n",
      "  Dwarf Novae       0.67      0.93      0.78       750\n",
      "           EB       0.93      0.86      0.90       750\n",
      "         ILOT       0.88      0.67      0.76       750\n",
      "           KN       0.93      0.81      0.86       750\n",
      "M-dwarf Flare       0.93      0.70      0.80       750\n",
      "         PISN       0.78      0.94      0.85       750\n",
      "     RR Lyrae       0.86      0.98      0.91       750\n",
      "         SLSN       0.68      0.79      0.73       750\n",
      "      SNI91bg       0.57      0.81      0.67       750\n",
      "         SNII       0.42      0.46      0.44       750\n",
      "         SNIa       0.38      0.70      0.49       750\n",
      "        SNIax       0.46      0.23      0.31       750\n",
      "       SNIb/c       0.41      0.42      0.41       750\n",
      "          TDE       0.83      0.71      0.77       750\n",
      "        uLens       0.91      0.79      0.85       750\n",
      "\n",
      "     accuracy                           0.73     14250\n",
      "    macro avg       0.74      0.73      0.72     14250\n",
      " weighted avg       0.74      0.73      0.72     14250\n",
      "\n",
      "Running inference for 80% light curves...\n"
     ]
    },
    {
     "name": "stderr",
     "output_type": "stream",
     "text": [
      "100%|██████████| 14250/14250 [00:01<00:00, 14199.89it/s]\n"
     ]
    },
    {
     "name": "stdout",
     "output_type": "stream",
     "text": [
      "446/446 [==============================] - 3s 7ms/step\n",
      "For 80% of the light curve, these are the statistics:\n",
      "              precision    recall  f1-score   support\n",
      "\n",
      "   Transient       0.99      0.99      0.99     10500\n",
      "    Variable       0.98      0.98      0.98      3750\n",
      "\n",
      "    accuracy                           0.99     14250\n",
      "   macro avg       0.99      0.99      0.99     14250\n",
      "weighted avg       0.99      0.99      0.99     14250\n",
      "\n",
      "===========\n",
      "              precision    recall  f1-score   support\n",
      "\n",
      "         AGN       0.97      0.97      0.97       750\n",
      "        Fast       0.97      0.93      0.95      3000\n",
      "        Long       0.94      0.76      0.84      3750\n",
      "    Periodic       0.99      0.98      0.99      3000\n",
      "          SN       0.78      0.95      0.86      3750\n",
      "\n",
      "    accuracy                           0.91     14250\n",
      "   macro avg       0.93      0.92      0.92     14250\n",
      "weighted avg       0.92      0.91      0.91     14250\n",
      "\n",
      "===========\n",
      "               precision    recall  f1-score   support\n",
      "\n",
      "          AGN       0.97      0.97      0.97       750\n",
      "         CART       0.61      0.16      0.25       750\n",
      "      Cepheid       0.97      0.98      0.98       750\n",
      "  Delta Scuti       0.99      0.93      0.96       750\n",
      "  Dwarf Novae       0.75      0.90      0.82       750\n",
      "           EB       0.92      0.90      0.91       750\n",
      "         ILOT       0.89      0.70      0.78       750\n",
      "           KN       0.94      0.84      0.89       750\n",
      "M-dwarf Flare       0.93      0.79      0.85       750\n",
      "         PISN       0.80      0.95      0.87       750\n",
      "     RR Lyrae       0.88      0.98      0.93       750\n",
      "         SLSN       0.73      0.81      0.77       750\n",
      "      SNI91bg       0.58      0.83      0.68       750\n",
      "         SNII       0.42      0.46      0.44       750\n",
      "         SNIa       0.39      0.72      0.51       750\n",
      "        SNIax       0.46      0.24      0.31       750\n",
      "       SNIb/c       0.40      0.41      0.41       750\n",
      "          TDE       0.85      0.74      0.79       750\n",
      "        uLens       0.90      0.84      0.87       750\n",
      "\n",
      "     accuracy                           0.74     14250\n",
      "    macro avg       0.76      0.74      0.74     14250\n",
      " weighted avg       0.76      0.74      0.74     14250\n",
      "\n",
      "Running inference for 90% light curves...\n"
     ]
    },
    {
     "name": "stderr",
     "output_type": "stream",
     "text": [
      "100%|██████████| 14250/14250 [00:00<00:00, 14319.37it/s]\n"
     ]
    },
    {
     "name": "stdout",
     "output_type": "stream",
     "text": [
      "446/446 [==============================] - 4s 8ms/step\n",
      "For 90% of the light curve, these are the statistics:\n",
      "              precision    recall  f1-score   support\n",
      "\n",
      "   Transient       1.00      0.99      0.99     10500\n",
      "    Variable       0.98      0.99      0.98      3750\n",
      "\n",
      "    accuracy                           0.99     14250\n",
      "   macro avg       0.99      0.99      0.99     14250\n",
      "weighted avg       0.99      0.99      0.99     14250\n",
      "\n",
      "===========\n",
      "              precision    recall  f1-score   support\n",
      "\n",
      "         AGN       0.97      0.99      0.98       750\n",
      "        Fast       0.98      0.94      0.96      3000\n",
      "        Long       0.94      0.78      0.85      3750\n",
      "    Periodic       0.98      0.99      0.99      3000\n",
      "          SN       0.79      0.95      0.87      3750\n",
      "\n",
      "    accuracy                           0.91     14250\n",
      "   macro avg       0.93      0.93      0.93     14250\n",
      "weighted avg       0.92      0.91      0.91     14250\n",
      "\n",
      "===========\n",
      "               precision    recall  f1-score   support\n",
      "\n",
      "          AGN       0.97      0.99      0.98       750\n",
      "         CART       0.59      0.17      0.26       750\n",
      "      Cepheid       0.97      0.99      0.98       750\n",
      "  Delta Scuti       0.99      0.92      0.96       750\n",
      "  Dwarf Novae       0.86      0.92      0.89       750\n",
      "           EB       0.91      0.91      0.91       750\n",
      "         ILOT       0.89      0.71      0.79       750\n",
      "           KN       0.94      0.87      0.90       750\n",
      "M-dwarf Flare       0.94      0.86      0.90       750\n",
      "         PISN       0.81      0.96      0.88       750\n",
      "     RR Lyrae       0.89      0.98      0.93       750\n",
      "         SLSN       0.76      0.83      0.79       750\n",
      "      SNI91bg       0.59      0.85      0.70       750\n",
      "         SNII       0.44      0.46      0.45       750\n",
      "         SNIa       0.41      0.72      0.52       750\n",
      "        SNIax       0.47      0.25      0.33       750\n",
      "       SNIb/c       0.41      0.42      0.42       750\n",
      "          TDE       0.87      0.76      0.82       750\n",
      "        uLens       0.93      0.89      0.91       750\n",
      "\n",
      "     accuracy                           0.76     14250\n",
      "    macro avg       0.77      0.76      0.75     14250\n",
      " weighted avg       0.77      0.76      0.75     14250\n",
      "\n",
      "Running inference for 100% light curves...\n"
     ]
    },
    {
     "name": "stderr",
     "output_type": "stream",
     "text": [
      "100%|██████████| 14250/14250 [00:00<00:00, 14256.71it/s]\n"
     ]
    },
    {
     "name": "stdout",
     "output_type": "stream",
     "text": [
      "446/446 [==============================] - 4s 9ms/step\n",
      "For 100% of the light curve, these are the statistics:\n",
      "              precision    recall  f1-score   support\n",
      "\n",
      "   Transient       1.00      0.99      0.99     10500\n",
      "    Variable       0.98      0.99      0.99      3750\n",
      "\n",
      "    accuracy                           0.99     14250\n",
      "   macro avg       0.99      0.99      0.99     14250\n",
      "weighted avg       0.99      0.99      0.99     14250\n",
      "\n",
      "===========\n",
      "              precision    recall  f1-score   support\n",
      "\n",
      "         AGN       0.97      0.99      0.98       750\n",
      "        Fast       0.98      0.95      0.96      3000\n",
      "        Long       0.94      0.79      0.86      3750\n",
      "    Periodic       0.98      0.99      0.99      3000\n",
      "          SN       0.81      0.95      0.87      3750\n",
      "\n",
      "    accuracy                           0.92     14250\n",
      "   macro avg       0.94      0.93      0.93     14250\n",
      "weighted avg       0.92      0.92      0.92     14250\n",
      "\n",
      "===========\n",
      "               precision    recall  f1-score   support\n",
      "\n",
      "          AGN       0.96      0.99      0.98       750\n",
      "         CART       0.60      0.17      0.27       750\n",
      "      Cepheid       0.97      0.99      0.98       750\n",
      "  Delta Scuti       0.99      0.93      0.96       750\n",
      "  Dwarf Novae       0.92      0.95      0.93       750\n",
      "           EB       0.95      0.92      0.94       750\n",
      "         ILOT       0.90      0.74      0.81       750\n",
      "           KN       0.95      0.89      0.92       750\n",
      "M-dwarf Flare       0.96      0.93      0.94       750\n",
      "         PISN       0.82      0.97      0.88       750\n",
      "     RR Lyrae       0.89      0.98      0.93       750\n",
      "         SLSN       0.78      0.85      0.81       750\n",
      "      SNI91bg       0.60      0.86      0.71       750\n",
      "         SNII       0.45      0.46      0.46       750\n",
      "         SNIa       0.42      0.72      0.53       750\n",
      "        SNIax       0.47      0.27      0.34       750\n",
      "       SNIb/c       0.43      0.43      0.43       750\n",
      "          TDE       0.88      0.78      0.83       750\n",
      "        uLens       0.95      0.92      0.93       750\n",
      "\n",
      "     accuracy                           0.78     14250\n",
      "    macro avg       0.78      0.78      0.77     14250\n",
      " weighted avg       0.78      0.78      0.77     14250\n",
      "\n"
     ]
    }
   ],
   "source": [
    "for f in fractions:\n",
    "\n",
    "    print(f'Running inference for {int(f*100)}% light curves...')\n",
    "\n",
    "    x1, x2, y_true, _ = get_augmented_data(X_ts_balanced, X_static_balanced, Y_balanced, astrophysical_classes_balanced, fraction=f)\n",
    "    \n",
    "    # Run inference on these\n",
    "    y_pred = best_model.predict([x1, x2])\n",
    "\n",
    "    # Get the conditional probabilities\n",
    "    _, pseudo_conditional_probabilities = get_conditional_probabilites(y_pred, tree)\n",
    "    \n",
    "    print(f'For {int(f*100)}% of the light curve, these are the statistics:')\n",
    "    \n",
    "    # Print all the stats and make plots...\n",
    "    save_all_cf_and_rocs(y_true, pseudo_conditional_probabilities, tree, f)\n",
    "    save_leaf_cf_and_rocs(y_true, pseudo_conditional_probabilities, tree, f)\n",
    "    \n",
    "    plt.close()"
   ]
  },
  {
   "cell_type": "markdown",
   "id": "a181f350-4d11-450f-a10f-8d2c51b92acc",
   "metadata": {},
   "source": [
    "## Making a cool animation:"
   ]
  },
  {
   "cell_type": "code",
   "execution_count": 14,
   "id": "f2357fa9-33f2-48c9-b9aa-3db2b52abc2e",
   "metadata": {},
   "outputs": [
    {
     "name": "stderr",
     "output_type": "stream",
     "text": [
      "MovieWriter ffmpeg unavailable; using Pillow instead.\n"
     ]
    }
   ],
   "source": [
    "cf_files = [f\"gif/leaf_cf/{f}.png\" for f in fractions]\n",
    "make_gif(cf_files, 'gif/leaf_cf/leaf_cf.gif')\n",
    "plt.close()"
   ]
  },
  {
   "cell_type": "code",
   "execution_count": 15,
   "id": "9ec1730b-642b-4cd3-a5b5-7e414c18efb5",
   "metadata": {},
   "outputs": [
    {
     "name": "stderr",
     "output_type": "stream",
     "text": [
      "MovieWriter ffmpeg unavailable; using Pillow instead.\n"
     ]
    }
   ],
   "source": [
    "roc_files = [f\"gif/leaf_roc/{f}.png\" for f in fractions]\n",
    "make_gif(roc_files, 'gif/leaf_roc/leaf_roc.gif')\n",
    "plt.close()"
   ]
  },
  {
   "cell_type": "code",
   "execution_count": 16,
   "id": "ef3dbdfa-7ca2-492d-86c2-27d368fa7e8b",
   "metadata": {},
   "outputs": [
    {
     "name": "stderr",
     "output_type": "stream",
     "text": [
      "MovieWriter ffmpeg unavailable; using Pillow instead.\n"
     ]
    }
   ],
   "source": [
    "cf_files = [f\"gif/level_1_cf/{f}.png\" for f in fractions]\n",
    "make_gif(cf_files, 'gif/level_1_cf/level_1_cf.gif')\n",
    "plt.close()"
   ]
  },
  {
   "cell_type": "code",
   "execution_count": 17,
   "id": "2bbd7b35-b1a3-4665-a3ef-97d1efc0c3b3",
   "metadata": {},
   "outputs": [
    {
     "name": "stderr",
     "output_type": "stream",
     "text": [
      "MovieWriter ffmpeg unavailable; using Pillow instead.\n"
     ]
    }
   ],
   "source": [
    "roc_files = [f\"gif/level_1_roc/{f}.png\" for f in fractions]\n",
    "make_gif(roc_files, 'gif/level_1_roc/level_1_roc.gif')\n",
    "plt.close()"
   ]
  },
  {
   "cell_type": "code",
   "execution_count": 18,
   "id": "e37b526d-c632-4c33-8da4-b9b5297c7ae7",
   "metadata": {},
   "outputs": [
    {
     "name": "stderr",
     "output_type": "stream",
     "text": [
      "MovieWriter ffmpeg unavailable; using Pillow instead.\n"
     ]
    }
   ],
   "source": [
    "cf_files = [f\"gif/level_2_cf/{f}.png\" for f in fractions]\n",
    "make_gif(cf_files, 'gif/level_2_cf/level_2_cf.gif')\n",
    "plt.close()"
   ]
  },
  {
   "cell_type": "code",
   "execution_count": 19,
   "id": "be8db84d-e650-431f-9182-86bbe0e88c6d",
   "metadata": {},
   "outputs": [
    {
     "name": "stderr",
     "output_type": "stream",
     "text": [
      "MovieWriter ffmpeg unavailable; using Pillow instead.\n"
     ]
    }
   ],
   "source": [
    "roc_files = [f\"gif/level_2_roc/{f}.png\" for f in fractions]\n",
    "make_gif(roc_files, 'gif/level_2_roc/level_2_roc.gif')\n",
    "plt.close()"
   ]
  }
 ],
 "metadata": {
  "kernelspec": {
   "display_name": "NGC TensorFlow",
   "language": "python",
   "name": "tensorflow"
  },
  "language_info": {
   "codemirror_mode": {
    "name": "ipython",
    "version": 3
   },
   "file_extension": ".py",
   "mimetype": "text/x-python",
   "name": "python",
   "nbconvert_exporter": "python",
   "pygments_lexer": "ipython3",
   "version": "3.10.12"
  }
 },
 "nbformat": 4,
 "nbformat_minor": 5
}
