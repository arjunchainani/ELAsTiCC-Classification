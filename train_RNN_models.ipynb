{
 "cells": [
  {
   "cell_type": "markdown",
   "id": "2ef94b41-958d-49c7-8540-8946fb201a79",
   "metadata": {},
   "source": [
    "# Train different RNN models"
   ]
  },
  {
   "cell_type": "code",
   "execution_count": 1,
   "id": "b3beb889-dd3e-4f22-b4e6-5b31c55dbef9",
   "metadata": {},
   "outputs": [
    {
     "name": "stderr",
     "output_type": "stream",
     "text": [
      "2024-06-23 00:41:31.116746: E external/local_xla/xla/stream_executor/cuda/cuda_dnn.cc:9373] Unable to register cuDNN factory: Attempting to register factory for plugin cuDNN when one has already been registered\n",
      "2024-06-23 00:41:31.118595: E external/local_xla/xla/stream_executor/cuda/cuda_fft.cc:607] Unable to register cuFFT factory: Attempting to register factory for plugin cuFFT when one has already been registered\n",
      "2024-06-23 00:41:31.357521: E external/local_xla/xla/stream_executor/cuda/cuda_blas.cc:1534] Unable to register cuBLAS factory: Attempting to register factory for plugin cuBLAS when one has already been registered\n",
      "2024-06-23 00:41:31.804383: I tensorflow/core/platform/cpu_feature_guard.cc:183] This TensorFlow binary is optimized to use available CPU instructions in performance-critical operations.\n",
      "To enable the following instructions: SSE3 SSE4.1 SSE4.2 AVX, in other operations, rebuild TensorFlow with the appropriate compiler flags.\n"
     ]
    }
   ],
   "source": [
    "from tensorflow import keras\n",
    "from pathlib import Path\n",
    "\n",
    "from train_RNN import train_model\n",
    "from train_ensemble import train_ensemble_model"
   ]
  },
  {
   "cell_type": "code",
   "execution_count": 2,
   "id": "ec39c601-78c5-40ab-a6b0-503fb3714b68",
   "metadata": {},
   "outputs": [],
   "source": [
    "num_epochs=50\n",
    "batch_size=1024\n",
    "learning_rate=1e-6\n",
    "latent_size=64\n",
    "max_class_count=30000 \n",
    "train_dir=Path(\"processed/train\")"
   ]
  },
  {
   "cell_type": "markdown",
   "id": "3aa48704-231e-4563-a887-7da0b2bec19d",
   "metadata": {},
   "source": [
    "## Train the base models:"
   ]
  },
  {
   "cell_type": "code",
   "execution_count": 4,
   "id": "b7a90ba3-edec-41ef-9b8d-416c2b32cdc3",
   "metadata": {
    "collapsed": true,
    "jupyter": {
     "outputs_hidden": true
    },
    "tags": []
   },
   "outputs": [
    {
     "name": "stdout",
     "output_type": "stream",
     "text": [
      "Loading training data from disc...\n",
      "Summary of all training data\n",
      "Total sample count = 1081614\n",
      "            Class   Count\n",
      "0             AGN   76258\n",
      "1            CART    8207\n",
      "2         Cepheid   13771\n",
      "3     Delta Scuti   20650\n",
      "4     Dwarf Novae    8025\n",
      "5              EB   66454\n",
      "6            ILOT    7461\n",
      "7              KN    4426\n",
      "8   M-dwarf Flare    1859\n",
      "9            PISN   63586\n",
      "10       RR Lyrae   14033\n",
      "11           SLSN   66088\n",
      "12        SNI91bg   28637\n",
      "13           SNII  301544\n",
      "14           SNIa  120739\n",
      "15          SNIax   28030\n",
      "16         SNIb/c  168254\n",
      "17            TDE   66000\n",
      "18          uLens   17592\n"
     ]
    },
    {
     "name": "stderr",
     "output_type": "stream",
     "text": [
      "Converting dictionaries to arrays: 100%|██████████| 1081614/1081614 [00:06<00:00, 158501.29it/s]\n"
     ]
    },
    {
     "name": "stdout",
     "output_type": "stream",
     "text": [
      "Summary of training data used\n",
      "            Class  Count\n",
      "0             AGN  30000\n",
      "1            CART   8207\n",
      "2         Cepheid  13771\n",
      "3     Delta Scuti  20650\n",
      "4     Dwarf Novae   8025\n",
      "5              EB  30000\n",
      "6            ILOT   7461\n",
      "7              KN   4426\n",
      "8   M-dwarf Flare   1859\n",
      "9            PISN  30000\n",
      "10       RR Lyrae  14033\n",
      "11           SLSN  30000\n",
      "12        SNI91bg  28637\n",
      "13           SNII  30000\n",
      "14           SNIa  30000\n",
      "15          SNIax  28030\n",
      "16         SNIb/c  30000\n",
      "17            TDE  30000\n",
      "18          uLens  17592\n"
     ]
    },
    {
     "name": "stderr",
     "output_type": "stream",
     "text": [
      "2024-06-22 13:58:16.655045: I tensorflow/core/common_runtime/gpu/gpu_device.cc:1926] Created device /job:localhost/replica:0/task:0/device:GPU:0 with 31127 MB memory:  -> device: 0, name: Tesla V100-SXM2-32GB, pci bus id: 0000:3b:00.0, compute capability: 7.0\n",
      "2024-06-22 13:58:16.656840: I tensorflow/core/common_runtime/gpu/gpu_device.cc:1926] Created device /job:localhost/replica:0/task:0/device:GPU:1 with 31127 MB memory:  -> device: 1, name: Tesla V100-SXM2-32GB, pci bus id: 0000:89:00.0, compute capability: 7.0\n"
     ]
    },
    {
     "name": "stdout",
     "output_type": "stream",
     "text": [
      "TS Input Dim: 5 | Static Input Dim: 23 | Output Dim: 26\n",
      "\n",
      "Start of epoch 0:\n",
      "\n"
     ]
    },
    {
     "name": "stderr",
     "output_type": "stream",
     "text": [
      "TS Data Augmentation: 100%|██████████| 388764/388764 [00:32<00:00, 11794.09it/s]\n",
      "Training Model:   0%|          | 0/384 [00:00<?, ?it/s]2024-06-22 13:59:11.341593: W tensorflow/core/common_runtime/type_inference.cc:339] Type inference failed. This indicates an invalid graph that escaped type checking. Error message: INVALID_ARGUMENT: expected compatible input types, but input 1:\n",
      "type_id: TFT_OPTIONAL\n",
      "args {\n",
      "  type_id: TFT_PRODUCT\n",
      "  args {\n",
      "    type_id: TFT_TENSOR\n",
      "    args {\n",
      "      type_id: TFT_INT32\n",
      "    }\n",
      "  }\n",
      "}\n",
      " is neither a subtype nor a supertype of the combined inputs preceding it:\n",
      "type_id: TFT_OPTIONAL\n",
      "args {\n",
      "  type_id: TFT_PRODUCT\n",
      "  args {\n",
      "    type_id: TFT_TENSOR\n",
      "    args {\n",
      "      type_id: TFT_FLOAT\n",
      "    }\n",
      "  }\n",
      "}\n",
      "\n",
      "\tfor Tuple type infernce function 0\n",
      "\twhile inferring type of node 'cond_18/output/_21'\n",
      "2024-06-22 13:59:11.938299: I external/local_xla/xla/stream_executor/cuda/cuda_dnn.cc:467] Loaded cuDNN version 90000\n",
      "2024-06-22 13:59:13.309036: I external/local_xla/xla/service/service.cc:168] XLA service 0x14af4878b9c0 initialized for platform CUDA (this does not guarantee that XLA will be used). Devices:\n",
      "2024-06-22 13:59:13.309063: I external/local_xla/xla/service/service.cc:176]   StreamExecutor device (0): Tesla V100-SXM2-32GB, Compute Capability 7.0\n",
      "2024-06-22 13:59:13.309068: I external/local_xla/xla/service/service.cc:176]   StreamExecutor device (1): Tesla V100-SXM2-32GB, Compute Capability 7.0\n",
      "2024-06-22 13:59:13.327733: I tensorflow/compiler/mlir/tensorflow/utils/dump_mlir_util.cc:269] disabling MLIR crash reproducer, set env var `MLIR_CRASH_REPRODUCER_DIRECTORY` to enable.\n",
      "WARNING: All log messages before absl::InitializeLog() is called are written to STDERR\n",
      "I0000 00:00:1719079153.458681   27919 device_compiler.h:186] Compiled cluster using XLA!  This line is logged at most once for the lifetime of the process.\n",
      "Training Model:  99%|█████████▉| 380/384 [00:40<00:00,  9.32it/s]\n",
      "/usr/local/lib/python3.10/dist-packages/keras/src/engine/training.py:3103: UserWarning: You are saving your model as an HDF5 file via `model.save()`. This file format is considered legacy. We recommend using instead the native Keras format, e.g. `model.save('my_model.keras')`.\n",
      "  saving_api.save_model(\n"
     ]
    },
    {
     "name": "stdout",
     "output_type": "stream",
     "text": [
      "Avg training loss: 7.6500\n",
      "Time taken: 83.50s\n",
      "Best model is at epoch 0 Saving\n",
      "==========\n",
      "\n",
      "Start of epoch 1:\n",
      "\n"
     ]
    },
    {
     "name": "stderr",
     "output_type": "stream",
     "text": [
      "TS Data Augmentation: 100%|██████████| 388764/388764 [00:32<00:00, 12084.40it/s]\n",
      "Training Model:  99%|█████████▉| 380/384 [00:27<00:00, 14.04it/s]\n"
     ]
    },
    {
     "name": "stdout",
     "output_type": "stream",
     "text": [
      "Avg training loss: 7.1696\n",
      "Time taken: 68.83s\n",
      "Best model is at epoch 1 Saving\n",
      "==========\n",
      "\n",
      "Start of epoch 2:\n",
      "\n"
     ]
    },
    {
     "name": "stderr",
     "output_type": "stream",
     "text": [
      "TS Data Augmentation: 100%|██████████| 388764/388764 [00:32<00:00, 12106.35it/s]\n",
      "Training Model:  99%|█████████▉| 380/384 [00:18<00:00, 20.15it/s]\n"
     ]
    },
    {
     "name": "stdout",
     "output_type": "stream",
     "text": [
      "Avg training loss: 6.7672\n",
      "Time taken: 60.48s\n",
      "Best model is at epoch 2 Saving\n",
      "==========\n",
      "\n",
      "Start of epoch 3:\n",
      "\n"
     ]
    },
    {
     "name": "stderr",
     "output_type": "stream",
     "text": [
      "TS Data Augmentation: 100%|██████████| 388764/388764 [00:32<00:00, 12103.99it/s]\n",
      "Training Model:  99%|█████████▉| 380/384 [00:25<00:00, 14.81it/s]\n"
     ]
    },
    {
     "name": "stdout",
     "output_type": "stream",
     "text": [
      "Avg training loss: 6.2981\n",
      "Time taken: 67.51s\n",
      "Best model is at epoch 3 Saving\n",
      "==========\n",
      "\n",
      "Start of epoch 4:\n",
      "\n"
     ]
    },
    {
     "name": "stderr",
     "output_type": "stream",
     "text": [
      "TS Data Augmentation: 100%|██████████| 388764/388764 [00:32<00:00, 12125.55it/s]\n",
      "Training Model:  99%|█████████▉| 380/384 [00:21<00:00, 17.28it/s]\n"
     ]
    },
    {
     "name": "stdout",
     "output_type": "stream",
     "text": [
      "Avg training loss: 5.9043\n",
      "Time taken: 63.40s\n",
      "Best model is at epoch 4 Saving\n",
      "==========\n",
      "\n",
      "Start of epoch 5:\n",
      "\n"
     ]
    },
    {
     "name": "stderr",
     "output_type": "stream",
     "text": [
      "TS Data Augmentation: 100%|██████████| 388764/388764 [00:31<00:00, 12444.93it/s]\n",
      "Training Model:  99%|█████████▉| 380/384 [00:12<00:00, 30.93it/s]\n"
     ]
    },
    {
     "name": "stdout",
     "output_type": "stream",
     "text": [
      "Avg training loss: 5.6511\n",
      "Time taken: 52.36s\n",
      "Best model is at epoch 5 Saving\n",
      "==========\n",
      "\n",
      "Start of epoch 6:\n",
      "\n"
     ]
    },
    {
     "name": "stderr",
     "output_type": "stream",
     "text": [
      "TS Data Augmentation: 100%|██████████| 388764/388764 [00:31<00:00, 12387.17it/s]\n",
      "Training Model:  99%|█████████▉| 380/384 [00:12<00:00, 30.25it/s]\n"
     ]
    },
    {
     "name": "stdout",
     "output_type": "stream",
     "text": [
      "Avg training loss: 5.2553\n",
      "Time taken: 52.83s\n",
      "Best model is at epoch 6 Saving\n",
      "==========\n",
      "\n",
      "Start of epoch 7:\n",
      "\n"
     ]
    },
    {
     "name": "stderr",
     "output_type": "stream",
     "text": [
      "TS Data Augmentation: 100%|██████████| 388764/388764 [00:31<00:00, 12165.11it/s]\n",
      "Training Model:  99%|█████████▉| 380/384 [00:23<00:00, 16.30it/s]\n"
     ]
    },
    {
     "name": "stdout",
     "output_type": "stream",
     "text": [
      "Avg training loss: 4.7175\n",
      "Time taken: 64.76s\n",
      "Best model is at epoch 7 Saving\n",
      "==========\n",
      "\n",
      "Start of epoch 8:\n",
      "\n"
     ]
    },
    {
     "name": "stderr",
     "output_type": "stream",
     "text": [
      "TS Data Augmentation: 100%|██████████| 388764/388764 [00:31<00:00, 12171.58it/s]\n",
      "Training Model:  99%|█████████▉| 380/384 [00:27<00:00, 13.66it/s]\n"
     ]
    },
    {
     "name": "stdout",
     "output_type": "stream",
     "text": [
      "Avg training loss: 4.2897\n",
      "Time taken: 69.51s\n",
      "Best model is at epoch 8 Saving\n",
      "==========\n",
      "\n",
      "Start of epoch 9:\n",
      "\n"
     ]
    },
    {
     "name": "stderr",
     "output_type": "stream",
     "text": [
      "TS Data Augmentation: 100%|██████████| 388764/388764 [00:31<00:00, 12504.45it/s]\n",
      "Training Model:  99%|█████████▉| 380/384 [00:10<00:00, 36.98it/s]\n"
     ]
    },
    {
     "name": "stdout",
     "output_type": "stream",
     "text": [
      "Avg training loss: 4.1953\n",
      "Time taken: 49.50s\n",
      "Best model is at epoch 9 Saving\n",
      "==========\n",
      "\n",
      "Start of epoch 10:\n",
      "\n"
     ]
    },
    {
     "name": "stderr",
     "output_type": "stream",
     "text": [
      "TS Data Augmentation: 100%|██████████| 388764/388764 [00:31<00:00, 12389.24it/s]\n",
      "Training Model:  99%|█████████▉| 380/384 [00:27<00:00, 13.63it/s]\n"
     ]
    },
    {
     "name": "stdout",
     "output_type": "stream",
     "text": [
      "Avg training loss: 3.5948\n",
      "Time taken: 68.54s\n",
      "Best model is at epoch 10 Saving\n",
      "==========\n",
      "\n",
      "Start of epoch 11:\n",
      "\n"
     ]
    },
    {
     "name": "stderr",
     "output_type": "stream",
     "text": [
      "TS Data Augmentation: 100%|██████████| 388764/388764 [00:31<00:00, 12220.18it/s]\n",
      "Training Model:  99%|█████████▉| 380/384 [00:29<00:00, 13.08it/s]\n"
     ]
    },
    {
     "name": "stdout",
     "output_type": "stream",
     "text": [
      "Avg training loss: 3.2518\n",
      "Time taken: 70.76s\n",
      "Best model is at epoch 11 Saving\n",
      "==========\n",
      "\n",
      "Start of epoch 12:\n",
      "\n"
     ]
    },
    {
     "name": "stderr",
     "output_type": "stream",
     "text": [
      "TS Data Augmentation: 100%|██████████| 388764/388764 [00:31<00:00, 12239.31it/s]\n",
      "Training Model:  99%|█████████▉| 380/384 [00:09<00:00, 40.12it/s]\n"
     ]
    },
    {
     "name": "stdout",
     "output_type": "stream",
     "text": [
      "Avg training loss: 3.2975\n",
      "Time taken: 49.61s\n",
      "==========\n",
      "\n",
      "Start of epoch 13:\n",
      "\n"
     ]
    },
    {
     "name": "stderr",
     "output_type": "stream",
     "text": [
      "TS Data Augmentation: 100%|██████████| 388764/388764 [00:30<00:00, 12552.71it/s]\n",
      "Training Model:  99%|█████████▉| 380/384 [00:24<00:00, 15.31it/s]\n"
     ]
    },
    {
     "name": "stdout",
     "output_type": "stream",
     "text": [
      "Avg training loss: 2.7144\n",
      "Time taken: 65.00s\n",
      "Best model is at epoch 13 Saving\n",
      "==========\n",
      "\n",
      "Start of epoch 14:\n",
      "\n"
     ]
    },
    {
     "name": "stderr",
     "output_type": "stream",
     "text": [
      "TS Data Augmentation: 100%|██████████| 388764/388764 [00:31<00:00, 12304.55it/s]\n",
      "Training Model:  99%|█████████▉| 380/384 [00:24<00:00, 15.34it/s]\n"
     ]
    },
    {
     "name": "stdout",
     "output_type": "stream",
     "text": [
      "Avg training loss: 2.4680\n",
      "Time taken: 66.07s\n",
      "Best model is at epoch 14 Saving\n",
      "==========\n",
      "\n",
      "Start of epoch 15:\n",
      "\n"
     ]
    },
    {
     "name": "stderr",
     "output_type": "stream",
     "text": [
      "TS Data Augmentation: 100%|██████████| 388764/388764 [00:34<00:00, 11154.84it/s]\n",
      "Training Model:  99%|█████████▉| 380/384 [00:28<00:00, 13.26it/s]\n"
     ]
    },
    {
     "name": "stdout",
     "output_type": "stream",
     "text": [
      "Avg training loss: 2.2346\n",
      "Time taken: 73.18s\n",
      "Best model is at epoch 15 Saving\n",
      "==========\n",
      "\n",
      "Start of epoch 16:\n",
      "\n"
     ]
    },
    {
     "name": "stderr",
     "output_type": "stream",
     "text": [
      "TS Data Augmentation: 100%|██████████| 388764/388764 [00:33<00:00, 11690.70it/s]\n",
      "Training Model:  99%|█████████▉| 380/384 [00:26<00:00, 14.14it/s]\n"
     ]
    },
    {
     "name": "stdout",
     "output_type": "stream",
     "text": [
      "Avg training loss: 2.0683\n",
      "Time taken: 69.62s\n",
      "Best model is at epoch 16 Saving\n",
      "==========\n",
      "\n",
      "Start of epoch 17:\n",
      "\n"
     ]
    },
    {
     "name": "stderr",
     "output_type": "stream",
     "text": [
      "TS Data Augmentation: 100%|██████████| 388764/388764 [00:31<00:00, 12366.96it/s]\n",
      "Training Model:  99%|█████████▉| 380/384 [00:12<00:00, 29.86it/s]\n"
     ]
    },
    {
     "name": "stdout",
     "output_type": "stream",
     "text": [
      "Avg training loss: 2.0582\n",
      "Time taken: 53.04s\n",
      "Best model is at epoch 17 Saving\n",
      "==========\n",
      "\n",
      "Start of epoch 18:\n",
      "\n"
     ]
    },
    {
     "name": "stderr",
     "output_type": "stream",
     "text": [
      "TS Data Augmentation: 100%|██████████| 388764/388764 [00:31<00:00, 12365.71it/s]\n",
      "Training Model:  99%|█████████▉| 380/384 [00:10<00:00, 36.81it/s]\n"
     ]
    },
    {
     "name": "stdout",
     "output_type": "stream",
     "text": [
      "Avg training loss: 1.9350\n",
      "Time taken: 50.28s\n",
      "Best model is at epoch 18 Saving\n",
      "==========\n",
      "\n",
      "Start of epoch 19:\n",
      "\n"
     ]
    },
    {
     "name": "stderr",
     "output_type": "stream",
     "text": [
      "TS Data Augmentation: 100%|██████████| 388764/388764 [00:30<00:00, 12623.28it/s]\n",
      "Training Model:  99%|█████████▉| 380/384 [00:29<00:00, 13.05it/s]\n"
     ]
    },
    {
     "name": "stdout",
     "output_type": "stream",
     "text": [
      "Avg training loss: 1.6973\n",
      "Time taken: 69.17s\n",
      "Best model is at epoch 19 Saving\n",
      "==========\n",
      "\n",
      "Start of epoch 20:\n",
      "\n"
     ]
    },
    {
     "name": "stderr",
     "output_type": "stream",
     "text": [
      "TS Data Augmentation: 100%|██████████| 388764/388764 [00:31<00:00, 12348.19it/s]\n",
      "Training Model:  99%|█████████▉| 380/384 [00:20<00:00, 18.68it/s]\n"
     ]
    },
    {
     "name": "stdout",
     "output_type": "stream",
     "text": [
      "Avg training loss: 1.6181\n",
      "Time taken: 61.30s\n",
      "Best model is at epoch 20 Saving\n",
      "==========\n",
      "\n",
      "Start of epoch 21:\n",
      "\n"
     ]
    },
    {
     "name": "stderr",
     "output_type": "stream",
     "text": [
      "TS Data Augmentation: 100%|██████████| 388764/388764 [00:34<00:00, 11122.31it/s]\n",
      "Training Model:  99%|█████████▉| 380/384 [00:14<00:00, 25.41it/s]\n"
     ]
    },
    {
     "name": "stdout",
     "output_type": "stream",
     "text": [
      "Avg training loss: 1.5639\n",
      "Time taken: 58.98s\n",
      "Best model is at epoch 21 Saving\n",
      "==========\n",
      "\n",
      "Start of epoch 22:\n",
      "\n"
     ]
    },
    {
     "name": "stderr",
     "output_type": "stream",
     "text": [
      "TS Data Augmentation: 100%|██████████| 388764/388764 [00:33<00:00, 11575.65it/s]\n",
      "Training Model:  99%|█████████▉| 380/384 [00:21<00:00, 18.06it/s]\n"
     ]
    },
    {
     "name": "stdout",
     "output_type": "stream",
     "text": [
      "Avg training loss: 1.4597\n",
      "Time taken: 64.11s\n",
      "Best model is at epoch 22 Saving\n",
      "==========\n",
      "\n",
      "Start of epoch 23:\n",
      "\n"
     ]
    },
    {
     "name": "stderr",
     "output_type": "stream",
     "text": [
      "TS Data Augmentation: 100%|██████████| 388764/388764 [00:31<00:00, 12274.93it/s]\n",
      "Training Model:  99%|█████████▉| 380/384 [00:14<00:00, 25.91it/s]\n"
     ]
    },
    {
     "name": "stdout",
     "output_type": "stream",
     "text": [
      "Avg training loss: 1.4242\n",
      "Time taken: 55.19s\n",
      "Best model is at epoch 23 Saving\n",
      "==========\n",
      "\n",
      "Start of epoch 24:\n",
      "\n"
     ]
    },
    {
     "name": "stderr",
     "output_type": "stream",
     "text": [
      "TS Data Augmentation: 100%|██████████| 388764/388764 [00:31<00:00, 12424.17it/s]\n",
      "Training Model:  99%|█████████▉| 380/384 [00:12<00:00, 29.33it/s]\n"
     ]
    },
    {
     "name": "stdout",
     "output_type": "stream",
     "text": [
      "Avg training loss: 1.3755\n",
      "Time taken: 52.89s\n",
      "Best model is at epoch 24 Saving\n",
      "==========\n",
      "\n",
      "Start of epoch 25:\n",
      "\n"
     ]
    },
    {
     "name": "stderr",
     "output_type": "stream",
     "text": [
      "TS Data Augmentation: 100%|██████████| 388764/388764 [00:33<00:00, 11578.78it/s]\n",
      "Training Model:  99%|█████████▉| 380/384 [00:17<00:00, 21.73it/s]\n"
     ]
    },
    {
     "name": "stdout",
     "output_type": "stream",
     "text": [
      "Avg training loss: 1.3211\n",
      "Time taken: 60.32s\n",
      "Best model is at epoch 25 Saving\n",
      "==========\n",
      "\n",
      "Start of epoch 26:\n",
      "\n"
     ]
    },
    {
     "name": "stderr",
     "output_type": "stream",
     "text": [
      "TS Data Augmentation: 100%|██████████| 388764/388764 [00:32<00:00, 11848.98it/s]\n",
      "Training Model:  99%|█████████▉| 380/384 [00:20<00:00, 18.57it/s]\n"
     ]
    },
    {
     "name": "stdout",
     "output_type": "stream",
     "text": [
      "Avg training loss: 1.2798\n",
      "Time taken: 63.03s\n",
      "Best model is at epoch 26 Saving\n",
      "==========\n",
      "\n",
      "Start of epoch 27:\n",
      "\n"
     ]
    },
    {
     "name": "stderr",
     "output_type": "stream",
     "text": [
      "TS Data Augmentation: 100%|██████████| 388764/388764 [00:31<00:00, 12208.61it/s]\n",
      "Training Model:  99%|█████████▉| 380/384 [00:29<00:00, 12.95it/s]\n"
     ]
    },
    {
     "name": "stdout",
     "output_type": "stream",
     "text": [
      "Avg training loss: 1.2490\n",
      "Time taken: 70.72s\n",
      "Best model is at epoch 27 Saving\n",
      "==========\n",
      "\n",
      "Start of epoch 28:\n",
      "\n"
     ]
    },
    {
     "name": "stderr",
     "output_type": "stream",
     "text": [
      "TS Data Augmentation: 100%|██████████| 388764/388764 [00:30<00:00, 12730.42it/s]\n",
      "Training Model:  99%|█████████▉| 380/384 [00:13<00:00, 27.34it/s]\n"
     ]
    },
    {
     "name": "stdout",
     "output_type": "stream",
     "text": [
      "Avg training loss: 1.2419\n",
      "Time taken: 52.83s\n",
      "Best model is at epoch 28 Saving\n",
      "==========\n",
      "\n",
      "Start of epoch 29:\n",
      "\n"
     ]
    },
    {
     "name": "stderr",
     "output_type": "stream",
     "text": [
      "TS Data Augmentation: 100%|██████████| 388764/388764 [00:30<00:00, 12734.88it/s]\n",
      "Training Model:  99%|█████████▉| 380/384 [00:15<00:00, 25.20it/s]\n"
     ]
    },
    {
     "name": "stdout",
     "output_type": "stream",
     "text": [
      "Avg training loss: 1.2121\n",
      "Time taken: 53.83s\n",
      "Best model is at epoch 29 Saving\n",
      "==========\n",
      "\n",
      "Start of epoch 30:\n",
      "\n"
     ]
    },
    {
     "name": "stderr",
     "output_type": "stream",
     "text": [
      "TS Data Augmentation: 100%|██████████| 388764/388764 [00:30<00:00, 12858.42it/s]\n",
      "Training Model:  99%|█████████▉| 380/384 [00:09<00:00, 40.27it/s]\n"
     ]
    },
    {
     "name": "stdout",
     "output_type": "stream",
     "text": [
      "Avg training loss: 1.2435\n",
      "Time taken: 47.71s\n",
      "==========\n",
      "\n",
      "Start of epoch 31:\n",
      "\n"
     ]
    },
    {
     "name": "stderr",
     "output_type": "stream",
     "text": [
      "TS Data Augmentation: 100%|██████████| 388764/388764 [00:30<00:00, 12569.89it/s]\n",
      "Training Model:  99%|█████████▉| 380/384 [00:15<00:00, 24.33it/s]\n"
     ]
    },
    {
     "name": "stdout",
     "output_type": "stream",
     "text": [
      "Avg training loss: 1.1885\n",
      "Time taken: 55.57s\n",
      "Best model is at epoch 31 Saving\n",
      "==========\n",
      "\n",
      "Start of epoch 32:\n",
      "\n"
     ]
    },
    {
     "name": "stderr",
     "output_type": "stream",
     "text": [
      "TS Data Augmentation: 100%|██████████| 388764/388764 [00:30<00:00, 12647.71it/s]\n",
      "Training Model:  99%|█████████▉| 380/384 [00:12<00:00, 31.17it/s]\n"
     ]
    },
    {
     "name": "stdout",
     "output_type": "stream",
     "text": [
      "Avg training loss: 1.1744\n",
      "Time taken: 51.56s\n",
      "Best model is at epoch 32 Saving\n",
      "==========\n",
      "\n",
      "Start of epoch 33:\n",
      "\n"
     ]
    },
    {
     "name": "stderr",
     "output_type": "stream",
     "text": [
      "TS Data Augmentation: 100%|██████████| 388764/388764 [00:30<00:00, 12609.52it/s]\n",
      "Training Model:  99%|█████████▉| 380/384 [00:13<00:00, 27.97it/s]\n"
     ]
    },
    {
     "name": "stdout",
     "output_type": "stream",
     "text": [
      "Avg training loss: 1.1634\n",
      "Time taken: 53.28s\n",
      "Best model is at epoch 33 Saving\n",
      "==========\n",
      "\n",
      "Start of epoch 34:\n",
      "\n"
     ]
    },
    {
     "name": "stderr",
     "output_type": "stream",
     "text": [
      "TS Data Augmentation: 100%|██████████| 388764/388764 [00:30<00:00, 12685.51it/s]\n",
      "Training Model:  99%|█████████▉| 380/384 [00:20<00:00, 18.54it/s]\n"
     ]
    },
    {
     "name": "stdout",
     "output_type": "stream",
     "text": [
      "Avg training loss: 1.1566\n",
      "Time taken: 60.30s\n",
      "Best model is at epoch 34 Saving\n",
      "==========\n",
      "\n",
      "Start of epoch 35:\n",
      "\n"
     ]
    },
    {
     "name": "stderr",
     "output_type": "stream",
     "text": [
      "TS Data Augmentation: 100%|██████████| 388764/388764 [00:30<00:00, 12862.38it/s]\n",
      "Training Model:  99%|█████████▉| 380/384 [00:13<00:00, 27.16it/s]\n"
     ]
    },
    {
     "name": "stdout",
     "output_type": "stream",
     "text": [
      "Avg training loss: 1.1470\n",
      "Time taken: 53.23s\n",
      "Best model is at epoch 35 Saving\n",
      "==========\n",
      "\n",
      "Start of epoch 36:\n",
      "\n"
     ]
    },
    {
     "name": "stderr",
     "output_type": "stream",
     "text": [
      "TS Data Augmentation: 100%|██████████| 388764/388764 [00:30<00:00, 12840.16it/s]\n",
      "Training Model:  99%|█████████▉| 380/384 [00:20<00:00, 18.71it/s]\n"
     ]
    },
    {
     "name": "stdout",
     "output_type": "stream",
     "text": [
      "Avg training loss: 1.1389\n",
      "Time taken: 59.98s\n",
      "Best model is at epoch 36 Saving\n",
      "==========\n",
      "\n",
      "Start of epoch 37:\n",
      "\n"
     ]
    },
    {
     "name": "stderr",
     "output_type": "stream",
     "text": [
      "TS Data Augmentation: 100%|██████████| 388764/388764 [00:30<00:00, 12927.33it/s]\n",
      "Training Model:  99%|█████████▉| 380/384 [00:14<00:00, 25.61it/s]\n"
     ]
    },
    {
     "name": "stdout",
     "output_type": "stream",
     "text": [
      "Avg training loss: 1.1320\n",
      "Time taken: 53.30s\n",
      "Best model is at epoch 37 Saving\n",
      "==========\n",
      "\n",
      "Start of epoch 38:\n",
      "\n"
     ]
    },
    {
     "name": "stderr",
     "output_type": "stream",
     "text": [
      "TS Data Augmentation: 100%|██████████| 388764/388764 [00:29<00:00, 13203.37it/s]\n",
      "Training Model:  99%|█████████▉| 380/384 [00:21<00:00, 17.50it/s]\n"
     ]
    },
    {
     "name": "stdout",
     "output_type": "stream",
     "text": [
      "Avg training loss: 1.1256\n",
      "Time taken: 59.68s\n",
      "Best model is at epoch 38 Saving\n",
      "==========\n",
      "\n",
      "Start of epoch 39:\n",
      "\n"
     ]
    },
    {
     "name": "stderr",
     "output_type": "stream",
     "text": [
      "TS Data Augmentation: 100%|██████████| 388764/388764 [00:28<00:00, 13873.29it/s]\n",
      "Training Model:  99%|█████████▉| 380/384 [00:25<00:00, 14.96it/s]\n"
     ]
    },
    {
     "name": "stdout",
     "output_type": "stream",
     "text": [
      "Avg training loss: 1.1209\n",
      "Time taken: 62.15s\n",
      "Best model is at epoch 39 Saving\n",
      "==========\n",
      "\n",
      "Start of epoch 40:\n",
      "\n"
     ]
    },
    {
     "name": "stderr",
     "output_type": "stream",
     "text": [
      "TS Data Augmentation: 100%|██████████| 388764/388764 [00:30<00:00, 12811.59it/s]\n",
      "Training Model:  99%|█████████▉| 380/384 [00:27<00:00, 13.76it/s]\n"
     ]
    },
    {
     "name": "stdout",
     "output_type": "stream",
     "text": [
      "Avg training loss: 1.1151\n",
      "Time taken: 67.58s\n",
      "Best model is at epoch 40 Saving\n",
      "==========\n",
      "\n",
      "Start of epoch 41:\n",
      "\n"
     ]
    },
    {
     "name": "stderr",
     "output_type": "stream",
     "text": [
      "TS Data Augmentation: 100%|██████████| 388764/388764 [00:29<00:00, 13239.98it/s]\n",
      "Training Model:  99%|█████████▉| 380/384 [00:27<00:00, 13.69it/s]\n"
     ]
    },
    {
     "name": "stdout",
     "output_type": "stream",
     "text": [
      "Avg training loss: 1.1098\n",
      "Time taken: 66.50s\n",
      "Best model is at epoch 41 Saving\n",
      "==========\n",
      "\n",
      "Start of epoch 42:\n",
      "\n"
     ]
    },
    {
     "name": "stderr",
     "output_type": "stream",
     "text": [
      "TS Data Augmentation: 100%|██████████| 388764/388764 [00:29<00:00, 13126.74it/s]\n",
      "Training Model:  99%|█████████▉| 380/384 [00:15<00:00, 24.26it/s]\n"
     ]
    },
    {
     "name": "stdout",
     "output_type": "stream",
     "text": [
      "Avg training loss: 1.1061\n",
      "Time taken: 53.61s\n",
      "Best model is at epoch 42 Saving\n",
      "==========\n",
      "\n",
      "Start of epoch 43:\n",
      "\n"
     ]
    },
    {
     "name": "stderr",
     "output_type": "stream",
     "text": [
      "TS Data Augmentation: 100%|██████████| 388764/388764 [00:29<00:00, 13332.70it/s]\n",
      "Training Model:  99%|█████████▉| 380/384 [00:21<00:00, 18.07it/s]\n"
     ]
    },
    {
     "name": "stdout",
     "output_type": "stream",
     "text": [
      "Avg training loss: 1.0998\n",
      "Time taken: 59.20s\n",
      "Best model is at epoch 43 Saving\n",
      "==========\n",
      "\n",
      "Start of epoch 44:\n",
      "\n"
     ]
    },
    {
     "name": "stderr",
     "output_type": "stream",
     "text": [
      "TS Data Augmentation: 100%|██████████| 388764/388764 [00:29<00:00, 13064.84it/s]\n",
      "Training Model:  99%|█████████▉| 380/384 [00:23<00:00, 15.95it/s]\n"
     ]
    },
    {
     "name": "stdout",
     "output_type": "stream",
     "text": [
      "Avg training loss: 1.0965\n",
      "Time taken: 62.31s\n",
      "Best model is at epoch 44 Saving\n",
      "==========\n",
      "\n",
      "Start of epoch 45:\n",
      "\n"
     ]
    },
    {
     "name": "stderr",
     "output_type": "stream",
     "text": [
      "TS Data Augmentation: 100%|██████████| 388764/388764 [00:30<00:00, 12917.78it/s]\n",
      "Training Model:  99%|█████████▉| 380/384 [00:23<00:00, 15.94it/s]\n"
     ]
    },
    {
     "name": "stdout",
     "output_type": "stream",
     "text": [
      "Avg training loss: 1.0927\n",
      "Time taken: 62.77s\n",
      "Best model is at epoch 45 Saving\n",
      "==========\n",
      "\n",
      "Start of epoch 46:\n",
      "\n"
     ]
    },
    {
     "name": "stderr",
     "output_type": "stream",
     "text": [
      "TS Data Augmentation: 100%|██████████| 388764/388764 [00:29<00:00, 13103.55it/s]\n",
      "Training Model:  99%|█████████▉| 380/384 [00:23<00:00, 16.40it/s]\n"
     ]
    },
    {
     "name": "stdout",
     "output_type": "stream",
     "text": [
      "Avg training loss: 1.0889\n",
      "Time taken: 62.15s\n",
      "Best model is at epoch 46 Saving\n",
      "==========\n",
      "\n",
      "Start of epoch 47:\n",
      "\n"
     ]
    },
    {
     "name": "stderr",
     "output_type": "stream",
     "text": [
      "TS Data Augmentation: 100%|██████████| 388764/388764 [00:29<00:00, 13075.60it/s]\n",
      "Training Model:  99%|█████████▉| 380/384 [00:29<00:00, 12.91it/s]\n"
     ]
    },
    {
     "name": "stdout",
     "output_type": "stream",
     "text": [
      "Avg training loss: 1.0873\n",
      "Time taken: 68.21s\n",
      "Best model is at epoch 47 Saving\n",
      "==========\n",
      "\n",
      "Start of epoch 48:\n",
      "\n"
     ]
    },
    {
     "name": "stderr",
     "output_type": "stream",
     "text": [
      "TS Data Augmentation: 100%|██████████| 388764/388764 [00:29<00:00, 13072.99it/s]\n",
      "Training Model:  99%|█████████▉| 380/384 [00:17<00:00, 21.42it/s]\n"
     ]
    },
    {
     "name": "stdout",
     "output_type": "stream",
     "text": [
      "Avg training loss: 1.0855\n",
      "Time taken: 55.97s\n",
      "Best model is at epoch 48 Saving\n",
      "==========\n",
      "\n",
      "Start of epoch 49:\n",
      "\n"
     ]
    },
    {
     "name": "stderr",
     "output_type": "stream",
     "text": [
      "TS Data Augmentation: 100%|██████████| 388764/388764 [00:29<00:00, 13075.19it/s]\n",
      "Training Model:  99%|█████████▉| 380/384 [00:22<00:00, 16.93it/s]\n"
     ]
    },
    {
     "name": "stdout",
     "output_type": "stream",
     "text": [
      "Avg training loss: 1.0794\n",
      "Time taken: 60.63s\n",
      "Best model is at epoch 49 Saving\n",
      "==========\n",
      "Running inference for validation...\n"
     ]
    },
    {
     "name": "stderr",
     "output_type": "stream",
     "text": [
      "TS Data Augmentation: 100%|██████████| 3927/3927 [00:00<00:00, 11673.91it/s]\n"
     ]
    },
    {
     "name": "stdout",
     "output_type": "stream",
     "text": [
      "123/123 [==============================] - 3s 6ms/step\n"
     ]
    }
   ],
   "source": [
    "alpha=0\n",
    "model_dir=Path(f\"models/lsst_alpha_{alpha}\")\n",
    "\n",
    "train_model(num_epochs=num_epochs,\n",
    "            batch_size=batch_size,\n",
    "            learning_rate=learning_rate, \n",
    "            latent_size=latent_size, \n",
    "            alpha=alpha, \n",
    "            max_class_count=max_class_count, \n",
    "            train_dir=train_dir, \n",
    "            model_dir=model_dir)"
   ]
  },
  {
   "cell_type": "code",
   "execution_count": null,
   "id": "9f231c42-5ef2-4b21-8312-25b1a1529433",
   "metadata": {
    "tags": []
   },
   "outputs": [
    {
     "name": "stdout",
     "output_type": "stream",
     "text": [
      "Loading training data from disc...\n",
      "Summary of all training data\n",
      "Total sample count = 1081614\n",
      "            Class   Count\n",
      "0             AGN   76258\n",
      "1            CART    8207\n",
      "2         Cepheid   13771\n",
      "3     Delta Scuti   20650\n",
      "4     Dwarf Novae    8025\n",
      "5              EB   66454\n",
      "6            ILOT    7461\n",
      "7              KN    4426\n",
      "8   M-dwarf Flare    1859\n",
      "9            PISN   63586\n",
      "10       RR Lyrae   14033\n",
      "11           SLSN   66088\n",
      "12        SNI91bg   28637\n",
      "13           SNII  301544\n",
      "14           SNIa  120739\n",
      "15          SNIax   28030\n",
      "16         SNIb/c  168254\n",
      "17            TDE   66000\n",
      "18          uLens   17592\n"
     ]
    },
    {
     "name": "stderr",
     "output_type": "stream",
     "text": [
      "Converting dictionaries to arrays: 100%|██████████| 1081614/1081614 [00:06<00:00, 164538.99it/s]\n"
     ]
    },
    {
     "name": "stdout",
     "output_type": "stream",
     "text": [
      "Summary of training data used\n",
      "            Class  Count\n",
      "0             AGN  30000\n",
      "1            CART   8207\n",
      "2         Cepheid  13771\n",
      "3     Delta Scuti  20650\n",
      "4     Dwarf Novae   8025\n",
      "5              EB  30000\n",
      "6            ILOT   7461\n",
      "7              KN   4426\n",
      "8   M-dwarf Flare   1859\n",
      "9            PISN  30000\n",
      "10       RR Lyrae  14033\n",
      "11           SLSN  30000\n",
      "12        SNI91bg  28637\n",
      "13           SNII  30000\n",
      "14           SNIa  30000\n",
      "15          SNIax  28030\n",
      "16         SNIb/c  30000\n",
      "17            TDE  30000\n",
      "18          uLens  17592\n"
     ]
    },
    {
     "name": "stderr",
     "output_type": "stream",
     "text": [
      "2024-06-22 15:05:07.598775: I tensorflow/core/common_runtime/gpu/gpu_device.cc:1926] Created device /job:localhost/replica:0/task:0/device:GPU:0 with 31127 MB memory:  -> device: 0, name: Tesla V100-SXM2-32GB, pci bus id: 0000:3b:00.0, compute capability: 7.0\n",
      "2024-06-22 15:05:07.600616: I tensorflow/core/common_runtime/gpu/gpu_device.cc:1926] Created device /job:localhost/replica:0/task:0/device:GPU:1 with 31127 MB memory:  -> device: 1, name: Tesla V100-SXM2-32GB, pci bus id: 0000:89:00.0, compute capability: 7.0\n"
     ]
    },
    {
     "name": "stdout",
     "output_type": "stream",
     "text": [
      "TS Input Dim: 5 | Static Input Dim: 23 | Output Dim: 26\n",
      "\n",
      "Start of epoch 0:\n",
      "\n"
     ]
    },
    {
     "name": "stderr",
     "output_type": "stream",
     "text": [
      "TS Data Augmentation: 100%|██████████| 388764/388764 [00:32<00:00, 11939.57it/s]\n",
      "Training Model:   0%|          | 0/384 [00:00<?, ?it/s]2024-06-22 15:06:00.488957: W tensorflow/core/common_runtime/type_inference.cc:339] Type inference failed. This indicates an invalid graph that escaped type checking. Error message: INVALID_ARGUMENT: expected compatible input types, but input 1:\n",
      "type_id: TFT_OPTIONAL\n",
      "args {\n",
      "  type_id: TFT_PRODUCT\n",
      "  args {\n",
      "    type_id: TFT_TENSOR\n",
      "    args {\n",
      "      type_id: TFT_INT32\n",
      "    }\n",
      "  }\n",
      "}\n",
      " is neither a subtype nor a supertype of the combined inputs preceding it:\n",
      "type_id: TFT_OPTIONAL\n",
      "args {\n",
      "  type_id: TFT_PRODUCT\n",
      "  args {\n",
      "    type_id: TFT_TENSOR\n",
      "    args {\n",
      "      type_id: TFT_FLOAT\n",
      "    }\n",
      "  }\n",
      "}\n",
      "\n",
      "\tfor Tuple type infernce function 0\n",
      "\twhile inferring type of node 'cond_18/output/_21'\n",
      "2024-06-22 15:06:01.061842: I external/local_xla/xla/stream_executor/cuda/cuda_dnn.cc:467] Loaded cuDNN version 90000\n",
      "2024-06-22 15:06:02.381380: I external/local_xla/xla/service/service.cc:168] XLA service 0x14929505dc70 initialized for platform CUDA (this does not guarantee that XLA will be used). Devices:\n",
      "2024-06-22 15:06:02.381409: I external/local_xla/xla/service/service.cc:176]   StreamExecutor device (0): Tesla V100-SXM2-32GB, Compute Capability 7.0\n",
      "2024-06-22 15:06:02.381413: I external/local_xla/xla/service/service.cc:176]   StreamExecutor device (1): Tesla V100-SXM2-32GB, Compute Capability 7.0\n",
      "2024-06-22 15:06:02.400682: I tensorflow/compiler/mlir/tensorflow/utils/dump_mlir_util.cc:269] disabling MLIR crash reproducer, set env var `MLIR_CRASH_REPRODUCER_DIRECTORY` to enable.\n",
      "WARNING: All log messages before absl::InitializeLog() is called are written to STDERR\n",
      "I0000 00:00:1719083162.534353   62014 device_compiler.h:186] Compiled cluster using XLA!  This line is logged at most once for the lifetime of the process.\n",
      "Training Model:  99%|█████████▉| 380/384 [00:30<00:00, 12.38it/s]\n",
      "/usr/local/lib/python3.10/dist-packages/keras/src/engine/training.py:3103: UserWarning: You are saving your model as an HDF5 file via `model.save()`. This file format is considered legacy. We recommend using instead the native Keras format, e.g. `model.save('my_model.keras')`.\n",
      "  saving_api.save_model(\n"
     ]
    },
    {
     "name": "stdout",
     "output_type": "stream",
     "text": [
      "Avg training loss: 1.8456\n",
      "Time taken: 72.49s\n",
      "Best model is at epoch 0 Saving\n",
      "==========\n",
      "\n",
      "Start of epoch 1:\n",
      "\n"
     ]
    },
    {
     "name": "stderr",
     "output_type": "stream",
     "text": [
      "TS Data Augmentation: 100%|██████████| 388764/388764 [00:32<00:00, 12058.81it/s]\n",
      "Training Model:  99%|█████████▉| 380/384 [00:27<00:00, 13.86it/s]\n"
     ]
    },
    {
     "name": "stdout",
     "output_type": "stream",
     "text": [
      "Avg training loss: 1.7196\n",
      "Time taken: 69.53s\n",
      "Best model is at epoch 1 Saving\n",
      "==========\n",
      "\n",
      "Start of epoch 2:\n",
      "\n"
     ]
    },
    {
     "name": "stderr",
     "output_type": "stream",
     "text": [
      "TS Data Augmentation: 100%|██████████| 388764/388764 [00:31<00:00, 12170.56it/s]\n",
      "Training Model:  99%|█████████▉| 380/384 [00:28<00:00, 13.28it/s]\n"
     ]
    },
    {
     "name": "stdout",
     "output_type": "stream",
     "text": [
      "Avg training loss: 1.6025\n",
      "Time taken: 70.31s\n",
      "Best model is at epoch 2 Saving\n",
      "==========\n",
      "\n",
      "Start of epoch 3:\n",
      "\n"
     ]
    },
    {
     "name": "stderr",
     "output_type": "stream",
     "text": [
      "TS Data Augmentation: 100%|██████████| 388764/388764 [00:34<00:00, 11175.95it/s]\n",
      "Training Model:  99%|█████████▉| 380/384 [00:10<00:00, 35.15it/s]\n"
     ]
    },
    {
     "name": "stdout",
     "output_type": "stream",
     "text": [
      "Avg training loss: 1.5415\n",
      "Time taken: 54.30s\n",
      "Best model is at epoch 3 Saving\n",
      "==========\n",
      "\n",
      "Start of epoch 4:\n",
      "\n"
     ]
    },
    {
     "name": "stderr",
     "output_type": "stream",
     "text": [
      "TS Data Augmentation: 100%|██████████| 388764/388764 [00:33<00:00, 11657.61it/s]\n",
      "Training Model:  99%|█████████▉| 380/384 [00:23<00:00, 16.32it/s]\n"
     ]
    },
    {
     "name": "stdout",
     "output_type": "stream",
     "text": [
      "Avg training loss: 1.4094\n",
      "Time taken: 66.24s\n",
      "Best model is at epoch 4 Saving\n",
      "==========\n",
      "\n",
      "Start of epoch 5:\n",
      "\n"
     ]
    },
    {
     "name": "stderr",
     "output_type": "stream",
     "text": [
      "TS Data Augmentation: 100%|██████████| 388764/388764 [00:32<00:00, 12088.83it/s]\n",
      "Training Model:  99%|█████████▉| 380/384 [00:27<00:00, 13.78it/s]\n"
     ]
    },
    {
     "name": "stdout",
     "output_type": "stream",
     "text": [
      "Avg training loss: 1.3019\n",
      "Time taken: 69.40s\n",
      "Best model is at epoch 5 Saving\n",
      "==========\n",
      "\n",
      "Start of epoch 6:\n",
      "\n"
     ]
    },
    {
     "name": "stderr",
     "output_type": "stream",
     "text": [
      "TS Data Augmentation: 100%|██████████| 388764/388764 [00:32<00:00, 12060.07it/s]\n",
      "Training Model:  92%|█████████▏| 353/384 [00:21<00:01, 17.72it/s]"
     ]
    }
   ],
   "source": [
    "alpha=0.5\n",
    "model_dir=Path(f\"models/lsst_alpha_{alpha}\")\n",
    "\n",
    "train_model(num_epochs=num_epochs,\n",
    "            batch_size=batch_size,\n",
    "            learning_rate=learning_rate, \n",
    "            latent_size=latent_size, \n",
    "            alpha=alpha, \n",
    "            max_class_count=max_class_count, \n",
    "            train_dir=train_dir, \n",
    "            model_dir=model_dir)"
   ]
  },
  {
   "cell_type": "code",
   "execution_count": 3,
   "id": "86c72bb8-e7cc-4f87-8338-f99cc6c9223c",
   "metadata": {
    "tags": []
   },
   "outputs": [
    {
     "name": "stdout",
     "output_type": "stream",
     "text": [
      "Loading training data from disc...\n",
      "Summary of all training data\n",
      "Total sample count = 1081614\n",
      "            Class   Count\n",
      "0             AGN   76258\n",
      "1            CART    8207\n",
      "2         Cepheid   13771\n",
      "3     Delta Scuti   20650\n",
      "4     Dwarf Novae    8025\n",
      "5              EB   66454\n",
      "6            ILOT    7461\n",
      "7              KN    4426\n",
      "8   M-dwarf Flare    1859\n",
      "9            PISN   63586\n",
      "10       RR Lyrae   14033\n",
      "11           SLSN   66088\n",
      "12        SNI91bg   28637\n",
      "13           SNII  301544\n",
      "14           SNIa  120739\n",
      "15          SNIax   28030\n",
      "16         SNIb/c  168254\n",
      "17            TDE   66000\n",
      "18          uLens   17592\n"
     ]
    },
    {
     "name": "stderr",
     "output_type": "stream",
     "text": [
      "Converting dictionaries to arrays: 100%|██████████| 1081614/1081614 [00:07<00:00, 148006.63it/s]\n"
     ]
    },
    {
     "name": "stdout",
     "output_type": "stream",
     "text": [
      "Summary of training data used\n",
      "            Class  Count\n",
      "0             AGN  30000\n",
      "1            CART   8207\n",
      "2         Cepheid  13771\n",
      "3     Delta Scuti  20650\n",
      "4     Dwarf Novae   8025\n",
      "5              EB  30000\n",
      "6            ILOT   7461\n",
      "7              KN   4426\n",
      "8   M-dwarf Flare   1859\n",
      "9            PISN  30000\n",
      "10       RR Lyrae  14033\n",
      "11           SLSN  30000\n",
      "12        SNI91bg  28637\n",
      "13           SNII  30000\n",
      "14           SNIa  30000\n",
      "15          SNIax  28030\n",
      "16         SNIb/c  30000\n",
      "17            TDE  30000\n",
      "18          uLens  17592\n"
     ]
    },
    {
     "name": "stderr",
     "output_type": "stream",
     "text": [
      "2024-06-23 00:44:40.833845: I tensorflow/core/common_runtime/gpu/gpu_device.cc:1926] Created device /job:localhost/replica:0/task:0/device:GPU:0 with 14777 MB memory:  -> device: 0, name: Tesla V100-SXM2-16GB, pci bus id: 0000:b2:00.0, compute capability: 7.0\n",
      "2024-06-23 00:44:40.835536: I tensorflow/core/common_runtime/gpu/gpu_device.cc:1926] Created device /job:localhost/replica:0/task:0/device:GPU:1 with 14777 MB memory:  -> device: 1, name: Tesla V100-SXM2-16GB, pci bus id: 0000:b3:00.0, compute capability: 7.0\n"
     ]
    },
    {
     "name": "stdout",
     "output_type": "stream",
     "text": [
      "TS Input Dim: 5 | Static Input Dim: 23 | Output Dim: 26\n",
      "\n",
      "Start of epoch 0:\n",
      "\n"
     ]
    },
    {
     "name": "stderr",
     "output_type": "stream",
     "text": [
      "TS Data Augmentation: 100%|██████████| 388764/388764 [00:37<00:00, 10373.48it/s]\n",
      "Training Model:   0%|          | 0/384 [00:00<?, ?it/s]2024-06-23 00:45:43.439952: W tensorflow/core/common_runtime/type_inference.cc:339] Type inference failed. This indicates an invalid graph that escaped type checking. Error message: INVALID_ARGUMENT: expected compatible input types, but input 1:\n",
      "type_id: TFT_OPTIONAL\n",
      "args {\n",
      "  type_id: TFT_PRODUCT\n",
      "  args {\n",
      "    type_id: TFT_TENSOR\n",
      "    args {\n",
      "      type_id: TFT_INT32\n",
      "    }\n",
      "  }\n",
      "}\n",
      " is neither a subtype nor a supertype of the combined inputs preceding it:\n",
      "type_id: TFT_OPTIONAL\n",
      "args {\n",
      "  type_id: TFT_PRODUCT\n",
      "  args {\n",
      "    type_id: TFT_TENSOR\n",
      "    args {\n",
      "      type_id: TFT_FLOAT\n",
      "    }\n",
      "  }\n",
      "}\n",
      "\n",
      "\tfor Tuple type infernce function 0\n",
      "\twhile inferring type of node 'cond_18/output/_21'\n",
      "2024-06-23 00:45:44.143623: I external/local_xla/xla/stream_executor/cuda/cuda_dnn.cc:467] Loaded cuDNN version 90000\n",
      "2024-06-23 00:45:45.536666: I external/local_xla/xla/service/service.cc:168] XLA service 0x149dbd4b8c90 initialized for platform CUDA (this does not guarantee that XLA will be used). Devices:\n",
      "2024-06-23 00:45:45.536701: I external/local_xla/xla/service/service.cc:176]   StreamExecutor device (0): Tesla V100-SXM2-16GB, Compute Capability 7.0\n",
      "2024-06-23 00:45:45.536707: I external/local_xla/xla/service/service.cc:176]   StreamExecutor device (1): Tesla V100-SXM2-16GB, Compute Capability 7.0\n",
      "2024-06-23 00:45:45.558159: I tensorflow/compiler/mlir/tensorflow/utils/dump_mlir_util.cc:269] disabling MLIR crash reproducer, set env var `MLIR_CRASH_REPRODUCER_DIRECTORY` to enable.\n",
      "WARNING: All log messages before absl::InitializeLog() is called are written to STDERR\n",
      "I0000 00:00:1719117945.701612    9033 device_compiler.h:186] Compiled cluster using XLA!  This line is logged at most once for the lifetime of the process.\n",
      "Training Model:  99%|█████████▉| 380/384 [00:40<00:00,  9.39it/s]\n",
      "/usr/local/lib/python3.10/dist-packages/keras/src/engine/training.py:3103: UserWarning: You are saving your model as an HDF5 file via `model.save()`. This file format is considered legacy. We recommend using instead the native Keras format, e.g. `model.save('my_model.keras')`.\n",
      "  saving_api.save_model(\n"
     ]
    },
    {
     "name": "stdout",
     "output_type": "stream",
     "text": [
      "Avg training loss: 0.9239\n",
      "Time taken: 88.92s\n",
      "Best model is at epoch 0 Saving\n",
      "==========\n",
      "\n",
      "Start of epoch 1:\n",
      "\n"
     ]
    },
    {
     "name": "stderr",
     "output_type": "stream",
     "text": [
      "TS Data Augmentation: 100%|██████████| 388764/388764 [00:37<00:00, 10379.08it/s]\n",
      "Training Model:  99%|█████████▉| 380/384 [00:12<00:00, 29.67it/s]\n"
     ]
    },
    {
     "name": "stdout",
     "output_type": "stream",
     "text": [
      "Avg training loss: 0.8708\n",
      "Time taken: 61.26s\n",
      "Best model is at epoch 1 Saving\n",
      "==========\n",
      "\n",
      "Start of epoch 2:\n",
      "\n"
     ]
    },
    {
     "name": "stderr",
     "output_type": "stream",
     "text": [
      "TS Data Augmentation: 100%|██████████| 388764/388764 [00:38<00:00, 9993.87it/s] \n",
      "Training Model:  99%|█████████▉| 380/384 [00:13<00:00, 28.37it/s]\n"
     ]
    },
    {
     "name": "stdout",
     "output_type": "stream",
     "text": [
      "Avg training loss: 0.8177\n",
      "Time taken: 64.13s\n",
      "Best model is at epoch 2 Saving\n",
      "==========\n",
      "\n",
      "Start of epoch 3:\n",
      "\n"
     ]
    },
    {
     "name": "stderr",
     "output_type": "stream",
     "text": [
      "TS Data Augmentation: 100%|██████████| 388764/388764 [00:38<00:00, 10054.46it/s]\n",
      "Training Model:  99%|█████████▉| 380/384 [00:14<00:00, 26.03it/s]\n"
     ]
    },
    {
     "name": "stdout",
     "output_type": "stream",
     "text": [
      "Avg training loss: 0.7665\n",
      "Time taken: 65.43s\n",
      "Best model is at epoch 3 Saving\n",
      "==========\n",
      "\n",
      "Start of epoch 4:\n",
      "\n"
     ]
    },
    {
     "name": "stderr",
     "output_type": "stream",
     "text": [
      "TS Data Augmentation: 100%|██████████| 388764/388764 [00:39<00:00, 9935.23it/s] \n",
      "Training Model:  99%|█████████▉| 380/384 [00:18<00:00, 20.19it/s]\n"
     ]
    },
    {
     "name": "stdout",
     "output_type": "stream",
     "text": [
      "Avg training loss: 0.7123\n",
      "Time taken: 70.67s\n",
      "Best model is at epoch 4 Saving\n",
      "==========\n",
      "\n",
      "Start of epoch 5:\n",
      "\n"
     ]
    },
    {
     "name": "stderr",
     "output_type": "stream",
     "text": [
      "TS Data Augmentation: 100%|██████████| 388764/388764 [00:39<00:00, 9946.17it/s] \n",
      "Training Model:  99%|█████████▉| 380/384 [00:15<00:00, 24.01it/s]\n"
     ]
    },
    {
     "name": "stdout",
     "output_type": "stream",
     "text": [
      "Avg training loss: 0.6697\n",
      "Time taken: 67.18s\n",
      "Best model is at epoch 5 Saving\n",
      "==========\n",
      "\n",
      "Start of epoch 6:\n",
      "\n"
     ]
    },
    {
     "name": "stderr",
     "output_type": "stream",
     "text": [
      "TS Data Augmentation: 100%|██████████| 388764/388764 [00:39<00:00, 9898.20it/s] \n",
      "Training Model:  99%|█████████▉| 380/384 [00:25<00:00, 14.77it/s]\n"
     ]
    },
    {
     "name": "stdout",
     "output_type": "stream",
     "text": [
      "Avg training loss: 0.6083\n",
      "Time taken: 77.82s\n",
      "Best model is at epoch 6 Saving\n",
      "==========\n",
      "\n",
      "Start of epoch 7:\n",
      "\n"
     ]
    },
    {
     "name": "stderr",
     "output_type": "stream",
     "text": [
      "TS Data Augmentation: 100%|██████████| 388764/388764 [00:38<00:00, 10184.39it/s]\n",
      "Training Model:  99%|█████████▉| 380/384 [00:23<00:00, 16.46it/s]\n"
     ]
    },
    {
     "name": "stdout",
     "output_type": "stream",
     "text": [
      "Avg training loss: 0.5617\n",
      "Time taken: 73.53s\n",
      "Best model is at epoch 7 Saving\n",
      "==========\n",
      "\n",
      "Start of epoch 8:\n",
      "\n"
     ]
    },
    {
     "name": "stderr",
     "output_type": "stream",
     "text": [
      "TS Data Augmentation: 100%|██████████| 388764/388764 [00:35<00:00, 10840.62it/s]\n",
      "Training Model:  99%|█████████▉| 380/384 [00:14<00:00, 26.80it/s]\n"
     ]
    },
    {
     "name": "stdout",
     "output_type": "stream",
     "text": [
      "Avg training loss: 0.5362\n",
      "Time taken: 59.79s\n",
      "Best model is at epoch 8 Saving\n",
      "==========\n",
      "\n",
      "Start of epoch 9:\n",
      "\n"
     ]
    },
    {
     "name": "stderr",
     "output_type": "stream",
     "text": [
      "TS Data Augmentation: 100%|██████████| 388764/388764 [00:33<00:00, 11626.61it/s]\n",
      "Training Model:  99%|█████████▉| 380/384 [00:28<00:00, 13.22it/s]\n"
     ]
    },
    {
     "name": "stdout",
     "output_type": "stream",
     "text": [
      "Avg training loss: 0.4726\n",
      "Time taken: 73.60s\n",
      "Best model is at epoch 9 Saving\n",
      "==========\n",
      "\n",
      "Start of epoch 10:\n",
      "\n"
     ]
    },
    {
     "name": "stderr",
     "output_type": "stream",
     "text": [
      "TS Data Augmentation: 100%|██████████| 388764/388764 [00:32<00:00, 11869.22it/s]\n",
      "Training Model:  99%|█████████▉| 380/384 [00:24<00:00, 15.81it/s]\n"
     ]
    },
    {
     "name": "stdout",
     "output_type": "stream",
     "text": [
      "Avg training loss: 0.4372\n",
      "Time taken: 67.02s\n",
      "Best model is at epoch 10 Saving\n",
      "==========\n",
      "\n",
      "Start of epoch 11:\n",
      "\n"
     ]
    },
    {
     "name": "stderr",
     "output_type": "stream",
     "text": [
      "TS Data Augmentation: 100%|██████████| 388764/388764 [00:32<00:00, 11896.13it/s]\n",
      "Training Model:  99%|█████████▉| 380/384 [00:13<00:00, 28.21it/s]\n"
     ]
    },
    {
     "name": "stdout",
     "output_type": "stream",
     "text": [
      "Avg training loss: 0.4244\n",
      "Time taken: 56.19s\n",
      "Best model is at epoch 11 Saving\n",
      "==========\n",
      "\n",
      "Start of epoch 12:\n",
      "\n"
     ]
    },
    {
     "name": "stderr",
     "output_type": "stream",
     "text": [
      "TS Data Augmentation: 100%|██████████| 388764/388764 [00:34<00:00, 11396.67it/s]\n",
      "Training Model:  99%|█████████▉| 380/384 [00:22<00:00, 16.52it/s]\n"
     ]
    },
    {
     "name": "stdout",
     "output_type": "stream",
     "text": [
      "Avg training loss: 0.3690\n",
      "Time taken: 68.64s\n",
      "Best model is at epoch 12 Saving\n",
      "==========\n",
      "\n",
      "Start of epoch 13:\n",
      "\n"
     ]
    },
    {
     "name": "stderr",
     "output_type": "stream",
     "text": [
      "TS Data Augmentation: 100%|██████████| 388764/388764 [00:33<00:00, 11607.55it/s]\n",
      "Training Model:  99%|█████████▉| 380/384 [00:10<00:00, 36.95it/s]\n"
     ]
    },
    {
     "name": "stdout",
     "output_type": "stream",
     "text": [
      "Avg training loss: 0.3724\n",
      "Time taken: 54.27s\n",
      "==========\n",
      "\n",
      "Start of epoch 14:\n",
      "\n"
     ]
    },
    {
     "name": "stderr",
     "output_type": "stream",
     "text": [
      "TS Data Augmentation: 100%|██████████| 388764/388764 [00:34<00:00, 11222.56it/s]\n",
      "Training Model:  99%|█████████▉| 380/384 [00:29<00:00, 12.85it/s]\n"
     ]
    },
    {
     "name": "stdout",
     "output_type": "stream",
     "text": [
      "Avg training loss: 0.3060\n",
      "Time taken: 76.05s\n",
      "Best model is at epoch 14 Saving\n",
      "==========\n",
      "\n",
      "Start of epoch 15:\n",
      "\n"
     ]
    },
    {
     "name": "stderr",
     "output_type": "stream",
     "text": [
      "TS Data Augmentation: 100%|██████████| 388764/388764 [00:33<00:00, 11525.56it/s]\n",
      "Training Model:  99%|█████████▉| 380/384 [00:28<00:00, 13.56it/s]\n"
     ]
    },
    {
     "name": "stdout",
     "output_type": "stream",
     "text": [
      "Avg training loss: 0.2817\n",
      "Time taken: 73.11s\n",
      "Best model is at epoch 15 Saving\n",
      "==========\n",
      "\n",
      "Start of epoch 16:\n",
      "\n"
     ]
    },
    {
     "name": "stderr",
     "output_type": "stream",
     "text": [
      "TS Data Augmentation: 100%|██████████| 388764/388764 [00:33<00:00, 11756.40it/s]\n",
      "Training Model:  99%|█████████▉| 380/384 [00:15<00:00, 24.56it/s]\n"
     ]
    },
    {
     "name": "stdout",
     "output_type": "stream",
     "text": [
      "Avg training loss: 0.2757\n",
      "Time taken: 59.30s\n",
      "Best model is at epoch 16 Saving\n",
      "==========\n",
      "\n",
      "Start of epoch 17:\n",
      "\n"
     ]
    },
    {
     "name": "stderr",
     "output_type": "stream",
     "text": [
      "TS Data Augmentation: 100%|██████████| 388764/388764 [00:32<00:00, 12053.10it/s]\n",
      "Training Model:  99%|█████████▉| 380/384 [00:22<00:00, 16.82it/s]\n"
     ]
    },
    {
     "name": "stdout",
     "output_type": "stream",
     "text": [
      "Avg training loss: 0.2470\n",
      "Time taken: 64.99s\n",
      "Best model is at epoch 17 Saving\n",
      "==========\n",
      "\n",
      "Start of epoch 18:\n",
      "\n"
     ]
    },
    {
     "name": "stderr",
     "output_type": "stream",
     "text": [
      "TS Data Augmentation: 100%|██████████| 388764/388764 [00:33<00:00, 11733.95it/s]\n",
      "Training Model:  99%|█████████▉| 380/384 [00:10<00:00, 36.12it/s]\n"
     ]
    },
    {
     "name": "stdout",
     "output_type": "stream",
     "text": [
      "Avg training loss: 0.2548\n",
      "Time taken: 53.93s\n",
      "==========\n",
      "\n",
      "Start of epoch 19:\n",
      "\n"
     ]
    },
    {
     "name": "stderr",
     "output_type": "stream",
     "text": [
      "TS Data Augmentation: 100%|██████████| 388764/388764 [00:33<00:00, 11567.53it/s]\n",
      "Training Model:  99%|█████████▉| 380/384 [00:10<00:00, 35.88it/s]\n"
     ]
    },
    {
     "name": "stdout",
     "output_type": "stream",
     "text": [
      "Avg training loss: 0.2377\n",
      "Time taken: 54.91s\n",
      "Best model is at epoch 19 Saving\n",
      "==========\n",
      "\n",
      "Start of epoch 20:\n",
      "\n"
     ]
    },
    {
     "name": "stderr",
     "output_type": "stream",
     "text": [
      "TS Data Augmentation: 100%|██████████| 388764/388764 [00:33<00:00, 11492.76it/s]\n",
      "Training Model:  99%|█████████▉| 380/384 [00:18<00:00, 20.69it/s]\n"
     ]
    },
    {
     "name": "stdout",
     "output_type": "stream",
     "text": [
      "Avg training loss: 0.2152\n",
      "Time taken: 63.56s\n",
      "Best model is at epoch 20 Saving\n",
      "==========\n",
      "\n",
      "Start of epoch 21:\n",
      "\n"
     ]
    },
    {
     "name": "stderr",
     "output_type": "stream",
     "text": [
      "TS Data Augmentation: 100%|██████████| 388764/388764 [00:33<00:00, 11616.08it/s]\n",
      "Training Model:  99%|█████████▉| 380/384 [00:10<00:00, 34.75it/s]\n"
     ]
    },
    {
     "name": "stdout",
     "output_type": "stream",
     "text": [
      "Avg training loss: 0.2121\n",
      "Time taken: 54.80s\n",
      "Best model is at epoch 21 Saving\n",
      "==========\n",
      "\n",
      "Start of epoch 22:\n",
      "\n"
     ]
    },
    {
     "name": "stderr",
     "output_type": "stream",
     "text": [
      "TS Data Augmentation: 100%|██████████| 388764/388764 [00:33<00:00, 11440.48it/s]\n",
      "Training Model:  99%|█████████▉| 380/384 [00:14<00:00, 27.13it/s]\n"
     ]
    },
    {
     "name": "stdout",
     "output_type": "stream",
     "text": [
      "Avg training loss: 0.1974\n",
      "Time taken: 59.10s\n",
      "Best model is at epoch 22 Saving\n",
      "==========\n",
      "\n",
      "Start of epoch 23:\n",
      "\n"
     ]
    },
    {
     "name": "stderr",
     "output_type": "stream",
     "text": [
      "TS Data Augmentation: 100%|██████████| 388764/388764 [00:33<00:00, 11682.93it/s]\n",
      "Training Model:  99%|█████████▉| 380/384 [00:23<00:00, 15.97it/s]\n"
     ]
    },
    {
     "name": "stdout",
     "output_type": "stream",
     "text": [
      "Avg training loss: 0.1852\n",
      "Time taken: 68.34s\n",
      "Best model is at epoch 23 Saving\n",
      "==========\n",
      "\n",
      "Start of epoch 24:\n",
      "\n"
     ]
    },
    {
     "name": "stderr",
     "output_type": "stream",
     "text": [
      "TS Data Augmentation: 100%|██████████| 388764/388764 [00:33<00:00, 11663.12it/s]\n",
      "Training Model:  99%|█████████▉| 380/384 [00:21<00:00, 17.95it/s]\n"
     ]
    },
    {
     "name": "stdout",
     "output_type": "stream",
     "text": [
      "Avg training loss: 0.1768\n",
      "Time taken: 65.32s\n",
      "Best model is at epoch 24 Saving\n",
      "==========\n",
      "\n",
      "Start of epoch 25:\n",
      "\n"
     ]
    },
    {
     "name": "stderr",
     "output_type": "stream",
     "text": [
      "TS Data Augmentation: 100%|██████████| 388764/388764 [00:32<00:00, 11797.13it/s]\n",
      "Training Model:  99%|█████████▉| 380/384 [00:16<00:00, 23.14it/s]\n"
     ]
    },
    {
     "name": "stdout",
     "output_type": "stream",
     "text": [
      "Avg training loss: 0.1718\n",
      "Time taken: 59.83s\n",
      "Best model is at epoch 25 Saving\n",
      "==========\n",
      "\n",
      "Start of epoch 26:\n",
      "\n"
     ]
    },
    {
     "name": "stderr",
     "output_type": "stream",
     "text": [
      "TS Data Augmentation: 100%|██████████| 388764/388764 [00:32<00:00, 12025.92it/s]\n",
      "Training Model:  99%|█████████▉| 380/384 [00:11<00:00, 33.82it/s]\n"
     ]
    },
    {
     "name": "stdout",
     "output_type": "stream",
     "text": [
      "Avg training loss: 0.1695\n",
      "Time taken: 53.91s\n",
      "Best model is at epoch 26 Saving\n",
      "==========\n",
      "\n",
      "Start of epoch 27:\n",
      "\n"
     ]
    },
    {
     "name": "stderr",
     "output_type": "stream",
     "text": [
      "TS Data Augmentation: 100%|██████████| 388764/388764 [00:31<00:00, 12258.41it/s]\n",
      "Training Model:  99%|█████████▉| 380/384 [00:29<00:00, 12.68it/s]\n"
     ]
    },
    {
     "name": "stdout",
     "output_type": "stream",
     "text": [
      "Avg training loss: 0.1616\n",
      "Time taken: 72.68s\n",
      "Best model is at epoch 27 Saving\n",
      "==========\n",
      "\n",
      "Start of epoch 28:\n",
      "\n"
     ]
    },
    {
     "name": "stderr",
     "output_type": "stream",
     "text": [
      "TS Data Augmentation: 100%|██████████| 388764/388764 [00:32<00:00, 11805.61it/s]\n",
      "Training Model:  99%|█████████▉| 380/384 [00:23<00:00, 15.89it/s]\n"
     ]
    },
    {
     "name": "stdout",
     "output_type": "stream",
     "text": [
      "Avg training loss: 0.1568\n",
      "Time taken: 67.69s\n",
      "Best model is at epoch 28 Saving\n",
      "==========\n",
      "\n",
      "Start of epoch 29:\n",
      "\n"
     ]
    },
    {
     "name": "stderr",
     "output_type": "stream",
     "text": [
      "TS Data Augmentation: 100%|██████████| 388764/388764 [00:32<00:00, 12002.36it/s]\n",
      "Training Model:  99%|█████████▉| 380/384 [00:22<00:00, 16.56it/s]\n"
     ]
    },
    {
     "name": "stdout",
     "output_type": "stream",
     "text": [
      "Avg training loss: 0.1534\n",
      "Time taken: 65.54s\n",
      "Best model is at epoch 29 Saving\n",
      "==========\n",
      "\n",
      "Start of epoch 30:\n",
      "\n"
     ]
    },
    {
     "name": "stderr",
     "output_type": "stream",
     "text": [
      "TS Data Augmentation: 100%|██████████| 388764/388764 [00:32<00:00, 11863.82it/s]\n",
      "Training Model:  99%|█████████▉| 380/384 [00:15<00:00, 23.81it/s]\n"
     ]
    },
    {
     "name": "stdout",
     "output_type": "stream",
     "text": [
      "Avg training loss: 0.1523\n",
      "Time taken: 58.58s\n",
      "Best model is at epoch 30 Saving\n",
      "==========\n",
      "\n",
      "Start of epoch 31:\n",
      "\n"
     ]
    },
    {
     "name": "stderr",
     "output_type": "stream",
     "text": [
      "TS Data Augmentation: 100%|██████████| 388764/388764 [00:32<00:00, 11959.08it/s]\n",
      "Training Model:  99%|█████████▉| 380/384 [00:12<00:00, 31.46it/s]\n"
     ]
    },
    {
     "name": "stdout",
     "output_type": "stream",
     "text": [
      "Avg training loss: 0.1513\n",
      "Time taken: 54.60s\n",
      "Best model is at epoch 31 Saving\n",
      "==========\n",
      "\n",
      "Start of epoch 32:\n",
      "\n"
     ]
    },
    {
     "name": "stderr",
     "output_type": "stream",
     "text": [
      "TS Data Augmentation: 100%|██████████| 388764/388764 [00:31<00:00, 12174.39it/s]\n",
      "Training Model:  99%|█████████▉| 380/384 [00:22<00:00, 16.86it/s]\n"
     ]
    },
    {
     "name": "stdout",
     "output_type": "stream",
     "text": [
      "Avg training loss: 0.1479\n",
      "Time taken: 65.29s\n",
      "Best model is at epoch 32 Saving\n",
      "==========\n",
      "\n",
      "Start of epoch 33:\n",
      "\n"
     ]
    },
    {
     "name": "stderr",
     "output_type": "stream",
     "text": [
      "TS Data Augmentation: 100%|██████████| 388764/388764 [00:32<00:00, 11993.31it/s]\n",
      "Training Model:  99%|█████████▉| 380/384 [00:25<00:00, 15.13it/s]\n"
     ]
    },
    {
     "name": "stdout",
     "output_type": "stream",
     "text": [
      "Avg training loss: 0.1463\n",
      "Time taken: 67.79s\n",
      "Best model is at epoch 33 Saving\n",
      "==========\n",
      "\n",
      "Start of epoch 34:\n",
      "\n"
     ]
    },
    {
     "name": "stderr",
     "output_type": "stream",
     "text": [
      "TS Data Augmentation: 100%|██████████| 388764/388764 [00:33<00:00, 11455.86it/s]\n",
      "Training Model:  99%|█████████▉| 380/384 [00:20<00:00, 18.34it/s]\n"
     ]
    },
    {
     "name": "stdout",
     "output_type": "stream",
     "text": [
      "Avg training loss: 0.1448\n",
      "Time taken: 65.72s\n",
      "Best model is at epoch 34 Saving\n",
      "==========\n",
      "\n",
      "Start of epoch 35:\n",
      "\n"
     ]
    },
    {
     "name": "stderr",
     "output_type": "stream",
     "text": [
      "TS Data Augmentation: 100%|██████████| 388764/388764 [00:33<00:00, 11625.18it/s]\n",
      "Training Model:  99%|█████████▉| 380/384 [00:29<00:00, 12.89it/s]\n"
     ]
    },
    {
     "name": "stdout",
     "output_type": "stream",
     "text": [
      "Avg training loss: 0.1441\n",
      "Time taken: 74.22s\n",
      "Best model is at epoch 35 Saving\n",
      "==========\n",
      "\n",
      "Start of epoch 36:\n",
      "\n"
     ]
    },
    {
     "name": "stderr",
     "output_type": "stream",
     "text": [
      "TS Data Augmentation: 100%|██████████| 388764/388764 [00:33<00:00, 11780.52it/s]\n",
      "Training Model:  99%|█████████▉| 380/384 [00:16<00:00, 23.49it/s]\n"
     ]
    },
    {
     "name": "stdout",
     "output_type": "stream",
     "text": [
      "Avg training loss: 0.1438\n",
      "Time taken: 59.84s\n",
      "Best model is at epoch 36 Saving\n",
      "==========\n",
      "\n",
      "Start of epoch 37:\n",
      "\n"
     ]
    },
    {
     "name": "stderr",
     "output_type": "stream",
     "text": [
      "TS Data Augmentation: 100%|██████████| 388764/388764 [00:32<00:00, 11976.03it/s]\n",
      "Training Model:  99%|█████████▉| 380/384 [00:23<00:00, 16.41it/s]\n"
     ]
    },
    {
     "name": "stdout",
     "output_type": "stream",
     "text": [
      "Avg training loss: 0.1418\n",
      "Time taken: 65.99s\n",
      "Best model is at epoch 37 Saving\n",
      "==========\n",
      "\n",
      "Start of epoch 38:\n",
      "\n"
     ]
    },
    {
     "name": "stderr",
     "output_type": "stream",
     "text": [
      "TS Data Augmentation: 100%|██████████| 388764/388764 [00:32<00:00, 11963.95it/s]\n",
      "Training Model:  99%|█████████▉| 380/384 [00:14<00:00, 26.34it/s]\n"
     ]
    },
    {
     "name": "stdout",
     "output_type": "stream",
     "text": [
      "Avg training loss: 0.1425\n",
      "Time taken: 56.44s\n",
      "==========\n",
      "\n",
      "Start of epoch 39:\n",
      "\n"
     ]
    },
    {
     "name": "stderr",
     "output_type": "stream",
     "text": [
      "TS Data Augmentation: 100%|██████████| 388764/388764 [00:33<00:00, 11700.53it/s]\n",
      "Training Model:  99%|█████████▉| 380/384 [00:20<00:00, 18.63it/s]\n"
     ]
    },
    {
     "name": "stdout",
     "output_type": "stream",
     "text": [
      "Avg training loss: 0.1403\n",
      "Time taken: 63.69s\n",
      "Best model is at epoch 39 Saving\n",
      "==========\n",
      "\n",
      "Start of epoch 40:\n",
      "\n"
     ]
    },
    {
     "name": "stderr",
     "output_type": "stream",
     "text": [
      "TS Data Augmentation: 100%|██████████| 388764/388764 [00:35<00:00, 11079.10it/s]\n",
      "Training Model:  99%|█████████▉| 380/384 [00:27<00:00, 13.78it/s]\n"
     ]
    },
    {
     "name": "stdout",
     "output_type": "stream",
     "text": [
      "Avg training loss: 0.1399\n",
      "Time taken: 74.19s\n",
      "Best model is at epoch 40 Saving\n",
      "==========\n",
      "\n",
      "Start of epoch 41:\n",
      "\n"
     ]
    },
    {
     "name": "stderr",
     "output_type": "stream",
     "text": [
      "TS Data Augmentation: 100%|██████████| 388764/388764 [00:34<00:00, 11338.38it/s]\n",
      "Training Model:  99%|█████████▉| 380/384 [00:26<00:00, 14.55it/s]\n"
     ]
    },
    {
     "name": "stdout",
     "output_type": "stream",
     "text": [
      "Avg training loss: 0.1389\n",
      "Time taken: 71.71s\n",
      "Best model is at epoch 41 Saving\n",
      "==========\n",
      "\n",
      "Start of epoch 42:\n",
      "\n"
     ]
    },
    {
     "name": "stderr",
     "output_type": "stream",
     "text": [
      "TS Data Augmentation: 100%|██████████| 388764/388764 [00:34<00:00, 11349.36it/s]\n",
      "Training Model:  99%|█████████▉| 380/384 [00:18<00:00, 20.07it/s]\n"
     ]
    },
    {
     "name": "stdout",
     "output_type": "stream",
     "text": [
      "Avg training loss: 0.1385\n",
      "Time taken: 64.10s\n",
      "Best model is at epoch 42 Saving\n",
      "==========\n",
      "\n",
      "Start of epoch 43:\n",
      "\n"
     ]
    },
    {
     "name": "stderr",
     "output_type": "stream",
     "text": [
      "TS Data Augmentation: 100%|██████████| 388764/388764 [00:33<00:00, 11612.16it/s]\n",
      "Training Model:  99%|█████████▉| 380/384 [00:10<00:00, 37.11it/s]\n"
     ]
    },
    {
     "name": "stdout",
     "output_type": "stream",
     "text": [
      "Avg training loss: 0.1415\n",
      "Time taken: 52.90s\n",
      "==========\n",
      "\n",
      "Start of epoch 44:\n",
      "\n"
     ]
    },
    {
     "name": "stderr",
     "output_type": "stream",
     "text": [
      "TS Data Augmentation: 100%|██████████| 388764/388764 [00:34<00:00, 11148.94it/s]\n",
      "Training Model:  99%|█████████▉| 380/384 [00:26<00:00, 14.59it/s]\n"
     ]
    },
    {
     "name": "stdout",
     "output_type": "stream",
     "text": [
      "Avg training loss: 0.1378\n",
      "Time taken: 72.69s\n",
      "Best model is at epoch 44 Saving\n",
      "==========\n",
      "\n",
      "Start of epoch 45:\n",
      "\n"
     ]
    },
    {
     "name": "stderr",
     "output_type": "stream",
     "text": [
      "TS Data Augmentation: 100%|██████████| 388764/388764 [00:33<00:00, 11614.70it/s]\n",
      "Training Model:  99%|█████████▉| 380/384 [00:24<00:00, 15.58it/s]\n"
     ]
    },
    {
     "name": "stdout",
     "output_type": "stream",
     "text": [
      "Avg training loss: 0.1365\n",
      "Time taken: 68.64s\n",
      "Best model is at epoch 45 Saving\n",
      "==========\n",
      "\n",
      "Start of epoch 46:\n",
      "\n"
     ]
    },
    {
     "name": "stderr",
     "output_type": "stream",
     "text": [
      "TS Data Augmentation: 100%|██████████| 388764/388764 [00:32<00:00, 11901.64it/s]\n",
      "Training Model:  99%|█████████▉| 380/384 [00:17<00:00, 22.15it/s]\n"
     ]
    },
    {
     "name": "stdout",
     "output_type": "stream",
     "text": [
      "Avg training loss: 0.1366\n",
      "Time taken: 59.83s\n",
      "==========\n",
      "\n",
      "Start of epoch 47:\n",
      "\n"
     ]
    },
    {
     "name": "stderr",
     "output_type": "stream",
     "text": [
      "TS Data Augmentation: 100%|██████████| 388764/388764 [00:32<00:00, 11952.88it/s]\n",
      "Training Model:  99%|█████████▉| 380/384 [00:21<00:00, 18.05it/s]\n"
     ]
    },
    {
     "name": "stdout",
     "output_type": "stream",
     "text": [
      "Avg training loss: 0.1353\n",
      "Time taken: 63.31s\n",
      "Best model is at epoch 47 Saving\n",
      "==========\n",
      "\n",
      "Start of epoch 48:\n",
      "\n"
     ]
    },
    {
     "name": "stderr",
     "output_type": "stream",
     "text": [
      "TS Data Augmentation: 100%|██████████| 388764/388764 [00:32<00:00, 11832.81it/s]\n",
      "Training Model:  99%|█████████▉| 380/384 [00:11<00:00, 33.40it/s]\n"
     ]
    },
    {
     "name": "stdout",
     "output_type": "stream",
     "text": [
      "Avg training loss: 0.1376\n",
      "Time taken: 54.51s\n",
      "==========\n",
      "\n",
      "Start of epoch 49:\n",
      "\n"
     ]
    },
    {
     "name": "stderr",
     "output_type": "stream",
     "text": [
      "TS Data Augmentation: 100%|██████████| 388764/388764 [00:33<00:00, 11494.30it/s]\n",
      "Training Model:  99%|█████████▉| 380/384 [00:30<00:00, 12.51it/s]\n"
     ]
    },
    {
     "name": "stdout",
     "output_type": "stream",
     "text": [
      "Avg training loss: 0.1357\n",
      "Time taken: 75.95s\n",
      "==========\n",
      "Running inference for validation...\n"
     ]
    },
    {
     "name": "stderr",
     "output_type": "stream",
     "text": [
      "TS Data Augmentation: 100%|██████████| 3927/3927 [00:00<00:00, 10360.81it/s]\n"
     ]
    },
    {
     "name": "stdout",
     "output_type": "stream",
     "text": [
      "123/123 [==============================] - 3s 6ms/step\n"
     ]
    }
   ],
   "source": [
    "alpha=0.75\n",
    "model_dir=Path(f\"models/lsst_alpha_{alpha}\")\n",
    "\n",
    "train_model(num_epochs=num_epochs,\n",
    "            batch_size=batch_size,\n",
    "            learning_rate=learning_rate, \n",
    "            latent_size=latent_size, \n",
    "            alpha=alpha, \n",
    "            max_class_count=max_class_count, \n",
    "            train_dir=train_dir, \n",
    "            model_dir=model_dir)"
   ]
  },
  {
   "cell_type": "markdown",
   "id": "29ea95c2-f692-49df-bb7d-8ae6a04b8285",
   "metadata": {},
   "source": [
    "## Train the ensemble model:"
   ]
  },
  {
   "cell_type": "code",
   "execution_count": 15,
   "id": "e21b5550-fcd7-4e55-8c04-f169ceeaf53f",
   "metadata": {},
   "outputs": [
    {
     "name": "stdout",
     "output_type": "stream",
     "text": [
      "Loading models/lsst_alpha_0/best_model.h5\n",
      "Loading models/lsst_alpha_0.5/lstm_epoch_46.h5\n",
      "Loading models/lsst_alpha_0.75/best_model.h5\n"
     ]
    }
   ],
   "source": [
    "alpha=0\n",
    "model_dir=Path(f\"models/ensemble\")\n",
    "\n",
    "model_paths = [\"models/lsst_alpha_0/best_model.h5\", \"models/lsst_alpha_0.5/best_model.h5\", \"models/lsst_alpha_0.75/best_model.h5\"]\n",
    "train_ensemble_model(\n",
    "            models,\n",
    "            num_epochs=num_epochs,\n",
    "            batch_size=batch_size,\n",
    "            learning_rate=learning_rate, \n",
    "            max_class_count=max_class_count, \n",
    "            train_dir=train_dir, \n",
    "            model_dir=model_dir)"
   ]
  }
 ],
 "metadata": {
  "kernelspec": {
   "display_name": "NGC TensorFlow",
   "language": "python",
   "name": "tensorflow"
  },
  "language_info": {
   "codemirror_mode": {
    "name": "ipython",
    "version": 3
   },
   "file_extension": ".py",
   "mimetype": "text/x-python",
   "name": "python",
   "nbconvert_exporter": "python",
   "pygments_lexer": "ipython3",
   "version": "3.10.12"
  }
 },
 "nbformat": 4,
 "nbformat_minor": 5
}
