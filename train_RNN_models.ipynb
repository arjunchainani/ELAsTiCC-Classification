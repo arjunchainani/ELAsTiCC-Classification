{
 "cells": [
  {
   "cell_type": "markdown",
   "id": "2ef94b41-958d-49c7-8540-8946fb201a79",
   "metadata": {},
   "source": [
    "# Train different RNN models"
   ]
  },
  {
   "cell_type": "code",
   "execution_count": 1,
   "id": "b3beb889-dd3e-4f22-b4e6-5b31c55dbef9",
   "metadata": {},
   "outputs": [
    {
     "name": "stderr",
     "output_type": "stream",
     "text": [
      "2024-06-20 17:28:28.782931: I tensorflow/core/util/port.cc:113] oneDNN custom operations are on. You may see slightly different numerical results due to floating-point round-off errors from different computation orders. To turn them off, set the environment variable `TF_ENABLE_ONEDNN_OPTS=0`.\n",
      "2024-06-20 17:28:29.527704: E external/local_xla/xla/stream_executor/cuda/cuda_dnn.cc:9373] Unable to register cuDNN factory: Attempting to register factory for plugin cuDNN when one has already been registered\n",
      "2024-06-20 17:28:29.529269: E external/local_xla/xla/stream_executor/cuda/cuda_fft.cc:607] Unable to register cuFFT factory: Attempting to register factory for plugin cuFFT when one has already been registered\n",
      "2024-06-20 17:28:29.698402: E external/local_xla/xla/stream_executor/cuda/cuda_blas.cc:1534] Unable to register cuBLAS factory: Attempting to register factory for plugin cuBLAS when one has already been registered\n",
      "2024-06-20 17:28:30.025422: I tensorflow/core/platform/cpu_feature_guard.cc:183] This TensorFlow binary is optimized to use available CPU instructions in performance-critical operations.\n",
      "To enable the following instructions: SSE3 SSE4.1 SSE4.2 AVX, in other operations, rebuild TensorFlow with the appropriate compiler flags.\n"
     ]
    }
   ],
   "source": [
    "from pathlib import Path\n",
    "from train_RNN import train_model"
   ]
  },
  {
   "cell_type": "code",
   "execution_count": 2,
   "id": "ec39c601-78c5-40ab-a6b0-503fb3714b68",
   "metadata": {},
   "outputs": [],
   "source": [
    "num_epochs=50\n",
    "batch_size=1024\n",
    "learning_rate=5e-4\n",
    "latent_size=64\n",
    "max_class_count=30000 \n",
    "train_dir=Path(\"processed/train\")"
   ]
  },
  {
   "cell_type": "code",
   "execution_count": null,
   "id": "b7a90ba3-edec-41ef-9b8d-416c2b32cdc3",
   "metadata": {
    "tags": []
   },
   "outputs": [],
   "source": [
    "alpha=0\n",
    "model_dir=Path(f\"models/lsst_alpha_{alpha}\")\n",
    "\n",
    "train_model(num_epochs=num_epochs,\n",
    "            batch_size=batch_size,\n",
    "            learning_rate=learning_rate, \n",
    "            latent_size=latent_size, \n",
    "            alpha=alpha, \n",
    "            max_class_count=max_class_count, \n",
    "            train_dir=train_dir, \n",
    "            model_dir=model_dir)"
   ]
  },
  {
   "cell_type": "code",
   "execution_count": 3,
   "id": "9f231c42-5ef2-4b21-8312-25b1a1529433",
   "metadata": {},
   "outputs": [
    {
     "name": "stdout",
     "output_type": "stream",
     "text": [
      "Loading training data from disc...\n",
      "Summary of all training data\n",
      "Total sample count = 1081614\n",
      "            Class   Count\n",
      "0             AGN   76258\n",
      "1            CART    8207\n",
      "2         Cepheid   13771\n",
      "3     Delta Scuti   20650\n",
      "4     Dwarf Novae    8025\n",
      "5              EB   66454\n",
      "6            ILOT    7461\n",
      "7              KN    4426\n",
      "8   M-dwarf Flare    1859\n",
      "9            PISN   63586\n",
      "10       RR Lyrae   14033\n",
      "11           SLSN   66088\n",
      "12        SNI91bg   28637\n",
      "13           SNII  301544\n",
      "14           SNIa  120739\n",
      "15          SNIax   28030\n",
      "16         SNIb/c  168254\n",
      "17            TDE   66000\n",
      "18          uLens   17592\n"
     ]
    },
    {
     "name": "stderr",
     "output_type": "stream",
     "text": [
      "Converting dictionaries to arrays: 100%|██████████| 1081614/1081614 [00:06<00:00, 162688.77it/s]\n"
     ]
    },
    {
     "name": "stdout",
     "output_type": "stream",
     "text": [
      "Summary of training data used\n",
      "            Class  Count\n",
      "0             AGN  30000\n",
      "1            CART   8207\n",
      "2         Cepheid  13771\n",
      "3     Delta Scuti  20650\n",
      "4     Dwarf Novae   8025\n",
      "5              EB  30000\n",
      "6            ILOT   7461\n",
      "7              KN   4426\n",
      "8   M-dwarf Flare   1859\n",
      "9            PISN  30000\n",
      "10       RR Lyrae  14033\n",
      "11           SLSN  30000\n",
      "12        SNI91bg  28637\n",
      "13           SNII  30000\n",
      "14           SNIa  30000\n",
      "15          SNIax  28030\n",
      "16         SNIb/c  30000\n",
      "17            TDE  30000\n",
      "18          uLens  17592\n"
     ]
    },
    {
     "name": "stderr",
     "output_type": "stream",
     "text": [
      "2024-06-20 17:31:06.287063: I tensorflow/core/common_runtime/gpu/gpu_device.cc:1926] Created device /job:localhost/replica:0/task:0/device:GPU:0 with 31127 MB memory:  -> device: 0, name: Tesla V100-SXM2-32GB, pci bus id: 0000:16:00.0, compute capability: 7.0\n",
      "2024-06-20 17:31:06.288927: I tensorflow/core/common_runtime/gpu/gpu_device.cc:1926] Created device /job:localhost/replica:0/task:0/device:GPU:1 with 31127 MB memory:  -> device: 1, name: Tesla V100-SXM2-32GB, pci bus id: 0000:3b:00.0, compute capability: 7.0\n"
     ]
    },
    {
     "name": "stdout",
     "output_type": "stream",
     "text": [
      "TS Input Dim: 5 | Static Input Dim: 23 | Output Dim: 26\n",
      "\n",
      "Start of epoch 0:\n",
      "\n"
     ]
    },
    {
     "name": "stderr",
     "output_type": "stream",
     "text": [
      "TS Data Augmentation: 100%|██████████| 388764/388764 [00:32<00:00, 11792.40it/s]\n",
      "Training Model:   0%|          | 0/383 [00:00<?, ?it/s]2024-06-20 17:31:58.044511: W tensorflow/core/common_runtime/type_inference.cc:339] Type inference failed. This indicates an invalid graph that escaped type checking. Error message: INVALID_ARGUMENT: expected compatible input types, but input 1:\n",
      "type_id: TFT_OPTIONAL\n",
      "args {\n",
      "  type_id: TFT_PRODUCT\n",
      "  args {\n",
      "    type_id: TFT_TENSOR\n",
      "    args {\n",
      "      type_id: TFT_INT32\n",
      "    }\n",
      "  }\n",
      "}\n",
      " is neither a subtype nor a supertype of the combined inputs preceding it:\n",
      "type_id: TFT_OPTIONAL\n",
      "args {\n",
      "  type_id: TFT_PRODUCT\n",
      "  args {\n",
      "    type_id: TFT_TENSOR\n",
      "    args {\n",
      "      type_id: TFT_FLOAT\n",
      "    }\n",
      "  }\n",
      "}\n",
      "\n",
      "\tfor Tuple type infernce function 0\n",
      "\twhile inferring type of node 'cond_18/output/_21'\n",
      "2024-06-20 17:31:58.540400: I external/local_xla/xla/stream_executor/cuda/cuda_dnn.cc:467] Loaded cuDNN version 90000\n",
      "2024-06-20 17:31:59.126267: I external/local_xla/xla/service/service.cc:168] XLA service 0x152e98c086a0 initialized for platform CUDA (this does not guarantee that XLA will be used). Devices:\n",
      "2024-06-20 17:31:59.126296: I external/local_xla/xla/service/service.cc:176]   StreamExecutor device (0): Tesla V100-SXM2-32GB, Compute Capability 7.0\n",
      "2024-06-20 17:31:59.126300: I external/local_xla/xla/service/service.cc:176]   StreamExecutor device (1): Tesla V100-SXM2-32GB, Compute Capability 7.0\n",
      "2024-06-20 17:31:59.144600: I tensorflow/compiler/mlir/tensorflow/utils/dump_mlir_util.cc:269] disabling MLIR crash reproducer, set env var `MLIR_CRASH_REPRODUCER_DIRECTORY` to enable.\n",
      "WARNING: All log messages before absl::InitializeLog() is called are written to STDERR\n",
      "I0000 00:00:1718919119.260542   40540 device_compiler.h:186] Compiled cluster using XLA!  This line is logged at most once for the lifetime of the process.\n",
      "Training Model:  99%|█████████▉| 380/383 [00:22<00:00, 16.58it/s]\n",
      "/usr/local/lib/python3.10/dist-packages/keras/src/engine/training.py:3103: UserWarning: You are saving your model as an HDF5 file via `model.save()`. This file format is considered legacy. We recommend using instead the native Keras format, e.g. `model.save('my_model.keras')`.\n",
      "  saving_api.save_model(\n"
     ]
    },
    {
     "name": "stdout",
     "output_type": "stream",
     "text": [
      "Avg training loss: 0.2780\n",
      "Time taken: 64.68s\n",
      "Best model is at epoch 0 Saving\n",
      "==========\n",
      "\n",
      "Start of epoch 1:\n",
      "\n"
     ]
    },
    {
     "name": "stderr",
     "output_type": "stream",
     "text": [
      "TS Data Augmentation: 100%|██████████| 388764/388764 [00:32<00:00, 11912.64it/s]\n",
      "Training Model:  99%|█████████▉| 380/383 [00:22<00:00, 17.08it/s]\n"
     ]
    },
    {
     "name": "stdout",
     "output_type": "stream",
     "text": [
      "Avg training loss: 0.2014\n",
      "Time taken: 64.59s\n",
      "Best model is at epoch 1 Saving\n",
      "==========\n",
      "\n",
      "Start of epoch 2:\n",
      "\n"
     ]
    },
    {
     "name": "stderr",
     "output_type": "stream",
     "text": [
      "TS Data Augmentation: 100%|██████████| 388764/388764 [00:32<00:00, 12134.86it/s]\n",
      "Training Model:  99%|█████████▉| 380/383 [00:28<00:00, 13.36it/s]\n"
     ]
    },
    {
     "name": "stdout",
     "output_type": "stream",
     "text": [
      "Avg training loss: 0.1680\n",
      "Time taken: 70.15s\n",
      "Best model is at epoch 2 Saving\n",
      "==========\n",
      "\n",
      "Start of epoch 3:\n",
      "\n"
     ]
    },
    {
     "name": "stderr",
     "output_type": "stream",
     "text": [
      "TS Data Augmentation: 100%|██████████| 388764/388764 [00:31<00:00, 12220.38it/s]\n",
      "Training Model:  99%|█████████▉| 380/383 [00:25<00:00, 15.18it/s]\n"
     ]
    },
    {
     "name": "stdout",
     "output_type": "stream",
     "text": [
      "Avg training loss: 0.1543\n",
      "Time taken: 66.44s\n",
      "Best model is at epoch 3 Saving\n",
      "==========\n",
      "\n",
      "Start of epoch 4:\n",
      "\n"
     ]
    },
    {
     "name": "stderr",
     "output_type": "stream",
     "text": [
      "TS Data Augmentation: 100%|██████████| 388764/388764 [00:31<00:00, 12423.49it/s]\n",
      "Training Model:  99%|█████████▉| 380/383 [00:13<00:00, 27.54it/s]\n"
     ]
    },
    {
     "name": "stdout",
     "output_type": "stream",
     "text": [
      "Avg training loss: 0.1781\n",
      "Time taken: 53.72s\n",
      "==========\n",
      "\n",
      "Start of epoch 5:\n",
      "\n"
     ]
    },
    {
     "name": "stderr",
     "output_type": "stream",
     "text": [
      "TS Data Augmentation: 100%|██████████| 388764/388764 [00:31<00:00, 12405.96it/s]\n",
      "Training Model:  99%|█████████▉| 380/383 [00:09<00:00, 40.80it/s]\n"
     ]
    },
    {
     "name": "stdout",
     "output_type": "stream",
     "text": [
      "Avg training loss: 0.2191\n",
      "Time taken: 48.65s\n",
      "==========\n",
      "\n",
      "Start of epoch 6:\n",
      "\n"
     ]
    },
    {
     "name": "stderr",
     "output_type": "stream",
     "text": [
      "TS Data Augmentation: 100%|██████████| 388764/388764 [00:31<00:00, 12471.12it/s]\n",
      "Training Model:  99%|█████████▉| 380/383 [00:18<00:00, 20.70it/s]\n"
     ]
    },
    {
     "name": "stdout",
     "output_type": "stream",
     "text": [
      "Avg training loss: 0.1552\n",
      "Time taken: 58.18s\n",
      "==========\n",
      "\n",
      "Start of epoch 7:\n",
      "\n"
     ]
    },
    {
     "name": "stderr",
     "output_type": "stream",
     "text": [
      "TS Data Augmentation: 100%|██████████| 388764/388764 [00:32<00:00, 11983.69it/s]\n",
      "Training Model:  99%|█████████▉| 380/383 [00:17<00:00, 22.29it/s]\n"
     ]
    },
    {
     "name": "stdout",
     "output_type": "stream",
     "text": [
      "Avg training loss: 0.1510\n",
      "Time taken: 58.87s\n",
      "Best model is at epoch 7 Saving\n",
      "==========\n",
      "\n",
      "Start of epoch 8:\n",
      "\n"
     ]
    },
    {
     "name": "stderr",
     "output_type": "stream",
     "text": [
      "TS Data Augmentation: 100%|██████████| 388764/388764 [00:31<00:00, 12235.45it/s]\n",
      "Training Model:  99%|█████████▉| 380/383 [00:20<00:00, 18.52it/s]\n"
     ]
    },
    {
     "name": "stdout",
     "output_type": "stream",
     "text": [
      "Avg training loss: 0.1361\n",
      "Time taken: 61.60s\n",
      "Best model is at epoch 8 Saving\n",
      "==========\n",
      "\n",
      "Start of epoch 9:\n",
      "\n"
     ]
    },
    {
     "name": "stderr",
     "output_type": "stream",
     "text": [
      "TS Data Augmentation: 100%|██████████| 388764/388764 [00:31<00:00, 12176.38it/s]\n",
      "Training Model:  99%|█████████▉| 380/383 [00:24<00:00, 15.22it/s]\n"
     ]
    },
    {
     "name": "stdout",
     "output_type": "stream",
     "text": [
      "Avg training loss: 0.1202\n",
      "Time taken: 66.72s\n",
      "Best model is at epoch 9 Saving\n",
      "==========\n",
      "\n",
      "Start of epoch 10:\n",
      "\n"
     ]
    },
    {
     "name": "stderr",
     "output_type": "stream",
     "text": [
      "TS Data Augmentation: 100%|██████████| 388764/388764 [00:31<00:00, 12275.07it/s]\n",
      "Training Model:  99%|█████████▉| 380/383 [00:19<00:00, 19.01it/s]\n"
     ]
    },
    {
     "name": "stdout",
     "output_type": "stream",
     "text": [
      "Avg training loss: 0.1284\n",
      "Time taken: 61.09s\n",
      "==========\n",
      "\n",
      "Start of epoch 11:\n",
      "\n"
     ]
    },
    {
     "name": "stderr",
     "output_type": "stream",
     "text": [
      "TS Data Augmentation: 100%|██████████| 388764/388764 [00:32<00:00, 12046.33it/s]\n",
      "Training Model:  99%|█████████▉| 380/383 [00:21<00:00, 17.85it/s]\n"
     ]
    },
    {
     "name": "stdout",
     "output_type": "stream",
     "text": [
      "Avg training loss: 0.1210\n",
      "Time taken: 63.32s\n",
      "==========\n",
      "\n",
      "Start of epoch 12:\n",
      "\n"
     ]
    },
    {
     "name": "stderr",
     "output_type": "stream",
     "text": [
      "TS Data Augmentation: 100%|██████████| 388764/388764 [00:31<00:00, 12179.10it/s]\n",
      "Training Model:  99%|█████████▉| 380/383 [00:15<00:00, 24.72it/s]\n"
     ]
    },
    {
     "name": "stdout",
     "output_type": "stream",
     "text": [
      "Avg training loss: 0.1434\n",
      "Time taken: 56.68s\n",
      "==========\n",
      "\n",
      "Start of epoch 13:\n",
      "\n"
     ]
    },
    {
     "name": "stderr",
     "output_type": "stream",
     "text": [
      "TS Data Augmentation: 100%|██████████| 388764/388764 [00:31<00:00, 12422.36it/s]\n",
      "Training Model:  99%|█████████▉| 380/383 [00:14<00:00, 26.27it/s]\n"
     ]
    },
    {
     "name": "stdout",
     "output_type": "stream",
     "text": [
      "Avg training loss: 0.1467\n",
      "Time taken: 54.60s\n",
      "==========\n",
      "\n",
      "Start of epoch 14:\n",
      "\n"
     ]
    },
    {
     "name": "stderr",
     "output_type": "stream",
     "text": [
      "TS Data Augmentation: 100%|██████████| 388764/388764 [00:31<00:00, 12362.79it/s]\n",
      "Training Model:  99%|█████████▉| 380/383 [00:13<00:00, 27.61it/s]\n"
     ]
    },
    {
     "name": "stdout",
     "output_type": "stream",
     "text": [
      "Avg training loss: 0.1496\n",
      "Time taken: 53.67s\n",
      "==========\n",
      "\n",
      "Start of epoch 15:\n",
      "\n"
     ]
    },
    {
     "name": "stderr",
     "output_type": "stream",
     "text": [
      "TS Data Augmentation: 100%|██████████| 388764/388764 [00:31<00:00, 12432.60it/s]\n",
      "Training Model:  99%|█████████▉| 380/383 [00:22<00:00, 16.83it/s]\n"
     ]
    },
    {
     "name": "stdout",
     "output_type": "stream",
     "text": [
      "Avg training loss: 0.1115\n",
      "Time taken: 62.77s\n",
      "Best model is at epoch 15 Saving\n",
      "==========\n",
      "\n",
      "Start of epoch 16:\n",
      "\n"
     ]
    },
    {
     "name": "stderr",
     "output_type": "stream",
     "text": [
      "TS Data Augmentation: 100%|██████████| 388764/388764 [00:31<00:00, 12280.85it/s]\n",
      "Training Model:  99%|█████████▉| 380/383 [00:11<00:00, 33.44it/s]\n"
     ]
    },
    {
     "name": "stdout",
     "output_type": "stream",
     "text": [
      "Avg training loss: 0.1714\n",
      "Time taken: 51.75s\n",
      "==========\n",
      "\n",
      "Start of epoch 17:\n",
      "\n"
     ]
    },
    {
     "name": "stderr",
     "output_type": "stream",
     "text": [
      "TS Data Augmentation: 100%|██████████| 388764/388764 [00:32<00:00, 12106.82it/s]\n",
      "Training Model:  99%|█████████▉| 380/383 [00:26<00:00, 14.61it/s]\n"
     ]
    },
    {
     "name": "stdout",
     "output_type": "stream",
     "text": [
      "Avg training loss: 0.1009\n",
      "Time taken: 67.94s\n",
      "Best model is at epoch 17 Saving\n",
      "==========\n",
      "\n",
      "Start of epoch 18:\n",
      "\n"
     ]
    },
    {
     "name": "stderr",
     "output_type": "stream",
     "text": [
      "TS Data Augmentation: 100%|██████████| 388764/388764 [00:32<00:00, 12102.55it/s]\n",
      "Training Model:  99%|█████████▉| 380/383 [00:22<00:00, 17.21it/s]\n"
     ]
    },
    {
     "name": "stdout",
     "output_type": "stream",
     "text": [
      "Avg training loss: 0.1054\n",
      "Time taken: 63.80s\n",
      "==========\n",
      "\n",
      "Start of epoch 19:\n",
      "\n"
     ]
    },
    {
     "name": "stderr",
     "output_type": "stream",
     "text": [
      "TS Data Augmentation: 100%|██████████| 388764/388764 [00:31<00:00, 12190.34it/s]\n",
      "Training Model:  99%|█████████▉| 380/383 [00:29<00:00, 12.99it/s]\n"
     ]
    },
    {
     "name": "stdout",
     "output_type": "stream",
     "text": [
      "Avg training loss: 0.0882\n",
      "Time taken: 70.92s\n",
      "Best model is at epoch 19 Saving\n",
      "==========\n",
      "\n",
      "Start of epoch 20:\n",
      "\n"
     ]
    },
    {
     "name": "stderr",
     "output_type": "stream",
     "text": [
      "TS Data Augmentation: 100%|██████████| 388764/388764 [00:31<00:00, 12250.01it/s]\n",
      "Training Model:  99%|█████████▉| 380/383 [00:14<00:00, 26.05it/s]\n"
     ]
    },
    {
     "name": "stdout",
     "output_type": "stream",
     "text": [
      "Avg training loss: 0.1368\n",
      "Time taken: 55.40s\n",
      "==========\n",
      "\n",
      "Start of epoch 21:\n",
      "\n"
     ]
    },
    {
     "name": "stderr",
     "output_type": "stream",
     "text": [
      "TS Data Augmentation: 100%|██████████| 388764/388764 [00:32<00:00, 12023.67it/s]\n",
      "Training Model:  99%|█████████▉| 380/383 [00:11<00:00, 33.17it/s]\n"
     ]
    },
    {
     "name": "stdout",
     "output_type": "stream",
     "text": [
      "Avg training loss: 0.1630\n",
      "Time taken: 52.79s\n",
      "==========\n",
      "\n",
      "Start of epoch 22:\n",
      "\n"
     ]
    },
    {
     "name": "stderr",
     "output_type": "stream",
     "text": [
      "TS Data Augmentation: 100%|██████████| 388764/388764 [00:31<00:00, 12306.60it/s]\n",
      "Training Model:  99%|█████████▉| 380/383 [00:26<00:00, 14.38it/s]\n"
     ]
    },
    {
     "name": "stdout",
     "output_type": "stream",
     "text": [
      "Avg training loss: 0.0904\n",
      "Time taken: 67.63s\n",
      "==========\n",
      "\n",
      "Start of epoch 23:\n",
      "\n"
     ]
    },
    {
     "name": "stderr",
     "output_type": "stream",
     "text": [
      "TS Data Augmentation: 100%|██████████| 388764/388764 [00:31<00:00, 12444.83it/s]\n",
      "Training Model:  99%|█████████▉| 380/383 [00:10<00:00, 36.41it/s]\n"
     ]
    },
    {
     "name": "stdout",
     "output_type": "stream",
     "text": [
      "Avg training loss: 0.1751\n",
      "Time taken: 49.98s\n",
      "==========\n",
      "\n",
      "Start of epoch 24:\n",
      "\n"
     ]
    },
    {
     "name": "stderr",
     "output_type": "stream",
     "text": [
      "TS Data Augmentation: 100%|██████████| 388764/388764 [00:32<00:00, 12020.79it/s]\n",
      "Training Model:  99%|█████████▉| 380/383 [00:24<00:00, 15.21it/s]\n"
     ]
    },
    {
     "name": "stdout",
     "output_type": "stream",
     "text": [
      "Avg training loss: 0.0902\n",
      "Time taken: 67.31s\n",
      "==========\n",
      "\n",
      "Start of epoch 25:\n",
      "\n"
     ]
    },
    {
     "name": "stderr",
     "output_type": "stream",
     "text": [
      "TS Data Augmentation: 100%|██████████| 388764/388764 [00:31<00:00, 12200.78it/s]\n",
      "Training Model:  99%|█████████▉| 380/383 [00:15<00:00, 24.44it/s]\n"
     ]
    },
    {
     "name": "stdout",
     "output_type": "stream",
     "text": [
      "Avg training loss: 0.1233\n",
      "Time taken: 56.60s\n",
      "==========\n",
      "\n",
      "Start of epoch 26:\n",
      "\n"
     ]
    },
    {
     "name": "stderr",
     "output_type": "stream",
     "text": [
      "TS Data Augmentation: 100%|██████████| 388764/388764 [00:31<00:00, 12407.48it/s]\n",
      "Training Model:  99%|█████████▉| 380/383 [00:19<00:00, 19.57it/s]\n"
     ]
    },
    {
     "name": "stdout",
     "output_type": "stream",
     "text": [
      "Avg training loss: 0.1028\n",
      "Time taken: 59.53s\n",
      "==========\n",
      "\n",
      "Start of epoch 27:\n",
      "\n"
     ]
    },
    {
     "name": "stderr",
     "output_type": "stream",
     "text": [
      "TS Data Augmentation: 100%|██████████| 388764/388764 [00:30<00:00, 12553.46it/s]\n",
      "Training Model:  99%|█████████▉| 380/383 [00:16<00:00, 23.36it/s]\n"
     ]
    },
    {
     "name": "stdout",
     "output_type": "stream",
     "text": [
      "Avg training loss: 0.1155\n",
      "Time taken: 55.71s\n",
      "==========\n",
      "\n",
      "Start of epoch 28:\n",
      "\n"
     ]
    },
    {
     "name": "stderr",
     "output_type": "stream",
     "text": [
      "TS Data Augmentation: 100%|██████████| 388764/388764 [00:31<00:00, 12398.39it/s]\n",
      "Training Model:  99%|█████████▉| 380/383 [00:20<00:00, 18.95it/s]\n"
     ]
    },
    {
     "name": "stdout",
     "output_type": "stream",
     "text": [
      "Avg training loss: 0.0977\n",
      "Time taken: 60.17s\n",
      "==========\n",
      "\n",
      "Start of epoch 29:\n",
      "\n"
     ]
    },
    {
     "name": "stderr",
     "output_type": "stream",
     "text": [
      "TS Data Augmentation: 100%|██████████| 388764/388764 [00:32<00:00, 12041.92it/s]\n",
      "Training Model:  99%|█████████▉| 380/383 [00:30<00:00, 12.54it/s]\n"
     ]
    },
    {
     "name": "stdout",
     "output_type": "stream",
     "text": [
      "Avg training loss: 0.0707\n",
      "Time taken: 72.56s\n",
      "Best model is at epoch 29 Saving\n",
      "==========\n",
      "\n",
      "Start of epoch 30:\n",
      "\n"
     ]
    },
    {
     "name": "stderr",
     "output_type": "stream",
     "text": [
      "TS Data Augmentation: 100%|██████████| 388764/388764 [00:31<00:00, 12151.00it/s]\n",
      "Training Model:  99%|█████████▉| 380/383 [00:11<00:00, 33.48it/s]\n"
     ]
    },
    {
     "name": "stdout",
     "output_type": "stream",
     "text": [
      "Avg training loss: 0.1555\n",
      "Time taken: 52.07s\n",
      "==========\n",
      "\n",
      "Start of epoch 31:\n",
      "\n"
     ]
    },
    {
     "name": "stderr",
     "output_type": "stream",
     "text": [
      "TS Data Augmentation: 100%|██████████| 388764/388764 [00:30<00:00, 12619.01it/s]\n",
      "Training Model:  99%|█████████▉| 380/383 [00:26<00:00, 14.57it/s]\n"
     ]
    },
    {
     "name": "stdout",
     "output_type": "stream",
     "text": [
      "Avg training loss: 0.0794\n",
      "Time taken: 65.76s\n",
      "==========\n",
      "\n",
      "Start of epoch 32:\n",
      "\n"
     ]
    },
    {
     "name": "stderr",
     "output_type": "stream",
     "text": [
      "TS Data Augmentation: 100%|██████████| 388764/388764 [00:31<00:00, 12414.21it/s]\n",
      "Training Model:  99%|█████████▉| 380/383 [00:09<00:00, 39.87it/s]\n"
     ]
    },
    {
     "name": "stdout",
     "output_type": "stream",
     "text": [
      "Avg training loss: 0.1838\n",
      "Time taken: 48.67s\n",
      "==========\n",
      "\n",
      "Start of epoch 33:\n",
      "\n"
     ]
    },
    {
     "name": "stderr",
     "output_type": "stream",
     "text": [
      "Training Model:  99%|█████████▉| 380/383 [00:09<00:00, 40.99it/s], 12513.12it/s]\n"
     ]
    },
    {
     "name": "stdout",
     "output_type": "stream",
     "text": [
      "Avg training loss: 0.1915\n",
      "Time taken: 50.48s\n",
      "==========\n",
      "\n",
      "Start of epoch 35:\n",
      "\n"
     ]
    },
    {
     "name": "stderr",
     "output_type": "stream",
     "text": [
      "TS Data Augmentation: 100%|██████████| 388764/388764 [00:32<00:00, 12107.95it/s]\n",
      "Training Model:  99%|█████████▉| 380/383 [00:09<00:00, 42.08it/s]\n"
     ]
    },
    {
     "name": "stdout",
     "output_type": "stream",
     "text": [
      "Avg training loss: 0.1987\n",
      "Time taken: 49.75s\n",
      "==========\n",
      "\n",
      "Start of epoch 36:\n",
      "\n"
     ]
    },
    {
     "name": "stderr",
     "output_type": "stream",
     "text": [
      "TS Data Augmentation: 100%|██████████| 388764/388764 [00:31<00:00, 12414.38it/s]\n",
      "Training Model:  99%|█████████▉| 380/383 [00:23<00:00, 16.22it/s]\n"
     ]
    },
    {
     "name": "stdout",
     "output_type": "stream",
     "text": [
      "Avg training loss: 0.0828\n",
      "Time taken: 63.81s\n",
      "==========\n",
      "\n",
      "Start of epoch 37:\n",
      "\n"
     ]
    },
    {
     "name": "stderr",
     "output_type": "stream",
     "text": [
      "TS Data Augmentation: 100%|██████████| 388764/388764 [00:31<00:00, 12419.78it/s]\n",
      "Training Model:  99%|█████████▉| 380/383 [00:25<00:00, 14.77it/s]\n"
     ]
    },
    {
     "name": "stdout",
     "output_type": "stream",
     "text": [
      "Avg training loss: 0.0737\n",
      "Time taken: 66.79s\n",
      "==========\n",
      "\n",
      "Start of epoch 38:\n",
      "\n"
     ]
    },
    {
     "name": "stderr",
     "output_type": "stream",
     "text": [
      "TS Data Augmentation: 100%|██████████| 388764/388764 [00:31<00:00, 12457.83it/s]\n",
      "Training Model:  99%|█████████▉| 380/383 [00:09<00:00, 41.03it/s]\n"
     ]
    },
    {
     "name": "stdout",
     "output_type": "stream",
     "text": [
      "Avg training loss: 0.1900\n",
      "Time taken: 48.60s\n",
      "==========\n",
      "\n",
      "Start of epoch 39:\n",
      "\n"
     ]
    },
    {
     "name": "stderr",
     "output_type": "stream",
     "text": [
      "TS Data Augmentation: 100%|██████████| 388764/388764 [00:32<00:00, 11998.70it/s]\n",
      "Training Model:  99%|█████████▉| 380/383 [00:18<00:00, 20.62it/s]\n"
     ]
    },
    {
     "name": "stdout",
     "output_type": "stream",
     "text": [
      "Avg training loss: 0.0972\n",
      "Time taken: 60.58s\n",
      "==========\n",
      "\n",
      "Start of epoch 40:\n",
      "\n"
     ]
    },
    {
     "name": "stderr",
     "output_type": "stream",
     "text": [
      "TS Data Augmentation: 100%|██████████| 388764/388764 [00:31<00:00, 12211.71it/s]\n",
      "Training Model:  99%|█████████▉| 380/383 [00:19<00:00, 19.29it/s]\n"
     ]
    },
    {
     "name": "stdout",
     "output_type": "stream",
     "text": [
      "Avg training loss: 0.0897\n",
      "Time taken: 61.03s\n",
      "==========\n",
      "\n",
      "Start of epoch 41:\n",
      "\n"
     ]
    },
    {
     "name": "stderr",
     "output_type": "stream",
     "text": [
      "TS Data Augmentation:  78%|███████▊  | 303702/388764 [00:24<00:06, 12265.44it/s]IOPub message rate exceeded.\n",
      "The Jupyter server will temporarily stop sending output\n",
      "to the client in order to avoid crashing it.\n",
      "To change this limit, set the config variable\n",
      "`--ServerApp.iopub_msg_rate_limit`.\n",
      "\n",
      "Current values:\n",
      "ServerApp.iopub_msg_rate_limit=1000.0 (msgs/sec)\n",
      "ServerApp.rate_limit_window=3.0 (secs)\n",
      "\n",
      "TS Data Augmentation: 100%|██████████| 388764/388764 [00:32<00:00, 12092.57it/s]\n",
      "Training Model:  99%|█████████▉| 380/383 [00:24<00:00, 15.49it/s]\n"
     ]
    },
    {
     "name": "stdout",
     "output_type": "stream",
     "text": [
      "Avg training loss: 0.0701\n",
      "Time taken: 66.44s\n",
      "Best model is at epoch 46 Saving\n",
      "==========\n",
      "\n",
      "Start of epoch 47:\n",
      "\n"
     ]
    },
    {
     "name": "stderr",
     "output_type": "stream",
     "text": [
      "TS Data Augmentation: 100%|██████████| 388764/388764 [00:31<00:00, 12285.37it/s]\n",
      "Training Model:  99%|█████████▉| 380/383 [00:15<00:00, 24.44it/s]\n"
     ]
    },
    {
     "name": "stdout",
     "output_type": "stream",
     "text": [
      "Avg training loss: nan\n",
      "Time taken: 56.37s\n",
      "Best model is at epoch 47 Saving\n",
      "==========\n",
      "\n",
      "Start of epoch 48:\n",
      "\n"
     ]
    },
    {
     "name": "stderr",
     "output_type": "stream",
     "text": [
      "TS Data Augmentation: 100%|██████████| 388764/388764 [00:32<00:00, 12092.03it/s]\n",
      "Training Model:  99%|█████████▉| 380/383 [00:25<00:00, 15.10it/s]\n"
     ]
    },
    {
     "name": "stdout",
     "output_type": "stream",
     "text": [
      "Avg training loss: nan\n",
      "Time taken: 67.17s\n",
      "==========\n",
      "\n",
      "Start of epoch 49:\n",
      "\n"
     ]
    },
    {
     "name": "stderr",
     "output_type": "stream",
     "text": [
      "TS Data Augmentation: 100%|██████████| 388764/388764 [00:31<00:00, 12426.39it/s]\n",
      "Training Model:  99%|█████████▉| 380/383 [00:09<00:00, 41.46it/s]\n"
     ]
    },
    {
     "name": "stdout",
     "output_type": "stream",
     "text": [
      "Avg training loss: nan\n",
      "Time taken: 48.59s\n",
      "==========\n",
      "Running inference for validation...\n"
     ]
    },
    {
     "name": "stderr",
     "output_type": "stream",
     "text": [
      "TS Data Augmentation: 100%|██████████| 3927/3927 [00:00<00:00, 11302.00it/s]\n"
     ]
    },
    {
     "name": "stdout",
     "output_type": "stream",
     "text": [
      "123/123 [==============================] - 3s 6ms/step\n"
     ]
    }
   ],
   "source": [
    "alpha=0.5\n",
    "model_dir=Path(f\"models/lsst_alpha_{alpha}\")\n",
    "\n",
    "train_model(num_epochs=num_epochs,\n",
    "            batch_size=batch_size,\n",
    "            learning_rate=learning_rate, \n",
    "            latent_size=latent_size, \n",
    "            alpha=alpha, \n",
    "            max_class_count=max_class_count, \n",
    "            train_dir=train_dir, \n",
    "            model_dir=model_dir)"
   ]
  },
  {
   "cell_type": "code",
   "execution_count": null,
   "id": "86c72bb8-e7cc-4f87-8338-f99cc6c9223c",
   "metadata": {},
   "outputs": [],
   "source": [
    "alpha=0.75\n",
    "model_dir=Path(f\"models/lsst_alpha_{alpha}\")\n",
    "\n",
    "train_model(num_epochs=num_epochs,\n",
    "            batch_size=batch_size,\n",
    "            learning_rate=learning_rate, \n",
    "            latent_size=latent_size, \n",
    "            alpha=alpha, \n",
    "            max_class_count=max_class_count, \n",
    "            train_dir=train_dir, \n",
    "            model_dir=model_dir)"
   ]
  }
 ],
 "metadata": {
  "kernelspec": {
   "display_name": "NGC TensorFlow",
   "language": "python",
   "name": "tensorflow"
  },
  "language_info": {
   "codemirror_mode": {
    "name": "ipython",
    "version": 3
   },
   "file_extension": ".py",
   "mimetype": "text/x-python",
   "name": "python",
   "nbconvert_exporter": "python",
   "pygments_lexer": "ipython3",
   "version": "3.10.12"
  }
 },
 "nbformat": 4,
 "nbformat_minor": 5
}
