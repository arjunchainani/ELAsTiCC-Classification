{
 "cells": [
  {
   "cell_type": "markdown",
   "id": "2ef94b41-958d-49c7-8540-8946fb201a79",
   "metadata": {},
   "source": [
    "# Train different RNN models"
   ]
  },
  {
   "cell_type": "code",
   "execution_count": 1,
   "id": "b3beb889-dd3e-4f22-b4e6-5b31c55dbef9",
   "metadata": {},
   "outputs": [
    {
     "name": "stderr",
     "output_type": "stream",
     "text": [
      "2024-06-28 15:22:30.867091: I tensorflow/core/util/port.cc:113] oneDNN custom operations are on. You may see slightly different numerical results due to floating-point round-off errors from different computation orders. To turn them off, set the environment variable `TF_ENABLE_ONEDNN_OPTS=0`.\n",
      "2024-06-28 15:22:34.571442: E external/local_xla/xla/stream_executor/cuda/cuda_dnn.cc:9373] Unable to register cuDNN factory: Attempting to register factory for plugin cuDNN when one has already been registered\n",
      "2024-06-28 15:22:34.573127: E external/local_xla/xla/stream_executor/cuda/cuda_fft.cc:607] Unable to register cuFFT factory: Attempting to register factory for plugin cuFFT when one has already been registered\n",
      "2024-06-28 15:22:34.767286: E external/local_xla/xla/stream_executor/cuda/cuda_blas.cc:1534] Unable to register cuBLAS factory: Attempting to register factory for plugin cuBLAS when one has already been registered\n",
      "2024-06-28 15:22:35.134518: I tensorflow/core/platform/cpu_feature_guard.cc:183] This TensorFlow binary is optimized to use available CPU instructions in performance-critical operations.\n",
      "To enable the following instructions: SSE3 SSE4.1 SSE4.2 AVX, in other operations, rebuild TensorFlow with the appropriate compiler flags.\n"
     ]
    }
   ],
   "source": [
    "from pathlib import Path\n",
    "\n",
    "from train_RNN import train_model\n",
    "from train_ensemble import train_ensemble_model"
   ]
  },
  {
   "cell_type": "code",
   "execution_count": 2,
   "id": "ec39c601-78c5-40ab-a6b0-503fb3714b68",
   "metadata": {},
   "outputs": [],
   "source": [
    "num_epochs=100\n",
    "batch_size=1024\n",
    "latent_size=64\n",
    "max_class_count=30000 \n",
    "train_dir=Path(\"processed/train\")"
   ]
  },
  {
   "cell_type": "markdown",
   "id": "3aa48704-231e-4563-a887-7da0b2bec19d",
   "metadata": {},
   "source": [
    "## Train the base models:"
   ]
  },
  {
   "cell_type": "markdown",
   "id": "d48076c1-8b50-4307-bfbb-fc685e7cfc6b",
   "metadata": {},
   "source": [
    "Restart kernel and re run the cells above before training each model"
   ]
  },
  {
   "cell_type": "code",
   "execution_count": 3,
   "id": "b7a90ba3-edec-41ef-9b8d-416c2b32cdc3",
   "metadata": {
    "collapsed": true,
    "jupyter": {
     "outputs_hidden": true
    },
    "tags": []
   },
   "outputs": [
    {
     "name": "stdout",
     "output_type": "stream",
     "text": [
      "Loading training data from disc...\n",
      "Summary of all training data\n",
      "Total sample count = 1081614\n",
      "            Class   Count\n",
      "0             AGN   76258\n",
      "1            CART    8207\n",
      "2         Cepheid   13771\n",
      "3     Delta Scuti   20650\n",
      "4     Dwarf Novae    8025\n",
      "5              EB   66454\n",
      "6            ILOT    7461\n",
      "7              KN    4426\n",
      "8   M-dwarf Flare    1859\n",
      "9            PISN   63586\n",
      "10       RR Lyrae   14033\n",
      "11           SLSN   66088\n",
      "12        SNI91bg   28637\n",
      "13           SNII  301544\n",
      "14           SNIa  120739\n",
      "15          SNIax   28030\n",
      "16         SNIb/c  168254\n",
      "17            TDE   66000\n",
      "18          uLens   17592\n"
     ]
    },
    {
     "name": "stderr",
     "output_type": "stream",
     "text": [
      "Converting dictionaries to arrays: 100%|██████████| 1081614/1081614 [00:06<00:00, 163217.96it/s]\n"
     ]
    },
    {
     "name": "stdout",
     "output_type": "stream",
     "text": [
      "Summary of training data used\n",
      "            Class  Count\n",
      "0             AGN  30000\n",
      "1            CART   8207\n",
      "2         Cepheid  13771\n",
      "3     Delta Scuti  20650\n",
      "4     Dwarf Novae   8025\n",
      "5              EB  30000\n",
      "6            ILOT   7461\n",
      "7              KN   4426\n",
      "8   M-dwarf Flare   1859\n",
      "9            PISN  30000\n",
      "10       RR Lyrae  14033\n",
      "11           SLSN  30000\n",
      "12        SNI91bg  28637\n",
      "13           SNII  30000\n",
      "14           SNIa  30000\n",
      "15          SNIax  28030\n",
      "16         SNIb/c  30000\n",
      "17            TDE  30000\n",
      "18          uLens  17592\n"
     ]
    },
    {
     "name": "stderr",
     "output_type": "stream",
     "text": [
      "2024-06-27 09:53:21.311942: I tensorflow/core/common_runtime/gpu/gpu_device.cc:1926] Created device /job:localhost/replica:0/task:0/device:GPU:0 with 31127 MB memory:  -> device: 0, name: Tesla V100-SXM2-32GB, pci bus id: 0000:15:00.0, compute capability: 7.0\n",
      "2024-06-27 09:53:21.313727: I tensorflow/core/common_runtime/gpu/gpu_device.cc:1926] Created device /job:localhost/replica:0/task:0/device:GPU:1 with 31127 MB memory:  -> device: 1, name: Tesla V100-SXM2-32GB, pci bus id: 0000:16:00.0, compute capability: 7.0\n"
     ]
    },
    {
     "name": "stdout",
     "output_type": "stream",
     "text": [
      "TS Input Dim: 5 | Static Input Dim: 23 | Output Dim: 26\n",
      "\n",
      "Start of epoch 0:\n",
      "\n"
     ]
    },
    {
     "name": "stderr",
     "output_type": "stream",
     "text": [
      "TS Data Augmentation: 100%|██████████| 373056/373056 [00:30<00:00, 12137.58it/s]\n",
      "Training Model:   0%|          | 0/365 [00:00<?, ?it/s]2024-06-27 09:54:11.798586: W tensorflow/core/common_runtime/type_inference.cc:339] Type inference failed. This indicates an invalid graph that escaped type checking. Error message: INVALID_ARGUMENT: expected compatible input types, but input 1:\n",
      "type_id: TFT_OPTIONAL\n",
      "args {\n",
      "  type_id: TFT_PRODUCT\n",
      "  args {\n",
      "    type_id: TFT_TENSOR\n",
      "    args {\n",
      "      type_id: TFT_INT32\n",
      "    }\n",
      "  }\n",
      "}\n",
      " is neither a subtype nor a supertype of the combined inputs preceding it:\n",
      "type_id: TFT_OPTIONAL\n",
      "args {\n",
      "  type_id: TFT_PRODUCT\n",
      "  args {\n",
      "    type_id: TFT_TENSOR\n",
      "    args {\n",
      "      type_id: TFT_FLOAT\n",
      "    }\n",
      "  }\n",
      "}\n",
      "\n",
      "\tfor Tuple type infernce function 0\n",
      "\twhile inferring type of node 'cond_18/output/_21'\n",
      "2024-06-27 09:54:12.391961: I external/local_xla/xla/stream_executor/cuda/cuda_dnn.cc:467] Loaded cuDNN version 90000\n",
      "2024-06-27 09:54:13.650558: I external/local_xla/xla/service/service.cc:168] XLA service 0x14c2d6f5f4d0 initialized for platform CUDA (this does not guarantee that XLA will be used). Devices:\n",
      "2024-06-27 09:54:13.650583: I external/local_xla/xla/service/service.cc:176]   StreamExecutor device (0): Tesla V100-SXM2-32GB, Compute Capability 7.0\n",
      "2024-06-27 09:54:13.650587: I external/local_xla/xla/service/service.cc:176]   StreamExecutor device (1): Tesla V100-SXM2-32GB, Compute Capability 7.0\n",
      "2024-06-27 09:54:13.668815: I tensorflow/compiler/mlir/tensorflow/utils/dump_mlir_util.cc:269] disabling MLIR crash reproducer, set env var `MLIR_CRASH_REPRODUCER_DIRECTORY` to enable.\n",
      "WARNING: All log messages before absl::InitializeLog() is called are written to STDERR\n",
      "I0000 00:00:1719496453.787873   54470 device_compiler.h:186] Compiled cluster using XLA!  This line is logged at most once for the lifetime of the process.\n",
      "Training Model: 100%|██████████| 365/365 [00:24<00:00, 14.64it/s]\n",
      "/usr/local/lib/python3.10/dist-packages/keras/src/engine/training.py:3103: UserWarning: You are saving your model as an HDF5 file via `model.save()`. This file format is considered legacy. We recommend using instead the native Keras format, e.g. `model.save('my_model.keras')`.\n",
      "  saving_api.save_model(\n"
     ]
    },
    {
     "name": "stdout",
     "output_type": "stream",
     "text": [
      "Avg training loss: 1.0337\n",
      "Time taken: 64.55s\n",
      "Best model is at epoch 0 Saving\n",
      "==========\n",
      "\n",
      "Start of epoch 1:\n",
      "\n"
     ]
    },
    {
     "name": "stderr",
     "output_type": "stream",
     "text": [
      "TS Data Augmentation: 100%|██████████| 373056/373056 [00:28<00:00, 13177.17it/s]\n",
      "Training Model: 100%|██████████| 365/365 [00:11<00:00, 30.44it/s]\n"
     ]
    },
    {
     "name": "stdout",
     "output_type": "stream",
     "text": [
      "Avg training loss: 0.8771\n",
      "Time taken: 47.92s\n",
      "Best model is at epoch 1 Saving\n",
      "==========\n",
      "\n",
      "Start of epoch 2:\n",
      "\n"
     ]
    },
    {
     "name": "stderr",
     "output_type": "stream",
     "text": [
      "TS Data Augmentation: 100%|██████████| 373056/373056 [00:28<00:00, 13064.07it/s]\n",
      "Training Model: 100%|██████████| 365/365 [00:20<00:00, 17.50it/s]\n"
     ]
    },
    {
     "name": "stdout",
     "output_type": "stream",
     "text": [
      "Avg training loss: 0.7913\n",
      "Time taken: 57.96s\n",
      "Best model is at epoch 2 Saving\n",
      "==========\n",
      "\n",
      "Start of epoch 3:\n",
      "\n"
     ]
    },
    {
     "name": "stderr",
     "output_type": "stream",
     "text": [
      "TS Data Augmentation: 100%|██████████| 373056/373056 [00:27<00:00, 13797.64it/s]\n",
      "Training Model: 100%|██████████| 365/365 [00:14<00:00, 25.28it/s]\n"
     ]
    },
    {
     "name": "stdout",
     "output_type": "stream",
     "text": [
      "Avg training loss: 0.7666\n",
      "Time taken: 49.42s\n",
      "Best model is at epoch 3 Saving\n",
      "==========\n",
      "\n",
      "Start of epoch 4:\n",
      "\n"
     ]
    },
    {
     "name": "stderr",
     "output_type": "stream",
     "text": [
      "TS Data Augmentation: 100%|██████████| 373056/373056 [00:28<00:00, 13051.17it/s]\n",
      "Training Model: 100%|██████████| 365/365 [00:14<00:00, 24.69it/s]\n"
     ]
    },
    {
     "name": "stdout",
     "output_type": "stream",
     "text": [
      "Avg training loss: 0.7151\n",
      "Time taken: 51.04s\n",
      "Best model is at epoch 4 Saving\n",
      "==========\n",
      "\n",
      "Start of epoch 5:\n",
      "\n"
     ]
    },
    {
     "name": "stderr",
     "output_type": "stream",
     "text": [
      "TS Data Augmentation: 100%|██████████| 373056/373056 [00:27<00:00, 13387.39it/s]\n",
      "Training Model: 100%|██████████| 365/365 [00:27<00:00, 13.15it/s]\n"
     ]
    },
    {
     "name": "stdout",
     "output_type": "stream",
     "text": [
      "Avg training loss: 0.5816\n",
      "Time taken: 64.75s\n",
      "Best model is at epoch 5 Saving\n",
      "==========\n",
      "\n",
      "Start of epoch 6:\n",
      "\n"
     ]
    },
    {
     "name": "stderr",
     "output_type": "stream",
     "text": [
      "TS Data Augmentation: 100%|██████████| 373056/373056 [00:27<00:00, 13591.71it/s]\n",
      "Training Model: 100%|██████████| 365/365 [00:23<00:00, 15.29it/s]\n"
     ]
    },
    {
     "name": "stdout",
     "output_type": "stream",
     "text": [
      "Avg training loss: 0.5566\n",
      "Time taken: 59.71s\n",
      "Best model is at epoch 6 Saving\n",
      "==========\n",
      "\n",
      "Start of epoch 7:\n",
      "\n"
     ]
    },
    {
     "name": "stderr",
     "output_type": "stream",
     "text": [
      "TS Data Augmentation: 100%|██████████| 373056/373056 [00:28<00:00, 13098.53it/s]\n",
      "Training Model: 100%|██████████| 365/365 [00:08<00:00, 41.40it/s]\n"
     ]
    },
    {
     "name": "stdout",
     "output_type": "stream",
     "text": [
      "Avg training loss: 0.8591\n",
      "Time taken: 44.62s\n",
      "==========\n",
      "\n",
      "Start of epoch 8:\n",
      "\n"
     ]
    },
    {
     "name": "stderr",
     "output_type": "stream",
     "text": [
      "TS Data Augmentation: 100%|██████████| 373056/373056 [00:28<00:00, 13172.74it/s]\n",
      "Training Model: 100%|██████████| 365/365 [00:23<00:00, 15.25it/s]\n"
     ]
    },
    {
     "name": "stdout",
     "output_type": "stream",
     "text": [
      "Avg training loss: 0.5364\n",
      "Time taken: 60.85s\n",
      "Best model is at epoch 8 Saving\n",
      "==========\n",
      "\n",
      "Start of epoch 9:\n",
      "\n"
     ]
    },
    {
     "name": "stderr",
     "output_type": "stream",
     "text": [
      "TS Data Augmentation: 100%|██████████| 373056/373056 [00:27<00:00, 13773.71it/s]\n",
      "Training Model: 100%|██████████| 365/365 [00:23<00:00, 15.54it/s]\n"
     ]
    },
    {
     "name": "stdout",
     "output_type": "stream",
     "text": [
      "Avg training loss: 0.5096\n",
      "Time taken: 58.85s\n",
      "Best model is at epoch 9 Saving\n",
      "==========\n",
      "\n",
      "Start of epoch 10:\n",
      "\n"
     ]
    },
    {
     "name": "stderr",
     "output_type": "stream",
     "text": [
      "TS Data Augmentation: 100%|██████████| 373056/373056 [00:28<00:00, 13039.28it/s]\n",
      "Training Model: 100%|██████████| 365/365 [00:08<00:00, 40.74it/s]\n"
     ]
    },
    {
     "name": "stdout",
     "output_type": "stream",
     "text": [
      "Avg training loss: 0.8232\n",
      "Time taken: 44.88s\n",
      "==========\n",
      "\n",
      "Start of epoch 11:\n",
      "\n"
     ]
    },
    {
     "name": "stderr",
     "output_type": "stream",
     "text": [
      "TS Data Augmentation: 100%|██████████| 373056/373056 [00:27<00:00, 13647.24it/s]\n",
      "Training Model: 100%|██████████| 365/365 [00:17<00:00, 20.45it/s]\n"
     ]
    },
    {
     "name": "stdout",
     "output_type": "stream",
     "text": [
      "Avg training loss: 0.5600\n",
      "Time taken: 53.76s\n",
      "==========\n",
      "\n",
      "Start of epoch 12:\n",
      "\n"
     ]
    },
    {
     "name": "stderr",
     "output_type": "stream",
     "text": [
      "TS Data Augmentation: 100%|██████████| 373056/373056 [00:27<00:00, 13452.79it/s]\n",
      "Training Model: 100%|██████████| 365/365 [00:15<00:00, 24.26it/s]\n"
     ]
    },
    {
     "name": "stdout",
     "output_type": "stream",
     "text": [
      "Avg training loss: 0.5900\n",
      "Time taken: 50.56s\n",
      "==========\n",
      "\n",
      "Start of epoch 13:\n",
      "\n"
     ]
    },
    {
     "name": "stderr",
     "output_type": "stream",
     "text": [
      "TS Data Augmentation: 100%|██████████| 373056/373056 [00:28<00:00, 13145.89it/s]\n",
      "Training Model: 100%|██████████| 365/365 [00:13<00:00, 27.24it/s]\n"
     ]
    },
    {
     "name": "stdout",
     "output_type": "stream",
     "text": [
      "Avg training loss: 0.6166\n",
      "Time taken: 49.83s\n",
      "==========\n",
      "\n",
      "Start of epoch 14:\n",
      "\n"
     ]
    },
    {
     "name": "stderr",
     "output_type": "stream",
     "text": [
      "TS Data Augmentation: 100%|██████████| 373056/373056 [00:27<00:00, 13544.42it/s]\n",
      "Training Model: 100%|██████████| 365/365 [00:14<00:00, 25.80it/s]\n"
     ]
    },
    {
     "name": "stdout",
     "output_type": "stream",
     "text": [
      "Avg training loss: 0.5884\n",
      "Time taken: 49.99s\n",
      "==========\n",
      "\n",
      "Start of epoch 15:\n",
      "\n"
     ]
    },
    {
     "name": "stderr",
     "output_type": "stream",
     "text": [
      "TS Data Augmentation: 100%|██████████| 373056/373056 [00:27<00:00, 13429.03it/s]\n",
      "Training Model: 100%|██████████| 365/365 [00:15<00:00, 24.24it/s]\n"
     ]
    },
    {
     "name": "stdout",
     "output_type": "stream",
     "text": [
      "Avg training loss: 0.5595\n",
      "Time taken: 50.58s\n",
      "==========\n",
      "\n",
      "Start of epoch 16:\n",
      "\n"
     ]
    },
    {
     "name": "stderr",
     "output_type": "stream",
     "text": [
      "TS Data Augmentation: 100%|██████████| 373056/373056 [00:28<00:00, 13219.68it/s]\n",
      "Training Model: 100%|██████████| 365/365 [00:23<00:00, 15.74it/s]\n"
     ]
    },
    {
     "name": "stdout",
     "output_type": "stream",
     "text": [
      "Avg training loss: 0.4439\n",
      "Time taken: 59.95s\n",
      "Best model is at epoch 16 Saving\n",
      "==========\n",
      "\n",
      "Start of epoch 17:\n",
      "\n"
     ]
    },
    {
     "name": "stderr",
     "output_type": "stream",
     "text": [
      "TS Data Augmentation: 100%|██████████| 373056/373056 [00:26<00:00, 13929.75it/s]\n",
      "Training Model: 100%|██████████| 365/365 [00:18<00:00, 20.03it/s]\n"
     ]
    },
    {
     "name": "stdout",
     "output_type": "stream",
     "text": [
      "Avg training loss: 0.4883\n",
      "Time taken: 53.08s\n",
      "==========\n",
      "\n",
      "Start of epoch 18:\n",
      "\n"
     ]
    },
    {
     "name": "stderr",
     "output_type": "stream",
     "text": [
      "TS Data Augmentation: 100%|██████████| 373056/373056 [00:28<00:00, 13090.62it/s]\n",
      "Training Model: 100%|██████████| 365/365 [00:16<00:00, 21.72it/s]\n"
     ]
    },
    {
     "name": "stdout",
     "output_type": "stream",
     "text": [
      "Avg training loss: 0.5033\n",
      "Time taken: 53.30s\n",
      "==========\n",
      "\n",
      "Start of epoch 19:\n",
      "\n"
     ]
    },
    {
     "name": "stderr",
     "output_type": "stream",
     "text": [
      "TS Data Augmentation: 100%|██████████| 373056/373056 [00:26<00:00, 13860.09it/s]\n",
      "Training Model: 100%|██████████| 365/365 [00:22<00:00, 16.27it/s]\n"
     ]
    },
    {
     "name": "stdout",
     "output_type": "stream",
     "text": [
      "Avg training loss: 0.4211\n",
      "Time taken: 57.54s\n",
      "Best model is at epoch 19 Saving\n",
      "==========\n",
      "\n",
      "Start of epoch 20:\n",
      "\n"
     ]
    },
    {
     "name": "stderr",
     "output_type": "stream",
     "text": [
      "TS Data Augmentation: 100%|██████████| 373056/373056 [00:28<00:00, 13067.76it/s]\n",
      "Training Model: 100%|██████████| 365/365 [00:25<00:00, 14.08it/s]\n"
     ]
    },
    {
     "name": "stdout",
     "output_type": "stream",
     "text": [
      "Avg training loss: 0.3772\n",
      "Time taken: 62.69s\n",
      "Best model is at epoch 20 Saving\n",
      "==========\n",
      "\n",
      "Start of epoch 21:\n",
      "\n"
     ]
    },
    {
     "name": "stderr",
     "output_type": "stream",
     "text": [
      "TS Data Augmentation: 100%|██████████| 373056/373056 [00:27<00:00, 13698.06it/s]\n",
      "Training Model: 100%|██████████| 365/365 [00:23<00:00, 15.47it/s]\n"
     ]
    },
    {
     "name": "stdout",
     "output_type": "stream",
     "text": [
      "Avg training loss: 0.3903\n",
      "Time taken: 59.46s\n",
      "==========\n",
      "\n",
      "Start of epoch 22:\n",
      "\n"
     ]
    },
    {
     "name": "stderr",
     "output_type": "stream",
     "text": [
      "TS Data Augmentation: 100%|██████████| 373056/373056 [00:27<00:00, 13488.49it/s]\n",
      "Training Model: 100%|██████████| 365/365 [00:26<00:00, 14.02it/s]\n"
     ]
    },
    {
     "name": "stdout",
     "output_type": "stream",
     "text": [
      "Avg training loss: 0.3600\n",
      "Time taken: 61.79s\n",
      "Best model is at epoch 22 Saving\n",
      "==========\n",
      "\n",
      "Start of epoch 23:\n",
      "\n"
     ]
    },
    {
     "name": "stderr",
     "output_type": "stream",
     "text": [
      "TS Data Augmentation: 100%|██████████| 373056/373056 [00:28<00:00, 13125.09it/s]\n",
      "Training Model: 100%|██████████| 365/365 [00:11<00:00, 31.16it/s]\n"
     ]
    },
    {
     "name": "stdout",
     "output_type": "stream",
     "text": [
      "Avg training loss: 0.6266\n",
      "Time taken: 48.17s\n",
      "==========\n",
      "\n",
      "Start of epoch 24:\n",
      "\n"
     ]
    },
    {
     "name": "stderr",
     "output_type": "stream",
     "text": [
      "TS Data Augmentation: 100%|██████████| 373056/373056 [00:27<00:00, 13716.97it/s]\n",
      "Training Model: 100%|██████████| 365/365 [00:20<00:00, 17.66it/s]\n"
     ]
    },
    {
     "name": "stdout",
     "output_type": "stream",
     "text": [
      "Avg training loss: 0.4130\n",
      "Time taken: 56.19s\n",
      "==========\n",
      "\n",
      "Start of epoch 25:\n",
      "\n"
     ]
    },
    {
     "name": "stderr",
     "output_type": "stream",
     "text": [
      "TS Data Augmentation: 100%|██████████| 373056/373056 [00:28<00:00, 13218.00it/s]\n",
      "Training Model: 100%|██████████| 365/365 [00:08<00:00, 42.85it/s]\n"
     ]
    },
    {
     "name": "stdout",
     "output_type": "stream",
     "text": [
      "Avg training loss: 0.8231\n",
      "Time taken: 43.94s\n",
      "==========\n",
      "\n",
      "Start of epoch 26:\n",
      "\n"
     ]
    },
    {
     "name": "stderr",
     "output_type": "stream",
     "text": [
      "TS Data Augmentation: 100%|██████████| 373056/373056 [00:27<00:00, 13462.18it/s]\n",
      "Training Model: 100%|██████████| 365/365 [00:12<00:00, 29.11it/s]\n"
     ]
    },
    {
     "name": "stdout",
     "output_type": "stream",
     "text": [
      "Avg training loss: 0.5827\n",
      "Time taken: 48.59s\n",
      "==========\n",
      "\n",
      "Start of epoch 27:\n",
      "\n"
     ]
    },
    {
     "name": "stderr",
     "output_type": "stream",
     "text": [
      "TS Data Augmentation: 100%|██████████| 373056/373056 [00:27<00:00, 13719.38it/s]\n",
      "Training Model: 100%|██████████| 365/365 [00:19<00:00, 18.58it/s]\n"
     ]
    },
    {
     "name": "stdout",
     "output_type": "stream",
     "text": [
      "Avg training loss: 0.4192\n",
      "Time taken: 54.84s\n",
      "==========\n",
      "\n",
      "Start of epoch 28:\n",
      "\n"
     ]
    },
    {
     "name": "stderr",
     "output_type": "stream",
     "text": [
      "TS Data Augmentation: 100%|██████████| 373056/373056 [00:28<00:00, 13137.56it/s]\n",
      "Training Model: 100%|██████████| 365/365 [00:18<00:00, 19.23it/s]\n"
     ]
    },
    {
     "name": "stdout",
     "output_type": "stream",
     "text": [
      "Avg training loss: 0.4210\n",
      "Time taken: 55.66s\n",
      "==========\n",
      "\n",
      "Start of epoch 29:\n",
      "\n"
     ]
    },
    {
     "name": "stderr",
     "output_type": "stream",
     "text": [
      "TS Data Augmentation: 100%|██████████| 373056/373056 [00:26<00:00, 13829.34it/s]\n",
      "Training Model: 100%|██████████| 365/365 [00:28<00:00, 13.02it/s]\n"
     ]
    },
    {
     "name": "stdout",
     "output_type": "stream",
     "text": [
      "Avg training loss: 0.3165\n",
      "Time taken: 63.41s\n",
      "Best model is at epoch 29 Saving\n",
      "==========\n",
      "\n",
      "Start of epoch 30:\n",
      "\n"
     ]
    },
    {
     "name": "stderr",
     "output_type": "stream",
     "text": [
      "TS Data Augmentation: 100%|██████████| 373056/373056 [00:28<00:00, 13016.72it/s]\n",
      "Training Model: 100%|██████████| 365/365 [00:21<00:00, 17.23it/s]\n"
     ]
    },
    {
     "name": "stdout",
     "output_type": "stream",
     "text": [
      "Avg training loss: 0.3784\n",
      "Time taken: 57.80s\n",
      "==========\n",
      "\n",
      "Start of epoch 31:\n",
      "\n"
     ]
    },
    {
     "name": "stderr",
     "output_type": "stream",
     "text": [
      "TS Data Augmentation: 100%|██████████| 373056/373056 [00:27<00:00, 13686.68it/s]\n",
      "Training Model: 100%|██████████| 365/365 [00:20<00:00, 17.82it/s]\n"
     ]
    },
    {
     "name": "stdout",
     "output_type": "stream",
     "text": [
      "Avg training loss: 0.3835\n",
      "Time taken: 56.27s\n",
      "==========\n",
      "\n",
      "Start of epoch 32:\n",
      "\n"
     ]
    },
    {
     "name": "stderr",
     "output_type": "stream",
     "text": [
      "TS Data Augmentation: 100%|██████████| 373056/373056 [00:27<00:00, 13392.41it/s]\n",
      "Training Model: 100%|██████████| 365/365 [00:13<00:00, 28.04it/s]\n"
     ]
    },
    {
     "name": "stdout",
     "output_type": "stream",
     "text": [
      "Avg training loss: 0.5417\n",
      "Time taken: 48.44s\n",
      "==========\n",
      "\n",
      "Start of epoch 33:\n",
      "\n"
     ]
    },
    {
     "name": "stderr",
     "output_type": "stream",
     "text": [
      "TS Data Augmentation: 100%|██████████| 373056/373056 [00:28<00:00, 13200.57it/s]\n",
      "Training Model: 100%|██████████| 365/365 [00:27<00:00, 13.43it/s]\n"
     ]
    },
    {
     "name": "stdout",
     "output_type": "stream",
     "text": [
      "Avg training loss: 0.3093\n",
      "Time taken: 64.28s\n",
      "Best model is at epoch 33 Saving\n",
      "==========\n",
      "\n",
      "Start of epoch 34:\n",
      "\n"
     ]
    },
    {
     "name": "stderr",
     "output_type": "stream",
     "text": [
      "TS Data Augmentation: 100%|██████████| 373056/373056 [00:27<00:00, 13557.43it/s]\n",
      "Training Model: 100%|██████████| 365/365 [00:20<00:00, 17.62it/s]\n"
     ]
    },
    {
     "name": "stdout",
     "output_type": "stream",
     "text": [
      "Avg training loss: 0.3704\n",
      "Time taken: 56.84s\n",
      "==========\n",
      "\n",
      "Start of epoch 35:\n",
      "\n"
     ]
    },
    {
     "name": "stderr",
     "output_type": "stream",
     "text": [
      "TS Data Augmentation: 100%|██████████| 373056/373056 [00:27<00:00, 13465.84it/s]\n",
      "Training Model: 100%|██████████| 365/365 [00:22<00:00, 16.10it/s]\n"
     ]
    },
    {
     "name": "stdout",
     "output_type": "stream",
     "text": [
      "Avg training loss: 0.3421\n",
      "Time taken: 58.42s\n",
      "==========\n",
      "\n",
      "Start of epoch 36:\n",
      "\n"
     ]
    },
    {
     "name": "stderr",
     "output_type": "stream",
     "text": [
      "TS Data Augmentation: 100%|██████████| 373056/373056 [00:28<00:00, 13087.80it/s]\n",
      "Training Model: 100%|██████████| 365/365 [00:10<00:00, 35.66it/s]\n"
     ]
    },
    {
     "name": "stdout",
     "output_type": "stream",
     "text": [
      "Avg training loss: 0.6571\n",
      "Time taken: 46.58s\n",
      "==========\n",
      "\n",
      "Start of epoch 37:\n",
      "\n"
     ]
    },
    {
     "name": "stderr",
     "output_type": "stream",
     "text": [
      "TS Data Augmentation: 100%|██████████| 373056/373056 [00:26<00:00, 13873.84it/s]\n",
      "Training Model: 100%|██████████| 365/365 [00:21<00:00, 16.70it/s]\n"
     ]
    },
    {
     "name": "stdout",
     "output_type": "stream",
     "text": [
      "Avg training loss: 0.3588\n",
      "Time taken: 56.88s\n",
      "==========\n",
      "\n",
      "Start of epoch 38:\n",
      "\n"
     ]
    },
    {
     "name": "stderr",
     "output_type": "stream",
     "text": [
      "TS Data Augmentation: 100%|██████████| 373056/373056 [00:28<00:00, 13053.33it/s]\n",
      "Training Model: 100%|██████████| 365/365 [00:09<00:00, 37.95it/s]\n"
     ]
    },
    {
     "name": "stdout",
     "output_type": "stream",
     "text": [
      "Avg training loss: 0.6841\n",
      "Time taken: 45.69s\n",
      "==========\n",
      "\n",
      "Start of epoch 39:\n",
      "\n"
     ]
    },
    {
     "name": "stderr",
     "output_type": "stream",
     "text": [
      "TS Data Augmentation: 100%|██████████| 373056/373056 [00:26<00:00, 13871.34it/s]\n",
      "Training Model: 100%|██████████| 365/365 [00:09<00:00, 39.77it/s]\n"
     ]
    },
    {
     "name": "stdout",
     "output_type": "stream",
     "text": [
      "Avg training loss: 0.6999\n",
      "Time taken: 43.54s\n",
      "==========\n",
      "\n",
      "Start of epoch 40:\n",
      "\n"
     ]
    },
    {
     "name": "stderr",
     "output_type": "stream",
     "text": [
      "TS Data Augmentation: 100%|██████████| 373056/373056 [00:28<00:00, 13101.23it/s]\n",
      "Training Model: 100%|██████████| 365/365 [00:08<00:00, 44.29it/s]\n"
     ]
    },
    {
     "name": "stdout",
     "output_type": "stream",
     "text": [
      "Avg training loss: 0.8208\n",
      "Time taken: 43.94s\n",
      "==========\n",
      "\n",
      "Start of epoch 41:\n",
      "\n"
     ]
    },
    {
     "name": "stderr",
     "output_type": "stream",
     "text": [
      "TS Data Augmentation: 100%|██████████| 373056/373056 [00:27<00:00, 13661.84it/s]\n",
      "Training Model: 100%|██████████| 365/365 [00:28<00:00, 12.78it/s]\n"
     ]
    },
    {
     "name": "stdout",
     "output_type": "stream",
     "text": [
      "Avg training loss: 0.2981\n",
      "Time taken: 64.46s\n",
      "Best model is at epoch 41 Saving\n",
      "==========\n",
      "\n",
      "Start of epoch 42:\n",
      "\n"
     ]
    },
    {
     "name": "stderr",
     "output_type": "stream",
     "text": [
      "TS Data Augmentation: 100%|██████████| 373056/373056 [00:29<00:00, 12533.18it/s]\n",
      "Training Model: 100%|██████████| 365/365 [00:08<00:00, 40.67it/s]\n"
     ]
    },
    {
     "name": "stdout",
     "output_type": "stream",
     "text": [
      "Avg training loss: 0.7480\n",
      "Time taken: 45.95s\n",
      "==========\n",
      "\n",
      "Start of epoch 43:\n",
      "\n"
     ]
    },
    {
     "name": "stderr",
     "output_type": "stream",
     "text": [
      "TS Data Augmentation: 100%|██████████| 373056/373056 [00:29<00:00, 12617.56it/s]\n",
      "Training Model: 100%|██████████| 365/365 [00:25<00:00, 14.17it/s]\n"
     ]
    },
    {
     "name": "stdout",
     "output_type": "stream",
     "text": [
      "Avg training loss: 0.3098\n",
      "Time taken: 64.89s\n",
      "==========\n",
      "\n",
      "Start of epoch 44:\n",
      "\n"
     ]
    },
    {
     "name": "stderr",
     "output_type": "stream",
     "text": [
      "TS Data Augmentation: 100%|██████████| 373056/373056 [00:29<00:00, 12829.84it/s]\n",
      "Training Model: 100%|██████████| 365/365 [00:22<00:00, 16.00it/s]\n"
     ]
    },
    {
     "name": "stdout",
     "output_type": "stream",
     "text": [
      "Avg training loss: 0.3327\n",
      "Time taken: 60.62s\n",
      "==========\n",
      "\n",
      "Start of epoch 45:\n",
      "\n"
     ]
    },
    {
     "name": "stderr",
     "output_type": "stream",
     "text": [
      "TS Data Augmentation: 100%|██████████| 373056/373056 [00:30<00:00, 12179.96it/s]\n",
      "Training Model: 100%|██████████| 365/365 [00:14<00:00, 24.94it/s]\n"
     ]
    },
    {
     "name": "stdout",
     "output_type": "stream",
     "text": [
      "Avg training loss: 0.4845\n",
      "Time taken: 53.36s\n",
      "==========\n",
      "\n",
      "Start of epoch 46:\n",
      "\n"
     ]
    },
    {
     "name": "stderr",
     "output_type": "stream",
     "text": [
      "TS Data Augmentation: 100%|██████████| 373056/373056 [00:29<00:00, 12557.31it/s]\n",
      "Training Model: 100%|██████████| 365/365 [00:12<00:00, 29.86it/s]\n"
     ]
    },
    {
     "name": "stdout",
     "output_type": "stream",
     "text": [
      "Avg training loss: 0.5652\n",
      "Time taken: 50.69s\n",
      "==========\n",
      "\n",
      "Start of epoch 47:\n",
      "\n"
     ]
    },
    {
     "name": "stderr",
     "output_type": "stream",
     "text": [
      "TS Data Augmentation: 100%|██████████| 373056/373056 [00:28<00:00, 12884.45it/s]\n",
      "Training Model: 100%|██████████| 365/365 [00:16<00:00, 21.53it/s]\n"
     ]
    },
    {
     "name": "stdout",
     "output_type": "stream",
     "text": [
      "Avg training loss: 0.4202\n",
      "Time taken: 54.28s\n",
      "==========\n",
      "\n",
      "Start of epoch 48:\n",
      "\n"
     ]
    },
    {
     "name": "stderr",
     "output_type": "stream",
     "text": [
      "TS Data Augmentation: 100%|██████████| 373056/373056 [00:30<00:00, 12219.21it/s]\n",
      "Training Model: 100%|██████████| 365/365 [00:25<00:00, 14.51it/s]\n"
     ]
    },
    {
     "name": "stdout",
     "output_type": "stream",
     "text": [
      "Avg training loss: 0.2983\n",
      "Time taken: 64.47s\n",
      "==========\n",
      "\n",
      "Start of epoch 49:\n",
      "\n"
     ]
    },
    {
     "name": "stderr",
     "output_type": "stream",
     "text": [
      "TS Data Augmentation: 100%|██████████| 373056/373056 [00:29<00:00, 12846.53it/s]\n",
      "Training Model: 100%|██████████| 365/365 [00:15<00:00, 23.10it/s]\n"
     ]
    },
    {
     "name": "stdout",
     "output_type": "stream",
     "text": [
      "Avg training loss: 0.4388\n",
      "Time taken: 53.47s\n",
      "==========\n",
      "\n",
      "Start of epoch 50:\n",
      "\n"
     ]
    },
    {
     "name": "stderr",
     "output_type": "stream",
     "text": [
      "TS Data Augmentation: 100%|██████████| 373056/373056 [00:29<00:00, 12508.66it/s]\n",
      "Training Model: 100%|██████████| 365/365 [00:19<00:00, 18.66it/s]\n"
     ]
    },
    {
     "name": "stdout",
     "output_type": "stream",
     "text": [
      "Avg training loss: 0.3621\n",
      "Time taken: 57.67s\n",
      "==========\n",
      "\n",
      "Start of epoch 51:\n",
      "\n"
     ]
    },
    {
     "name": "stderr",
     "output_type": "stream",
     "text": [
      "TS Data Augmentation: 100%|██████████| 373056/373056 [00:29<00:00, 12721.25it/s]\n",
      "Training Model: 100%|██████████| 365/365 [00:29<00:00, 12.55it/s]\n"
     ]
    },
    {
     "name": "stdout",
     "output_type": "stream",
     "text": [
      "Avg training loss: 0.2519\n",
      "Time taken: 67.96s\n",
      "Best model is at epoch 51 Saving\n",
      "==========\n",
      "\n",
      "Start of epoch 52:\n",
      "\n"
     ]
    },
    {
     "name": "stderr",
     "output_type": "stream",
     "text": [
      "TS Data Augmentation: 100%|██████████| 373056/373056 [00:29<00:00, 12802.00it/s]\n",
      "Training Model: 100%|██████████| 365/365 [00:22<00:00, 16.27it/s]\n"
     ]
    },
    {
     "name": "stdout",
     "output_type": "stream",
     "text": [
      "Avg training loss: 0.3143\n",
      "Time taken: 60.11s\n",
      "==========\n",
      "\n",
      "Start of epoch 53:\n",
      "\n"
     ]
    },
    {
     "name": "stderr",
     "output_type": "stream",
     "text": [
      "TS Data Augmentation: 100%|██████████| 373056/373056 [00:30<00:00, 12201.73it/s]\n",
      "Training Model: 100%|██████████| 365/365 [00:13<00:00, 27.65it/s]\n"
     ]
    },
    {
     "name": "stdout",
     "output_type": "stream",
     "text": [
      "Avg training loss: 0.5073\n",
      "Time taken: 52.00s\n",
      "==========\n",
      "\n",
      "Start of epoch 54:\n",
      "\n"
     ]
    },
    {
     "name": "stderr",
     "output_type": "stream",
     "text": [
      "TS Data Augmentation: 100%|██████████| 373056/373056 [00:29<00:00, 12698.90it/s]\n",
      "Training Model: 100%|██████████| 365/365 [00:18<00:00, 19.46it/s]\n"
     ]
    },
    {
     "name": "stdout",
     "output_type": "stream",
     "text": [
      "Avg training loss: 0.3631\n",
      "Time taken: 57.35s\n",
      "==========\n",
      "\n",
      "Start of epoch 55:\n",
      "\n"
     ]
    },
    {
     "name": "stderr",
     "output_type": "stream",
     "text": [
      "TS Data Augmentation: 100%|██████████| 373056/373056 [00:28<00:00, 12914.15it/s]\n",
      "Training Model: 100%|██████████| 365/365 [00:13<00:00, 26.48it/s]\n"
     ]
    },
    {
     "name": "stdout",
     "output_type": "stream",
     "text": [
      "Avg training loss: 0.4747\n",
      "Time taken: 50.89s\n",
      "==========\n",
      "\n",
      "Start of epoch 56:\n",
      "\n"
     ]
    },
    {
     "name": "stderr",
     "output_type": "stream",
     "text": [
      "TS Data Augmentation: 100%|██████████| 373056/373056 [00:30<00:00, 12264.10it/s]\n",
      "Training Model: 100%|██████████| 365/365 [00:22<00:00, 16.44it/s]\n"
     ]
    },
    {
     "name": "stdout",
     "output_type": "stream",
     "text": [
      "Avg training loss: nan\n",
      "Training loss was nan. Exiting the loop.\n",
      "Running inference for validation...\n"
     ]
    },
    {
     "name": "stderr",
     "output_type": "stream",
     "text": [
      "TS Data Augmentation: 100%|██████████| 19635/19635 [00:01<00:00, 11658.05it/s]\n"
     ]
    },
    {
     "name": "stdout",
     "output_type": "stream",
     "text": [
      "614/614 [==============================] - 6s 6ms/step\n"
     ]
    }
   ],
   "source": [
    "alpha=0\n",
    "model_dir=Path(f\"models/lsst_alpha_{alpha}\")\n",
    "learning_rate=5e-4\n",
    "\n",
    "train_model(num_epochs=num_epochs,\n",
    "            batch_size=batch_size,\n",
    "            learning_rate=learning_rate, \n",
    "            latent_size=latent_size, \n",
    "            alpha=alpha, \n",
    "            max_class_count=max_class_count, \n",
    "            train_dir=train_dir, \n",
    "            model_dir=model_dir)"
   ]
  },
  {
   "cell_type": "code",
   "execution_count": 3,
   "id": "9f231c42-5ef2-4b21-8312-25b1a1529433",
   "metadata": {
    "collapsed": true,
    "jupyter": {
     "outputs_hidden": true
    },
    "tags": []
   },
   "outputs": [
    {
     "name": "stdout",
     "output_type": "stream",
     "text": [
      "Loading training data from disc...\n",
      "Summary of all training data\n",
      "Total sample count = 1081614\n",
      "            Class   Count\n",
      "0             AGN   76258\n",
      "1            CART    8207\n",
      "2         Cepheid   13771\n",
      "3     Delta Scuti   20650\n",
      "4     Dwarf Novae    8025\n",
      "5              EB   66454\n",
      "6            ILOT    7461\n",
      "7              KN    4426\n",
      "8   M-dwarf Flare    1859\n",
      "9            PISN   63586\n",
      "10       RR Lyrae   14033\n",
      "11           SLSN   66088\n",
      "12        SNI91bg   28637\n",
      "13           SNII  301544\n",
      "14           SNIa  120739\n",
      "15          SNIax   28030\n",
      "16         SNIb/c  168254\n",
      "17            TDE   66000\n",
      "18          uLens   17592\n"
     ]
    },
    {
     "name": "stderr",
     "output_type": "stream",
     "text": [
      "Converting dictionaries to arrays: 100%|██████████| 1081614/1081614 [00:06<00:00, 156638.91it/s]\n"
     ]
    },
    {
     "name": "stdout",
     "output_type": "stream",
     "text": [
      "Summary of training data used\n",
      "            Class  Count\n",
      "0             AGN  30000\n",
      "1            CART   8207\n",
      "2         Cepheid  13771\n",
      "3     Delta Scuti  20650\n",
      "4     Dwarf Novae   8025\n",
      "5              EB  30000\n",
      "6            ILOT   7461\n",
      "7              KN   4426\n",
      "8   M-dwarf Flare   1859\n",
      "9            PISN  30000\n",
      "10       RR Lyrae  14033\n",
      "11           SLSN  30000\n",
      "12        SNI91bg  28637\n",
      "13           SNII  30000\n",
      "14           SNIa  30000\n",
      "15          SNIax  28030\n",
      "16         SNIb/c  30000\n",
      "17            TDE  30000\n",
      "18          uLens  17592\n"
     ]
    },
    {
     "name": "stderr",
     "output_type": "stream",
     "text": [
      "2024-06-27 11:03:12.461128: I tensorflow/core/common_runtime/gpu/gpu_device.cc:1926] Created device /job:localhost/replica:0/task:0/device:GPU:0 with 31127 MB memory:  -> device: 0, name: Tesla V100-SXM2-32GB, pci bus id: 0000:15:00.0, compute capability: 7.0\n",
      "2024-06-27 11:03:12.462653: I tensorflow/core/common_runtime/gpu/gpu_device.cc:1926] Created device /job:localhost/replica:0/task:0/device:GPU:1 with 31127 MB memory:  -> device: 1, name: Tesla V100-SXM2-32GB, pci bus id: 0000:16:00.0, compute capability: 7.0\n"
     ]
    },
    {
     "name": "stdout",
     "output_type": "stream",
     "text": [
      "TS Input Dim: 5 | Static Input Dim: 23 | Output Dim: 26\n",
      "\n",
      "Start of epoch 0:\n",
      "\n"
     ]
    },
    {
     "name": "stderr",
     "output_type": "stream",
     "text": [
      "TS Data Augmentation: 100%|██████████| 373056/373056 [00:33<00:00, 11123.66it/s]\n",
      "Training Model:   0%|          | 0/365 [00:00<?, ?it/s]2024-06-27 11:04:07.049691: W tensorflow/core/common_runtime/type_inference.cc:339] Type inference failed. This indicates an invalid graph that escaped type checking. Error message: INVALID_ARGUMENT: expected compatible input types, but input 1:\n",
      "type_id: TFT_OPTIONAL\n",
      "args {\n",
      "  type_id: TFT_PRODUCT\n",
      "  args {\n",
      "    type_id: TFT_TENSOR\n",
      "    args {\n",
      "      type_id: TFT_INT32\n",
      "    }\n",
      "  }\n",
      "}\n",
      " is neither a subtype nor a supertype of the combined inputs preceding it:\n",
      "type_id: TFT_OPTIONAL\n",
      "args {\n",
      "  type_id: TFT_PRODUCT\n",
      "  args {\n",
      "    type_id: TFT_TENSOR\n",
      "    args {\n",
      "      type_id: TFT_FLOAT\n",
      "    }\n",
      "  }\n",
      "}\n",
      "\n",
      "\tfor Tuple type infernce function 0\n",
      "\twhile inferring type of node 'cond_18/output/_21'\n",
      "2024-06-27 11:04:07.747290: I external/local_xla/xla/stream_executor/cuda/cuda_dnn.cc:467] Loaded cuDNN version 90000\n",
      "2024-06-27 11:04:08.944425: I external/local_xla/xla/service/service.cc:168] XLA service 0x154c28aa3930 initialized for platform CUDA (this does not guarantee that XLA will be used). Devices:\n",
      "2024-06-27 11:04:08.944462: I external/local_xla/xla/service/service.cc:176]   StreamExecutor device (0): Tesla V100-SXM2-32GB, Compute Capability 7.0\n",
      "2024-06-27 11:04:08.944467: I external/local_xla/xla/service/service.cc:176]   StreamExecutor device (1): Tesla V100-SXM2-32GB, Compute Capability 7.0\n",
      "2024-06-27 11:04:08.963576: I tensorflow/compiler/mlir/tensorflow/utils/dump_mlir_util.cc:269] disabling MLIR crash reproducer, set env var `MLIR_CRASH_REPRODUCER_DIRECTORY` to enable.\n",
      "WARNING: All log messages before absl::InitializeLog() is called are written to STDERR\n",
      "I0000 00:00:1719500649.099108   63043 device_compiler.h:186] Compiled cluster using XLA!  This line is logged at most once for the lifetime of the process.\n",
      "Training Model: 100%|██████████| 365/365 [00:22<00:00, 16.03it/s]\n",
      "/usr/local/lib/python3.10/dist-packages/keras/src/engine/training.py:3103: UserWarning: You are saving your model as an HDF5 file via `model.save()`. This file format is considered legacy. We recommend using instead the native Keras format, e.g. `model.save('my_model.keras')`.\n",
      "  saving_api.save_model(\n"
     ]
    },
    {
     "name": "stdout",
     "output_type": "stream",
     "text": [
      "Avg training loss: 0.2610\n",
      "Time taken: 64.94s\n",
      "Best model is at epoch 0 Saving\n",
      "==========\n",
      "\n",
      "Start of epoch 1:\n",
      "\n"
     ]
    },
    {
     "name": "stderr",
     "output_type": "stream",
     "text": [
      "TS Data Augmentation: 100%|██████████| 373056/373056 [00:31<00:00, 11910.71it/s]\n",
      "Training Model: 100%|██████████| 365/365 [00:09<00:00, 38.39it/s]\n"
     ]
    },
    {
     "name": "stdout",
     "output_type": "stream",
     "text": [
      "Avg training loss: 0.2259\n",
      "Time taken: 49.29s\n",
      "Best model is at epoch 1 Saving\n",
      "==========\n",
      "\n",
      "Start of epoch 2:\n",
      "\n"
     ]
    },
    {
     "name": "stderr",
     "output_type": "stream",
     "text": [
      "TS Data Augmentation: 100%|██████████| 373056/373056 [00:29<00:00, 12593.35it/s]\n",
      "Training Model: 100%|██████████| 365/365 [00:14<00:00, 24.72it/s]\n"
     ]
    },
    {
     "name": "stdout",
     "output_type": "stream",
     "text": [
      "Avg training loss: 0.2086\n",
      "Time taken: 52.74s\n",
      "Best model is at epoch 2 Saving\n",
      "==========\n",
      "\n",
      "Start of epoch 3:\n",
      "\n"
     ]
    },
    {
     "name": "stderr",
     "output_type": "stream",
     "text": [
      "TS Data Augmentation: 100%|██████████| 373056/373056 [00:31<00:00, 11920.95it/s]\n",
      "Training Model: 100%|██████████| 365/365 [00:24<00:00, 14.95it/s]\n"
     ]
    },
    {
     "name": "stdout",
     "output_type": "stream",
     "text": [
      "Avg training loss: 0.1796\n",
      "Time taken: 64.44s\n",
      "Best model is at epoch 3 Saving\n",
      "==========\n",
      "\n",
      "Start of epoch 4:\n",
      "\n"
     ]
    },
    {
     "name": "stderr",
     "output_type": "stream",
     "text": [
      "TS Data Augmentation: 100%|██████████| 373056/373056 [00:30<00:00, 12094.56it/s]\n",
      "Training Model: 100%|██████████| 365/365 [00:23<00:00, 15.36it/s]\n"
     ]
    },
    {
     "name": "stdout",
     "output_type": "stream",
     "text": [
      "Avg training loss: 0.1567\n",
      "Time taken: 63.91s\n",
      "Best model is at epoch 4 Saving\n",
      "==========\n",
      "\n",
      "Start of epoch 5:\n",
      "\n"
     ]
    },
    {
     "name": "stderr",
     "output_type": "stream",
     "text": [
      "TS Data Augmentation: 100%|██████████| 373056/373056 [00:29<00:00, 12546.83it/s]\n",
      "Training Model: 100%|██████████| 365/365 [00:25<00:00, 14.19it/s]\n"
     ]
    },
    {
     "name": "stdout",
     "output_type": "stream",
     "text": [
      "Avg training loss: 0.1389\n",
      "Time taken: 64.65s\n",
      "Best model is at epoch 5 Saving\n",
      "==========\n",
      "\n",
      "Start of epoch 6:\n",
      "\n"
     ]
    },
    {
     "name": "stderr",
     "output_type": "stream",
     "text": [
      "TS Data Augmentation: 100%|██████████| 373056/373056 [00:32<00:00, 11641.21it/s]\n",
      "Training Model: 100%|██████████| 365/365 [00:10<00:00, 35.98it/s]\n"
     ]
    },
    {
     "name": "stdout",
     "output_type": "stream",
     "text": [
      "Avg training loss: 0.2043\n",
      "Time taken: 50.38s\n",
      "==========\n",
      "\n",
      "Start of epoch 7:\n",
      "\n"
     ]
    },
    {
     "name": "stderr",
     "output_type": "stream",
     "text": [
      "TS Data Augmentation: 100%|██████████| 373056/373056 [00:31<00:00, 11839.40it/s]\n",
      "Training Model: 100%|██████████| 365/365 [00:21<00:00, 16.60it/s]\n"
     ]
    },
    {
     "name": "stdout",
     "output_type": "stream",
     "text": [
      "Avg training loss: 0.1421\n",
      "Time taken: 62.53s\n",
      "==========\n",
      "\n",
      "Start of epoch 8:\n",
      "\n"
     ]
    },
    {
     "name": "stderr",
     "output_type": "stream",
     "text": [
      "TS Data Augmentation: 100%|██████████| 373056/373056 [00:30<00:00, 12151.31it/s]\n",
      "Training Model: 100%|██████████| 365/365 [00:27<00:00, 13.24it/s]\n"
     ]
    },
    {
     "name": "stdout",
     "output_type": "stream",
     "text": [
      "Avg training loss: 0.1197\n",
      "Time taken: 68.14s\n",
      "Best model is at epoch 8 Saving\n",
      "==========\n",
      "\n",
      "Start of epoch 9:\n",
      "\n"
     ]
    },
    {
     "name": "stderr",
     "output_type": "stream",
     "text": [
      "TS Data Augmentation: 100%|██████████| 373056/373056 [00:30<00:00, 12420.47it/s]\n",
      "Training Model: 100%|██████████| 365/365 [00:21<00:00, 16.68it/s]\n"
     ]
    },
    {
     "name": "stdout",
     "output_type": "stream",
     "text": [
      "Avg training loss: 0.1256\n",
      "Time taken: 61.08s\n",
      "==========\n",
      "\n",
      "Start of epoch 10:\n",
      "\n"
     ]
    },
    {
     "name": "stderr",
     "output_type": "stream",
     "text": [
      "TS Data Augmentation: 100%|██████████| 373056/373056 [00:31<00:00, 12021.20it/s]\n",
      "Training Model: 100%|██████████| 365/365 [00:25<00:00, 14.45it/s]\n"
     ]
    },
    {
     "name": "stdout",
     "output_type": "stream",
     "text": [
      "Avg training loss: 0.1126\n",
      "Time taken: 65.20s\n",
      "Best model is at epoch 10 Saving\n",
      "==========\n",
      "\n",
      "Start of epoch 11:\n",
      "\n"
     ]
    },
    {
     "name": "stderr",
     "output_type": "stream",
     "text": [
      "TS Data Augmentation: 100%|██████████| 373056/373056 [00:32<00:00, 11640.29it/s]\n",
      "Training Model: 100%|██████████| 365/365 [00:09<00:00, 37.55it/s]\n"
     ]
    },
    {
     "name": "stdout",
     "output_type": "stream",
     "text": [
      "Avg training loss: 0.2043\n",
      "Time taken: 49.98s\n",
      "==========\n",
      "\n",
      "Start of epoch 12:\n",
      "\n"
     ]
    },
    {
     "name": "stderr",
     "output_type": "stream",
     "text": [
      "TS Data Augmentation: 100%|██████████| 373056/373056 [00:30<00:00, 12153.45it/s]\n",
      "Training Model: 100%|██████████| 365/365 [00:18<00:00, 20.14it/s]\n"
     ]
    },
    {
     "name": "stdout",
     "output_type": "stream",
     "text": [
      "Avg training loss: 0.1319\n",
      "Time taken: 58.38s\n",
      "==========\n",
      "\n",
      "Start of epoch 13:\n",
      "\n"
     ]
    },
    {
     "name": "stderr",
     "output_type": "stream",
     "text": [
      "TS Data Augmentation: 100%|██████████| 373056/373056 [00:30<00:00, 12124.07it/s]\n",
      "Training Model: 100%|██████████| 365/365 [00:24<00:00, 14.99it/s]\n"
     ]
    },
    {
     "name": "stdout",
     "output_type": "stream",
     "text": [
      "Avg training loss: 0.1094\n",
      "Time taken: 64.06s\n",
      "Best model is at epoch 13 Saving\n",
      "==========\n",
      "\n",
      "Start of epoch 14:\n",
      "\n"
     ]
    },
    {
     "name": "stderr",
     "output_type": "stream",
     "text": [
      "TS Data Augmentation: 100%|██████████| 373056/373056 [00:31<00:00, 11788.72it/s]\n",
      "Training Model: 100%|██████████| 365/365 [00:23<00:00, 15.31it/s]\n"
     ]
    },
    {
     "name": "stdout",
     "output_type": "stream",
     "text": [
      "Avg training loss: 0.1048\n",
      "Time taken: 64.54s\n",
      "Best model is at epoch 14 Saving\n",
      "==========\n",
      "\n",
      "Start of epoch 15:\n",
      "\n"
     ]
    },
    {
     "name": "stderr",
     "output_type": "stream",
     "text": [
      "TS Data Augmentation: 100%|██████████| 373056/373056 [00:30<00:00, 12331.63it/s]\n",
      "Training Model: 100%|██████████| 365/365 [00:10<00:00, 33.79it/s]\n"
     ]
    },
    {
     "name": "stdout",
     "output_type": "stream",
     "text": [
      "Avg training loss: 0.1809\n",
      "Time taken: 49.94s\n",
      "==========\n",
      "\n",
      "Start of epoch 16:\n",
      "\n"
     ]
    },
    {
     "name": "stderr",
     "output_type": "stream",
     "text": [
      "TS Data Augmentation: 100%|██████████| 373056/373056 [00:30<00:00, 12203.74it/s]\n",
      "Training Model: 100%|██████████| 365/365 [00:27<00:00, 13.35it/s]\n"
     ]
    },
    {
     "name": "stdout",
     "output_type": "stream",
     "text": [
      "Avg training loss: 0.0962\n",
      "Time taken: 66.93s\n",
      "Best model is at epoch 16 Saving\n",
      "==========\n",
      "\n",
      "Start of epoch 17:\n",
      "\n"
     ]
    },
    {
     "name": "stderr",
     "output_type": "stream",
     "text": [
      "TS Data Augmentation: 100%|██████████| 373056/373056 [00:31<00:00, 11868.97it/s]\n",
      "Training Model: 100%|██████████| 365/365 [00:22<00:00, 15.92it/s]\n"
     ]
    },
    {
     "name": "stdout",
     "output_type": "stream",
     "text": [
      "Avg training loss: 0.1014\n",
      "Time taken: 63.39s\n",
      "==========\n",
      "\n",
      "Start of epoch 18:\n",
      "\n"
     ]
    },
    {
     "name": "stderr",
     "output_type": "stream",
     "text": [
      "TS Data Augmentation: 100%|██████████| 373056/373056 [00:31<00:00, 11956.26it/s]\n",
      "Training Model: 100%|██████████| 365/365 [00:22<00:00, 16.17it/s]\n"
     ]
    },
    {
     "name": "stdout",
     "output_type": "stream",
     "text": [
      "Avg training loss: 0.1007\n",
      "Time taken: 63.71s\n",
      "==========\n",
      "\n",
      "Start of epoch 19:\n",
      "\n"
     ]
    },
    {
     "name": "stderr",
     "output_type": "stream",
     "text": [
      "TS Data Augmentation: 100%|██████████| 373056/373056 [00:30<00:00, 12256.39it/s]\n",
      "Training Model: 100%|██████████| 365/365 [00:14<00:00, 25.81it/s]\n"
     ]
    },
    {
     "name": "stdout",
     "output_type": "stream",
     "text": [
      "Avg training loss: 0.1414\n",
      "Time taken: 53.30s\n",
      "==========\n",
      "\n",
      "Start of epoch 20:\n",
      "\n"
     ]
    },
    {
     "name": "stderr",
     "output_type": "stream",
     "text": [
      "TS Data Augmentation: 100%|██████████| 373056/373056 [00:31<00:00, 11744.62it/s]\n",
      "Training Model: 100%|██████████| 365/365 [00:20<00:00, 17.43it/s]\n"
     ]
    },
    {
     "name": "stdout",
     "output_type": "stream",
     "text": [
      "Avg training loss: 0.1033\n",
      "Time taken: 61.43s\n",
      "==========\n",
      "\n",
      "Start of epoch 21:\n",
      "\n"
     ]
    },
    {
     "name": "stderr",
     "output_type": "stream",
     "text": [
      "TS Data Augmentation: 100%|██████████| 373056/373056 [00:30<00:00, 12279.14it/s]\n",
      "Training Model: 100%|██████████| 365/365 [00:16<00:00, 22.06it/s]\n"
     ]
    },
    {
     "name": "stdout",
     "output_type": "stream",
     "text": [
      "Avg training loss: 0.1208\n",
      "Time taken: 56.55s\n",
      "==========\n",
      "\n",
      "Start of epoch 22:\n",
      "\n"
     ]
    },
    {
     "name": "stderr",
     "output_type": "stream",
     "text": [
      "TS Data Augmentation: 100%|██████████| 373056/373056 [00:30<00:00, 12116.47it/s]\n",
      "Training Model: 100%|██████████| 365/365 [00:16<00:00, 21.71it/s]\n"
     ]
    },
    {
     "name": "stdout",
     "output_type": "stream",
     "text": [
      "Avg training loss: 0.1180\n",
      "Time taken: 56.37s\n",
      "==========\n",
      "\n",
      "Start of epoch 23:\n",
      "\n"
     ]
    },
    {
     "name": "stderr",
     "output_type": "stream",
     "text": [
      "TS Data Augmentation: 100%|██████████| 373056/373056 [00:32<00:00, 11590.55it/s]\n",
      "Training Model: 100%|██████████| 365/365 [00:17<00:00, 21.42it/s]\n"
     ]
    },
    {
     "name": "stdout",
     "output_type": "stream",
     "text": [
      "Avg training loss: 0.1155\n",
      "Time taken: 58.18s\n",
      "==========\n",
      "\n",
      "Start of epoch 24:\n",
      "\n"
     ]
    },
    {
     "name": "stderr",
     "output_type": "stream",
     "text": [
      "TS Data Augmentation: 100%|██████████| 373056/373056 [00:30<00:00, 12042.10it/s]\n",
      "Training Model: 100%|██████████| 365/365 [00:22<00:00, 16.33it/s]\n"
     ]
    },
    {
     "name": "stdout",
     "output_type": "stream",
     "text": [
      "Avg training loss: 0.0941\n",
      "Time taken: 63.37s\n",
      "Best model is at epoch 24 Saving\n",
      "==========\n",
      "\n",
      "Start of epoch 25:\n",
      "\n"
     ]
    },
    {
     "name": "stderr",
     "output_type": "stream",
     "text": [
      "TS Data Augmentation: 100%|██████████| 373056/373056 [00:30<00:00, 12122.89it/s]\n",
      "Training Model: 100%|██████████| 365/365 [00:18<00:00, 19.27it/s]\n"
     ]
    },
    {
     "name": "stdout",
     "output_type": "stream",
     "text": [
      "Avg training loss: 0.1053\n",
      "Time taken: 58.76s\n",
      "==========\n",
      "\n",
      "Start of epoch 26:\n",
      "\n"
     ]
    },
    {
     "name": "stderr",
     "output_type": "stream",
     "text": [
      "TS Data Augmentation: 100%|██████████| 373056/373056 [00:31<00:00, 11719.92it/s]\n",
      "Training Model: 100%|██████████| 365/365 [00:10<00:00, 33.87it/s]\n"
     ]
    },
    {
     "name": "stdout",
     "output_type": "stream",
     "text": [
      "Avg training loss: 0.1697\n",
      "Time taken: 50.74s\n",
      "==========\n",
      "\n",
      "Start of epoch 27:\n",
      "\n"
     ]
    },
    {
     "name": "stderr",
     "output_type": "stream",
     "text": [
      "TS Data Augmentation: 100%|██████████| 373056/373056 [00:30<00:00, 12293.86it/s]\n",
      "Training Model: 100%|██████████| 365/365 [00:17<00:00, 20.50it/s]\n"
     ]
    },
    {
     "name": "stdout",
     "output_type": "stream",
     "text": [
      "Avg training loss: 0.1095\n",
      "Time taken: 57.82s\n",
      "==========\n",
      "\n",
      "Start of epoch 28:\n",
      "\n"
     ]
    },
    {
     "name": "stderr",
     "output_type": "stream",
     "text": [
      "TS Data Augmentation: 100%|██████████| 373056/373056 [00:31<00:00, 12017.06it/s]\n",
      "Training Model: 100%|██████████| 365/365 [00:27<00:00, 13.15it/s]\n"
     ]
    },
    {
     "name": "stdout",
     "output_type": "stream",
     "text": [
      "Avg training loss: 0.0772\n",
      "Time taken: 68.20s\n",
      "Best model is at epoch 28 Saving\n",
      "==========\n",
      "\n",
      "Start of epoch 29:\n",
      "\n"
     ]
    },
    {
     "name": "stderr",
     "output_type": "stream",
     "text": [
      "TS Data Augmentation: 100%|██████████| 373056/373056 [00:31<00:00, 11784.30it/s]\n",
      "Training Model: 100%|██████████| 365/365 [00:26<00:00, 13.84it/s]\n"
     ]
    },
    {
     "name": "stdout",
     "output_type": "stream",
     "text": [
      "Avg training loss: 0.0785\n",
      "Time taken: 67.41s\n",
      "==========\n",
      "\n",
      "Start of epoch 30:\n",
      "\n"
     ]
    },
    {
     "name": "stderr",
     "output_type": "stream",
     "text": [
      "TS Data Augmentation: 100%|██████████| 373056/373056 [00:31<00:00, 11953.13it/s]\n",
      "Training Model: 100%|██████████| 365/365 [00:26<00:00, 13.88it/s]\n"
     ]
    },
    {
     "name": "stdout",
     "output_type": "stream",
     "text": [
      "Avg training loss: 0.0774\n",
      "Time taken: 67.62s\n",
      "==========\n",
      "\n",
      "Start of epoch 31:\n",
      "\n"
     ]
    },
    {
     "name": "stderr",
     "output_type": "stream",
     "text": [
      "TS Data Augmentation: 100%|██████████| 373056/373056 [00:30<00:00, 12261.61it/s]\n",
      "Training Model: 100%|██████████| 365/365 [00:14<00:00, 25.68it/s]\n"
     ]
    },
    {
     "name": "stdout",
     "output_type": "stream",
     "text": [
      "Avg training loss: 0.1293\n",
      "Time taken: 53.33s\n",
      "==========\n",
      "\n",
      "Start of epoch 32:\n",
      "\n"
     ]
    },
    {
     "name": "stderr",
     "output_type": "stream",
     "text": [
      "TS Data Augmentation: 100%|██████████| 373056/373056 [00:32<00:00, 11611.07it/s]\n",
      "Training Model: 100%|██████████| 365/365 [00:21<00:00, 16.76it/s]\n"
     ]
    },
    {
     "name": "stdout",
     "output_type": "stream",
     "text": [
      "Avg training loss: 0.0884\n",
      "Time taken: 62.99s\n",
      "==========\n",
      "\n",
      "Start of epoch 33:\n",
      "\n"
     ]
    },
    {
     "name": "stderr",
     "output_type": "stream",
     "text": [
      "TS Data Augmentation: 100%|██████████| 373056/373056 [00:30<00:00, 12129.14it/s]\n",
      "Training Model: 100%|██████████| 365/365 [00:11<00:00, 30.51it/s]\n"
     ]
    },
    {
     "name": "stdout",
     "output_type": "stream",
     "text": [
      "Avg training loss: 0.1489\n",
      "Time taken: 52.15s\n",
      "==========\n",
      "\n",
      "Start of epoch 34:\n",
      "\n"
     ]
    },
    {
     "name": "stderr",
     "output_type": "stream",
     "text": [
      "TS Data Augmentation: 100%|██████████| 373056/373056 [00:30<00:00, 12272.64it/s]\n",
      "Training Model: 100%|██████████| 365/365 [00:24<00:00, 14.64it/s]\n"
     ]
    },
    {
     "name": "stdout",
     "output_type": "stream",
     "text": [
      "Avg training loss: 0.0797\n",
      "Time taken: 64.71s\n",
      "==========\n",
      "\n",
      "Start of epoch 35:\n",
      "\n"
     ]
    },
    {
     "name": "stderr",
     "output_type": "stream",
     "text": [
      "TS Data Augmentation: 100%|██████████| 373056/373056 [00:31<00:00, 11661.59it/s]\n",
      "Training Model: 100%|██████████| 365/365 [00:23<00:00, 15.70it/s]\n"
     ]
    },
    {
     "name": "stdout",
     "output_type": "stream",
     "text": [
      "Avg training loss: 0.0815\n",
      "Time taken: 64.37s\n",
      "==========\n",
      "\n",
      "Start of epoch 36:\n",
      "\n"
     ]
    },
    {
     "name": "stderr",
     "output_type": "stream",
     "text": [
      "TS Data Augmentation: 100%|██████████| 373056/373056 [00:31<00:00, 12001.60it/s]\n",
      "Training Model: 100%|██████████| 365/365 [00:26<00:00, 13.85it/s]\n"
     ]
    },
    {
     "name": "stdout",
     "output_type": "stream",
     "text": [
      "Avg training loss: 0.0728\n",
      "Time taken: 67.47s\n",
      "Best model is at epoch 36 Saving\n",
      "==========\n",
      "\n",
      "Start of epoch 37:\n",
      "\n"
     ]
    },
    {
     "name": "stderr",
     "output_type": "stream",
     "text": [
      "TS Data Augmentation: 100%|██████████| 373056/373056 [00:30<00:00, 12309.14it/s]\n",
      "Training Model: 100%|██████████| 365/365 [00:14<00:00, 25.25it/s]\n"
     ]
    },
    {
     "name": "stdout",
     "output_type": "stream",
     "text": [
      "Avg training loss: 0.1213\n",
      "Time taken: 53.75s\n",
      "==========\n",
      "\n",
      "Start of epoch 38:\n",
      "\n"
     ]
    },
    {
     "name": "stderr",
     "output_type": "stream",
     "text": [
      "TS Data Augmentation: 100%|██████████| 373056/373056 [00:31<00:00, 11689.90it/s]\n",
      "Training Model: 100%|██████████| 365/365 [00:11<00:00, 31.03it/s]\n"
     ]
    },
    {
     "name": "stdout",
     "output_type": "stream",
     "text": [
      "Avg training loss: 0.1475\n",
      "Time taken: 52.03s\n",
      "==========\n",
      "\n",
      "Start of epoch 39:\n",
      "\n"
     ]
    },
    {
     "name": "stderr",
     "output_type": "stream",
     "text": [
      "TS Data Augmentation: 100%|██████████| 373056/373056 [00:30<00:00, 12152.42it/s]\n",
      "Training Model: 100%|██████████| 365/365 [00:17<00:00, 20.99it/s]\n"
     ]
    },
    {
     "name": "stdout",
     "output_type": "stream",
     "text": [
      "Avg training loss: 0.1016\n",
      "Time taken: 58.05s\n",
      "==========\n",
      "\n",
      "Start of epoch 40:\n",
      "\n"
     ]
    },
    {
     "name": "stderr",
     "output_type": "stream",
     "text": [
      "TS Data Augmentation: 100%|██████████| 373056/373056 [00:30<00:00, 12242.58it/s]\n",
      "Training Model: 100%|██████████| 365/365 [00:20<00:00, 17.48it/s]\n"
     ]
    },
    {
     "name": "stdout",
     "output_type": "stream",
     "text": [
      "Avg training loss: 0.0856\n",
      "Time taken: 60.56s\n",
      "==========\n",
      "\n",
      "Start of epoch 41:\n",
      "\n"
     ]
    },
    {
     "name": "stderr",
     "output_type": "stream",
     "text": [
      "TS Data Augmentation: 100%|██████████| 373056/373056 [00:31<00:00, 11668.28it/s]\n",
      "Training Model: 100%|██████████| 365/365 [00:23<00:00, 15.38it/s]\n"
     ]
    },
    {
     "name": "stdout",
     "output_type": "stream",
     "text": [
      "Avg training loss: 0.0762\n",
      "Time taken: 64.82s\n",
      "==========\n",
      "\n",
      "Start of epoch 42:\n",
      "\n"
     ]
    },
    {
     "name": "stderr",
     "output_type": "stream",
     "text": [
      "TS Data Augmentation: 100%|██████████| 373056/373056 [00:31<00:00, 11990.57it/s]\n",
      "Training Model: 100%|██████████| 365/365 [00:15<00:00, 23.88it/s]\n"
     ]
    },
    {
     "name": "stdout",
     "output_type": "stream",
     "text": [
      "Avg training loss: 0.1111\n",
      "Time taken: 55.97s\n",
      "==========\n",
      "\n",
      "Start of epoch 43:\n",
      "\n"
     ]
    },
    {
     "name": "stderr",
     "output_type": "stream",
     "text": [
      "TS Data Augmentation: 100%|██████████| 373056/373056 [00:30<00:00, 12107.42it/s]\n",
      "Training Model: 100%|██████████| 365/365 [00:17<00:00, 20.54it/s]\n"
     ]
    },
    {
     "name": "stdout",
     "output_type": "stream",
     "text": [
      "Avg training loss: 0.0967\n",
      "Time taken: 57.76s\n",
      "==========\n",
      "\n",
      "Start of epoch 44:\n",
      "\n"
     ]
    },
    {
     "name": "stderr",
     "output_type": "stream",
     "text": [
      "TS Data Augmentation: 100%|██████████| 373056/373056 [00:31<00:00, 11675.99it/s]\n",
      "Training Model: 100%|██████████| 365/365 [00:21<00:00, 16.82it/s]\n"
     ]
    },
    {
     "name": "stdout",
     "output_type": "stream",
     "text": [
      "Avg training loss: 0.0801\n",
      "Time taken: 62.78s\n",
      "==========\n",
      "\n",
      "Start of epoch 45:\n",
      "\n"
     ]
    },
    {
     "name": "stderr",
     "output_type": "stream",
     "text": [
      "TS Data Augmentation: 100%|██████████| 373056/373056 [00:30<00:00, 12151.03it/s]\n",
      "Training Model: 100%|██████████| 365/365 [00:18<00:00, 19.51it/s]\n"
     ]
    },
    {
     "name": "stdout",
     "output_type": "stream",
     "text": [
      "Avg training loss: 0.0905\n",
      "Time taken: 59.42s\n",
      "==========\n",
      "\n",
      "Start of epoch 46:\n",
      "\n"
     ]
    },
    {
     "name": "stderr",
     "output_type": "stream",
     "text": [
      "TS Data Augmentation: 100%|██████████| 373056/373056 [00:30<00:00, 12233.78it/s]\n",
      "Training Model: 100%|██████████| 365/365 [00:14<00:00, 24.40it/s]\n"
     ]
    },
    {
     "name": "stdout",
     "output_type": "stream",
     "text": [
      "Avg training loss: 0.1097\n",
      "Time taken: 54.24s\n",
      "==========\n",
      "\n",
      "Start of epoch 47:\n",
      "\n"
     ]
    },
    {
     "name": "stderr",
     "output_type": "stream",
     "text": [
      "TS Data Augmentation: 100%|██████████| 373056/373056 [00:31<00:00, 11761.38it/s]\n",
      "Training Model: 100%|██████████| 365/365 [00:09<00:00, 36.97it/s]\n"
     ]
    },
    {
     "name": "stdout",
     "output_type": "stream",
     "text": [
      "Avg training loss: 0.1749\n",
      "Time taken: 50.11s\n",
      "==========\n",
      "\n",
      "Start of epoch 48:\n",
      "\n"
     ]
    },
    {
     "name": "stderr",
     "output_type": "stream",
     "text": [
      "TS Data Augmentation: 100%|██████████| 373056/373056 [00:30<00:00, 12141.10it/s]\n",
      "Training Model: 100%|██████████| 365/365 [00:28<00:00, 12.78it/s]\n"
     ]
    },
    {
     "name": "stdout",
     "output_type": "stream",
     "text": [
      "Avg training loss: 0.0639\n",
      "Time taken: 69.72s\n",
      "Best model is at epoch 48 Saving\n",
      "==========\n",
      "\n",
      "Start of epoch 49:\n",
      "\n"
     ]
    },
    {
     "name": "stderr",
     "output_type": "stream",
     "text": [
      "TS Data Augmentation: 100%|██████████| 373056/373056 [00:30<00:00, 12199.58it/s]\n",
      "Training Model: 100%|██████████| 365/365 [00:25<00:00, 14.23it/s]\n"
     ]
    },
    {
     "name": "stdout",
     "output_type": "stream",
     "text": [
      "Avg training loss: 0.0671\n",
      "Time taken: 65.62s\n",
      "==========\n",
      "\n",
      "Start of epoch 50:\n",
      "\n"
     ]
    },
    {
     "name": "stderr",
     "output_type": "stream",
     "text": [
      "TS Data Augmentation: 100%|██████████| 373056/373056 [00:31<00:00, 11684.84it/s]\n",
      "Training Model: 100%|██████████| 365/365 [00:17<00:00, 20.82it/s]\n"
     ]
    },
    {
     "name": "stdout",
     "output_type": "stream",
     "text": [
      "Avg training loss: 0.0936\n",
      "Time taken: 58.31s\n",
      "==========\n",
      "\n",
      "Start of epoch 51:\n",
      "\n"
     ]
    },
    {
     "name": "stderr",
     "output_type": "stream",
     "text": [
      "TS Data Augmentation: 100%|██████████| 373056/373056 [00:30<00:00, 12126.35it/s]\n",
      "Training Model: 100%|██████████| 365/365 [00:20<00:00, 17.39it/s]\n"
     ]
    },
    {
     "name": "stdout",
     "output_type": "stream",
     "text": [
      "Avg training loss: 0.0780\n",
      "Time taken: 61.95s\n",
      "==========\n",
      "\n",
      "Start of epoch 52:\n",
      "\n"
     ]
    },
    {
     "name": "stderr",
     "output_type": "stream",
     "text": [
      "TS Data Augmentation: 100%|██████████| 373056/373056 [00:30<00:00, 12250.07it/s]\n",
      "Training Model: 100%|██████████| 365/365 [00:19<00:00, 18.64it/s]\n"
     ]
    },
    {
     "name": "stdout",
     "output_type": "stream",
     "text": [
      "Avg training loss: 0.0835\n",
      "Time taken: 59.19s\n",
      "==========\n",
      "\n",
      "Start of epoch 53:\n",
      "\n"
     ]
    },
    {
     "name": "stderr",
     "output_type": "stream",
     "text": [
      "TS Data Augmentation: 100%|██████████| 373056/373056 [00:31<00:00, 11705.76it/s]\n",
      "Training Model: 100%|██████████| 365/365 [00:17<00:00, 21.09it/s]\n"
     ]
    },
    {
     "name": "stdout",
     "output_type": "stream",
     "text": [
      "Avg training loss: 0.0922\n",
      "Time taken: 58.04s\n",
      "==========\n",
      "\n",
      "Start of epoch 54:\n",
      "\n"
     ]
    },
    {
     "name": "stderr",
     "output_type": "stream",
     "text": [
      "TS Data Augmentation: 100%|██████████| 373056/373056 [00:31<00:00, 11902.39it/s]\n",
      "Training Model: 100%|██████████| 365/365 [00:24<00:00, 15.14it/s]\n"
     ]
    },
    {
     "name": "stdout",
     "output_type": "stream",
     "text": [
      "Avg training loss: 0.0676\n",
      "Time taken: 65.45s\n",
      "==========\n",
      "\n",
      "Start of epoch 55:\n",
      "\n"
     ]
    },
    {
     "name": "stderr",
     "output_type": "stream",
     "text": [
      "TS Data Augmentation: 100%|██████████| 373056/373056 [00:30<00:00, 12412.75it/s]\n",
      "Training Model: 100%|██████████| 365/365 [00:20<00:00, 17.79it/s]\n"
     ]
    },
    {
     "name": "stdout",
     "output_type": "stream",
     "text": [
      "Avg training loss: 0.0773\n",
      "Time taken: 59.85s\n",
      "==========\n",
      "\n",
      "Start of epoch 56:\n",
      "\n"
     ]
    },
    {
     "name": "stderr",
     "output_type": "stream",
     "text": [
      "TS Data Augmentation: 100%|██████████| 373056/373056 [00:31<00:00, 11760.23it/s]\n",
      "Training Model: 100%|██████████| 365/365 [00:16<00:00, 22.31it/s]\n"
     ]
    },
    {
     "name": "stdout",
     "output_type": "stream",
     "text": [
      "Avg training loss: 0.0961\n",
      "Time taken: 56.84s\n",
      "==========\n",
      "\n",
      "Start of epoch 57:\n",
      "\n"
     ]
    },
    {
     "name": "stderr",
     "output_type": "stream",
     "text": [
      "TS Data Augmentation: 100%|██████████| 373056/373056 [00:30<00:00, 12225.77it/s]\n",
      "Training Model: 100%|██████████| 365/365 [00:28<00:00, 12.76it/s]\n"
     ]
    },
    {
     "name": "stdout",
     "output_type": "stream",
     "text": [
      "Avg training loss: 0.0568\n",
      "Time taken: 69.52s\n",
      "Best model is at epoch 57 Saving\n",
      "==========\n",
      "\n",
      "Start of epoch 58:\n",
      "\n"
     ]
    },
    {
     "name": "stderr",
     "output_type": "stream",
     "text": [
      "TS Data Augmentation: 100%|██████████| 373056/373056 [00:30<00:00, 12190.63it/s]\n",
      "Training Model: 100%|██████████| 365/365 [00:20<00:00, 18.17it/s]\n"
     ]
    },
    {
     "name": "stdout",
     "output_type": "stream",
     "text": [
      "Avg training loss: 0.0781\n",
      "Time taken: 59.83s\n",
      "==========\n",
      "\n",
      "Start of epoch 59:\n",
      "\n"
     ]
    },
    {
     "name": "stderr",
     "output_type": "stream",
     "text": [
      "TS Data Augmentation: 100%|██████████| 373056/373056 [00:31<00:00, 11705.52it/s]\n",
      "Training Model: 100%|██████████| 365/365 [00:20<00:00, 17.82it/s]\n"
     ]
    },
    {
     "name": "stdout",
     "output_type": "stream",
     "text": [
      "Avg training loss: 0.0753\n",
      "Time taken: 61.68s\n",
      "==========\n",
      "\n",
      "Start of epoch 60:\n",
      "\n"
     ]
    },
    {
     "name": "stderr",
     "output_type": "stream",
     "text": [
      "TS Data Augmentation: 100%|██████████| 373056/373056 [00:31<00:00, 12009.48it/s]\n",
      "Training Model: 100%|██████████| 365/365 [00:24<00:00, 14.75it/s]\n"
     ]
    },
    {
     "name": "stdout",
     "output_type": "stream",
     "text": [
      "Avg training loss: 0.0632\n",
      "Time taken: 65.98s\n",
      "==========\n",
      "\n",
      "Start of epoch 61:\n",
      "\n"
     ]
    },
    {
     "name": "stderr",
     "output_type": "stream",
     "text": [
      "TS Data Augmentation: 100%|██████████| 373056/373056 [00:30<00:00, 12300.31it/s]\n",
      "Training Model: 100%|██████████| 365/365 [00:20<00:00, 17.61it/s]\n"
     ]
    },
    {
     "name": "stdout",
     "output_type": "stream",
     "text": [
      "Avg training loss: 0.0742\n",
      "Time taken: 60.38s\n",
      "==========\n",
      "\n",
      "Start of epoch 62:\n",
      "\n"
     ]
    },
    {
     "name": "stderr",
     "output_type": "stream",
     "text": [
      "TS Data Augmentation: 100%|██████████| 373056/373056 [00:32<00:00, 11628.65it/s]\n",
      "Training Model: 100%|██████████| 365/365 [00:19<00:00, 18.40it/s]\n"
     ]
    },
    {
     "name": "stdout",
     "output_type": "stream",
     "text": [
      "Avg training loss: 0.0774\n",
      "Time taken: 60.89s\n",
      "==========\n",
      "\n",
      "Start of epoch 63:\n",
      "\n"
     ]
    },
    {
     "name": "stderr",
     "output_type": "stream",
     "text": [
      "TS Data Augmentation: 100%|██████████| 373056/373056 [00:30<00:00, 12062.57it/s]\n",
      "Training Model: 100%|██████████| 365/365 [00:20<00:00, 17.77it/s]\n"
     ]
    },
    {
     "name": "stdout",
     "output_type": "stream",
     "text": [
      "Avg training loss: 0.0730\n",
      "Time taken: 61.61s\n",
      "==========\n",
      "\n",
      "Start of epoch 64:\n",
      "\n"
     ]
    },
    {
     "name": "stderr",
     "output_type": "stream",
     "text": [
      "TS Data Augmentation: 100%|██████████| 373056/373056 [00:30<00:00, 12253.04it/s]\n",
      "Training Model: 100%|██████████| 365/365 [00:22<00:00, 16.33it/s]\n"
     ]
    },
    {
     "name": "stdout",
     "output_type": "stream",
     "text": [
      "Avg training loss: 0.0678\n",
      "Time taken: 62.22s\n",
      "==========\n",
      "\n",
      "Start of epoch 65:\n",
      "\n"
     ]
    },
    {
     "name": "stderr",
     "output_type": "stream",
     "text": [
      "TS Data Augmentation: 100%|██████████| 373056/373056 [00:31<00:00, 11717.49it/s]\n",
      "Training Model: 100%|██████████| 365/365 [00:19<00:00, 18.46it/s]\n"
     ]
    },
    {
     "name": "stdout",
     "output_type": "stream",
     "text": [
      "Avg training loss: 0.0771\n",
      "Time taken: 60.61s\n",
      "==========\n",
      "\n",
      "Start of epoch 66:\n",
      "\n"
     ]
    },
    {
     "name": "stderr",
     "output_type": "stream",
     "text": [
      "TS Data Augmentation: 100%|██████████| 373056/373056 [00:31<00:00, 11834.32it/s]\n",
      "Training Model: 100%|██████████| 365/365 [00:22<00:00, 16.58it/s]\n"
     ]
    },
    {
     "name": "stdout",
     "output_type": "stream",
     "text": [
      "Avg training loss: 0.0681\n",
      "Time taken: 63.19s\n",
      "==========\n",
      "\n",
      "Start of epoch 67:\n",
      "\n"
     ]
    },
    {
     "name": "stderr",
     "output_type": "stream",
     "text": [
      "TS Data Augmentation: 100%|██████████| 373056/373056 [00:30<00:00, 12414.40it/s]\n",
      "Training Model: 100%|██████████| 365/365 [00:12<00:00, 30.13it/s]\n"
     ]
    },
    {
     "name": "stdout",
     "output_type": "stream",
     "text": [
      "Avg training loss: 0.1325\n",
      "Time taken: 51.01s\n",
      "==========\n",
      "\n",
      "Start of epoch 68:\n",
      "\n"
     ]
    },
    {
     "name": "stderr",
     "output_type": "stream",
     "text": [
      "TS Data Augmentation: 100%|██████████| 373056/373056 [00:31<00:00, 11732.28it/s]\n",
      "Training Model: 100%|██████████| 365/365 [00:18<00:00, 19.26it/s]\n"
     ]
    },
    {
     "name": "stdout",
     "output_type": "stream",
     "text": [
      "Avg training loss: 0.0796\n",
      "Time taken: 59.63s\n",
      "==========\n",
      "\n",
      "Start of epoch 69:\n",
      "\n"
     ]
    },
    {
     "name": "stderr",
     "output_type": "stream",
     "text": [
      "TS Data Augmentation: 100%|██████████| 373056/373056 [00:30<00:00, 12241.44it/s]\n",
      "Training Model: 100%|██████████| 365/365 [00:24<00:00, 15.12it/s]\n"
     ]
    },
    {
     "name": "stdout",
     "output_type": "stream",
     "text": [
      "Avg training loss: 0.0616\n",
      "Time taken: 64.74s\n",
      "==========\n",
      "\n",
      "Start of epoch 70:\n",
      "\n"
     ]
    },
    {
     "name": "stderr",
     "output_type": "stream",
     "text": [
      "TS Data Augmentation: 100%|██████████| 373056/373056 [00:30<00:00, 12108.72it/s]\n",
      "Training Model: 100%|██████████| 365/365 [00:17<00:00, 20.40it/s]\n"
     ]
    },
    {
     "name": "stdout",
     "output_type": "stream",
     "text": [
      "Avg training loss: 0.0835\n",
      "Time taken: 57.80s\n",
      "==========\n",
      "\n",
      "Start of epoch 71:\n",
      "\n"
     ]
    },
    {
     "name": "stderr",
     "output_type": "stream",
     "text": [
      "TS Data Augmentation: 100%|██████████| 373056/373056 [00:31<00:00, 11728.11it/s]\n",
      "Training Model: 100%|██████████| 365/365 [00:26<00:00, 14.03it/s]\n"
     ]
    },
    {
     "name": "stdout",
     "output_type": "stream",
     "text": [
      "Avg training loss: 0.0572\n",
      "Time taken: 67.27s\n",
      "==========\n",
      "\n",
      "Start of epoch 72:\n",
      "\n"
     ]
    },
    {
     "name": "stderr",
     "output_type": "stream",
     "text": [
      "TS Data Augmentation: 100%|██████████| 373056/373056 [00:30<00:00, 12113.29it/s]\n",
      "Training Model: 100%|██████████| 365/365 [00:17<00:00, 21.37it/s]\n"
     ]
    },
    {
     "name": "stdout",
     "output_type": "stream",
     "text": [
      "Avg training loss: 0.0865\n",
      "Time taken: 57.70s\n",
      "==========\n",
      "\n",
      "Start of epoch 73:\n",
      "\n"
     ]
    },
    {
     "name": "stderr",
     "output_type": "stream",
     "text": [
      "TS Data Augmentation: 100%|██████████| 373056/373056 [00:30<00:00, 12135.13it/s]\n",
      "Training Model: 100%|██████████| 365/365 [00:15<00:00, 23.35it/s]\n"
     ]
    },
    {
     "name": "stdout",
     "output_type": "stream",
     "text": [
      "Avg training loss: 0.0945\n",
      "Time taken: 55.41s\n",
      "==========\n",
      "\n",
      "Start of epoch 74:\n",
      "\n"
     ]
    },
    {
     "name": "stderr",
     "output_type": "stream",
     "text": [
      "TS Data Augmentation: 100%|██████████| 373056/373056 [00:32<00:00, 11607.45it/s]\n",
      "Training Model: 100%|██████████| 365/365 [00:20<00:00, 18.06it/s]\n"
     ]
    },
    {
     "name": "stdout",
     "output_type": "stream",
     "text": [
      "Avg training loss: 0.0717\n",
      "Time taken: 61.41s\n",
      "==========\n",
      "\n",
      "Start of epoch 75:\n",
      "\n"
     ]
    },
    {
     "name": "stderr",
     "output_type": "stream",
     "text": [
      "TS Data Augmentation: 100%|██████████| 373056/373056 [00:30<00:00, 12065.28it/s]\n",
      "Training Model: 100%|██████████| 365/365 [00:25<00:00, 14.31it/s]\n"
     ]
    },
    {
     "name": "stdout",
     "output_type": "stream",
     "text": [
      "Avg training loss: 0.0572\n",
      "Time taken: 66.69s\n",
      "==========\n",
      "\n",
      "Start of epoch 76:\n",
      "\n"
     ]
    },
    {
     "name": "stderr",
     "output_type": "stream",
     "text": [
      "TS Data Augmentation: 100%|██████████| 373056/373056 [00:30<00:00, 12198.84it/s]\n",
      "Training Model: 100%|██████████| 365/365 [00:13<00:00, 26.50it/s]\n"
     ]
    },
    {
     "name": "stdout",
     "output_type": "stream",
     "text": [
      "Avg training loss: 0.1106\n",
      "Time taken: 53.32s\n",
      "==========\n",
      "\n",
      "Start of epoch 77:\n",
      "\n"
     ]
    },
    {
     "name": "stderr",
     "output_type": "stream",
     "text": [
      "TS Data Augmentation: 100%|██████████| 373056/373056 [00:32<00:00, 11656.69it/s]\n",
      "Training Model: 100%|██████████| 365/365 [00:10<00:00, 33.77it/s]\n"
     ]
    },
    {
     "name": "stdout",
     "output_type": "stream",
     "text": [
      "Avg training loss: 0.1489\n",
      "Time taken: 51.29s\n",
      "==========\n",
      "\n",
      "Start of epoch 78:\n",
      "\n"
     ]
    },
    {
     "name": "stderr",
     "output_type": "stream",
     "text": [
      "TS Data Augmentation: 100%|██████████| 373056/373056 [00:31<00:00, 11920.89it/s]\n",
      "Training Model: 100%|██████████| 365/365 [00:27<00:00, 13.14it/s]\n"
     ]
    },
    {
     "name": "stdout",
     "output_type": "stream",
     "text": [
      "Avg training loss: 0.0543\n",
      "Time taken: 69.45s\n",
      "Best model is at epoch 78 Saving\n",
      "==========\n",
      "\n",
      "Start of epoch 79:\n",
      "\n"
     ]
    },
    {
     "name": "stderr",
     "output_type": "stream",
     "text": [
      "TS Data Augmentation: 100%|██████████| 373056/373056 [00:30<00:00, 12263.96it/s]\n",
      "Training Model: 100%|██████████| 365/365 [00:26<00:00, 13.81it/s]\n"
     ]
    },
    {
     "name": "stdout",
     "output_type": "stream",
     "text": [
      "Avg training loss: 0.0540\n",
      "Time taken: 66.40s\n",
      "Best model is at epoch 79 Saving\n",
      "==========\n",
      "\n",
      "Start of epoch 80:\n",
      "\n"
     ]
    },
    {
     "name": "stderr",
     "output_type": "stream",
     "text": [
      "TS Data Augmentation: 100%|██████████| 373056/373056 [00:31<00:00, 11678.10it/s]\n",
      "Training Model: 100%|██████████| 365/365 [00:26<00:00, 13.97it/s]\n"
     ]
    },
    {
     "name": "stdout",
     "output_type": "stream",
     "text": [
      "Avg training loss: 0.0542\n",
      "Time taken: 67.41s\n",
      "==========\n",
      "\n",
      "Start of epoch 81:\n",
      "\n"
     ]
    },
    {
     "name": "stderr",
     "output_type": "stream",
     "text": [
      "TS Data Augmentation: 100%|██████████| 373056/373056 [00:31<00:00, 11755.33it/s]\n",
      "Training Model: 100%|██████████| 365/365 [00:28<00:00, 12.73it/s]\n"
     ]
    },
    {
     "name": "stdout",
     "output_type": "stream",
     "text": [
      "Avg training loss: 0.0486\n",
      "Time taken: 70.44s\n",
      "Best model is at epoch 81 Saving\n",
      "==========\n",
      "\n",
      "Start of epoch 82:\n",
      "\n"
     ]
    },
    {
     "name": "stderr",
     "output_type": "stream",
     "text": [
      "TS Data Augmentation: 100%|██████████| 373056/373056 [00:30<00:00, 12048.04it/s]\n",
      "Training Model: 100%|██████████| 365/365 [00:26<00:00, 13.87it/s]\n"
     ]
    },
    {
     "name": "stdout",
     "output_type": "stream",
     "text": [
      "Avg training loss: 0.0527\n",
      "Time taken: 67.68s\n",
      "==========\n",
      "\n",
      "Start of epoch 83:\n",
      "\n"
     ]
    },
    {
     "name": "stderr",
     "output_type": "stream",
     "text": [
      "TS Data Augmentation: 100%|██████████| 373056/373056 [00:30<00:00, 12212.06it/s]\n",
      "Training Model: 100%|██████████| 365/365 [00:26<00:00, 13.83it/s]\n"
     ]
    },
    {
     "name": "stdout",
     "output_type": "stream",
     "text": [
      "Avg training loss: 0.0518\n",
      "Time taken: 66.50s\n",
      "==========\n",
      "\n",
      "Start of epoch 84:\n",
      "\n"
     ]
    },
    {
     "name": "stderr",
     "output_type": "stream",
     "text": [
      "TS Data Augmentation: 100%|██████████| 373056/373056 [00:32<00:00, 11625.58it/s]\n",
      "Training Model: 100%|██████████| 365/365 [00:12<00:00, 29.22it/s]\n"
     ]
    },
    {
     "name": "stdout",
     "output_type": "stream",
     "text": [
      "Avg training loss: 0.1234\n",
      "Time taken: 53.22s\n",
      "==========\n",
      "\n",
      "Start of epoch 85:\n",
      "\n"
     ]
    },
    {
     "name": "stderr",
     "output_type": "stream",
     "text": [
      "TS Data Augmentation: 100%|██████████| 373056/373056 [00:30<00:00, 12152.84it/s]\n",
      "Training Model: 100%|██████████| 365/365 [00:18<00:00, 20.21it/s]\n"
     ]
    },
    {
     "name": "stdout",
     "output_type": "stream",
     "text": [
      "Avg training loss: 0.0792\n",
      "Time taken: 58.66s\n",
      "==========\n",
      "\n",
      "Start of epoch 86:\n",
      "\n"
     ]
    },
    {
     "name": "stderr",
     "output_type": "stream",
     "text": [
      "TS Data Augmentation: 100%|██████████| 373056/373056 [00:30<00:00, 12227.99it/s]\n",
      "Training Model: 100%|██████████| 365/365 [00:14<00:00, 25.65it/s]\n"
     ]
    },
    {
     "name": "stdout",
     "output_type": "stream",
     "text": [
      "Avg training loss: 0.1001\n",
      "Time taken: 53.65s\n",
      "==========\n",
      "\n",
      "Start of epoch 87:\n",
      "\n"
     ]
    },
    {
     "name": "stderr",
     "output_type": "stream",
     "text": [
      "TS Data Augmentation: 100%|██████████| 373056/373056 [00:31<00:00, 11689.54it/s]\n",
      "Training Model: 100%|██████████| 365/365 [00:26<00:00, 13.65it/s]\n"
     ]
    },
    {
     "name": "stdout",
     "output_type": "stream",
     "text": [
      "Avg training loss: 0.0511\n",
      "Time taken: 68.02s\n",
      "==========\n",
      "\n",
      "Start of epoch 88:\n",
      "\n"
     ]
    },
    {
     "name": "stderr",
     "output_type": "stream",
     "text": [
      "TS Data Augmentation: 100%|██████████| 373056/373056 [00:31<00:00, 11913.09it/s]\n",
      "Training Model: 100%|██████████| 365/365 [00:13<00:00, 26.67it/s]\n"
     ]
    },
    {
     "name": "stdout",
     "output_type": "stream",
     "text": [
      "Avg training loss: 0.1075\n",
      "Time taken: 54.61s\n",
      "==========\n",
      "\n",
      "Start of epoch 89:\n",
      "\n"
     ]
    },
    {
     "name": "stderr",
     "output_type": "stream",
     "text": [
      "TS Data Augmentation: 100%|██████████| 373056/373056 [00:30<00:00, 12293.16it/s]\n",
      "Training Model: 100%|██████████| 365/365 [00:19<00:00, 19.13it/s]\n"
     ]
    },
    {
     "name": "stdout",
     "output_type": "stream",
     "text": [
      "Avg training loss: 0.0735\n",
      "Time taken: 58.72s\n",
      "==========\n",
      "\n",
      "Start of epoch 90:\n",
      "\n"
     ]
    },
    {
     "name": "stderr",
     "output_type": "stream",
     "text": [
      "TS Data Augmentation: 100%|██████████| 373056/373056 [00:32<00:00, 11637.55it/s]\n",
      "Training Model: 100%|██████████| 365/365 [00:16<00:00, 22.25it/s]\n"
     ]
    },
    {
     "name": "stdout",
     "output_type": "stream",
     "text": [
      "Avg training loss: 0.0855\n",
      "Time taken: 57.24s\n",
      "==========\n",
      "\n",
      "Start of epoch 91:\n",
      "\n"
     ]
    },
    {
     "name": "stderr",
     "output_type": "stream",
     "text": [
      "TS Data Augmentation: 100%|██████████| 373056/373056 [00:30<00:00, 12164.46it/s]\n",
      "Training Model: 100%|██████████| 365/365 [00:25<00:00, 14.10it/s]\n"
     ]
    },
    {
     "name": "stdout",
     "output_type": "stream",
     "text": [
      "Avg training loss: 0.0526\n",
      "Time taken: 66.86s\n",
      "==========\n",
      "\n",
      "Start of epoch 92:\n",
      "\n"
     ]
    },
    {
     "name": "stderr",
     "output_type": "stream",
     "text": [
      "TS Data Augmentation: 100%|██████████| 373056/373056 [00:30<00:00, 12127.86it/s]\n",
      "Training Model: 100%|██████████| 365/365 [00:19<00:00, 18.87it/s]\n"
     ]
    },
    {
     "name": "stdout",
     "output_type": "stream",
     "text": [
      "Avg training loss: 0.0715\n",
      "Time taken: 59.23s\n",
      "==========\n",
      "\n",
      "Start of epoch 93:\n",
      "\n"
     ]
    },
    {
     "name": "stderr",
     "output_type": "stream",
     "text": [
      "TS Data Augmentation: 100%|██████████| 373056/373056 [00:32<00:00, 11636.93it/s]\n",
      "Training Model: 100%|██████████| 365/365 [00:16<00:00, 21.51it/s]\n"
     ]
    },
    {
     "name": "stdout",
     "output_type": "stream",
     "text": [
      "Avg training loss: 0.0814\n",
      "Time taken: 58.09s\n",
      "==========\n",
      "\n",
      "Start of epoch 94:\n",
      "\n"
     ]
    },
    {
     "name": "stderr",
     "output_type": "stream",
     "text": [
      "TS Data Augmentation: 100%|██████████| 373056/373056 [00:31<00:00, 12025.72it/s]\n",
      "Training Model: 100%|██████████| 365/365 [00:26<00:00, 13.80it/s]\n"
     ]
    },
    {
     "name": "stdout",
     "output_type": "stream",
     "text": [
      "Avg training loss: 0.0501\n",
      "Time taken: 67.82s\n",
      "==========\n",
      "\n",
      "Start of epoch 95:\n",
      "\n"
     ]
    },
    {
     "name": "stderr",
     "output_type": "stream",
     "text": [
      "TS Data Augmentation: 100%|██████████| 373056/373056 [00:30<00:00, 12313.96it/s]\n",
      "Training Model: 100%|██████████| 365/365 [00:09<00:00, 38.46it/s]\n"
     ]
    },
    {
     "name": "stdout",
     "output_type": "stream",
     "text": [
      "Avg training loss: 0.1961\n",
      "Time taken: 48.26s\n",
      "==========\n",
      "\n",
      "Start of epoch 96:\n",
      "\n"
     ]
    },
    {
     "name": "stderr",
     "output_type": "stream",
     "text": [
      "TS Data Augmentation: 100%|██████████| 373056/373056 [00:32<00:00, 11634.41it/s]\n",
      "Training Model: 100%|██████████| 365/365 [00:20<00:00, 17.54it/s]\n"
     ]
    },
    {
     "name": "stdout",
     "output_type": "stream",
     "text": [
      "Avg training loss: 0.0668\n",
      "Time taken: 62.08s\n",
      "==========\n",
      "\n",
      "Start of epoch 97:\n",
      "\n"
     ]
    },
    {
     "name": "stderr",
     "output_type": "stream",
     "text": [
      "TS Data Augmentation: 100%|██████████| 373056/373056 [00:30<00:00, 12146.31it/s]\n",
      "Training Model: 100%|██████████| 365/365 [00:12<00:00, 28.11it/s]\n"
     ]
    },
    {
     "name": "stdout",
     "output_type": "stream",
     "text": [
      "Avg training loss: 0.1143\n",
      "Time taken: 53.18s\n",
      "==========\n",
      "\n",
      "Start of epoch 98:\n",
      "\n"
     ]
    },
    {
     "name": "stderr",
     "output_type": "stream",
     "text": [
      "TS Data Augmentation: 100%|██████████| 373056/373056 [00:30<00:00, 12131.28it/s]\n",
      "Training Model: 100%|██████████| 365/365 [00:27<00:00, 13.10it/s]\n"
     ]
    },
    {
     "name": "stdout",
     "output_type": "stream",
     "text": [
      "Avg training loss: 0.0479\n",
      "Time taken: 68.19s\n",
      "Best model is at epoch 98 Saving\n",
      "==========\n",
      "\n",
      "Start of epoch 99:\n",
      "\n"
     ]
    },
    {
     "name": "stderr",
     "output_type": "stream",
     "text": [
      "TS Data Augmentation: 100%|██████████| 373056/373056 [00:31<00:00, 11687.59it/s]\n",
      "Training Model: 100%|██████████| 365/365 [00:24<00:00, 14.90it/s]\n"
     ]
    },
    {
     "name": "stdout",
     "output_type": "stream",
     "text": [
      "Avg training loss: 0.0540\n",
      "Time taken: 65.76s\n",
      "==========\n",
      "Running inference for validation...\n"
     ]
    },
    {
     "name": "stderr",
     "output_type": "stream",
     "text": [
      "TS Data Augmentation: 100%|██████████| 19635/19635 [00:01<00:00, 11142.14it/s]\n"
     ]
    },
    {
     "name": "stdout",
     "output_type": "stream",
     "text": [
      "614/614 [==============================] - 6s 7ms/step\n"
     ]
    }
   ],
   "source": [
    "alpha=0.5\n",
    "model_dir=Path(f\"models/lsst_alpha_{alpha}\")\n",
    "learning_rate=5e-4\n",
    "\n",
    "train_model(num_epochs=num_epochs,\n",
    "            batch_size=batch_size,\n",
    "            learning_rate=learning_rate, \n",
    "            latent_size=latent_size, \n",
    "            alpha=alpha, \n",
    "            max_class_count=max_class_count, \n",
    "            train_dir=train_dir, \n",
    "            model_dir=model_dir)"
   ]
  },
  {
   "cell_type": "code",
   "execution_count": 3,
   "id": "86c72bb8-e7cc-4f87-8338-f99cc6c9223c",
   "metadata": {
    "collapsed": true,
    "jupyter": {
     "outputs_hidden": true
    },
    "tags": []
   },
   "outputs": [
    {
     "name": "stdout",
     "output_type": "stream",
     "text": [
      "Loading training data from disc...\n",
      "Summary of all training data\n",
      "Total sample count = 1081614\n",
      "            Class   Count\n",
      "0             AGN   76258\n",
      "1            CART    8207\n",
      "2         Cepheid   13771\n",
      "3     Delta Scuti   20650\n",
      "4     Dwarf Novae    8025\n",
      "5              EB   66454\n",
      "6            ILOT    7461\n",
      "7              KN    4426\n",
      "8   M-dwarf Flare    1859\n",
      "9            PISN   63586\n",
      "10       RR Lyrae   14033\n",
      "11           SLSN   66088\n",
      "12        SNI91bg   28637\n",
      "13           SNII  301544\n",
      "14           SNIa  120739\n",
      "15          SNIax   28030\n",
      "16         SNIb/c  168254\n",
      "17            TDE   66000\n",
      "18          uLens   17592\n"
     ]
    },
    {
     "name": "stderr",
     "output_type": "stream",
     "text": [
      "Converting dictionaries to arrays: 100%|██████████| 1081614/1081614 [00:07<00:00, 154298.94it/s]\n"
     ]
    },
    {
     "name": "stdout",
     "output_type": "stream",
     "text": [
      "Summary of training data used\n",
      "            Class  Count\n",
      "0             AGN  30000\n",
      "1            CART   8207\n",
      "2         Cepheid  13771\n",
      "3     Delta Scuti  20650\n",
      "4     Dwarf Novae   8025\n",
      "5              EB  30000\n",
      "6            ILOT   7461\n",
      "7              KN   4426\n",
      "8   M-dwarf Flare   1859\n",
      "9            PISN  30000\n",
      "10       RR Lyrae  14033\n",
      "11           SLSN  30000\n",
      "12        SNI91bg  28637\n",
      "13           SNII  30000\n",
      "14           SNIa  30000\n",
      "15          SNIax  28030\n",
      "16         SNIb/c  30000\n",
      "17            TDE  30000\n",
      "18          uLens  17592\n"
     ]
    },
    {
     "name": "stderr",
     "output_type": "stream",
     "text": [
      "2024-06-28 13:42:27.728218: I tensorflow/core/common_runtime/gpu/gpu_device.cc:1926] Created device /job:localhost/replica:0/task:0/device:GPU:0 with 31127 MB memory:  -> device: 0, name: Tesla V100-SXM2-32GB, pci bus id: 0000:15:00.0, compute capability: 7.0\n",
      "2024-06-28 13:42:27.730167: I tensorflow/core/common_runtime/gpu/gpu_device.cc:1926] Created device /job:localhost/replica:0/task:0/device:GPU:1 with 31127 MB memory:  -> device: 1, name: Tesla V100-SXM2-32GB, pci bus id: 0000:16:00.0, compute capability: 7.0\n"
     ]
    },
    {
     "name": "stdout",
     "output_type": "stream",
     "text": [
      "TS Input Dim: 5 | Static Input Dim: 23 | Output Dim: 26\n",
      "\n",
      "Start of epoch 0:\n",
      "\n"
     ]
    },
    {
     "name": "stderr",
     "output_type": "stream",
     "text": [
      "TS Data Augmentation: 100%|██████████| 373056/373056 [00:32<00:00, 11390.37it/s]\n",
      "Training Model:   0%|          | 0/365 [00:00<?, ?it/s]2024-06-28 13:43:21.429107: W tensorflow/core/common_runtime/type_inference.cc:339] Type inference failed. This indicates an invalid graph that escaped type checking. Error message: INVALID_ARGUMENT: expected compatible input types, but input 1:\n",
      "type_id: TFT_OPTIONAL\n",
      "args {\n",
      "  type_id: TFT_PRODUCT\n",
      "  args {\n",
      "    type_id: TFT_TENSOR\n",
      "    args {\n",
      "      type_id: TFT_INT32\n",
      "    }\n",
      "  }\n",
      "}\n",
      " is neither a subtype nor a supertype of the combined inputs preceding it:\n",
      "type_id: TFT_OPTIONAL\n",
      "args {\n",
      "  type_id: TFT_PRODUCT\n",
      "  args {\n",
      "    type_id: TFT_TENSOR\n",
      "    args {\n",
      "      type_id: TFT_FLOAT\n",
      "    }\n",
      "  }\n",
      "}\n",
      "\n",
      "\tfor Tuple type infernce function 0\n",
      "\twhile inferring type of node 'cond_18/output/_21'\n",
      "2024-06-28 13:43:22.541450: I external/local_xla/xla/stream_executor/cuda/cuda_dnn.cc:467] Loaded cuDNN version 90000\n",
      "2024-06-28 13:43:23.863292: I external/local_xla/xla/service/service.cc:168] XLA service 0x150f05756ac0 initialized for platform CUDA (this does not guarantee that XLA will be used). Devices:\n",
      "2024-06-28 13:43:23.863319: I external/local_xla/xla/service/service.cc:176]   StreamExecutor device (0): Tesla V100-SXM2-32GB, Compute Capability 7.0\n",
      "2024-06-28 13:43:23.863323: I external/local_xla/xla/service/service.cc:176]   StreamExecutor device (1): Tesla V100-SXM2-32GB, Compute Capability 7.0\n",
      "2024-06-28 13:43:23.883255: I tensorflow/compiler/mlir/tensorflow/utils/dump_mlir_util.cc:269] disabling MLIR crash reproducer, set env var `MLIR_CRASH_REPRODUCER_DIRECTORY` to enable.\n",
      "WARNING: All log messages before absl::InitializeLog() is called are written to STDERR\n",
      "I0000 00:00:1719596604.013268   87223 device_compiler.h:186] Compiled cluster using XLA!  This line is logged at most once for the lifetime of the process.\n",
      "Training Model: 100%|██████████| 365/365 [00:29<00:00, 12.30it/s]\n",
      "/usr/local/lib/python3.10/dist-packages/keras/src/engine/training.py:3103: UserWarning: You are saving your model as an HDF5 file via `model.save()`. This file format is considered legacy. We recommend using instead the native Keras format, e.g. `model.save('my_model.keras')`.\n",
      "  saving_api.save_model(\n"
     ]
    },
    {
     "name": "stdout",
     "output_type": "stream",
     "text": [
      "Avg training loss: 0.0003\n",
      "Time taken: 71.76s\n",
      "Best model is at epoch 0 Saving\n",
      "==========\n",
      "\n",
      "Start of epoch 1:\n",
      "\n"
     ]
    },
    {
     "name": "stderr",
     "output_type": "stream",
     "text": [
      "TS Data Augmentation: 100%|██████████| 373056/373056 [00:30<00:00, 12341.36it/s]\n",
      "Training Model: 100%|██████████| 365/365 [00:19<00:00, 18.39it/s]\n"
     ]
    },
    {
     "name": "stdout",
     "output_type": "stream",
     "text": [
      "Avg training loss: 0.0001\n",
      "Time taken: 58.28s\n",
      "Best model is at epoch 1 Saving\n",
      "==========\n",
      "\n",
      "Start of epoch 2:\n",
      "\n"
     ]
    },
    {
     "name": "stderr",
     "output_type": "stream",
     "text": [
      "TS Data Augmentation: 100%|██████████| 373056/373056 [00:30<00:00, 12037.06it/s]\n",
      "Training Model: 100%|██████████| 365/365 [00:10<00:00, 34.80it/s]\n"
     ]
    },
    {
     "name": "stdout",
     "output_type": "stream",
     "text": [
      "Avg training loss: 0.0000\n",
      "Time taken: 49.09s\n",
      "Best model is at epoch 2 Saving\n",
      "==========\n",
      "\n",
      "Start of epoch 3:\n",
      "\n"
     ]
    },
    {
     "name": "stderr",
     "output_type": "stream",
     "text": [
      "TS Data Augmentation: 100%|██████████| 373056/373056 [00:29<00:00, 12524.80it/s]\n",
      "Training Model: 100%|██████████| 365/365 [00:16<00:00, 22.26it/s]\n"
     ]
    },
    {
     "name": "stdout",
     "output_type": "stream",
     "text": [
      "Avg training loss: 0.0000\n",
      "Time taken: 54.93s\n",
      "Best model is at epoch 3 Saving\n",
      "==========\n",
      "\n",
      "Start of epoch 4:\n",
      "\n"
     ]
    },
    {
     "name": "stderr",
     "output_type": "stream",
     "text": [
      "TS Data Augmentation: 100%|██████████| 373056/373056 [00:29<00:00, 12572.01it/s]\n",
      "Training Model: 100%|██████████| 365/365 [00:26<00:00, 13.83it/s]\n"
     ]
    },
    {
     "name": "stdout",
     "output_type": "stream",
     "text": [
      "Avg training loss: 0.0000\n",
      "Time taken: 64.65s\n",
      "Best model is at epoch 4 Saving\n",
      "==========\n",
      "\n",
      "Start of epoch 5:\n",
      "\n"
     ]
    },
    {
     "name": "stderr",
     "output_type": "stream",
     "text": [
      "TS Data Augmentation: 100%|██████████| 373056/373056 [00:30<00:00, 12128.73it/s]\n",
      "Training Model: 100%|██████████| 365/365 [00:19<00:00, 18.50it/s]\n"
     ]
    },
    {
     "name": "stdout",
     "output_type": "stream",
     "text": [
      "Avg training loss: 0.0000\n",
      "Time taken: 58.48s\n",
      "Best model is at epoch 5 Saving\n",
      "==========\n",
      "\n",
      "Start of epoch 6:\n",
      "\n"
     ]
    },
    {
     "name": "stderr",
     "output_type": "stream",
     "text": [
      "TS Data Augmentation: 100%|██████████| 373056/373056 [00:30<00:00, 12284.57it/s]\n",
      "Training Model: 100%|██████████| 365/365 [00:11<00:00, 31.57it/s]\n"
     ]
    },
    {
     "name": "stdout",
     "output_type": "stream",
     "text": [
      "Avg training loss: 0.0000\n",
      "Time taken: 50.13s\n",
      "Best model is at epoch 6 Saving\n",
      "==========\n",
      "\n",
      "Start of epoch 7:\n",
      "\n"
     ]
    },
    {
     "name": "stderr",
     "output_type": "stream",
     "text": [
      "TS Data Augmentation: 100%|██████████| 373056/373056 [00:29<00:00, 12745.99it/s]\n",
      "Training Model: 100%|██████████| 365/365 [00:14<00:00, 25.14it/s]\n"
     ]
    },
    {
     "name": "stdout",
     "output_type": "stream",
     "text": [
      "Avg training loss: 0.0000\n",
      "Time taken: 51.89s\n",
      "Best model is at epoch 7 Saving\n",
      "==========\n",
      "\n",
      "Start of epoch 8:\n",
      "\n"
     ]
    },
    {
     "name": "stderr",
     "output_type": "stream",
     "text": [
      "TS Data Augmentation: 100%|██████████| 373056/373056 [00:30<00:00, 12055.63it/s]\n",
      "Training Model: 100%|██████████| 365/365 [00:25<00:00, 14.38it/s]\n"
     ]
    },
    {
     "name": "stdout",
     "output_type": "stream",
     "text": [
      "Avg training loss: 0.0000\n",
      "Time taken: 64.64s\n",
      "Best model is at epoch 8 Saving\n",
      "==========\n",
      "\n",
      "Start of epoch 9:\n",
      "\n"
     ]
    },
    {
     "name": "stderr",
     "output_type": "stream",
     "text": [
      "TS Data Augmentation: 100%|██████████| 373056/373056 [00:30<00:00, 12351.68it/s]\n",
      "Training Model: 100%|██████████| 365/365 [00:18<00:00, 20.08it/s]\n"
     ]
    },
    {
     "name": "stdout",
     "output_type": "stream",
     "text": [
      "Avg training loss: 0.0000\n",
      "Time taken: 57.33s\n",
      "Best model is at epoch 9 Saving\n",
      "==========\n",
      "\n",
      "Start of epoch 10:\n",
      "\n"
     ]
    },
    {
     "name": "stderr",
     "output_type": "stream",
     "text": [
      "TS Data Augmentation: 100%|██████████| 373056/373056 [00:29<00:00, 12576.83it/s]\n",
      "Training Model: 100%|██████████| 365/365 [00:12<00:00, 28.20it/s]\n"
     ]
    },
    {
     "name": "stdout",
     "output_type": "stream",
     "text": [
      "Avg training loss: 0.0000\n",
      "Time taken: 50.68s\n",
      "Best model is at epoch 10 Saving\n",
      "==========\n",
      "\n",
      "Start of epoch 11:\n",
      "\n"
     ]
    },
    {
     "name": "stderr",
     "output_type": "stream",
     "text": [
      "TS Data Augmentation: 100%|██████████| 373056/373056 [00:30<00:00, 12083.70it/s]\n",
      "Training Model: 100%|██████████| 365/365 [00:26<00:00, 13.84it/s]\n"
     ]
    },
    {
     "name": "stdout",
     "output_type": "stream",
     "text": [
      "Avg training loss: 0.0000\n",
      "Time taken: 65.65s\n",
      "Best model is at epoch 11 Saving\n",
      "==========\n",
      "\n",
      "Start of epoch 12:\n",
      "\n"
     ]
    },
    {
     "name": "stderr",
     "output_type": "stream",
     "text": [
      "TS Data Augmentation: 100%|██████████| 373056/373056 [00:30<00:00, 12071.31it/s]\n",
      "Training Model: 100%|██████████| 365/365 [00:28<00:00, 12.93it/s]\n"
     ]
    },
    {
     "name": "stdout",
     "output_type": "stream",
     "text": [
      "Avg training loss: 0.0000\n",
      "Time taken: 68.06s\n",
      "Best model is at epoch 12 Saving\n",
      "==========\n",
      "\n",
      "Start of epoch 13:\n",
      "\n"
     ]
    },
    {
     "name": "stderr",
     "output_type": "stream",
     "text": [
      "TS Data Augmentation: 100%|██████████| 373056/373056 [00:29<00:00, 12550.35it/s]\n",
      "Training Model: 100%|██████████| 365/365 [00:13<00:00, 26.44it/s]\n"
     ]
    },
    {
     "name": "stdout",
     "output_type": "stream",
     "text": [
      "Avg training loss: 0.0000\n",
      "Time taken: 51.90s\n",
      "Best model is at epoch 13 Saving\n",
      "==========\n",
      "\n",
      "Start of epoch 14:\n",
      "\n"
     ]
    },
    {
     "name": "stderr",
     "output_type": "stream",
     "text": [
      "TS Data Augmentation: 100%|██████████| 373056/373056 [00:30<00:00, 12309.96it/s]\n",
      "Training Model: 100%|██████████| 365/365 [00:17<00:00, 20.61it/s]\n"
     ]
    },
    {
     "name": "stdout",
     "output_type": "stream",
     "text": [
      "Avg training loss: 0.0000\n",
      "Time taken: 56.11s\n",
      "Best model is at epoch 14 Saving\n",
      "==========\n",
      "\n",
      "Start of epoch 15:\n",
      "\n"
     ]
    },
    {
     "name": "stderr",
     "output_type": "stream",
     "text": [
      "TS Data Augmentation: 100%|██████████| 373056/373056 [00:30<00:00, 12238.41it/s]\n",
      "Training Model: 100%|██████████| 365/365 [00:20<00:00, 17.79it/s]\n"
     ]
    },
    {
     "name": "stdout",
     "output_type": "stream",
     "text": [
      "Avg training loss: 0.0000\n",
      "Time taken: 59.77s\n",
      "Best model is at epoch 15 Saving\n",
      "==========\n",
      "\n",
      "Start of epoch 16:\n",
      "\n"
     ]
    },
    {
     "name": "stderr",
     "output_type": "stream",
     "text": [
      "TS Data Augmentation: 100%|██████████| 373056/373056 [00:29<00:00, 12483.99it/s]\n",
      "Training Model: 100%|██████████| 365/365 [00:21<00:00, 16.76it/s]\n"
     ]
    },
    {
     "name": "stdout",
     "output_type": "stream",
     "text": [
      "Avg training loss: 0.0000\n",
      "Time taken: 60.61s\n",
      "Best model is at epoch 16 Saving\n",
      "==========\n",
      "\n",
      "Start of epoch 17:\n",
      "\n"
     ]
    },
    {
     "name": "stderr",
     "output_type": "stream",
     "text": [
      "TS Data Augmentation: 100%|██████████| 373056/373056 [00:29<00:00, 12772.91it/s]\n",
      "Training Model: 100%|██████████| 365/365 [00:26<00:00, 13.72it/s]\n"
     ]
    },
    {
     "name": "stdout",
     "output_type": "stream",
     "text": [
      "Avg training loss: 0.0000\n",
      "Time taken: 64.31s\n",
      "Best model is at epoch 17 Saving\n",
      "==========\n",
      "\n",
      "Start of epoch 18:\n",
      "\n"
     ]
    },
    {
     "name": "stderr",
     "output_type": "stream",
     "text": [
      "TS Data Augmentation: 100%|██████████| 373056/373056 [00:30<00:00, 12153.92it/s]\n",
      "Training Model: 100%|██████████| 365/365 [00:27<00:00, 13.41it/s]\n"
     ]
    },
    {
     "name": "stdout",
     "output_type": "stream",
     "text": [
      "Avg training loss: 0.0000\n",
      "Time taken: 66.42s\n",
      "Best model is at epoch 18 Saving\n",
      "==========\n",
      "\n",
      "Start of epoch 19:\n",
      "\n"
     ]
    },
    {
     "name": "stderr",
     "output_type": "stream",
     "text": [
      "TS Data Augmentation: 100%|██████████| 373056/373056 [00:29<00:00, 12676.56it/s]\n",
      "Training Model: 100%|██████████| 365/365 [00:20<00:00, 17.94it/s]\n"
     ]
    },
    {
     "name": "stdout",
     "output_type": "stream",
     "text": [
      "Avg training loss: 0.0000\n",
      "Time taken: 58.76s\n",
      "Best model is at epoch 19 Saving\n",
      "==========\n",
      "\n",
      "Start of epoch 20:\n",
      "\n"
     ]
    },
    {
     "name": "stderr",
     "output_type": "stream",
     "text": [
      "TS Data Augmentation: 100%|██████████| 373056/373056 [00:29<00:00, 12682.19it/s]\n",
      "Training Model: 100%|██████████| 365/365 [00:12<00:00, 28.42it/s]\n"
     ]
    },
    {
     "name": "stdout",
     "output_type": "stream",
     "text": [
      "Avg training loss: 0.0000\n",
      "Time taken: 50.18s\n",
      "Best model is at epoch 20 Saving\n",
      "==========\n",
      "\n",
      "Start of epoch 21:\n",
      "\n"
     ]
    },
    {
     "name": "stderr",
     "output_type": "stream",
     "text": [
      "TS Data Augmentation: 100%|██████████| 373056/373056 [00:30<00:00, 12232.20it/s]\n",
      "Training Model: 100%|██████████| 365/365 [00:15<00:00, 23.11it/s]\n"
     ]
    },
    {
     "name": "stdout",
     "output_type": "stream",
     "text": [
      "Avg training loss: 0.0000\n",
      "Time taken: 54.53s\n",
      "Best model is at epoch 21 Saving\n",
      "==========\n",
      "\n",
      "Start of epoch 22:\n",
      "\n"
     ]
    },
    {
     "name": "stderr",
     "output_type": "stream",
     "text": [
      "TS Data Augmentation: 100%|██████████| 373056/373056 [00:29<00:00, 12707.75it/s]\n",
      "Training Model: 100%|██████████| 365/365 [00:15<00:00, 23.06it/s]\n"
     ]
    },
    {
     "name": "stdout",
     "output_type": "stream",
     "text": [
      "Avg training loss: 0.0000\n",
      "Time taken: 53.90s\n",
      "Best model is at epoch 22 Saving\n",
      "==========\n",
      "\n",
      "Start of epoch 23:\n",
      "\n"
     ]
    },
    {
     "name": "stderr",
     "output_type": "stream",
     "text": [
      "TS Data Augmentation: 100%|██████████| 373056/373056 [00:29<00:00, 12545.70it/s]\n",
      "Training Model: 100%|██████████| 365/365 [00:24<00:00, 14.73it/s]\n"
     ]
    },
    {
     "name": "stdout",
     "output_type": "stream",
     "text": [
      "Avg training loss: 0.0000\n",
      "Time taken: 62.94s\n",
      "Best model is at epoch 23 Saving\n",
      "==========\n",
      "\n",
      "Start of epoch 24:\n",
      "\n"
     ]
    },
    {
     "name": "stderr",
     "output_type": "stream",
     "text": [
      "TS Data Augmentation: 100%|██████████| 373056/373056 [00:30<00:00, 12145.58it/s]\n",
      "Training Model: 100%|██████████| 365/365 [00:26<00:00, 14.01it/s]\n"
     ]
    },
    {
     "name": "stdout",
     "output_type": "stream",
     "text": [
      "Avg training loss: 0.0000\n",
      "Time taken: 65.31s\n",
      "Best model is at epoch 24 Saving\n",
      "==========\n",
      "\n",
      "Start of epoch 25:\n",
      "\n"
     ]
    },
    {
     "name": "stderr",
     "output_type": "stream",
     "text": [
      "TS Data Augmentation: 100%|██████████| 373056/373056 [00:29<00:00, 12730.80it/s]\n",
      "Training Model: 100%|██████████| 365/365 [00:19<00:00, 19.03it/s]\n"
     ]
    },
    {
     "name": "stdout",
     "output_type": "stream",
     "text": [
      "Avg training loss: 0.0000\n",
      "Time taken: 57.08s\n",
      "Best model is at epoch 25 Saving\n",
      "==========\n",
      "\n",
      "Start of epoch 26:\n",
      "\n"
     ]
    },
    {
     "name": "stderr",
     "output_type": "stream",
     "text": [
      "TS Data Augmentation: 100%|██████████| 373056/373056 [00:30<00:00, 12264.91it/s]\n",
      "Training Model: 100%|██████████| 365/365 [00:15<00:00, 22.98it/s]\n"
     ]
    },
    {
     "name": "stdout",
     "output_type": "stream",
     "text": [
      "Avg training loss: 0.0000\n",
      "Time taken: 54.14s\n",
      "Best model is at epoch 26 Saving\n",
      "==========\n",
      "\n",
      "Start of epoch 27:\n",
      "\n"
     ]
    },
    {
     "name": "stderr",
     "output_type": "stream",
     "text": [
      "TS Data Augmentation: 100%|██████████| 373056/373056 [00:30<00:00, 12263.96it/s]\n",
      "Training Model: 100%|██████████| 365/365 [00:12<00:00, 29.60it/s]\n"
     ]
    },
    {
     "name": "stdout",
     "output_type": "stream",
     "text": [
      "Avg training loss: 0.0000\n",
      "Time taken: 51.08s\n",
      "Best model is at epoch 27 Saving\n",
      "==========\n",
      "\n",
      "Start of epoch 28:\n",
      "\n"
     ]
    },
    {
     "name": "stderr",
     "output_type": "stream",
     "text": [
      "TS Data Augmentation: 100%|██████████| 373056/373056 [00:29<00:00, 12510.03it/s]\n",
      "Training Model: 100%|██████████| 365/365 [00:21<00:00, 16.94it/s]\n"
     ]
    },
    {
     "name": "stdout",
     "output_type": "stream",
     "text": [
      "Avg training loss: 0.0000\n",
      "Time taken: 60.35s\n",
      "Best model is at epoch 28 Saving\n",
      "==========\n",
      "\n",
      "Start of epoch 29:\n",
      "\n"
     ]
    },
    {
     "name": "stderr",
     "output_type": "stream",
     "text": [
      "TS Data Augmentation: 100%|██████████| 373056/373056 [00:29<00:00, 12474.03it/s]\n",
      "Training Model: 100%|██████████| 365/365 [00:23<00:00, 15.64it/s]\n"
     ]
    },
    {
     "name": "stdout",
     "output_type": "stream",
     "text": [
      "Avg training loss: 0.0000\n",
      "Time taken: 61.59s\n",
      "Best model is at epoch 29 Saving\n",
      "==========\n",
      "\n",
      "Start of epoch 30:\n",
      "\n"
     ]
    },
    {
     "name": "stderr",
     "output_type": "stream",
     "text": [
      "TS Data Augmentation: 100%|██████████| 373056/373056 [00:30<00:00, 12105.50it/s]\n",
      "Training Model: 100%|██████████| 365/365 [00:27<00:00, 13.32it/s]\n"
     ]
    },
    {
     "name": "stdout",
     "output_type": "stream",
     "text": [
      "Avg training loss: 0.0000\n",
      "Time taken: 66.96s\n",
      "Best model is at epoch 30 Saving\n",
      "==========\n",
      "\n",
      "Start of epoch 31:\n",
      "\n"
     ]
    },
    {
     "name": "stderr",
     "output_type": "stream",
     "text": [
      "TS Data Augmentation: 100%|██████████| 373056/373056 [00:29<00:00, 12773.67it/s]\n",
      "Training Model: 100%|██████████| 365/365 [00:14<00:00, 25.58it/s]\n"
     ]
    },
    {
     "name": "stdout",
     "output_type": "stream",
     "text": [
      "Avg training loss: 0.0000\n",
      "Time taken: 51.70s\n",
      "Best model is at epoch 31 Saving\n",
      "==========\n",
      "\n",
      "Start of epoch 32:\n",
      "\n"
     ]
    },
    {
     "name": "stderr",
     "output_type": "stream",
     "text": [
      "TS Data Augmentation: 100%|██████████| 373056/373056 [00:30<00:00, 12209.30it/s]\n",
      "Training Model: 100%|██████████| 365/365 [00:22<00:00, 16.11it/s]\n"
     ]
    },
    {
     "name": "stdout",
     "output_type": "stream",
     "text": [
      "Avg training loss: 0.0000\n",
      "Time taken: 61.35s\n",
      "Best model is at epoch 32 Saving\n",
      "==========\n",
      "\n",
      "Start of epoch 33:\n",
      "\n"
     ]
    },
    {
     "name": "stderr",
     "output_type": "stream",
     "text": [
      "TS Data Augmentation: 100%|██████████| 373056/373056 [00:29<00:00, 12561.23it/s]\n",
      "Training Model: 100%|██████████| 365/365 [00:12<00:00, 29.74it/s]\n"
     ]
    },
    {
     "name": "stdout",
     "output_type": "stream",
     "text": [
      "Avg training loss: 0.0000\n",
      "Time taken: 50.50s\n",
      "Best model is at epoch 33 Saving\n",
      "==========\n",
      "\n",
      "Start of epoch 34:\n",
      "\n"
     ]
    },
    {
     "name": "stderr",
     "output_type": "stream",
     "text": [
      "TS Data Augmentation: 100%|██████████| 373056/373056 [00:29<00:00, 12784.85it/s]\n",
      "Training Model: 100%|██████████| 365/365 [00:16<00:00, 22.68it/s]\n"
     ]
    },
    {
     "name": "stdout",
     "output_type": "stream",
     "text": [
      "Avg training loss: 0.0000\n",
      "Time taken: 53.26s\n",
      "Best model is at epoch 34 Saving\n",
      "==========\n",
      "\n",
      "Start of epoch 35:\n",
      "\n"
     ]
    },
    {
     "name": "stderr",
     "output_type": "stream",
     "text": [
      "TS Data Augmentation: 100%|██████████| 373056/373056 [00:30<00:00, 12206.11it/s]\n",
      "Training Model: 100%|██████████| 365/365 [00:15<00:00, 23.35it/s]\n"
     ]
    },
    {
     "name": "stdout",
     "output_type": "stream",
     "text": [
      "Avg training loss: 0.0000\n",
      "Time taken: 54.42s\n",
      "Best model is at epoch 35 Saving\n",
      "==========\n",
      "\n",
      "Start of epoch 36:\n",
      "\n"
     ]
    },
    {
     "name": "stderr",
     "output_type": "stream",
     "text": [
      "TS Data Augmentation: 100%|██████████| 373056/373056 [00:29<00:00, 12501.89it/s]\n",
      "Training Model: 100%|██████████| 365/365 [00:18<00:00, 19.52it/s]\n"
     ]
    },
    {
     "name": "stdout",
     "output_type": "stream",
     "text": [
      "Avg training loss: 0.0000\n",
      "Time taken: 57.62s\n",
      "Best model is at epoch 36 Saving\n",
      "==========\n",
      "\n",
      "Start of epoch 37:\n",
      "\n"
     ]
    },
    {
     "name": "stderr",
     "output_type": "stream",
     "text": [
      "TS Data Augmentation: 100%|██████████| 373056/373056 [00:29<00:00, 12634.19it/s]\n",
      "Training Model: 100%|██████████| 365/365 [00:14<00:00, 25.00it/s]\n"
     ]
    },
    {
     "name": "stdout",
     "output_type": "stream",
     "text": [
      "Avg training loss: 0.0000\n",
      "Time taken: 52.10s\n",
      "Best model is at epoch 37 Saving\n",
      "==========\n",
      "\n",
      "Start of epoch 38:\n",
      "\n"
     ]
    },
    {
     "name": "stderr",
     "output_type": "stream",
     "text": [
      "TS Data Augmentation: 100%|██████████| 373056/373056 [00:30<00:00, 12175.11it/s]\n",
      "Training Model: 100%|██████████| 365/365 [00:11<00:00, 31.99it/s]\n"
     ]
    },
    {
     "name": "stdout",
     "output_type": "stream",
     "text": [
      "Avg training loss: 0.0000\n",
      "Time taken: 49.80s\n",
      "Best model is at epoch 38 Saving\n",
      "==========\n",
      "\n",
      "Start of epoch 39:\n",
      "\n"
     ]
    },
    {
     "name": "stderr",
     "output_type": "stream",
     "text": [
      "TS Data Augmentation: 100%|██████████| 373056/373056 [00:29<00:00, 12740.31it/s]\n",
      "Training Model: 100%|██████████| 365/365 [00:25<00:00, 14.30it/s]\n"
     ]
    },
    {
     "name": "stdout",
     "output_type": "stream",
     "text": [
      "Avg training loss: 0.0000\n",
      "Time taken: 63.66s\n",
      "Best model is at epoch 39 Saving\n",
      "==========\n",
      "\n",
      "Start of epoch 40:\n",
      "\n"
     ]
    },
    {
     "name": "stderr",
     "output_type": "stream",
     "text": [
      "TS Data Augmentation: 100%|██████████| 373056/373056 [00:30<00:00, 12265.91it/s]\n",
      "Training Model: 100%|██████████| 365/365 [00:10<00:00, 36.49it/s]\n"
     ]
    },
    {
     "name": "stdout",
     "output_type": "stream",
     "text": [
      "Avg training loss: 0.0000\n",
      "Time taken: 47.99s\n",
      "==========\n",
      "\n",
      "Start of epoch 41:\n",
      "\n"
     ]
    },
    {
     "name": "stderr",
     "output_type": "stream",
     "text": [
      "TS Data Augmentation: 100%|██████████| 373056/373056 [00:30<00:00, 12284.75it/s]\n",
      "Training Model: 100%|██████████| 365/365 [00:14<00:00, 24.82it/s]\n"
     ]
    },
    {
     "name": "stdout",
     "output_type": "stream",
     "text": [
      "Avg training loss: 0.0000\n",
      "Time taken: 53.53s\n",
      "Best model is at epoch 41 Saving\n",
      "==========\n",
      "\n",
      "Start of epoch 42:\n",
      "\n"
     ]
    },
    {
     "name": "stderr",
     "output_type": "stream",
     "text": [
      "TS Data Augmentation: 100%|██████████| 373056/373056 [00:29<00:00, 12626.74it/s]\n",
      "Training Model: 100%|██████████| 365/365 [00:20<00:00, 17.71it/s]\n"
     ]
    },
    {
     "name": "stdout",
     "output_type": "stream",
     "text": [
      "Avg training loss: 0.0000\n",
      "Time taken: 58.83s\n",
      "Best model is at epoch 42 Saving\n",
      "==========\n",
      "\n",
      "Start of epoch 43:\n",
      "\n"
     ]
    },
    {
     "name": "stderr",
     "output_type": "stream",
     "text": [
      "TS Data Augmentation: 100%|██████████| 373056/373056 [00:30<00:00, 12324.88it/s]\n",
      "Training Model: 100%|██████████| 365/365 [00:18<00:00, 19.79it/s]\n"
     ]
    },
    {
     "name": "stdout",
     "output_type": "stream",
     "text": [
      "Avg training loss: 0.0000\n",
      "Time taken: 56.72s\n",
      "Best model is at epoch 43 Saving\n",
      "==========\n",
      "\n",
      "Start of epoch 44:\n",
      "\n"
     ]
    },
    {
     "name": "stderr",
     "output_type": "stream",
     "text": [
      "TS Data Augmentation: 100%|██████████| 373056/373056 [00:30<00:00, 12275.59it/s]\n",
      "Training Model: 100%|██████████| 365/365 [00:17<00:00, 21.41it/s]\n"
     ]
    },
    {
     "name": "stdout",
     "output_type": "stream",
     "text": [
      "Avg training loss: 0.0000\n",
      "Time taken: 56.03s\n",
      "Best model is at epoch 44 Saving\n",
      "==========\n",
      "\n",
      "Start of epoch 45:\n",
      "\n"
     ]
    },
    {
     "name": "stderr",
     "output_type": "stream",
     "text": [
      "TS Data Augmentation: 100%|██████████| 373056/373056 [00:29<00:00, 12843.44it/s]\n",
      "Training Model: 100%|██████████| 365/365 [00:15<00:00, 23.21it/s]\n"
     ]
    },
    {
     "name": "stdout",
     "output_type": "stream",
     "text": [
      "Avg training loss: 0.0000\n",
      "Time taken: 52.90s\n",
      "Best model is at epoch 45 Saving\n",
      "==========\n",
      "\n",
      "Start of epoch 46:\n",
      "\n"
     ]
    },
    {
     "name": "stderr",
     "output_type": "stream",
     "text": [
      "TS Data Augmentation: 100%|██████████| 373056/373056 [00:30<00:00, 12259.57it/s]\n",
      "Training Model: 100%|██████████| 365/365 [00:19<00:00, 18.74it/s]\n"
     ]
    },
    {
     "name": "stdout",
     "output_type": "stream",
     "text": [
      "Avg training loss: 0.0000\n",
      "Time taken: 57.89s\n",
      "Best model is at epoch 46 Saving\n",
      "==========\n",
      "\n",
      "Start of epoch 47:\n",
      "\n"
     ]
    },
    {
     "name": "stderr",
     "output_type": "stream",
     "text": [
      "TS Data Augmentation: 100%|██████████| 373056/373056 [00:29<00:00, 12616.53it/s]\n",
      "Training Model: 100%|██████████| 365/365 [00:19<00:00, 18.63it/s]\n"
     ]
    },
    {
     "name": "stdout",
     "output_type": "stream",
     "text": [
      "Avg training loss: 0.0000\n",
      "Time taken: 57.94s\n",
      "Best model is at epoch 47 Saving\n",
      "==========\n",
      "\n",
      "Start of epoch 48:\n",
      "\n"
     ]
    },
    {
     "name": "stderr",
     "output_type": "stream",
     "text": [
      "TS Data Augmentation: 100%|██████████| 373056/373056 [00:29<00:00, 12435.41it/s]\n",
      "Training Model: 100%|██████████| 365/365 [00:17<00:00, 20.78it/s]\n"
     ]
    },
    {
     "name": "stdout",
     "output_type": "stream",
     "text": [
      "Avg training loss: 0.0000\n",
      "Time taken: 55.67s\n",
      "==========\n",
      "\n",
      "Start of epoch 49:\n",
      "\n"
     ]
    },
    {
     "name": "stderr",
     "output_type": "stream",
     "text": [
      "TS Data Augmentation: 100%|██████████| 373056/373056 [00:30<00:00, 12196.91it/s]\n",
      "Training Model: 100%|██████████| 365/365 [00:20<00:00, 17.63it/s]\n"
     ]
    },
    {
     "name": "stdout",
     "output_type": "stream",
     "text": [
      "Avg training loss: 0.0000\n",
      "Time taken: 59.98s\n",
      "Best model is at epoch 49 Saving\n",
      "==========\n",
      "\n",
      "Start of epoch 50:\n",
      "\n"
     ]
    },
    {
     "name": "stderr",
     "output_type": "stream",
     "text": [
      "TS Data Augmentation: 100%|██████████| 373056/373056 [00:29<00:00, 12482.81it/s]\n",
      "Training Model: 100%|██████████| 365/365 [00:28<00:00, 12.93it/s]\n"
     ]
    },
    {
     "name": "stdout",
     "output_type": "stream",
     "text": [
      "Avg training loss: 0.0000\n",
      "Time taken: 67.65s\n",
      "==========\n",
      "\n",
      "Start of epoch 51:\n",
      "\n"
     ]
    },
    {
     "name": "stderr",
     "output_type": "stream",
     "text": [
      "TS Data Augmentation: 100%|██████████| 373056/373056 [00:29<00:00, 12593.96it/s]\n",
      "Training Model: 100%|██████████| 365/365 [00:19<00:00, 18.77it/s]\n"
     ]
    },
    {
     "name": "stdout",
     "output_type": "stream",
     "text": [
      "Avg training loss: 0.0000\n",
      "Time taken: 57.43s\n",
      "Best model is at epoch 51 Saving\n",
      "==========\n",
      "\n",
      "Start of epoch 52:\n",
      "\n"
     ]
    },
    {
     "name": "stderr",
     "output_type": "stream",
     "text": [
      "TS Data Augmentation: 100%|██████████| 373056/373056 [00:30<00:00, 12112.47it/s]\n",
      "Training Model: 100%|██████████| 365/365 [00:23<00:00, 15.83it/s]\n"
     ]
    },
    {
     "name": "stdout",
     "output_type": "stream",
     "text": [
      "Avg training loss: 0.0000\n",
      "Time taken: 62.19s\n",
      "Best model is at epoch 52 Saving\n",
      "==========\n",
      "\n",
      "Start of epoch 53:\n",
      "\n"
     ]
    },
    {
     "name": "stderr",
     "output_type": "stream",
     "text": [
      "TS Data Augmentation: 100%|██████████| 373056/373056 [00:29<00:00, 12571.51it/s]\n",
      "Training Model: 100%|██████████| 365/365 [00:11<00:00, 30.58it/s]\n"
     ]
    },
    {
     "name": "stdout",
     "output_type": "stream",
     "text": [
      "Avg training loss: 0.0000\n",
      "Time taken: 50.16s\n",
      "==========\n",
      "\n",
      "Start of epoch 54:\n",
      "\n"
     ]
    },
    {
     "name": "stderr",
     "output_type": "stream",
     "text": [
      "TS Data Augmentation: 100%|██████████| 373056/373056 [00:29<00:00, 12559.06it/s]\n",
      "Training Model: 100%|██████████| 365/365 [00:21<00:00, 16.71it/s]\n"
     ]
    },
    {
     "name": "stdout",
     "output_type": "stream",
     "text": [
      "Avg training loss: 0.0000\n",
      "Time taken: 59.92s\n",
      "Best model is at epoch 54 Saving\n",
      "==========\n",
      "\n",
      "Start of epoch 55:\n",
      "\n"
     ]
    },
    {
     "name": "stderr",
     "output_type": "stream",
     "text": [
      "TS Data Augmentation: 100%|██████████| 373056/373056 [00:30<00:00, 12111.71it/s]\n",
      "Training Model: 100%|██████████| 365/365 [00:21<00:00, 16.64it/s]\n"
     ]
    },
    {
     "name": "stdout",
     "output_type": "stream",
     "text": [
      "Avg training loss: 0.0000\n",
      "Time taken: 61.29s\n",
      "Best model is at epoch 55 Saving\n",
      "==========\n",
      "\n",
      "Start of epoch 56:\n",
      "\n"
     ]
    },
    {
     "name": "stderr",
     "output_type": "stream",
     "text": [
      "TS Data Augmentation: 100%|██████████| 373056/373056 [00:30<00:00, 12354.44it/s]\n",
      "Training Model: 100%|██████████| 365/365 [00:21<00:00, 16.60it/s]\n"
     ]
    },
    {
     "name": "stdout",
     "output_type": "stream",
     "text": [
      "Avg training loss: 0.0000\n",
      "Time taken: 61.38s\n",
      "Best model is at epoch 56 Saving\n",
      "==========\n",
      "\n",
      "Start of epoch 57:\n",
      "\n"
     ]
    },
    {
     "name": "stderr",
     "output_type": "stream",
     "text": [
      "TS Data Augmentation: 100%|██████████| 373056/373056 [00:29<00:00, 12855.39it/s]\n",
      "Training Model: 100%|██████████| 365/365 [00:19<00:00, 18.67it/s]\n"
     ]
    },
    {
     "name": "stdout",
     "output_type": "stream",
     "text": [
      "Avg training loss: 0.0000\n",
      "Time taken: 56.83s\n",
      "Best model is at epoch 57 Saving\n",
      "==========\n",
      "\n",
      "Start of epoch 58:\n",
      "\n"
     ]
    },
    {
     "name": "stderr",
     "output_type": "stream",
     "text": [
      "TS Data Augmentation: 100%|██████████| 373056/373056 [00:30<00:00, 12242.79it/s]\n",
      "Training Model: 100%|██████████| 365/365 [00:24<00:00, 14.83it/s]\n"
     ]
    },
    {
     "name": "stdout",
     "output_type": "stream",
     "text": [
      "Avg training loss: 0.0000\n",
      "Time taken: 63.35s\n",
      "==========\n",
      "\n",
      "Start of epoch 59:\n",
      "\n"
     ]
    },
    {
     "name": "stderr",
     "output_type": "stream",
     "text": [
      "TS Data Augmentation: 100%|██████████| 373056/373056 [00:29<00:00, 12702.23it/s]\n",
      "Training Model: 100%|██████████| 365/365 [00:11<00:00, 32.65it/s]\n"
     ]
    },
    {
     "name": "stdout",
     "output_type": "stream",
     "text": [
      "Avg training loss: 0.0000\n",
      "Time taken: 49.00s\n",
      "==========\n",
      "\n",
      "Start of epoch 60:\n",
      "\n"
     ]
    },
    {
     "name": "stderr",
     "output_type": "stream",
     "text": [
      "TS Data Augmentation: 100%|██████████| 373056/373056 [00:29<00:00, 12732.41it/s]\n",
      "Training Model: 100%|██████████| 365/365 [00:27<00:00, 13.37it/s]\n"
     ]
    },
    {
     "name": "stdout",
     "output_type": "stream",
     "text": [
      "Avg training loss: 0.0000\n",
      "Time taken: 65.13s\n",
      "==========\n",
      "\n",
      "Start of epoch 61:\n",
      "\n"
     ]
    },
    {
     "name": "stderr",
     "output_type": "stream",
     "text": [
      "TS Data Augmentation: 100%|██████████| 373056/373056 [00:30<00:00, 12183.23it/s]\n",
      "Training Model: 100%|██████████| 365/365 [00:12<00:00, 29.11it/s]\n"
     ]
    },
    {
     "name": "stdout",
     "output_type": "stream",
     "text": [
      "Avg training loss: 0.0000\n",
      "Time taken: 51.07s\n",
      "==========\n",
      "\n",
      "Start of epoch 62:\n",
      "\n"
     ]
    },
    {
     "name": "stderr",
     "output_type": "stream",
     "text": [
      "TS Data Augmentation: 100%|██████████| 373056/373056 [00:29<00:00, 12690.48it/s]\n",
      "Training Model: 100%|██████████| 365/365 [00:27<00:00, 13.13it/s]\n"
     ]
    },
    {
     "name": "stdout",
     "output_type": "stream",
     "text": [
      "Avg training loss: 0.0000\n",
      "Time taken: 66.65s\n",
      "==========\n",
      "\n",
      "Start of epoch 63:\n",
      "\n"
     ]
    },
    {
     "name": "stderr",
     "output_type": "stream",
     "text": [
      "TS Data Augmentation: 100%|██████████| 373056/373056 [00:29<00:00, 12509.22it/s]\n",
      "Training Model: 100%|██████████| 365/365 [00:16<00:00, 22.24it/s]\n"
     ]
    },
    {
     "name": "stdout",
     "output_type": "stream",
     "text": [
      "Avg training loss: 0.0000\n",
      "Time taken: 54.48s\n",
      "==========\n",
      "\n",
      "Start of epoch 64:\n",
      "\n"
     ]
    },
    {
     "name": "stderr",
     "output_type": "stream",
     "text": [
      "TS Data Augmentation: 100%|██████████| 373056/373056 [00:31<00:00, 11927.38it/s]\n",
      "Training Model: 100%|██████████| 365/365 [00:14<00:00, 25.52it/s]\n"
     ]
    },
    {
     "name": "stdout",
     "output_type": "stream",
     "text": [
      "Avg training loss: 0.0000\n",
      "Time taken: 53.51s\n",
      "==========\n",
      "\n",
      "Start of epoch 65:\n",
      "\n"
     ]
    },
    {
     "name": "stderr",
     "output_type": "stream",
     "text": [
      "TS Data Augmentation: 100%|██████████| 373056/373056 [00:30<00:00, 12375.94it/s]\n",
      "Training Model: 100%|██████████| 365/365 [00:09<00:00, 40.54it/s]\n"
     ]
    },
    {
     "name": "stdout",
     "output_type": "stream",
     "text": [
      "Avg training loss: 0.0000\n",
      "Time taken: 47.32s\n",
      "==========\n",
      "\n",
      "Start of epoch 66:\n",
      "\n"
     ]
    },
    {
     "name": "stderr",
     "output_type": "stream",
     "text": [
      "TS Data Augmentation: 100%|██████████| 373056/373056 [00:29<00:00, 12439.05it/s]\n",
      "Training Model: 100%|██████████| 365/365 [00:09<00:00, 38.20it/s]\n"
     ]
    },
    {
     "name": "stdout",
     "output_type": "stream",
     "text": [
      "Avg training loss: 0.0000\n",
      "Time taken: 47.16s\n",
      "==========\n",
      "\n",
      "Start of epoch 67:\n",
      "\n"
     ]
    },
    {
     "name": "stderr",
     "output_type": "stream",
     "text": [
      "TS Data Augmentation: 100%|██████████| 373056/373056 [00:30<00:00, 12051.77it/s]\n",
      "Training Model: 100%|██████████| 365/365 [00:10<00:00, 34.05it/s]\n"
     ]
    },
    {
     "name": "stdout",
     "output_type": "stream",
     "text": [
      "Avg training loss: 0.0000\n",
      "Time taken: 49.69s\n",
      "==========\n",
      "\n",
      "Start of epoch 68:\n",
      "\n"
     ]
    },
    {
     "name": "stderr",
     "output_type": "stream",
     "text": [
      "TS Data Augmentation: 100%|██████████| 373056/373056 [00:30<00:00, 12327.89it/s]\n",
      "Training Model: 100%|██████████| 365/365 [00:25<00:00, 14.27it/s]\n"
     ]
    },
    {
     "name": "stdout",
     "output_type": "stream",
     "text": [
      "Avg training loss: 0.0000\n",
      "Time taken: 65.17s\n",
      "==========\n",
      "\n",
      "Start of epoch 69:\n",
      "\n"
     ]
    },
    {
     "name": "stderr",
     "output_type": "stream",
     "text": [
      "TS Data Augmentation: 100%|██████████| 373056/373056 [00:30<00:00, 12373.04it/s]\n",
      "Training Model: 100%|██████████| 365/365 [00:29<00:00, 12.48it/s]\n"
     ]
    },
    {
     "name": "stdout",
     "output_type": "stream",
     "text": [
      "Avg training loss: 0.0000\n",
      "Time taken: 68.17s\n",
      "Best model is at epoch 69 Saving\n",
      "==========\n",
      "\n",
      "Start of epoch 70:\n",
      "\n"
     ]
    },
    {
     "name": "stderr",
     "output_type": "stream",
     "text": [
      "TS Data Augmentation: 100%|██████████| 373056/373056 [00:31<00:00, 11952.61it/s]\n",
      "Training Model: 100%|██████████| 365/365 [00:23<00:00, 15.62it/s]\n"
     ]
    },
    {
     "name": "stdout",
     "output_type": "stream",
     "text": [
      "Avg training loss: 0.0000\n",
      "Time taken: 63.05s\n",
      "Best model is at epoch 70 Saving\n",
      "==========\n",
      "\n",
      "Start of epoch 71:\n",
      "\n"
     ]
    },
    {
     "name": "stderr",
     "output_type": "stream",
     "text": [
      "TS Data Augmentation: 100%|██████████| 373056/373056 [00:29<00:00, 12530.26it/s]\n",
      "Training Model: 100%|██████████| 365/365 [00:21<00:00, 16.86it/s]\n"
     ]
    },
    {
     "name": "stdout",
     "output_type": "stream",
     "text": [
      "Avg training loss: 0.0000\n",
      "Time taken: 60.37s\n",
      "Best model is at epoch 71 Saving\n",
      "==========\n",
      "\n",
      "Start of epoch 72:\n",
      "\n"
     ]
    },
    {
     "name": "stderr",
     "output_type": "stream",
     "text": [
      "TS Data Augmentation: 100%|██████████| 373056/373056 [00:30<00:00, 12257.39it/s]\n",
      "Training Model: 100%|██████████| 365/365 [00:20<00:00, 17.49it/s]\n"
     ]
    },
    {
     "name": "stdout",
     "output_type": "stream",
     "text": [
      "Avg training loss: 0.0000\n",
      "Time taken: 59.53s\n",
      "Best model is at epoch 72 Saving\n",
      "==========\n",
      "\n",
      "Start of epoch 73:\n",
      "\n"
     ]
    },
    {
     "name": "stderr",
     "output_type": "stream",
     "text": [
      "TS Data Augmentation: 100%|██████████| 373056/373056 [00:30<00:00, 12075.05it/s]\n",
      "Training Model: 100%|██████████| 365/365 [00:13<00:00, 27.92it/s]\n"
     ]
    },
    {
     "name": "stdout",
     "output_type": "stream",
     "text": [
      "Avg training loss: 0.0000\n",
      "Time taken: 52.29s\n",
      "==========\n",
      "\n",
      "Start of epoch 74:\n",
      "\n"
     ]
    },
    {
     "name": "stderr",
     "output_type": "stream",
     "text": [
      "TS Data Augmentation: 100%|██████████| 373056/373056 [00:29<00:00, 12448.46it/s]\n",
      "Training Model: 100%|██████████| 365/365 [00:24<00:00, 14.80it/s]\n"
     ]
    },
    {
     "name": "stdout",
     "output_type": "stream",
     "text": [
      "Avg training loss: 0.0000\n",
      "Time taken: 63.66s\n",
      "==========\n",
      "\n",
      "Start of epoch 75:\n",
      "\n"
     ]
    },
    {
     "name": "stderr",
     "output_type": "stream",
     "text": [
      "TS Data Augmentation: 100%|██████████| 373056/373056 [00:29<00:00, 12558.20it/s]\n",
      "Training Model: 100%|██████████| 365/365 [00:14<00:00, 25.70it/s]\n"
     ]
    },
    {
     "name": "stdout",
     "output_type": "stream",
     "text": [
      "Avg training loss: 0.0000\n",
      "Time taken: 52.01s\n",
      "==========\n",
      "\n",
      "Start of epoch 76:\n",
      "\n"
     ]
    },
    {
     "name": "stderr",
     "output_type": "stream",
     "text": [
      "TS Data Augmentation: 100%|██████████| 373056/373056 [00:31<00:00, 11923.93it/s]\n",
      "Training Model: 100%|██████████| 365/365 [00:11<00:00, 31.40it/s]\n"
     ]
    },
    {
     "name": "stdout",
     "output_type": "stream",
     "text": [
      "Avg training loss: 0.0000\n",
      "Time taken: 50.94s\n",
      "==========\n",
      "\n",
      "Start of epoch 77:\n",
      "\n"
     ]
    },
    {
     "name": "stderr",
     "output_type": "stream",
     "text": [
      "TS Data Augmentation: 100%|██████████| 373056/373056 [00:29<00:00, 12698.02it/s]\n",
      "Training Model: 100%|██████████| 365/365 [00:25<00:00, 14.60it/s]\n"
     ]
    },
    {
     "name": "stdout",
     "output_type": "stream",
     "text": [
      "Avg training loss: 0.0000\n",
      "Time taken: 63.06s\n",
      "==========\n",
      "\n",
      "Start of epoch 78:\n",
      "\n"
     ]
    },
    {
     "name": "stderr",
     "output_type": "stream",
     "text": [
      "TS Data Augmentation: 100%|██████████| 373056/373056 [00:31<00:00, 12002.88it/s]\n",
      "Training Model: 100%|██████████| 365/365 [00:18<00:00, 19.89it/s]\n"
     ]
    },
    {
     "name": "stdout",
     "output_type": "stream",
     "text": [
      "Avg training loss: 0.0000\n",
      "Time taken: 57.53s\n",
      "==========\n",
      "\n",
      "Start of epoch 79:\n",
      "\n"
     ]
    },
    {
     "name": "stderr",
     "output_type": "stream",
     "text": [
      "TS Data Augmentation: 100%|██████████| 373056/373056 [00:30<00:00, 12397.61it/s]\n",
      "Training Model: 100%|██████████| 365/365 [00:20<00:00, 17.86it/s]\n"
     ]
    },
    {
     "name": "stdout",
     "output_type": "stream",
     "text": [
      "Avg training loss: 0.0000\n",
      "Time taken: 59.74s\n",
      "Best model is at epoch 79 Saving\n",
      "==========\n",
      "\n",
      "Start of epoch 80:\n",
      "\n"
     ]
    },
    {
     "name": "stderr",
     "output_type": "stream",
     "text": [
      "TS Data Augmentation: 100%|██████████| 373056/373056 [00:29<00:00, 12468.54it/s]\n",
      "Training Model: 100%|██████████| 365/365 [00:12<00:00, 29.89it/s]\n"
     ]
    },
    {
     "name": "stdout",
     "output_type": "stream",
     "text": [
      "Avg training loss: 0.0000\n",
      "Time taken: 50.12s\n",
      "==========\n",
      "\n",
      "Start of epoch 81:\n",
      "\n"
     ]
    },
    {
     "name": "stderr",
     "output_type": "stream",
     "text": [
      "TS Data Augmentation: 100%|██████████| 373056/373056 [00:31<00:00, 11986.32it/s]\n",
      "Training Model: 100%|██████████| 365/365 [00:24<00:00, 15.00it/s]\n"
     ]
    },
    {
     "name": "stdout",
     "output_type": "stream",
     "text": [
      "Avg training loss: 0.0000\n",
      "Time taken: 63.94s\n",
      "==========\n",
      "\n",
      "Start of epoch 82:\n",
      "\n"
     ]
    },
    {
     "name": "stderr",
     "output_type": "stream",
     "text": [
      "TS Data Augmentation: 100%|██████████| 373056/373056 [00:30<00:00, 12243.21it/s]\n",
      "Training Model: 100%|██████████| 365/365 [00:27<00:00, 13.10it/s]\n"
     ]
    },
    {
     "name": "stdout",
     "output_type": "stream",
     "text": [
      "Avg training loss: 0.0000\n",
      "Time taken: 67.72s\n",
      "==========\n",
      "\n",
      "Start of epoch 83:\n",
      "\n"
     ]
    },
    {
     "name": "stderr",
     "output_type": "stream",
     "text": [
      "TS Data Augmentation: 100%|██████████| 373056/373056 [00:29<00:00, 12511.00it/s]\n",
      "Training Model: 100%|██████████| 365/365 [00:14<00:00, 24.96it/s]\n"
     ]
    },
    {
     "name": "stdout",
     "output_type": "stream",
     "text": [
      "Avg training loss: 0.0000\n",
      "Time taken: 52.79s\n",
      "==========\n",
      "\n",
      "Start of epoch 84:\n",
      "\n"
     ]
    },
    {
     "name": "stderr",
     "output_type": "stream",
     "text": [
      "TS Data Augmentation: 100%|██████████| 373056/373056 [00:30<00:00, 12098.73it/s]\n",
      "Training Model: 100%|██████████| 365/365 [00:13<00:00, 26.25it/s]\n"
     ]
    },
    {
     "name": "stdout",
     "output_type": "stream",
     "text": [
      "Avg training loss: 0.0000\n",
      "Time taken: 52.63s\n",
      "==========\n",
      "\n",
      "Start of epoch 85:\n",
      "\n"
     ]
    },
    {
     "name": "stderr",
     "output_type": "stream",
     "text": [
      "TS Data Augmentation: 100%|██████████| 373056/373056 [00:30<00:00, 12134.44it/s]\n",
      "Training Model: 100%|██████████| 365/365 [00:25<00:00, 14.16it/s]\n"
     ]
    },
    {
     "name": "stdout",
     "output_type": "stream",
     "text": [
      "Avg training loss: 0.0000\n",
      "Time taken: 65.66s\n",
      "==========\n",
      "\n",
      "Start of epoch 86:\n",
      "\n"
     ]
    },
    {
     "name": "stderr",
     "output_type": "stream",
     "text": [
      "TS Data Augmentation: 100%|██████████| 373056/373056 [00:29<00:00, 12616.81it/s]\n",
      "Training Model: 100%|██████████| 365/365 [00:23<00:00, 15.64it/s]\n"
     ]
    },
    {
     "name": "stdout",
     "output_type": "stream",
     "text": [
      "Avg training loss: 0.0000\n",
      "Time taken: 62.01s\n",
      "Best model is at epoch 86 Saving\n",
      "==========\n",
      "\n",
      "Start of epoch 87:\n",
      "\n"
     ]
    },
    {
     "name": "stderr",
     "output_type": "stream",
     "text": [
      "TS Data Augmentation: 100%|██████████| 373056/373056 [00:30<00:00, 12397.99it/s]\n",
      "Training Model: 100%|██████████| 365/365 [00:14<00:00, 24.43it/s]\n"
     ]
    },
    {
     "name": "stdout",
     "output_type": "stream",
     "text": [
      "Avg training loss: 0.0000\n",
      "Time taken: 53.04s\n",
      "==========\n",
      "\n",
      "Start of epoch 88:\n",
      "\n"
     ]
    },
    {
     "name": "stderr",
     "output_type": "stream",
     "text": [
      "TS Data Augmentation: 100%|██████████| 373056/373056 [00:30<00:00, 12087.97it/s]\n",
      "Training Model: 100%|██████████| 365/365 [00:17<00:00, 20.76it/s]\n"
     ]
    },
    {
     "name": "stdout",
     "output_type": "stream",
     "text": [
      "Avg training loss: 0.0000\n",
      "Time taken: 56.85s\n",
      "==========\n",
      "\n",
      "Start of epoch 89:\n",
      "\n"
     ]
    },
    {
     "name": "stderr",
     "output_type": "stream",
     "text": [
      "TS Data Augmentation: 100%|██████████| 373056/373056 [00:29<00:00, 12639.76it/s]\n",
      "Training Model: 100%|██████████| 365/365 [00:21<00:00, 17.24it/s]\n"
     ]
    },
    {
     "name": "stdout",
     "output_type": "stream",
     "text": [
      "Avg training loss: 0.0000\n",
      "Time taken: 59.28s\n",
      "Best model is at epoch 89 Saving\n",
      "==========\n",
      "\n",
      "Start of epoch 90:\n",
      "\n"
     ]
    },
    {
     "name": "stderr",
     "output_type": "stream",
     "text": [
      "TS Data Augmentation: 100%|██████████| 373056/373056 [00:30<00:00, 12102.47it/s]\n",
      "Training Model: 100%|██████████| 365/365 [00:18<00:00, 19.61it/s]\n"
     ]
    },
    {
     "name": "stdout",
     "output_type": "stream",
     "text": [
      "Avg training loss: 0.0000\n",
      "Time taken: 57.48s\n",
      "==========\n",
      "\n",
      "Start of epoch 91:\n",
      "\n"
     ]
    },
    {
     "name": "stderr",
     "output_type": "stream",
     "text": [
      "TS Data Augmentation: 100%|██████████| 373056/373056 [00:29<00:00, 12442.61it/s]\n",
      "Training Model: 100%|██████████| 365/365 [00:19<00:00, 19.01it/s]\n"
     ]
    },
    {
     "name": "stdout",
     "output_type": "stream",
     "text": [
      "Avg training loss: 0.0000\n",
      "Time taken: 58.24s\n",
      "==========\n",
      "\n",
      "Start of epoch 92:\n",
      "\n"
     ]
    },
    {
     "name": "stderr",
     "output_type": "stream",
     "text": [
      "TS Data Augmentation: 100%|██████████| 373056/373056 [00:29<00:00, 12472.62it/s]\n",
      "Training Model: 100%|██████████| 365/365 [00:22<00:00, 16.46it/s]\n"
     ]
    },
    {
     "name": "stdout",
     "output_type": "stream",
     "text": [
      "Avg training loss: 0.0000\n",
      "Time taken: 60.64s\n",
      "Best model is at epoch 92 Saving\n",
      "==========\n",
      "\n",
      "Start of epoch 93:\n",
      "\n"
     ]
    },
    {
     "name": "stderr",
     "output_type": "stream",
     "text": [
      "TS Data Augmentation: 100%|██████████| 373056/373056 [00:31<00:00, 11990.01it/s]\n",
      "Training Model: 100%|██████████| 365/365 [00:10<00:00, 35.37it/s]\n"
     ]
    },
    {
     "name": "stdout",
     "output_type": "stream",
     "text": [
      "Avg training loss: 0.0000\n",
      "Time taken: 49.20s\n",
      "==========\n",
      "\n",
      "Start of epoch 94:\n",
      "\n"
     ]
    },
    {
     "name": "stderr",
     "output_type": "stream",
     "text": [
      "TS Data Augmentation: 100%|██████████| 373056/373056 [00:30<00:00, 12383.08it/s]\n",
      "Training Model: 100%|██████████| 365/365 [00:22<00:00, 15.90it/s]\n"
     ]
    },
    {
     "name": "stdout",
     "output_type": "stream",
     "text": [
      "Avg training loss: 0.0000\n",
      "Time taken: 62.34s\n",
      "==========\n",
      "\n",
      "Start of epoch 95:\n",
      "\n"
     ]
    },
    {
     "name": "stderr",
     "output_type": "stream",
     "text": [
      "TS Data Augmentation: 100%|██████████| 373056/373056 [00:30<00:00, 12415.35it/s]\n",
      "Training Model: 100%|██████████| 365/365 [00:13<00:00, 26.84it/s]\n"
     ]
    },
    {
     "name": "stdout",
     "output_type": "stream",
     "text": [
      "Avg training loss: 0.0000\n",
      "Time taken: 51.83s\n",
      "==========\n",
      "\n",
      "Start of epoch 96:\n",
      "\n"
     ]
    },
    {
     "name": "stderr",
     "output_type": "stream",
     "text": [
      "TS Data Augmentation: 100%|██████████| 373056/373056 [00:31<00:00, 11989.07it/s]\n",
      "Training Model: 100%|██████████| 365/365 [00:13<00:00, 26.54it/s]\n"
     ]
    },
    {
     "name": "stdout",
     "output_type": "stream",
     "text": [
      "Avg training loss: 0.0000\n",
      "Time taken: 52.97s\n",
      "==========\n",
      "\n",
      "Start of epoch 97:\n",
      "\n"
     ]
    },
    {
     "name": "stderr",
     "output_type": "stream",
     "text": [
      "TS Data Augmentation: 100%|██████████| 373056/373056 [00:29<00:00, 12635.27it/s]\n",
      "Training Model: 100%|██████████| 365/365 [00:28<00:00, 12.98it/s]\n"
     ]
    },
    {
     "name": "stdout",
     "output_type": "stream",
     "text": [
      "Avg training loss: 0.0000\n",
      "Time taken: 66.76s\n",
      "==========\n",
      "\n",
      "Start of epoch 98:\n",
      "\n"
     ]
    },
    {
     "name": "stderr",
     "output_type": "stream",
     "text": [
      "TS Data Augmentation: 100%|██████████| 373056/373056 [00:30<00:00, 12414.49it/s]\n",
      "Training Model: 100%|██████████| 365/365 [00:10<00:00, 34.97it/s]\n"
     ]
    },
    {
     "name": "stdout",
     "output_type": "stream",
     "text": [
      "Avg training loss: 0.0000\n",
      "Time taken: 48.18s\n",
      "==========\n",
      "\n",
      "Start of epoch 99:\n",
      "\n"
     ]
    },
    {
     "name": "stderr",
     "output_type": "stream",
     "text": [
      "TS Data Augmentation: 100%|██████████| 373056/373056 [00:30<00:00, 12274.88it/s]\n",
      "Training Model: 100%|██████████| 365/365 [00:09<00:00, 37.63it/s]\n"
     ]
    },
    {
     "name": "stdout",
     "output_type": "stream",
     "text": [
      "Avg training loss: 0.0000\n",
      "Time taken: 48.07s\n",
      "==========\n",
      "Running inference for validation...\n"
     ]
    },
    {
     "name": "stderr",
     "output_type": "stream",
     "text": [
      "TS Data Augmentation: 100%|██████████| 19635/19635 [00:01<00:00, 11677.25it/s]\n"
     ]
    },
    {
     "name": "stdout",
     "output_type": "stream",
     "text": [
      "614/614 [==============================] - 6s 6ms/step\n"
     ]
    }
   ],
   "source": [
    "alpha=10\n",
    "learning_rate=1e-6\n",
    "model_dir=Path(f\"models/lsst_alpha_{alpha}\")\n",
    "\n",
    "train_model(num_epochs=num_epochs,\n",
    "            batch_size=batch_size,\n",
    "            learning_rate=learning_rate, \n",
    "            latent_size=latent_size, \n",
    "            alpha=alpha, \n",
    "            max_class_count=max_class_count, \n",
    "            train_dir=train_dir, \n",
    "            model_dir=model_dir)"
   ]
  },
  {
   "cell_type": "markdown",
   "id": "29ea95c2-f692-49df-bb7d-8ae6a04b8285",
   "metadata": {},
   "source": [
    "## Train the ensemble model:"
   ]
  },
  {
   "cell_type": "code",
   "execution_count": null,
   "id": "e21b5550-fcd7-4e55-8c04-f169ceeaf53f",
   "metadata": {},
   "outputs": [
    {
     "name": "stdout",
     "output_type": "stream",
     "text": [
      "Loading models/lsst_alpha_0/best_model.h5\n"
     ]
    },
    {
     "name": "stderr",
     "output_type": "stream",
     "text": [
      "2024-06-28 15:23:06.689463: I tensorflow/core/common_runtime/gpu/gpu_device.cc:1926] Created device /job:localhost/replica:0/task:0/device:GPU:0 with 31127 MB memory:  -> device: 0, name: Tesla V100-SXM2-32GB, pci bus id: 0000:15:00.0, compute capability: 7.0\n",
      "2024-06-28 15:23:06.690946: I tensorflow/core/common_runtime/gpu/gpu_device.cc:1926] Created device /job:localhost/replica:0/task:0/device:GPU:1 with 31127 MB memory:  -> device: 1, name: Tesla V100-SXM2-32GB, pci bus id: 0000:16:00.0, compute capability: 7.0\n"
     ]
    },
    {
     "name": "stdout",
     "output_type": "stream",
     "text": [
      "WARNING:tensorflow:Compiled the loaded model, but the compiled metrics have yet to be built. `model.compile_metrics` will be empty until you train or evaluate the model.\n"
     ]
    },
    {
     "name": "stderr",
     "output_type": "stream",
     "text": [
      "/usr/local/lib/python3.10/dist-packages/keras/src/engine/training.py:3103: UserWarning: You are saving your model as an HDF5 file via `model.save()`. This file format is considered legacy. We recommend using instead the native Keras format, e.g. `model.save('my_model.keras')`.\n",
      "  saving_api.save_model(\n"
     ]
    },
    {
     "name": "stdout",
     "output_type": "stream",
     "text": [
      "Loading models/lsst_alpha_0.5/best_model.h5\n",
      "WARNING:tensorflow:Compiled the loaded model, but the compiled metrics have yet to be built. `model.compile_metrics` will be empty until you train or evaluate the model.\n",
      "Loading models/lsst_alpha_10/best_model.h5\n",
      "WARNING:tensorflow:Compiled the loaded model, but the compiled metrics have yet to be built. `model.compile_metrics` will be empty until you train or evaluate the model.\n",
      "Loading training data from disc...\n",
      "Summary of all training data\n",
      "Total sample count = 1081614\n",
      "            Class   Count\n",
      "0             AGN   76258\n",
      "1            CART    8207\n",
      "2         Cepheid   13771\n",
      "3     Delta Scuti   20650\n",
      "4     Dwarf Novae    8025\n",
      "5              EB   66454\n",
      "6            ILOT    7461\n",
      "7              KN    4426\n",
      "8   M-dwarf Flare    1859\n",
      "9            PISN   63586\n",
      "10       RR Lyrae   14033\n",
      "11           SLSN   66088\n",
      "12        SNI91bg   28637\n",
      "13           SNII  301544\n",
      "14           SNIa  120739\n",
      "15          SNIax   28030\n",
      "16         SNIb/c  168254\n",
      "17            TDE   66000\n",
      "18          uLens   17592\n"
     ]
    },
    {
     "name": "stderr",
     "output_type": "stream",
     "text": [
      "Converting dictionaries to arrays: 100%|██████████| 1081614/1081614 [00:07<00:00, 152351.15it/s]\n"
     ]
    },
    {
     "name": "stdout",
     "output_type": "stream",
     "text": [
      "Summary of training data used\n",
      "            Class  Count\n",
      "0             AGN  30000\n",
      "1            CART   8207\n",
      "2         Cepheid  13771\n",
      "3     Delta Scuti  20650\n",
      "4     Dwarf Novae   8025\n",
      "5              EB  30000\n",
      "6            ILOT   7461\n",
      "7              KN   4426\n",
      "8   M-dwarf Flare   1859\n",
      "9            PISN  30000\n",
      "10       RR Lyrae  14033\n",
      "11           SLSN  30000\n",
      "12        SNI91bg  28637\n",
      "13           SNII  30000\n",
      "14           SNIa  30000\n",
      "15          SNIax  28030\n",
      "16         SNIb/c  30000\n",
      "17            TDE  30000\n",
      "18          uLens  17592\n",
      "TS Input Dim: 5 | Static Input Dim: 23 | Output Dim: 26\n",
      "Model: \"model\"\n",
      "__________________________________________________________________________________________________\n",
      " Layer (type)                Output Shape                 Param #   Connected to                  \n",
      "==================================================================================================\n",
      " model_0_output (InputLayer  [(None, 26)]                 0         []                            \n",
      " )                                                                                                \n",
      "                                                                                                  \n",
      " model_1_output (InputLayer  [(None, 26)]                 0         []                            \n",
      " )                                                                                                \n",
      "                                                                                                  \n",
      " model_2_output (InputLayer  [(None, 26)]                 0         []                            \n",
      " )                                                                                                \n",
      "                                                                                                  \n",
      " concatenate (Concatenate)   (None, 78)                   0         ['model_0_output[0][0]',      \n",
      "                                                                     'model_1_output[0][0]',      \n",
      "                                                                     'model_2_output[0][0]']      \n",
      "                                                                                                  \n",
      " dense (Dense)               (None, 26)                   2054      ['concatenate[0][0]']         \n",
      "                                                                                                  \n",
      "==================================================================================================\n",
      "Total params: 2054 (8.02 KB)\n",
      "Trainable params: 2054 (8.02 KB)\n",
      "Non-trainable params: 0 (0.00 Byte)\n",
      "__________________________________________________________________________________________________\n",
      "None\n",
      "\n",
      "Start of epoch 0:\n",
      "\n"
     ]
    },
    {
     "name": "stderr",
     "output_type": "stream",
     "text": [
      "TS Data Augmentation: 100%|██████████| 388764/388764 [00:41<00:00, 9445.34it/s] \n",
      "Training Model:   0%|          | 0/380 [00:00<?, ?it/s]2024-06-28 15:26:38.725095: I external/local_xla/xla/stream_executor/cuda/cuda_dnn.cc:467] Loaded cuDNN version 90000\n",
      "2024-06-28 15:26:44.098474: I external/local_xla/xla/service/service.cc:168] XLA service 0x14e6180aae00 initialized for platform CUDA (this does not guarantee that XLA will be used). Devices:\n",
      "2024-06-28 15:26:44.098501: I external/local_xla/xla/service/service.cc:176]   StreamExecutor device (0): Tesla V100-SXM2-32GB, Compute Capability 7.0\n",
      "2024-06-28 15:26:44.098507: I external/local_xla/xla/service/service.cc:176]   StreamExecutor device (1): Tesla V100-SXM2-32GB, Compute Capability 7.0\n",
      "2024-06-28 15:26:44.118393: I tensorflow/compiler/mlir/tensorflow/utils/dump_mlir_util.cc:269] disabling MLIR crash reproducer, set env var `MLIR_CRASH_REPRODUCER_DIRECTORY` to enable.\n",
      "WARNING: All log messages before absl::InitializeLog() is called are written to STDERR\n",
      "I0000 00:00:1719602804.261645   26536 device_compiler.h:186] Compiled cluster using XLA!  This line is logged at most once for the lifetime of the process.\n",
      "Training Model: 100%|██████████| 380/380 [01:47<00:00,  3.54it/s]\n",
      "/usr/local/lib/python3.10/dist-packages/keras/src/engine/training.py:3103: UserWarning: You are saving your model as an HDF5 file via `model.save()`. This file format is considered legacy. We recommend using instead the native Keras format, e.g. `model.save('my_model.keras')`.\n",
      "  saving_api.save_model(\n"
     ]
    },
    {
     "name": "stdout",
     "output_type": "stream",
     "text": [
      "Avg training loss: 1.5542\n",
      "Time taken: 157.96s\n",
      "Best model is at epoch 0 Saving\n",
      "==========\n",
      "\n",
      "Start of epoch 1:\n",
      "\n"
     ]
    },
    {
     "name": "stderr",
     "output_type": "stream",
     "text": [
      "TS Data Augmentation: 100%|██████████| 388764/388764 [00:33<00:00, 11692.51it/s]\n",
      "Training Model: 100%|██████████| 380/380 [01:20<00:00,  4.71it/s]\n"
     ]
    },
    {
     "name": "stdout",
     "output_type": "stream",
     "text": [
      "Avg training loss: 0.7847\n",
      "Time taken: 123.24s\n",
      "Best model is at epoch 1 Saving\n",
      "==========\n",
      "\n",
      "Start of epoch 2:\n",
      "\n"
     ]
    },
    {
     "name": "stderr",
     "output_type": "stream",
     "text": [
      "TS Data Augmentation: 100%|██████████| 388764/388764 [00:33<00:00, 11723.40it/s]\n",
      "Training Model: 100%|██████████| 380/380 [01:24<00:00,  4.51it/s]\n"
     ]
    },
    {
     "name": "stdout",
     "output_type": "stream",
     "text": [
      "Avg training loss: 0.5156\n",
      "Time taken: 126.32s\n",
      "Best model is at epoch 2 Saving\n",
      "==========\n",
      "\n",
      "Start of epoch 3:\n",
      "\n"
     ]
    },
    {
     "name": "stderr",
     "output_type": "stream",
     "text": [
      "TS Data Augmentation: 100%|██████████| 388764/388764 [00:33<00:00, 11709.14it/s]\n",
      "Training Model: 100%|██████████| 380/380 [01:21<00:00,  4.67it/s]\n"
     ]
    },
    {
     "name": "stdout",
     "output_type": "stream",
     "text": [
      "Avg training loss: 0.5535\n",
      "Time taken: 123.14s\n",
      "==========\n",
      "\n",
      "Start of epoch 4:\n",
      "\n"
     ]
    },
    {
     "name": "stderr",
     "output_type": "stream",
     "text": [
      "TS Data Augmentation: 100%|██████████| 388764/388764 [00:33<00:00, 11755.88it/s]\n",
      "Training Model: 100%|██████████| 380/380 [01:28<00:00,  4.31it/s]\n"
     ]
    },
    {
     "name": "stdout",
     "output_type": "stream",
     "text": [
      "Avg training loss: 0.3753\n",
      "Time taken: 131.23s\n",
      "Best model is at epoch 4 Saving\n",
      "==========\n",
      "\n",
      "Start of epoch 5:\n",
      "\n"
     ]
    },
    {
     "name": "stderr",
     "output_type": "stream",
     "text": [
      "TS Data Augmentation: 100%|██████████| 388764/388764 [00:33<00:00, 11614.21it/s]\n",
      "Training Model: 100%|██████████| 380/380 [01:39<00:00,  3.83it/s]\n"
     ]
    },
    {
     "name": "stdout",
     "output_type": "stream",
     "text": [
      "Avg training loss: 0.2308\n",
      "Time taken: 142.15s\n",
      "Best model is at epoch 5 Saving\n",
      "==========\n",
      "\n",
      "Start of epoch 6:\n",
      "\n"
     ]
    },
    {
     "name": "stderr",
     "output_type": "stream",
     "text": [
      "TS Data Augmentation: 100%|██████████| 388764/388764 [00:33<00:00, 11748.90it/s]\n",
      "Training Model: 100%|██████████| 380/380 [01:29<00:00,  4.26it/s]\n"
     ]
    },
    {
     "name": "stdout",
     "output_type": "stream",
     "text": [
      "Avg training loss: 0.3358\n",
      "Time taken: 131.33s\n",
      "==========\n",
      "\n",
      "Start of epoch 7:\n",
      "\n"
     ]
    },
    {
     "name": "stderr",
     "output_type": "stream",
     "text": [
      "TS Data Augmentation: 100%|██████████| 388764/388764 [00:33<00:00, 11737.93it/s]\n",
      "Training Model: 100%|██████████| 380/380 [01:39<00:00,  3.83it/s]\n"
     ]
    },
    {
     "name": "stdout",
     "output_type": "stream",
     "text": [
      "Avg training loss: 0.2149\n",
      "Time taken: 141.83s\n",
      "Best model is at epoch 7 Saving\n",
      "==========\n",
      "\n",
      "Start of epoch 8:\n",
      "\n"
     ]
    },
    {
     "name": "stderr",
     "output_type": "stream",
     "text": [
      "TS Data Augmentation: 100%|██████████| 388764/388764 [00:32<00:00, 11868.35it/s]\n"
     ]
    }
   ],
   "source": [
    "alpha=0\n",
    "learning_rate=5e-4\n",
    "model_dir=Path(f\"models/ensemble\")\n",
    "\n",
    "model_paths = [\"models/lsst_alpha_0/best_model.h5\", \"models/lsst_alpha_0.5/best_model.h5\", \"models/lsst_alpha_10/best_model.h5\"]\n",
    "train_ensemble_model(\n",
    "            model_paths,\n",
    "            num_epochs=num_epochs,\n",
    "            batch_size=batch_size,\n",
    "            learning_rate=learning_rate, \n",
    "            max_class_count=max_class_count, \n",
    "            train_dir=train_dir, \n",
    "            model_dir=model_dir)"
   ]
  },
  {
   "cell_type": "code",
   "execution_count": null,
   "id": "458dec4a-a09a-4ac8-8226-43413d1b5944",
   "metadata": {},
   "outputs": [],
   "source": []
  }
 ],
 "metadata": {
  "kernelspec": {
   "display_name": "NGC TensorFlow",
   "language": "python",
   "name": "tensorflow"
  },
  "language_info": {
   "codemirror_mode": {
    "name": "ipython",
    "version": 3
   },
   "file_extension": ".py",
   "mimetype": "text/x-python",
   "name": "python",
   "nbconvert_exporter": "python",
   "pygments_lexer": "ipython3",
   "version": "3.10.12"
  }
 },
 "nbformat": 4,
 "nbformat_minor": 5
}
