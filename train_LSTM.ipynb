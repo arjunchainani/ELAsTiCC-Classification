{
 "cells": [
  {
   "cell_type": "markdown",
   "id": "3926cbe0-c3fa-43c4-98b7-2e6710c32e46",
   "metadata": {},
   "source": [
    "# Training and validating RNN + MPL model with the WHXE loss function"
   ]
  },
  {
   "cell_type": "markdown",
   "id": "b3d39334-1647-4390-bfe5-0587e786d7b3",
   "metadata": {
    "tags": []
   },
   "source": [
    "## Imports"
   ]
  },
  {
   "cell_type": "code",
   "execution_count": 1,
   "id": "0c99e109-b675-47d0-b6a1-0a3c5ec2eda5",
   "metadata": {},
   "outputs": [
    {
     "name": "stderr",
     "output_type": "stream",
     "text": [
      "2024-06-12 07:25:29.910227: I tensorflow/core/util/port.cc:113] oneDNN custom operations are on. You may see slightly different numerical results due to floating-point round-off errors from different computation orders. To turn them off, set the environment variable `TF_ENABLE_ONEDNN_OPTS=0`.\n",
      "2024-06-12 07:25:30.646380: E external/local_xla/xla/stream_executor/cuda/cuda_dnn.cc:9373] Unable to register cuDNN factory: Attempting to register factory for plugin cuDNN when one has already been registered\n",
      "2024-06-12 07:25:30.647894: E external/local_xla/xla/stream_executor/cuda/cuda_fft.cc:607] Unable to register cuFFT factory: Attempting to register factory for plugin cuFFT when one has already been registered\n",
      "2024-06-12 07:25:30.814408: E external/local_xla/xla/stream_executor/cuda/cuda_blas.cc:1534] Unable to register cuBLAS factory: Attempting to register factory for plugin cuBLAS when one has already been registered\n",
      "2024-06-12 07:25:31.139021: I tensorflow/core/platform/cpu_feature_guard.cc:183] This TensorFlow binary is optimized to use available CPU instructions in performance-critical operations.\n",
      "To enable the following instructions: SSE3 SSE4.1 SSE4.2 AVX, in other operations, rebuild TensorFlow with the appropriate compiler flags.\n"
     ]
    }
   ],
   "source": [
    "import time\n",
    "import pickle\n",
    "import platform\n",
    "import os\n",
    "import imageio\n",
    "import numpy as np\n",
    "import pandas as pd\n",
    "import matplotlib.pyplot as plt\n",
    "import tensorflow as tf\n",
    "\n",
    "from random import sample \n",
    "from sklearn.model_selection import train_test_split\n",
    "from tensorflow.keras.callbacks import EarlyStopping\n",
    "from tensorflow.keras.utils import plot_model\n",
    "from sklearn.metrics import confusion_matrix, ConfusionMatrixDisplay, classification_report\n",
    "from tensorflow import keras\n",
    "\n",
    "from LSTM_model import get_LSTM_Classifier\n",
    "from dataloader import LSSTSourceDataSet, load, get_augmented_data, get_static_features, ts_length\n",
    "from loss import WHXE_Loss\n",
    "from taxonomy import get_taxonomy_tree, get_prediction_probs, get_highest_prob_path, plot_colored_tree\n",
    "from vizualizations import make_gif, plot_confusion_matrix, plot_roc_curves\n",
    "from interpret_results import get_conditional_probabilites, save_all_cf_and_rocs"
   ]
  },
  {
   "cell_type": "code",
   "execution_count": 2,
   "id": "794f3197-2c38-4fbd-9c1a-ea7b1ab0316c",
   "metadata": {},
   "outputs": [
    {
     "name": "stdout",
     "output_type": "stream",
     "text": [
      "Tensorflow version 2.15.0\n",
      "Python version 3.10.12\n"
     ]
    }
   ],
   "source": [
    "print(\"Tensorflow version\", tf.__version__)\n",
    "print(\"Python version\", platform.python_version())"
   ]
  },
  {
   "cell_type": "markdown",
   "id": "86ac99b5-6252-4f61-8ea5-f115dd45534e",
   "metadata": {},
   "source": [
    "## Load and balance the tensors:"
   ]
  },
  {
   "cell_type": "markdown",
   "id": "8f5f0400-9c0a-4205-9a40-b0d92523099e",
   "metadata": {},
   "source": [
    "This step takes a while because it has load from disc to memory..."
   ]
  },
  {
   "cell_type": "code",
   "execution_count": null,
   "id": "5584753a-7d5f-4f4f-b21b-e343a8334b61",
   "metadata": {},
   "outputs": [],
   "source": [
    "X_ts = load(\"processed/train/x_ts.pkl\")\n",
    "X_static = load(\"processed/train/x_static.pkl\")\n",
    "Y = load(\"processed/train/y.pkl\")\n",
    "astrophysical_classes = load(\"processed/train/a_labels.pkl\")"
   ]
  },
  {
   "cell_type": "code",
   "execution_count": null,
   "id": "5d41f77e-42dc-4a9f-97b4-5a2e08d31a7a",
   "metadata": {},
   "outputs": [],
   "source": [
    "a, b = np.unique(astrophysical_classes, return_counts=True)\n",
    "print(f\"Total sample count = {np.sum(b)}\")\n",
    "pd.DataFrame(data = {'Class': a, 'Count': b})"
   ]
  },
  {
   "cell_type": "markdown",
   "id": "0747b5af-28d8-474a-afba-5b7d0c366fe5",
   "metadata": {},
   "source": [
    "Small step to convert X_static from a dictionary to an array"
   ]
  },
  {
   "cell_type": "code",
   "execution_count": null,
   "id": "48e9969f-c0a8-48ee-87ff-31f98810a827",
   "metadata": {},
   "outputs": [],
   "source": [
    "for i in range(len(X_static)):\n",
    "    \n",
    "    if i%1000 == 0:\n",
    "        print(f\"{(i/len(X_static) * 100):.3f} %\", end=\"\\r\")\n",
    "        \n",
    "    X_static[i] = get_static_features(X_static[i])"
   ]
  },
  {
   "cell_type": "markdown",
   "id": "ecb6c07f-4aca-4756-91b7-8a796be9cca2",
   "metadata": {},
   "source": [
    "Balance the data set in some way"
   ]
  },
  {
   "cell_type": "code",
   "execution_count": null,
   "id": "16a2cbd8-b962-48ed-a643-6696682debb7",
   "metadata": {},
   "outputs": [],
   "source": [
    "max_class_count = 30000\n",
    "\n",
    "X_ts_balanced = []\n",
    "X_static_balanced = []\n",
    "Y_balanced = []\n",
    "astrophysical_classes_balanced = []\n",
    "\n",
    "for c in np.unique(astrophysical_classes):\n",
    "\n",
    "    idx = list(np.where(np.array(astrophysical_classes) == c)[0])\n",
    "    \n",
    "    if len(idx) > max_class_count:\n",
    "        idx = sample(idx, max_class_count)\n",
    " \n",
    "    X_ts_balanced += [X_ts[i] for i in idx]\n",
    "    X_static_balanced += [X_static[i] for i in idx]\n",
    "    Y_balanced += [Y[i] for i in idx]\n",
    "    astrophysical_classes_balanced += [astrophysical_classes[i] for i in idx]\n",
    "\n",
    "# Print summary of the data set used for training and validation\n",
    "a, b = np.unique(astrophysical_classes_balanced, return_counts=True)\n",
    "data_summary = pd.DataFrame(data = {'Class': a, 'Count': b})\n",
    "data_summary"
   ]
  },
  {
   "cell_type": "markdown",
   "id": "0ab645e2-6475-4116-a45f-ea7b7cc1d5e4",
   "metadata": {},
   "source": [
    "Free up some memory"
   ]
  },
  {
   "cell_type": "code",
   "execution_count": null,
   "id": "6c91732c-3ffb-4461-8f6f-029b2439f699",
   "metadata": {},
   "outputs": [],
   "source": [
    "del X_ts, X_static, Y, astrophysical_classes"
   ]
  },
  {
   "cell_type": "markdown",
   "id": "4f6d3f6b-a268-435a-9e0d-a70fa070ca53",
   "metadata": {},
   "source": [
    "Split into train and validation"
   ]
  },
  {
   "cell_type": "code",
   "execution_count": null,
   "id": "8d6da261-08ba-4a3b-aa6a-55726e71fa4e",
   "metadata": {},
   "outputs": [],
   "source": [
    "val_fraction = 0.05\n",
    "X_ts_train, X_ts_val, X_static_train, X_static_val, Y_train, Y_val, astrophysical_classes_train, astrophysical_classes_val = train_test_split(X_ts_balanced, X_static_balanced, Y_balanced, astrophysical_classes_balanced, shuffle=True, random_state = 40, test_size = val_fraction)"
   ]
  },
  {
   "cell_type": "markdown",
   "id": "3af2b946-a9cb-4582-b8d8-c14ab1ebcc9b",
   "metadata": {},
   "source": [
    "Free up some more memory"
   ]
  },
  {
   "cell_type": "code",
   "execution_count": null,
   "id": "f2351afc-056d-4b68-911c-8bdb8174cccb",
   "metadata": {},
   "outputs": [],
   "source": [
    "del X_ts_balanced, X_static_balanced, Y_balanced, astrophysical_classes_balanced"
   ]
  },
  {
   "cell_type": "markdown",
   "id": "7afe841f-4e2f-4515-aa21-c04c6ee15c99",
   "metadata": {},
   "source": [
    "Check make up of the validation data"
   ]
  },
  {
   "cell_type": "markdown",
   "id": "8b0c47d8-c7ff-4af1-b03a-6687607ea860",
   "metadata": {},
   "source": [
    "## Define the Loss function, criterion, etc."
   ]
  },
  {
   "cell_type": "code",
   "execution_count": null,
   "id": "a34f2953-411e-4588-be68-040f502c5a09",
   "metadata": {},
   "outputs": [],
   "source": [
    "# Loss and optimizer\n",
    "tree = get_taxonomy_tree()\n",
    "loss_object = WHXE_Loss(tree, astrophysical_classes_train, alpha=0) \n",
    "criterion = loss_object.compute_loss"
   ]
  },
  {
   "cell_type": "markdown",
   "id": "03dea7e3-1061-4ca7-bcdc-a42e2dfc1fad",
   "metadata": {
    "tags": []
   },
   "source": [
    "## Train the classifier using WHXE loss and save the model"
   ]
  },
  {
   "cell_type": "code",
   "execution_count": null,
   "id": "f620eb4b-1167-4b92-92d1-625725ed0b8e",
   "metadata": {},
   "outputs": [],
   "source": [
    "optimizer = keras.optimizers.Adam(learning_rate=5e-4)"
   ]
  },
  {
   "cell_type": "code",
   "execution_count": null,
   "id": "0eaf6977-25b3-4e73-afac-159776db393a",
   "metadata": {},
   "outputs": [],
   "source": [
    "# Inputs for model\n",
    "ts_dim = 5\n",
    "static_dim = len(X_static_train[0])\n",
    "output_dim = 26\n",
    "latent_size = 64\n",
    "\n",
    "num_epochs = 100\n",
    "batch_size = 2048"
   ]
  },
  {
   "cell_type": "code",
   "execution_count": null,
   "id": "c00daa1c-7322-4577-a3a2-a7d6408f298d",
   "metadata": {},
   "outputs": [],
   "source": [
    "model = get_LSTM_Classifier(ts_dim, static_dim, output_dim, latent_size)\n",
    "keras.utils.plot_model(model, to_file='lstm.pdf', show_shapes=True, show_layer_names=True)\n",
    "plt.close()"
   ]
  },
  {
   "cell_type": "code",
   "execution_count": null,
   "id": "b758fadc-5b16-4fac-8096-def6ec642157",
   "metadata": {},
   "outputs": [],
   "source": [
    "@tf.function\n",
    "def train_step(x_ts, x_static, y):\n",
    "    with tf.GradientTape() as tape:\n",
    "        logits = model((x_ts, x_static), training=True)\n",
    "        loss_value = criterion(y, logits)\n",
    "    grads = tape.gradient(loss_value, model.trainable_weights)\n",
    "    optimizer.apply_gradients(zip(grads, model.trainable_weights))\n",
    "\n",
    "    return loss_value"
   ]
  },
  {
   "cell_type": "code",
   "execution_count": null,
   "id": "d1a377a8-18b0-4001-a5f1-f4c9a5a08efb",
   "metadata": {
    "tags": []
   },
   "outputs": [],
   "source": [
    "avg_train_losses = []\n",
    "for epoch in range(num_epochs):\n",
    "    \n",
    "    print(f\"\\nStart of epoch {epoch}\")\n",
    "    start_time = time.time()\n",
    "\n",
    "    print(\"Augmenting time series lengths...\")\n",
    "    \n",
    "    # Create the augmented data set for training\n",
    "    X_ts_train_aug, X_static_train_aug, Y_train_aug, astrophysical_classes_train_aug = get_augmented_data(X_ts_train, X_static_train, Y_train, astrophysical_classes_train)\n",
    "    train_dataset =  tf.data.Dataset.from_tensor_slices((X_ts_train_aug, X_static_train_aug, Y_train_aug, astrophysical_classes_train_aug)).batch(batch_size)\n",
    "    \n",
    "    # Array to keep tracking of the training loss\n",
    "    train_loss_values = []\n",
    "    \n",
    "    # Iterate over the batches of the dataset.\n",
    "    for step, (x_ts_batch_train, x_static_batch_train, y_batch_train, a_class_batch_train) in enumerate(train_dataset):\n",
    "        loss_value = train_step(x_ts_batch_train, x_static_batch_train, y_batch_train)\n",
    "    \n",
    "    # Log the avg train loss\n",
    "    avg_train_loss = np.mean(loss_value)\n",
    "    avg_train_losses.append(avg_train_loss)\n",
    "    print(f\"Avg training loss: {float(avg_train_loss):.4f}\")\n",
    "    \n",
    "    print(f\"Time taken: {time.time() - start_time:.2f}s\")\n",
    "    model.save(f\"models/lsst_rate_agnostic/lstm_epoch_{epoch}.h5\")\n",
    "    \n",
    "    # Save the model with the smallest training loss\n",
    "    best_model_epoch = np.argmin(avg_train_losses)\n",
    "    loaded_model = keras.models.load_model(f\"models/lsst_rate_agnostic/lstm_epoch_{best_model_epoch}.h5\", compile=False)\n",
    "    loaded_model.save(f\"models/lsst_rate_agnostic/best_model.h5\")"
   ]
  },
  {
   "cell_type": "markdown",
   "id": "b0fb9f1b-06ad-4ed3-92ae-0968fb99091c",
   "metadata": {},
   "source": [
    "## Load the saved model and validate that everthing looks okay"
   ]
  },
  {
   "cell_type": "code",
   "execution_count": 12,
   "id": "ca62e204-7471-44cc-9b22-8348f4e946a8",
   "metadata": {},
   "outputs": [],
   "source": [
    "best_model = keras.models.load_model(f\"models/lsst_rate_agnostic/best_model.h5\", compile=False)"
   ]
  },
  {
   "cell_type": "code",
   "execution_count": 13,
   "id": "1a343fc2-e951-4659-89bb-67208cdc4db9",
   "metadata": {},
   "outputs": [],
   "source": [
    "fractions = [0.1, 0.2, 0.3, 0.4, 0.5, 0.6, 0.7, 0.8, 0.9, 1]"
   ]
  },
  {
   "cell_type": "code",
   "execution_count": 49,
   "id": "d7a79713-2f62-4f4b-b744-63394b432338",
   "metadata": {
    "tags": []
   },
   "outputs": [
    {
     "name": "stdout",
     "output_type": "stream",
     "text": [
      "Running inference for 10% light curves...\n",
      "614/614 [==============================] - 2s 3ms/step\n",
      "For 10% of the light curve, these are the statistics:\n",
      "              precision    recall  f1-score   support\n",
      "\n",
      "   Transient       0.88      1.00      0.94     14195\n",
      "    Variable       0.98      0.65      0.78      5440\n",
      "\n",
      "    accuracy                           0.90     19635\n",
      "   macro avg       0.93      0.82      0.86     19635\n",
      "weighted avg       0.91      0.90      0.89     19635\n",
      "\n",
      "===========\n",
      "              precision    recall  f1-score   support\n",
      "\n",
      "         AGN       1.00      0.27      0.43      1563\n",
      "        Fast       0.60      0.85      0.70      1576\n",
      "        Long       0.65      0.59      0.62      5278\n",
      "    Periodic       0.98      0.81      0.89      3877\n",
      "          SN       0.73      0.90      0.81      7341\n",
      "\n",
      "    accuracy                           0.74     19635\n",
      "   macro avg       0.79      0.68      0.69     19635\n",
      "weighted avg       0.77      0.74      0.73     19635\n",
      "\n",
      "===========\n",
      "               precision    recall  f1-score   support\n",
      "\n",
      "          AGN       1.00      0.28      0.44      1563\n",
      "         CART       0.07      0.13      0.09       384\n",
      "      Cepheid       0.96      0.78      0.86       652\n",
      "  Delta Scuti       0.88      0.61      0.72      1052\n",
      "  Dwarf Novae       0.26      0.96      0.41       416\n",
      "           EB       0.80      0.53      0.64      1475\n",
      "         ILOT       0.20      0.33      0.25       354\n",
      "           KN       0.17      0.62      0.27       224\n",
      "M-dwarf Flare       0.20      0.03      0.06        91\n",
      "         PISN       0.73      0.62      0.67      1457\n",
      "     RR Lyrae       0.60      0.80      0.68       698\n",
      "         SLSN       0.49      0.47      0.48      1515\n",
      "      SNI91bg       0.47      0.41      0.44      1389\n",
      "         SNII       0.21      0.47      0.29      1548\n",
      "         SNIa       0.24      0.11      0.15      1475\n",
      "        SNIax       0.25      0.27      0.26      1402\n",
      "       SNIb/c       0.29      0.23      0.26      1527\n",
      "          TDE       0.27      0.19      0.22      1568\n",
      "        uLens       0.50      0.33      0.40       845\n",
      "\n",
      "     accuracy                           0.41     19635\n",
      "    macro avg       0.45      0.43      0.40     19635\n",
      " weighted avg       0.50      0.41      0.42     19635\n",
      "\n",
      "Running inference for 20% light curves...\n",
      "614/614 [==============================] - 2s 4ms/step\n",
      "For 20% of the light curve, these are the statistics:\n",
      "              precision    recall  f1-score   support\n",
      "\n",
      "   Transient       0.92      0.99      0.95     14195\n",
      "    Variable       0.98      0.77      0.86      5440\n",
      "\n",
      "    accuracy                           0.93     19635\n",
      "   macro avg       0.95      0.88      0.91     19635\n",
      "weighted avg       0.94      0.93      0.93     19635\n",
      "\n",
      "===========\n",
      "              precision    recall  f1-score   support\n",
      "\n",
      "         AGN       0.99      0.48      0.65      1563\n",
      "        Fast       0.68      0.88      0.77      1576\n",
      "        Long       0.73      0.64      0.68      5278\n",
      "    Periodic       0.98      0.88      0.93      3877\n",
      "          SN       0.77      0.91      0.83      7341\n",
      "\n",
      "    accuracy                           0.80     19635\n",
      "   macro avg       0.83      0.76      0.77     19635\n",
      "weighted avg       0.81      0.80      0.79     19635\n",
      "\n",
      "===========\n",
      "               precision    recall  f1-score   support\n",
      "\n",
      "          AGN       0.99      0.50      0.66      1563\n",
      "         CART       0.08      0.10      0.09       384\n",
      "      Cepheid       0.97      0.88      0.92       652\n",
      "  Delta Scuti       0.93      0.76      0.84      1052\n",
      "  Dwarf Novae       0.31      0.98      0.47       416\n",
      "           EB       0.87      0.70      0.77      1475\n",
      "         ILOT       0.26      0.42      0.32       354\n",
      "           KN       0.18      0.77      0.29       224\n",
      "M-dwarf Flare       0.41      0.13      0.20        91\n",
      "         PISN       0.79      0.70      0.74      1457\n",
      "     RR Lyrae       0.74      0.87      0.80       698\n",
      "         SLSN       0.55      0.53      0.54      1515\n",
      "      SNI91bg       0.52      0.47      0.49      1389\n",
      "         SNII       0.25      0.40      0.30      1548\n",
      "         SNIa       0.31      0.20      0.24      1475\n",
      "        SNIax       0.31      0.33      0.32      1402\n",
      "       SNIb/c       0.31      0.31      0.31      1527\n",
      "          TDE       0.45      0.31      0.37      1568\n",
      "        uLens       0.68      0.38      0.49       845\n",
      "\n",
      "     accuracy                           0.49     19635\n",
      "    macro avg       0.52      0.51      0.48     19635\n",
      " weighted avg       0.56      0.49      0.51     19635\n",
      "\n",
      "Running inference for 30% light curves...\n",
      "614/614 [==============================] - 3s 4ms/step\n",
      "For 30% of the light curve, these are the statistics:\n",
      "              precision    recall  f1-score   support\n",
      "\n",
      "   Transient       0.94      1.00      0.97     14195\n",
      "    Variable       0.99      0.83      0.90      5440\n",
      "\n",
      "    accuracy                           0.95     19635\n",
      "   macro avg       0.96      0.91      0.93     19635\n",
      "weighted avg       0.95      0.95      0.95     19635\n",
      "\n",
      "===========\n",
      "              precision    recall  f1-score   support\n",
      "\n",
      "         AGN       0.99      0.63      0.77      1563\n",
      "        Fast       0.73      0.91      0.81      1576\n",
      "        Long       0.79      0.69      0.73      5278\n",
      "    Periodic       0.98      0.91      0.95      3877\n",
      "          SN       0.80      0.92      0.86      7341\n",
      "\n",
      "    accuracy                           0.83     19635\n",
      "   macro avg       0.86      0.81      0.82     19635\n",
      "weighted avg       0.84      0.83      0.83     19635\n",
      "\n",
      "===========\n",
      "               precision    recall  f1-score   support\n",
      "\n",
      "          AGN       0.99      0.64      0.78      1563\n",
      "         CART       0.12      0.12      0.12       384\n",
      "      Cepheid       0.97      0.89      0.93       652\n",
      "  Delta Scuti       0.96      0.82      0.88      1052\n",
      "  Dwarf Novae       0.35      0.96      0.51       416\n",
      "           EB       0.89      0.79      0.84      1475\n",
      "         ILOT       0.32      0.51      0.39       354\n",
      "           KN       0.22      0.88      0.36       224\n",
      "M-dwarf Flare       0.47      0.21      0.29        91\n",
      "         PISN       0.82      0.75      0.79      1457\n",
      "     RR Lyrae       0.80      0.90      0.85       698\n",
      "         SLSN       0.60      0.58      0.59      1515\n",
      "      SNI91bg       0.56      0.52      0.54      1389\n",
      "         SNII       0.31      0.39      0.34      1548\n",
      "         SNIa       0.34      0.28      0.31      1475\n",
      "        SNIax       0.34      0.36      0.35      1402\n",
      "       SNIb/c       0.33      0.37      0.35      1527\n",
      "          TDE       0.60      0.39      0.47      1568\n",
      "        uLens       0.77      0.45      0.57       845\n",
      "\n",
      "     accuracy                           0.55     19635\n",
      "    macro avg       0.57      0.57      0.54     19635\n",
      " weighted avg       0.61      0.55      0.57     19635\n",
      "\n",
      "Running inference for 40% light curves...\n",
      "614/614 [==============================] - 3s 5ms/step\n",
      "For 40% of the light curve, these are the statistics:\n",
      "              precision    recall  f1-score   support\n",
      "\n",
      "   Transient       0.96      0.99      0.98     14195\n",
      "    Variable       0.99      0.88      0.93      5440\n",
      "\n",
      "    accuracy                           0.96     19635\n",
      "   macro avg       0.97      0.94      0.95     19635\n",
      "weighted avg       0.97      0.96      0.96     19635\n",
      "\n",
      "===========\n",
      "              precision    recall  f1-score   support\n",
      "\n",
      "         AGN       0.99      0.75      0.86      1563\n",
      "        Fast       0.77      0.92      0.84      1576\n",
      "        Long       0.83      0.72      0.77      5278\n",
      "    Periodic       0.98      0.94      0.96      3877\n",
      "          SN       0.82      0.93      0.87      7341\n",
      "\n",
      "    accuracy                           0.86     19635\n",
      "   macro avg       0.88      0.85      0.86     19635\n",
      "weighted avg       0.87      0.86      0.86     19635\n",
      "\n",
      "===========\n",
      "               precision    recall  f1-score   support\n",
      "\n",
      "          AGN       0.99      0.77      0.86      1563\n",
      "         CART       0.13      0.12      0.13       384\n",
      "      Cepheid       0.97      0.92      0.94       652\n",
      "  Delta Scuti       0.97      0.85      0.90      1052\n",
      "  Dwarf Novae       0.40      0.94      0.56       416\n",
      "           EB       0.90      0.85      0.87      1475\n",
      "         ILOT       0.37      0.55      0.44       354\n",
      "           KN       0.25      0.89      0.39       224\n",
      "M-dwarf Flare       0.44      0.25      0.32        91\n",
      "         PISN       0.85      0.80      0.82      1457\n",
      "     RR Lyrae       0.84      0.93      0.88       698\n",
      "         SLSN       0.66      0.63      0.65      1515\n",
      "      SNI91bg       0.60      0.56      0.58      1389\n",
      "         SNII       0.35      0.38      0.37      1548\n",
      "         SNIa       0.39      0.35      0.37      1475\n",
      "        SNIax       0.37      0.38      0.37      1402\n",
      "       SNIb/c       0.34      0.41      0.37      1527\n",
      "          TDE       0.69      0.45      0.55      1568\n",
      "        uLens       0.81      0.53      0.64       845\n",
      "\n",
      "     accuracy                           0.60     19635\n",
      "    macro avg       0.60      0.61      0.58     19635\n",
      " weighted avg       0.64      0.60      0.61     19635\n",
      "\n",
      "Running inference for 50% light curves...\n",
      "614/614 [==============================] - 3s 5ms/step\n",
      "For 50% of the light curve, these are the statistics:\n",
      "              precision    recall  f1-score   support\n",
      "\n",
      "   Transient       0.97      0.99      0.98     14195\n",
      "    Variable       0.98      0.92      0.95      5440\n",
      "\n",
      "    accuracy                           0.97     19635\n",
      "   macro avg       0.98      0.96      0.97     19635\n",
      "weighted avg       0.97      0.97      0.97     19635\n",
      "\n",
      "===========\n",
      "              precision    recall  f1-score   support\n",
      "\n",
      "         AGN       0.98      0.85      0.91      1563\n",
      "        Fast       0.80      0.92      0.86      1576\n",
      "        Long       0.86      0.76      0.81      5278\n",
      "    Periodic       0.98      0.95      0.97      3877\n",
      "          SN       0.84      0.93      0.88      7341\n",
      "\n",
      "    accuracy                           0.88     19635\n",
      "   macro avg       0.89      0.88      0.88     19635\n",
      "weighted avg       0.88      0.88      0.88     19635\n",
      "\n",
      "===========\n",
      "               precision    recall  f1-score   support\n",
      "\n",
      "          AGN       0.97      0.86      0.91      1563\n",
      "         CART       0.14      0.13      0.13       384\n",
      "      Cepheid       0.97      0.93      0.95       652\n",
      "  Delta Scuti       0.97      0.86      0.91      1052\n",
      "  Dwarf Novae       0.48      0.89      0.62       416\n",
      "           EB       0.89      0.88      0.88      1475\n",
      "         ILOT       0.39      0.61      0.48       354\n",
      "           KN       0.29      0.90      0.44       224\n",
      "M-dwarf Flare       0.30      0.44      0.36        91\n",
      "         PISN       0.86      0.82      0.84      1457\n",
      "     RR Lyrae       0.86      0.92      0.89       698\n",
      "         SLSN       0.71      0.69      0.70      1515\n",
      "      SNI91bg       0.62      0.59      0.61      1389\n",
      "         SNII       0.39      0.36      0.38      1548\n",
      "         SNIa       0.41      0.39      0.40      1475\n",
      "        SNIax       0.38      0.38      0.38      1402\n",
      "       SNIb/c       0.35      0.44      0.39      1527\n",
      "          TDE       0.77      0.50      0.61      1568\n",
      "        uLens       0.85      0.60      0.70       845\n",
      "\n",
      "     accuracy                           0.63     19635\n",
      "    macro avg       0.61      0.64      0.61     19635\n",
      " weighted avg       0.66      0.63      0.64     19635\n",
      "\n",
      "Running inference for 60% light curves...\n",
      "614/614 [==============================] - 4s 6ms/step\n",
      "For 60% of the light curve, these are the statistics:\n",
      "              precision    recall  f1-score   support\n",
      "\n",
      "   Transient       0.98      0.99      0.99     14195\n",
      "    Variable       0.98      0.95      0.96      5440\n",
      "\n",
      "    accuracy                           0.98     19635\n",
      "   macro avg       0.98      0.97      0.97     19635\n",
      "weighted avg       0.98      0.98      0.98     19635\n",
      "\n",
      "===========\n",
      "              precision    recall  f1-score   support\n",
      "\n",
      "         AGN       0.97      0.92      0.94      1563\n",
      "        Fast       0.83      0.92      0.88      1576\n",
      "        Long       0.88      0.78      0.83      5278\n",
      "    Periodic       0.98      0.96      0.97      3877\n",
      "          SN       0.86      0.93      0.89      7341\n",
      "\n",
      "    accuracy                           0.89     19635\n",
      "   macro avg       0.91      0.90      0.90     19635\n",
      "weighted avg       0.90      0.89      0.89     19635\n",
      "\n",
      "===========\n",
      "               precision    recall  f1-score   support\n",
      "\n",
      "          AGN       0.96      0.92      0.94      1563\n",
      "         CART       0.18      0.17      0.17       384\n",
      "      Cepheid       0.96      0.93      0.94       652\n",
      "  Delta Scuti       0.96      0.87      0.92      1052\n",
      "  Dwarf Novae       0.56      0.85      0.67       416\n",
      "           EB       0.89      0.91      0.90      1475\n",
      "         ILOT       0.43      0.65      0.51       354\n",
      "           KN       0.36      0.91      0.52       224\n",
      "M-dwarf Flare       0.31      0.59      0.41        91\n",
      "         PISN       0.88      0.84      0.86      1457\n",
      "     RR Lyrae       0.87      0.92      0.89       698\n",
      "         SLSN       0.73      0.72      0.73      1515\n",
      "      SNI91bg       0.65      0.64      0.64      1389\n",
      "         SNII       0.43      0.38      0.40      1548\n",
      "         SNIa       0.43      0.41      0.42      1475\n",
      "        SNIax       0.42      0.40      0.41      1402\n",
      "       SNIb/c       0.37      0.49      0.42      1527\n",
      "          TDE       0.82      0.54      0.65      1568\n",
      "        uLens       0.86      0.65      0.74       845\n",
      "\n",
      "     accuracy                           0.66     19635\n",
      "    macro avg       0.64      0.67      0.64     19635\n",
      " weighted avg       0.68      0.66      0.66     19635\n",
      "\n",
      "Running inference for 70% light curves...\n",
      "614/614 [==============================] - 4s 7ms/step\n",
      "For 70% of the light curve, these are the statistics:\n",
      "              precision    recall  f1-score   support\n",
      "\n",
      "   Transient       0.99      0.99      0.99     14195\n",
      "    Variable       0.97      0.97      0.97      5440\n",
      "\n",
      "    accuracy                           0.98     19635\n",
      "   macro avg       0.98      0.98      0.98     19635\n",
      "weighted avg       0.98      0.98      0.98     19635\n",
      "\n",
      "===========\n",
      "              precision    recall  f1-score   support\n",
      "\n",
      "         AGN       0.97      0.95      0.96      1563\n",
      "        Fast       0.86      0.92      0.89      1576\n",
      "        Long       0.89      0.80      0.84      5278\n",
      "    Periodic       0.98      0.97      0.97      3877\n",
      "          SN       0.87      0.93      0.90      7341\n",
      "\n",
      "    accuracy                           0.90     19635\n",
      "   macro avg       0.91      0.91      0.91     19635\n",
      "weighted avg       0.91      0.90      0.90     19635\n",
      "\n",
      "===========\n",
      "               precision    recall  f1-score   support\n",
      "\n",
      "          AGN       0.96      0.96      0.96      1563\n",
      "         CART       0.20      0.19      0.19       384\n",
      "      Cepheid       0.95      0.95      0.95       652\n",
      "  Delta Scuti       0.97      0.88      0.92      1052\n",
      "  Dwarf Novae       0.66      0.83      0.73       416\n",
      "           EB       0.88      0.93      0.90      1475\n",
      "         ILOT       0.45      0.67      0.54       354\n",
      "           KN       0.45      0.91      0.60       224\n",
      "M-dwarf Flare       0.31      0.58      0.40        91\n",
      "         PISN       0.88      0.85      0.87      1457\n",
      "     RR Lyrae       0.89      0.93      0.91       698\n",
      "         SLSN       0.76      0.75      0.75      1515\n",
      "      SNI91bg       0.67      0.65      0.66      1389\n",
      "         SNII       0.45      0.38      0.41      1548\n",
      "         SNIa       0.45      0.44      0.44      1475\n",
      "        SNIax       0.43      0.41      0.42      1402\n",
      "       SNIb/c       0.36      0.49      0.42      1527\n",
      "          TDE       0.83      0.57      0.68      1568\n",
      "        uLens       0.88      0.71      0.79       845\n",
      "\n",
      "     accuracy                           0.68     19635\n",
      "    macro avg       0.65      0.69      0.66     19635\n",
      " weighted avg       0.69      0.68      0.68     19635\n",
      "\n",
      "Running inference for 80% light curves...\n",
      "614/614 [==============================] - 4s 7ms/step\n",
      "For 80% of the light curve, these are the statistics:\n",
      "              precision    recall  f1-score   support\n",
      "\n",
      "   Transient       0.99      0.99      0.99     14195\n",
      "    Variable       0.97      0.98      0.97      5440\n",
      "\n",
      "    accuracy                           0.99     19635\n",
      "   macro avg       0.98      0.98      0.98     19635\n",
      "weighted avg       0.99      0.99      0.99     19635\n",
      "\n",
      "===========\n",
      "              precision    recall  f1-score   support\n",
      "\n",
      "         AGN       0.96      0.96      0.96      1563\n",
      "        Fast       0.89      0.91      0.90      1576\n",
      "        Long       0.89      0.82      0.85      5278\n",
      "    Periodic       0.97      0.98      0.98      3877\n",
      "          SN       0.89      0.93      0.91      7341\n",
      "\n",
      "    accuracy                           0.91     19635\n",
      "   macro avg       0.92      0.92      0.92     19635\n",
      "weighted avg       0.91      0.91      0.91     19635\n",
      "\n",
      "===========\n",
      "               precision    recall  f1-score   support\n",
      "\n",
      "          AGN       0.95      0.97      0.96      1563\n",
      "         CART       0.20      0.20      0.20       384\n",
      "      Cepheid       0.94      0.96      0.95       652\n",
      "  Delta Scuti       0.97      0.89      0.93      1052\n",
      "  Dwarf Novae       0.76      0.81      0.79       416\n",
      "           EB       0.86      0.95      0.90      1475\n",
      "         ILOT       0.46      0.69      0.55       354\n",
      "           KN       0.51      0.92      0.66       224\n",
      "M-dwarf Flare       0.33      0.56      0.42        91\n",
      "         PISN       0.89      0.85      0.87      1457\n",
      "     RR Lyrae       0.90      0.93      0.91       698\n",
      "         SLSN       0.76      0.76      0.76      1515\n",
      "      SNI91bg       0.68      0.66      0.67      1389\n",
      "         SNII       0.49      0.38      0.43      1548\n",
      "         SNIa       0.47      0.47      0.47      1475\n",
      "        SNIax       0.44      0.42      0.43      1402\n",
      "       SNIb/c       0.37      0.50      0.43      1527\n",
      "          TDE       0.84      0.61      0.71      1568\n",
      "        uLens       0.91      0.76      0.82       845\n",
      "\n",
      "     accuracy                           0.69     19635\n",
      "    macro avg       0.67      0.70      0.68     19635\n",
      " weighted avg       0.71      0.69      0.69     19635\n",
      "\n",
      "Running inference for 90% light curves...\n",
      "614/614 [==============================] - 5s 8ms/step\n",
      "For 90% of the light curve, these are the statistics:\n",
      "              precision    recall  f1-score   support\n",
      "\n",
      "   Transient       0.99      0.99      0.99     14195\n",
      "    Variable       0.97      0.99      0.98      5440\n",
      "\n",
      "    accuracy                           0.99     19635\n",
      "   macro avg       0.98      0.99      0.98     19635\n",
      "weighted avg       0.99      0.99      0.99     19635\n",
      "\n",
      "===========\n",
      "              precision    recall  f1-score   support\n",
      "\n",
      "         AGN       0.95      0.98      0.96      1563\n",
      "        Fast       0.90      0.92      0.91      1576\n",
      "        Long       0.89      0.84      0.86      5278\n",
      "    Periodic       0.97      0.99      0.98      3877\n",
      "          SN       0.90      0.92      0.91      7341\n",
      "\n",
      "    accuracy                           0.92     19635\n",
      "   macro avg       0.92      0.93      0.92     19635\n",
      "weighted avg       0.91      0.92      0.91     19635\n",
      "\n",
      "===========\n",
      "               precision    recall  f1-score   support\n",
      "\n",
      "          AGN       0.94      0.98      0.96      1563\n",
      "         CART       0.22      0.25      0.23       384\n",
      "      Cepheid       0.94      0.97      0.96       652\n",
      "  Delta Scuti       0.97      0.89      0.93      1052\n",
      "  Dwarf Novae       0.83      0.78      0.81       416\n",
      "           EB       0.87      0.96      0.91      1475\n",
      "         ILOT       0.47      0.71      0.56       354\n",
      "           KN       0.56      0.94      0.70       224\n",
      "M-dwarf Flare       0.36      0.60      0.45        91\n",
      "         PISN       0.89      0.85      0.87      1457\n",
      "     RR Lyrae       0.91      0.93      0.92       698\n",
      "         SLSN       0.77      0.78      0.77      1515\n",
      "      SNI91bg       0.68      0.66      0.67      1389\n",
      "         SNII       0.51      0.37      0.43      1548\n",
      "         SNIa       0.49      0.48      0.48      1475\n",
      "        SNIax       0.45      0.43      0.44      1402\n",
      "       SNIb/c       0.38      0.50      0.43      1527\n",
      "          TDE       0.84      0.64      0.72      1568\n",
      "        uLens       0.91      0.82      0.86       845\n",
      "\n",
      "     accuracy                           0.70     19635\n",
      "    macro avg       0.68      0.71      0.69     19635\n",
      " weighted avg       0.71      0.70      0.70     19635\n",
      "\n",
      "Running inference for 100% light curves...\n",
      "614/614 [==============================] - 5s 9ms/step\n",
      "For 100% of the light curve, these are the statistics:\n",
      "              precision    recall  f1-score   support\n",
      "\n",
      "   Transient       1.00      0.98      0.99     14195\n",
      "    Variable       0.96      0.99      0.98      5440\n",
      "\n",
      "    accuracy                           0.99     19635\n",
      "   macro avg       0.98      0.99      0.98     19635\n",
      "weighted avg       0.99      0.99      0.99     19635\n",
      "\n",
      "===========\n",
      "              precision    recall  f1-score   support\n",
      "\n",
      "         AGN       0.93      0.99      0.96      1563\n",
      "        Fast       0.91      0.92      0.92      1576\n",
      "        Long       0.86      0.85      0.86      5278\n",
      "    Periodic       0.97      0.99      0.98      3877\n",
      "          SN       0.91      0.90      0.90      7341\n",
      "\n",
      "    accuracy                           0.91     19635\n",
      "   macro avg       0.92      0.93      0.92     19635\n",
      "weighted avg       0.91      0.91      0.91     19635\n",
      "\n",
      "===========\n",
      "               precision    recall  f1-score   support\n",
      "\n",
      "          AGN       0.92      0.99      0.96      1563\n",
      "         CART       0.20      0.27      0.23       384\n",
      "      Cepheid       0.95      0.97      0.96       652\n",
      "  Delta Scuti       0.97      0.90      0.93      1052\n",
      "  Dwarf Novae       0.85      0.85      0.85       416\n",
      "           EB       0.89      0.97      0.92      1475\n",
      "         ILOT       0.44      0.73      0.55       354\n",
      "           KN       0.61      0.93      0.74       224\n",
      "M-dwarf Flare       0.48      0.57      0.52        91\n",
      "         PISN       0.91      0.84      0.87      1457\n",
      "     RR Lyrae       0.91      0.93      0.92       698\n",
      "         SLSN       0.76      0.81      0.78      1515\n",
      "      SNI91bg       0.68      0.68      0.68      1389\n",
      "         SNII       0.52      0.34      0.41      1548\n",
      "         SNIa       0.50      0.45      0.47      1475\n",
      "        SNIax       0.43      0.43      0.43      1402\n",
      "       SNIb/c       0.38      0.49      0.43      1527\n",
      "          TDE       0.84      0.64      0.73      1568\n",
      "        uLens       0.91      0.86      0.89       845\n",
      "\n",
      "     accuracy                           0.71     19635\n",
      "    macro avg       0.69      0.72      0.70     19635\n",
      " weighted avg       0.72      0.71      0.71     19635\n",
      "\n"
     ]
    }
   ],
   "source": [
    "for f in fractions:\n",
    "\n",
    "    print(f'Running inference for {int(f*100)}% light curves...')\n",
    "\n",
    "    x1, x2, y_true, _ = get_augmented_data(X_ts_val, X_static_val, Y_val, astrophysical_classes_val, fraction=f)\n",
    "    \n",
    "    # Run inference on these\n",
    "    y_pred = best_model.predict([x1, x2])\n",
    "\n",
    "    # Get the conditional probabilities\n",
    "    _, pseudo_conditional_probabilities = get_conditional_probabilites(y_pred, tree)\n",
    "    \n",
    "    print(f'For {int(f*100)}% of the light curve, these are the statistics:')\n",
    "    \n",
    "    # Print all the stats and make plots...\n",
    "    save_all_cf_and_rocs(y_true, pseudo_conditional_probabilities, tree, f)\n",
    "    save_leaf_cf_and_rocs(y_true, pseudo_conditional_probabilities, tree, f)\n",
    "    \n",
    "    plt.close()"
   ]
  },
  {
   "cell_type": "markdown",
   "id": "a181f350-4d11-450f-a10f-8d2c51b92acc",
   "metadata": {},
   "source": [
    "## Making a cool animation:"
   ]
  },
  {
   "cell_type": "code",
   "execution_count": 17,
   "id": "f2357fa9-33f2-48c9-b9aa-3db2b52abc2e",
   "metadata": {},
   "outputs": [
    {
     "name": "stderr",
     "output_type": "stream",
     "text": [
      "MovieWriter ffmpeg unavailable; using Pillow instead.\n"
     ]
    }
   ],
   "source": [
    "cf_files = [f\"gif/leaf_cf/{f}.png\" for f in fractions]\n",
    "make_gif(cf_files, 'gif/leaf_cf/leaf_cf.gif')\n",
    "plt.close()"
   ]
  },
  {
   "cell_type": "code",
   "execution_count": 18,
   "id": "9ec1730b-642b-4cd3-a5b5-7e414c18efb5",
   "metadata": {},
   "outputs": [
    {
     "name": "stderr",
     "output_type": "stream",
     "text": [
      "MovieWriter ffmpeg unavailable; using Pillow instead.\n"
     ]
    }
   ],
   "source": [
    "roc_files = [f\"gif/leaf_roc/{f}.png\" for f in fractions]\n",
    "make_gif(roc_files, 'gif/leaf_roc/leaf_roc.gif')\n",
    "plt.close()"
   ]
  },
  {
   "cell_type": "code",
   "execution_count": 19,
   "id": "ef3dbdfa-7ca2-492d-86c2-27d368fa7e8b",
   "metadata": {},
   "outputs": [
    {
     "name": "stderr",
     "output_type": "stream",
     "text": [
      "MovieWriter ffmpeg unavailable; using Pillow instead.\n"
     ]
    }
   ],
   "source": [
    "cf_files = [f\"gif/level_1_cf/{f}.png\" for f in fractions]\n",
    "make_gif(cf_files, 'gif/level_1_cf/level_1_cf.gif')\n",
    "plt.close()"
   ]
  },
  {
   "cell_type": "code",
   "execution_count": 20,
   "id": "2bbd7b35-b1a3-4665-a3ef-97d1efc0c3b3",
   "metadata": {},
   "outputs": [
    {
     "name": "stderr",
     "output_type": "stream",
     "text": [
      "MovieWriter ffmpeg unavailable; using Pillow instead.\n"
     ]
    }
   ],
   "source": [
    "roc_files = [f\"gif/level_1_roc/{f}.png\" for f in fractions]\n",
    "make_gif(roc_files, 'gif/level_1_roc/level_1_roc.gif')\n",
    "plt.close()"
   ]
  },
  {
   "cell_type": "code",
   "execution_count": 21,
   "id": "e37b526d-c632-4c33-8da4-b9b5297c7ae7",
   "metadata": {},
   "outputs": [
    {
     "name": "stderr",
     "output_type": "stream",
     "text": [
      "MovieWriter ffmpeg unavailable; using Pillow instead.\n"
     ]
    }
   ],
   "source": [
    "cf_files = [f\"gif/level_2_cf/{f}.png\" for f in fractions]\n",
    "make_gif(cf_files, 'gif/level_2_cf/level_2_cf.gif')\n",
    "plt.close()"
   ]
  },
  {
   "cell_type": "code",
   "execution_count": 22,
   "id": "be8db84d-e650-431f-9182-86bbe0e88c6d",
   "metadata": {},
   "outputs": [
    {
     "name": "stderr",
     "output_type": "stream",
     "text": [
      "MovieWriter ffmpeg unavailable; using Pillow instead.\n"
     ]
    }
   ],
   "source": [
    "roc_files = [f\"gif/level_2_roc/{f}.png\" for f in fractions]\n",
    "make_gif(roc_files, 'gif/level_2_roc/level_2_roc.gif')\n",
    "plt.close()"
   ]
  },
  {
   "cell_type": "markdown",
   "id": "4888ffbd-596e-4f15-bb12-ffcb78361504",
   "metadata": {},
   "source": [
    "For the love of everthing that is good in this world, please use a different notebook for testing and genearting statistics. Keep this notebook simple enought to be converted into a script. "
   ]
  }
 ],
 "metadata": {
  "kernelspec": {
   "display_name": "NGC TensorFlow",
   "language": "python",
   "name": "tensorflow"
  },
  "language_info": {
   "codemirror_mode": {
    "name": "ipython",
    "version": 3
   },
   "file_extension": ".py",
   "mimetype": "text/x-python",
   "name": "python",
   "nbconvert_exporter": "python",
   "pygments_lexer": "ipython3",
   "version": "3.10.12"
  }
 },
 "nbformat": 4,
 "nbformat_minor": 5
}
