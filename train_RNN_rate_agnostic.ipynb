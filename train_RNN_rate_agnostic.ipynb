{
 "cells": [
  {
   "cell_type": "markdown",
   "id": "3926cbe0-c3fa-43c4-98b7-2e6710c32e46",
   "metadata": {},
   "source": [
    "# Training and validating RNN + MPL model with the WHXE loss function"
   ]
  },
  {
   "cell_type": "markdown",
   "id": "b3d39334-1647-4390-bfe5-0587e786d7b3",
   "metadata": {
    "tags": []
   },
   "source": [
    "## Imports"
   ]
  },
  {
   "cell_type": "code",
   "execution_count": 1,
   "id": "0c99e109-b675-47d0-b6a1-0a3c5ec2eda5",
   "metadata": {},
   "outputs": [
    {
     "name": "stderr",
     "output_type": "stream",
     "text": [
      "2024-06-17 07:18:18.592747: I tensorflow/core/util/port.cc:113] oneDNN custom operations are on. You may see slightly different numerical results due to floating-point round-off errors from different computation orders. To turn them off, set the environment variable `TF_ENABLE_ONEDNN_OPTS=0`.\n",
      "2024-06-17 07:18:20.032842: E external/local_xla/xla/stream_executor/cuda/cuda_dnn.cc:9373] Unable to register cuDNN factory: Attempting to register factory for plugin cuDNN when one has already been registered\n",
      "2024-06-17 07:18:20.034830: E external/local_xla/xla/stream_executor/cuda/cuda_fft.cc:607] Unable to register cuFFT factory: Attempting to register factory for plugin cuFFT when one has already been registered\n",
      "2024-06-17 07:18:20.233614: E external/local_xla/xla/stream_executor/cuda/cuda_blas.cc:1534] Unable to register cuBLAS factory: Attempting to register factory for plugin cuBLAS when one has already been registered\n",
      "2024-06-17 07:18:20.611303: I tensorflow/core/platform/cpu_feature_guard.cc:183] This TensorFlow binary is optimized to use available CPU instructions in performance-critical operations.\n",
      "To enable the following instructions: SSE3 SSE4.1 SSE4.2 AVX, in other operations, rebuild TensorFlow with the appropriate compiler flags.\n"
     ]
    }
   ],
   "source": [
    "import time\n",
    "import pickle\n",
    "import platform\n",
    "import os\n",
    "import imageio\n",
    "import numpy as np\n",
    "import pandas as pd\n",
    "import matplotlib.pyplot as plt\n",
    "import tensorflow as tf\n",
    "import random \n",
    "\n",
    "from sklearn.model_selection import train_test_split\n",
    "from tensorflow.keras.callbacks import EarlyStopping\n",
    "from tensorflow.keras.utils import plot_model\n",
    "from sklearn.metrics import confusion_matrix, ConfusionMatrixDisplay, classification_report\n",
    "from tensorflow import keras\n",
    "from tqdm import tqdm\n",
    "\n",
    "from LSTM_model import get_LSTM_Classifier\n",
    "from dataloader import LSSTSourceDataSet, load, get_augmented_data, get_static_features, ts_length\n",
    "from loss import WHXE_Loss\n",
    "from taxonomy import get_taxonomy_tree, get_prediction_probs, get_highest_prob_path, plot_colored_tree\n",
    "from vizualizations import make_gif, plot_confusion_matrix, plot_roc_curves\n",
    "from interpret_results import get_conditional_probabilites, save_all_cf_and_rocs, save_leaf_cf_and_rocs"
   ]
  },
  {
   "cell_type": "code",
   "execution_count": 2,
   "id": "794f3197-2c38-4fbd-9c1a-ea7b1ab0316c",
   "metadata": {},
   "outputs": [
    {
     "name": "stdout",
     "output_type": "stream",
     "text": [
      "Tensorflow version 2.15.0\n",
      "Python version 3.10.12\n"
     ]
    }
   ],
   "source": [
    "print(\"Tensorflow version\", tf.__version__)\n",
    "print(\"Python version\", platform.python_version())"
   ]
  },
  {
   "cell_type": "code",
   "execution_count": 3,
   "id": "b3d607ed-361c-46f8-a222-ab8eeb010dcd",
   "metadata": {},
   "outputs": [],
   "source": [
    "seed = 42\n",
    "random.seed(seed)"
   ]
  },
  {
   "cell_type": "markdown",
   "id": "86ac99b5-6252-4f61-8ea5-f115dd45534e",
   "metadata": {},
   "source": [
    "## Load and balance the tensors:"
   ]
  },
  {
   "cell_type": "markdown",
   "id": "8f5f0400-9c0a-4205-9a40-b0d92523099e",
   "metadata": {},
   "source": [
    "This step takes a while because it has load from disc to memory..."
   ]
  },
  {
   "cell_type": "code",
   "execution_count": 4,
   "id": "5584753a-7d5f-4f4f-b21b-e343a8334b61",
   "metadata": {},
   "outputs": [],
   "source": [
    "X_ts = load(\"processed/train/x_ts.pkl\")\n",
    "X_static = load(\"processed/train/x_static.pkl\")\n",
    "Y = load(\"processed/train/y.pkl\")\n",
    "astrophysical_classes = load(\"processed/train/a_labels.pkl\")"
   ]
  },
  {
   "cell_type": "code",
   "execution_count": 5,
   "id": "5d41f77e-42dc-4a9f-97b4-5a2e08d31a7a",
   "metadata": {},
   "outputs": [
    {
     "name": "stdout",
     "output_type": "stream",
     "text": [
      "Total sample count = 1081614\n"
     ]
    },
    {
     "data": {
      "text/html": [
       "<div>\n",
       "<style scoped>\n",
       "    .dataframe tbody tr th:only-of-type {\n",
       "        vertical-align: middle;\n",
       "    }\n",
       "\n",
       "    .dataframe tbody tr th {\n",
       "        vertical-align: top;\n",
       "    }\n",
       "\n",
       "    .dataframe thead th {\n",
       "        text-align: right;\n",
       "    }\n",
       "</style>\n",
       "<table border=\"1\" class=\"dataframe\">\n",
       "  <thead>\n",
       "    <tr style=\"text-align: right;\">\n",
       "      <th></th>\n",
       "      <th>Class</th>\n",
       "      <th>Count</th>\n",
       "    </tr>\n",
       "  </thead>\n",
       "  <tbody>\n",
       "    <tr>\n",
       "      <th>0</th>\n",
       "      <td>AGN</td>\n",
       "      <td>76258</td>\n",
       "    </tr>\n",
       "    <tr>\n",
       "      <th>1</th>\n",
       "      <td>CART</td>\n",
       "      <td>8207</td>\n",
       "    </tr>\n",
       "    <tr>\n",
       "      <th>2</th>\n",
       "      <td>Cepheid</td>\n",
       "      <td>13771</td>\n",
       "    </tr>\n",
       "    <tr>\n",
       "      <th>3</th>\n",
       "      <td>Delta Scuti</td>\n",
       "      <td>20650</td>\n",
       "    </tr>\n",
       "    <tr>\n",
       "      <th>4</th>\n",
       "      <td>Dwarf Novae</td>\n",
       "      <td>8025</td>\n",
       "    </tr>\n",
       "    <tr>\n",
       "      <th>5</th>\n",
       "      <td>EB</td>\n",
       "      <td>66454</td>\n",
       "    </tr>\n",
       "    <tr>\n",
       "      <th>6</th>\n",
       "      <td>ILOT</td>\n",
       "      <td>7461</td>\n",
       "    </tr>\n",
       "    <tr>\n",
       "      <th>7</th>\n",
       "      <td>KN</td>\n",
       "      <td>4426</td>\n",
       "    </tr>\n",
       "    <tr>\n",
       "      <th>8</th>\n",
       "      <td>M-dwarf Flare</td>\n",
       "      <td>1859</td>\n",
       "    </tr>\n",
       "    <tr>\n",
       "      <th>9</th>\n",
       "      <td>PISN</td>\n",
       "      <td>63586</td>\n",
       "    </tr>\n",
       "    <tr>\n",
       "      <th>10</th>\n",
       "      <td>RR Lyrae</td>\n",
       "      <td>14033</td>\n",
       "    </tr>\n",
       "    <tr>\n",
       "      <th>11</th>\n",
       "      <td>SLSN</td>\n",
       "      <td>66088</td>\n",
       "    </tr>\n",
       "    <tr>\n",
       "      <th>12</th>\n",
       "      <td>SNI91bg</td>\n",
       "      <td>28637</td>\n",
       "    </tr>\n",
       "    <tr>\n",
       "      <th>13</th>\n",
       "      <td>SNII</td>\n",
       "      <td>301544</td>\n",
       "    </tr>\n",
       "    <tr>\n",
       "      <th>14</th>\n",
       "      <td>SNIa</td>\n",
       "      <td>120739</td>\n",
       "    </tr>\n",
       "    <tr>\n",
       "      <th>15</th>\n",
       "      <td>SNIax</td>\n",
       "      <td>28030</td>\n",
       "    </tr>\n",
       "    <tr>\n",
       "      <th>16</th>\n",
       "      <td>SNIb/c</td>\n",
       "      <td>168254</td>\n",
       "    </tr>\n",
       "    <tr>\n",
       "      <th>17</th>\n",
       "      <td>TDE</td>\n",
       "      <td>66000</td>\n",
       "    </tr>\n",
       "    <tr>\n",
       "      <th>18</th>\n",
       "      <td>uLens</td>\n",
       "      <td>17592</td>\n",
       "    </tr>\n",
       "  </tbody>\n",
       "</table>\n",
       "</div>"
      ],
      "text/plain": [
       "            Class   Count\n",
       "0             AGN   76258\n",
       "1            CART    8207\n",
       "2         Cepheid   13771\n",
       "3     Delta Scuti   20650\n",
       "4     Dwarf Novae    8025\n",
       "5              EB   66454\n",
       "6            ILOT    7461\n",
       "7              KN    4426\n",
       "8   M-dwarf Flare    1859\n",
       "9            PISN   63586\n",
       "10       RR Lyrae   14033\n",
       "11           SLSN   66088\n",
       "12        SNI91bg   28637\n",
       "13           SNII  301544\n",
       "14           SNIa  120739\n",
       "15          SNIax   28030\n",
       "16         SNIb/c  168254\n",
       "17            TDE   66000\n",
       "18          uLens   17592"
      ]
     },
     "execution_count": 5,
     "metadata": {},
     "output_type": "execute_result"
    }
   ],
   "source": [
    "a, b = np.unique(astrophysical_classes, return_counts=True)\n",
    "print(f\"Total sample count = {np.sum(b)}\")\n",
    "pd.DataFrame(data = {'Class': a, 'Count': b})"
   ]
  },
  {
   "cell_type": "markdown",
   "id": "0747b5af-28d8-474a-afba-5b7d0c366fe5",
   "metadata": {},
   "source": [
    "Small step to convert X_static from a dictionary to an array"
   ]
  },
  {
   "cell_type": "code",
   "execution_count": 6,
   "id": "48e9969f-c0a8-48ee-87ff-31f98810a827",
   "metadata": {},
   "outputs": [
    {
     "name": "stderr",
     "output_type": "stream",
     "text": [
      "100%|██████████| 1081614/1081614 [00:06<00:00, 156723.09it/s]\n"
     ]
    }
   ],
   "source": [
    "for i in tqdm(range(len(X_static))):        \n",
    "    X_static[i] = get_static_features(X_static[i])"
   ]
  },
  {
   "cell_type": "markdown",
   "id": "ecb6c07f-4aca-4756-91b7-8a796be9cca2",
   "metadata": {},
   "source": [
    "Balance the data set in some way"
   ]
  },
  {
   "cell_type": "code",
   "execution_count": 7,
   "id": "16a2cbd8-b962-48ed-a643-6696682debb7",
   "metadata": {},
   "outputs": [
    {
     "data": {
      "text/html": [
       "<div>\n",
       "<style scoped>\n",
       "    .dataframe tbody tr th:only-of-type {\n",
       "        vertical-align: middle;\n",
       "    }\n",
       "\n",
       "    .dataframe tbody tr th {\n",
       "        vertical-align: top;\n",
       "    }\n",
       "\n",
       "    .dataframe thead th {\n",
       "        text-align: right;\n",
       "    }\n",
       "</style>\n",
       "<table border=\"1\" class=\"dataframe\">\n",
       "  <thead>\n",
       "    <tr style=\"text-align: right;\">\n",
       "      <th></th>\n",
       "      <th>Class</th>\n",
       "      <th>Count</th>\n",
       "    </tr>\n",
       "  </thead>\n",
       "  <tbody>\n",
       "    <tr>\n",
       "      <th>0</th>\n",
       "      <td>AGN</td>\n",
       "      <td>20000</td>\n",
       "    </tr>\n",
       "    <tr>\n",
       "      <th>1</th>\n",
       "      <td>CART</td>\n",
       "      <td>8207</td>\n",
       "    </tr>\n",
       "    <tr>\n",
       "      <th>2</th>\n",
       "      <td>Cepheid</td>\n",
       "      <td>13771</td>\n",
       "    </tr>\n",
       "    <tr>\n",
       "      <th>3</th>\n",
       "      <td>Delta Scuti</td>\n",
       "      <td>20000</td>\n",
       "    </tr>\n",
       "    <tr>\n",
       "      <th>4</th>\n",
       "      <td>Dwarf Novae</td>\n",
       "      <td>8025</td>\n",
       "    </tr>\n",
       "    <tr>\n",
       "      <th>5</th>\n",
       "      <td>EB</td>\n",
       "      <td>20000</td>\n",
       "    </tr>\n",
       "    <tr>\n",
       "      <th>6</th>\n",
       "      <td>ILOT</td>\n",
       "      <td>7461</td>\n",
       "    </tr>\n",
       "    <tr>\n",
       "      <th>7</th>\n",
       "      <td>KN</td>\n",
       "      <td>4426</td>\n",
       "    </tr>\n",
       "    <tr>\n",
       "      <th>8</th>\n",
       "      <td>M-dwarf Flare</td>\n",
       "      <td>1859</td>\n",
       "    </tr>\n",
       "    <tr>\n",
       "      <th>9</th>\n",
       "      <td>PISN</td>\n",
       "      <td>20000</td>\n",
       "    </tr>\n",
       "    <tr>\n",
       "      <th>10</th>\n",
       "      <td>RR Lyrae</td>\n",
       "      <td>14033</td>\n",
       "    </tr>\n",
       "    <tr>\n",
       "      <th>11</th>\n",
       "      <td>SLSN</td>\n",
       "      <td>20000</td>\n",
       "    </tr>\n",
       "    <tr>\n",
       "      <th>12</th>\n",
       "      <td>SNI91bg</td>\n",
       "      <td>20000</td>\n",
       "    </tr>\n",
       "    <tr>\n",
       "      <th>13</th>\n",
       "      <td>SNII</td>\n",
       "      <td>20000</td>\n",
       "    </tr>\n",
       "    <tr>\n",
       "      <th>14</th>\n",
       "      <td>SNIa</td>\n",
       "      <td>20000</td>\n",
       "    </tr>\n",
       "    <tr>\n",
       "      <th>15</th>\n",
       "      <td>SNIax</td>\n",
       "      <td>20000</td>\n",
       "    </tr>\n",
       "    <tr>\n",
       "      <th>16</th>\n",
       "      <td>SNIb/c</td>\n",
       "      <td>20000</td>\n",
       "    </tr>\n",
       "    <tr>\n",
       "      <th>17</th>\n",
       "      <td>TDE</td>\n",
       "      <td>20000</td>\n",
       "    </tr>\n",
       "    <tr>\n",
       "      <th>18</th>\n",
       "      <td>uLens</td>\n",
       "      <td>17592</td>\n",
       "    </tr>\n",
       "  </tbody>\n",
       "</table>\n",
       "</div>"
      ],
      "text/plain": [
       "            Class  Count\n",
       "0             AGN  20000\n",
       "1            CART   8207\n",
       "2         Cepheid  13771\n",
       "3     Delta Scuti  20000\n",
       "4     Dwarf Novae   8025\n",
       "5              EB  20000\n",
       "6            ILOT   7461\n",
       "7              KN   4426\n",
       "8   M-dwarf Flare   1859\n",
       "9            PISN  20000\n",
       "10       RR Lyrae  14033\n",
       "11           SLSN  20000\n",
       "12        SNI91bg  20000\n",
       "13           SNII  20000\n",
       "14           SNIa  20000\n",
       "15          SNIax  20000\n",
       "16         SNIb/c  20000\n",
       "17            TDE  20000\n",
       "18          uLens  17592"
      ]
     },
     "execution_count": 7,
     "metadata": {},
     "output_type": "execute_result"
    }
   ],
   "source": [
    "max_class_count = 30000\n",
    "\n",
    "X_ts_balanced = []\n",
    "X_static_balanced = []\n",
    "Y_balanced = []\n",
    "astrophysical_classes_balanced = []\n",
    "\n",
    "for c in np.unique(astrophysical_classes):\n",
    "\n",
    "    idx = list(np.where(np.array(astrophysical_classes) == c)[0])\n",
    "    \n",
    "    if len(idx) > max_class_count:\n",
    "        idx = random.sample(idx, max_class_count)\n",
    " \n",
    "    X_ts_balanced += [X_ts[i] for i in idx]\n",
    "    X_static_balanced += [X_static[i] for i in idx]\n",
    "    Y_balanced += [Y[i] for i in idx]\n",
    "    astrophysical_classes_balanced += [astrophysical_classes[i] for i in idx]\n",
    "\n",
    "# Print summary of the data set used for training and validation\n",
    "a, b = np.unique(astrophysical_classes_balanced, return_counts=True)\n",
    "data_summary = pd.DataFrame(data = {'Class': a, 'Count': b})\n",
    "data_summary"
   ]
  },
  {
   "cell_type": "markdown",
   "id": "0ab645e2-6475-4116-a45f-ea7b7cc1d5e4",
   "metadata": {},
   "source": [
    "Free up some memory"
   ]
  },
  {
   "cell_type": "code",
   "execution_count": 8,
   "id": "6c91732c-3ffb-4461-8f6f-029b2439f699",
   "metadata": {},
   "outputs": [],
   "source": [
    "del X_ts, X_static, Y, astrophysical_classes"
   ]
  },
  {
   "cell_type": "markdown",
   "id": "4f6d3f6b-a268-435a-9e0d-a70fa070ca53",
   "metadata": {},
   "source": [
    "Split into train and validation"
   ]
  },
  {
   "cell_type": "code",
   "execution_count": 9,
   "id": "8d6da261-08ba-4a3b-aa6a-55726e71fa4e",
   "metadata": {},
   "outputs": [],
   "source": [
    "val_fraction = 0.05\n",
    "X_ts_train, X_ts_val, X_static_train, X_static_val, Y_train, Y_val, astrophysical_classes_train, astrophysical_classes_val = train_test_split(X_ts_balanced, X_static_balanced, Y_balanced, astrophysical_classes_balanced, shuffle=True, random_state = seed, test_size = val_fraction)"
   ]
  },
  {
   "cell_type": "markdown",
   "id": "3af2b946-a9cb-4582-b8d8-c14ab1ebcc9b",
   "metadata": {},
   "source": [
    "Free up some more memory"
   ]
  },
  {
   "cell_type": "code",
   "execution_count": 10,
   "id": "f2351afc-056d-4b68-911c-8bdb8174cccb",
   "metadata": {},
   "outputs": [],
   "source": [
    "del X_ts_balanced, X_static_balanced, Y_balanced, astrophysical_classes_balanced"
   ]
  },
  {
   "cell_type": "markdown",
   "id": "7afe841f-4e2f-4515-aa21-c04c6ee15c99",
   "metadata": {},
   "source": [
    "Check make up of the validation data"
   ]
  },
  {
   "cell_type": "markdown",
   "id": "8b0c47d8-c7ff-4af1-b03a-6687607ea860",
   "metadata": {},
   "source": [
    "## Define the Loss function, criterion, etc."
   ]
  },
  {
   "cell_type": "code",
   "execution_count": 11,
   "id": "a34f2953-411e-4588-be68-040f502c5a09",
   "metadata": {},
   "outputs": [],
   "source": [
    "# Loss and optimizer\n",
    "tree = get_taxonomy_tree()\n",
    "loss_object = WHXE_Loss(tree, astrophysical_classes_train, alpha=0) \n",
    "criterion = loss_object.compute_loss"
   ]
  },
  {
   "cell_type": "markdown",
   "id": "03dea7e3-1061-4ca7-bcdc-a42e2dfc1fad",
   "metadata": {
    "tags": []
   },
   "source": [
    "## Train the classifier using WHXE loss and save the model"
   ]
  },
  {
   "cell_type": "code",
   "execution_count": 12,
   "id": "f620eb4b-1167-4b92-92d1-625725ed0b8e",
   "metadata": {},
   "outputs": [
    {
     "name": "stderr",
     "output_type": "stream",
     "text": [
      "2024-06-17 07:21:00.064394: I tensorflow/core/common_runtime/gpu/gpu_device.cc:1926] Created device /job:localhost/replica:0/task:0/device:GPU:0 with 31127 MB memory:  -> device: 0, name: Tesla V100-SXM2-32GB, pci bus id: 0000:3a:00.0, compute capability: 7.0\n",
      "2024-06-17 07:21:00.065826: I tensorflow/core/common_runtime/gpu/gpu_device.cc:1926] Created device /job:localhost/replica:0/task:0/device:GPU:1 with 31127 MB memory:  -> device: 1, name: Tesla V100-SXM2-32GB, pci bus id: 0000:b3:00.0, compute capability: 7.0\n"
     ]
    }
   ],
   "source": [
    "optimizer = keras.optimizers.Adam(learning_rate=5e-4)"
   ]
  },
  {
   "cell_type": "code",
   "execution_count": 17,
   "id": "0eaf6977-25b3-4e73-afac-159776db393a",
   "metadata": {},
   "outputs": [],
   "source": [
    "# Inputs for model\n",
    "ts_dim = 5\n",
    "static_dim = len(X_static_train[0])\n",
    "output_dim = 26\n",
    "latent_size = 64\n",
    "\n",
    "num_epochs = 70\n",
    "batch_size = 1024"
   ]
  },
  {
   "cell_type": "code",
   "execution_count": 14,
   "id": "c00daa1c-7322-4577-a3a2-a7d6408f298d",
   "metadata": {},
   "outputs": [],
   "source": [
    "model = get_LSTM_Classifier(ts_dim, static_dim, output_dim, latent_size)\n",
    "model.compile(optimizer=optimizer, loss=criterion)"
   ]
  },
  {
   "cell_type": "code",
   "execution_count": 15,
   "id": "9be2201a-e42d-4c03-9b3c-b39372c7b913",
   "metadata": {},
   "outputs": [],
   "source": [
    "keras.utils.plot_model(model, to_file='lstm.pdf', show_shapes=True, show_layer_names=True)\n",
    "plt.close()"
   ]
  },
  {
   "cell_type": "code",
   "execution_count": 16,
   "id": "b758fadc-5b16-4fac-8096-def6ec642157",
   "metadata": {},
   "outputs": [],
   "source": [
    "@tf.function\n",
    "def train_step(x_ts, x_static, y):\n",
    "    with tf.GradientTape() as tape:\n",
    "        logits = model((x_ts, x_static), training=True)\n",
    "        loss_value = criterion(y, logits)\n",
    "    grads = tape.gradient(loss_value, model.trainable_weights)\n",
    "    optimizer.apply_gradients(zip(grads, model.trainable_weights))\n",
    "\n",
    "    return loss_value"
   ]
  },
  {
   "cell_type": "code",
   "execution_count": 18,
   "id": "d1a377a8-18b0-4001-a5f1-f4c9a5a08efb",
   "metadata": {
    "tags": []
   },
   "outputs": [
    {
     "name": "stdout",
     "output_type": "stream",
     "text": [
      "\n",
      "Start of epoch 0:\n",
      "Augmenting time series lengths...\n"
     ]
    },
    {
     "name": "stderr",
     "output_type": "stream",
     "text": [
      "100%|██████████| 280605/280605 [00:23<00:00, 11984.89it/s]\n"
     ]
    },
    {
     "name": "stdout",
     "output_type": "stream",
     "text": [
      "Training...\n"
     ]
    },
    {
     "name": "stderr",
     "output_type": "stream",
     "text": [
      "2024-06-17 07:22:43.538903: W tensorflow/core/common_runtime/type_inference.cc:339] Type inference failed. This indicates an invalid graph that escaped type checking. Error message: INVALID_ARGUMENT: expected compatible input types, but input 1:\n",
      "type_id: TFT_OPTIONAL\n",
      "args {\n",
      "  type_id: TFT_PRODUCT\n",
      "  args {\n",
      "    type_id: TFT_TENSOR\n",
      "    args {\n",
      "      type_id: TFT_INT32\n",
      "    }\n",
      "  }\n",
      "}\n",
      " is neither a subtype nor a supertype of the combined inputs preceding it:\n",
      "type_id: TFT_OPTIONAL\n",
      "args {\n",
      "  type_id: TFT_PRODUCT\n",
      "  args {\n",
      "    type_id: TFT_TENSOR\n",
      "    args {\n",
      "      type_id: TFT_FLOAT\n",
      "    }\n",
      "  }\n",
      "}\n",
      "\n",
      "\tfor Tuple type infernce function 0\n",
      "\twhile inferring type of node 'cond_18/output/_21'\n",
      "2024-06-17 07:22:44.428825: I external/local_xla/xla/stream_executor/cuda/cuda_dnn.cc:467] Loaded cuDNN version 90000\n",
      "2024-06-17 07:22:45.674418: I external/local_xla/xla/service/service.cc:168] XLA service 0x14d56b6f3000 initialized for platform CUDA (this does not guarantee that XLA will be used). Devices:\n",
      "2024-06-17 07:22:45.674449: I external/local_xla/xla/service/service.cc:176]   StreamExecutor device (0): Tesla V100-SXM2-32GB, Compute Capability 7.0\n",
      "2024-06-17 07:22:45.674454: I external/local_xla/xla/service/service.cc:176]   StreamExecutor device (1): Tesla V100-SXM2-32GB, Compute Capability 7.0\n",
      "2024-06-17 07:22:45.693145: I tensorflow/compiler/mlir/tensorflow/utils/dump_mlir_util.cc:269] disabling MLIR crash reproducer, set env var `MLIR_CRASH_REPRODUCER_DIRECTORY` to enable.\n",
      "WARNING: All log messages before absl::InitializeLog() is called are written to STDERR\n",
      "I0000 00:00:1718623365.824262   47590 device_compiler.h:186] Compiled cluster using XLA!  This line is logged at most once for the lifetime of the process.\n",
      "/usr/local/lib/python3.10/dist-packages/keras/src/engine/training.py:3103: UserWarning: You are saving your model as an HDF5 file via `model.save()`. This file format is considered legacy. We recommend using instead the native Keras format, e.g. `model.save('my_model.keras')`.\n",
      "  saving_api.save_model(\n"
     ]
    },
    {
     "name": "stdout",
     "output_type": "stream",
     "text": [
      "Avg training loss: 1.3181\n",
      "Time taken: 48.37s\n",
      "Best model is at epoch 0. Saving\n",
      "==========\n",
      "\n",
      "Start of epoch 1:\n",
      "Augmenting time series lengths...\n"
     ]
    },
    {
     "name": "stderr",
     "output_type": "stream",
     "text": [
      "100%|██████████| 280605/280605 [00:21<00:00, 13105.06it/s]\n"
     ]
    },
    {
     "name": "stdout",
     "output_type": "stream",
     "text": [
      "Training...\n",
      "Avg training loss: 0.8877\n",
      "Time taken: 36.82s\n",
      "Best model is at epoch 1. Saving\n",
      "==========\n",
      "\n",
      "Start of epoch 2:\n",
      "Augmenting time series lengths...\n"
     ]
    },
    {
     "name": "stderr",
     "output_type": "stream",
     "text": [
      "100%|██████████| 280605/280605 [00:20<00:00, 13561.19it/s]\n"
     ]
    },
    {
     "name": "stdout",
     "output_type": "stream",
     "text": [
      "Training...\n",
      "Avg training loss: 0.8342\n",
      "Time taken: 39.09s\n",
      "Best model is at epoch 2. Saving\n",
      "==========\n",
      "\n",
      "Start of epoch 3:\n",
      "Augmenting time series lengths...\n"
     ]
    },
    {
     "name": "stderr",
     "output_type": "stream",
     "text": [
      "100%|██████████| 280605/280605 [00:21<00:00, 12904.82it/s]\n"
     ]
    },
    {
     "name": "stdout",
     "output_type": "stream",
     "text": [
      "Training...\n",
      "Avg training loss: 0.7757\n",
      "Time taken: 45.82s\n",
      "Best model is at epoch 3. Saving\n",
      "==========\n",
      "\n",
      "Start of epoch 4:\n",
      "Augmenting time series lengths...\n"
     ]
    },
    {
     "name": "stderr",
     "output_type": "stream",
     "text": [
      "100%|██████████| 280605/280605 [00:20<00:00, 13362.34it/s]\n"
     ]
    },
    {
     "name": "stdout",
     "output_type": "stream",
     "text": [
      "Training...\n",
      "Avg training loss: 0.7412\n",
      "Time taken: 42.10s\n",
      "Best model is at epoch 4. Saving\n",
      "==========\n",
      "\n",
      "Start of epoch 5:\n",
      "Augmenting time series lengths...\n"
     ]
    },
    {
     "name": "stderr",
     "output_type": "stream",
     "text": [
      "100%|██████████| 280605/280605 [00:21<00:00, 13080.92it/s]\n"
     ]
    },
    {
     "name": "stdout",
     "output_type": "stream",
     "text": [
      "Training...\n",
      "Avg training loss: 0.9338\n",
      "Time taken: 33.37s\n",
      "==========\n",
      "\n",
      "Start of epoch 6:\n",
      "Augmenting time series lengths...\n"
     ]
    },
    {
     "name": "stderr",
     "output_type": "stream",
     "text": [
      "100%|██████████| 280605/280605 [00:20<00:00, 13524.21it/s]\n"
     ]
    },
    {
     "name": "stdout",
     "output_type": "stream",
     "text": [
      "Training...\n",
      "Avg training loss: 0.7920\n",
      "Time taken: 37.39s\n",
      "==========\n",
      "\n",
      "Start of epoch 7:\n",
      "Augmenting time series lengths...\n"
     ]
    },
    {
     "name": "stderr",
     "output_type": "stream",
     "text": [
      "100%|██████████| 280605/280605 [00:21<00:00, 12986.60it/s]\n"
     ]
    },
    {
     "name": "stdout",
     "output_type": "stream",
     "text": [
      "Training...\n",
      "Avg training loss: 0.6227\n",
      "Time taken: 49.48s\n",
      "Best model is at epoch 7. Saving\n",
      "==========\n",
      "\n",
      "Start of epoch 8:\n",
      "Augmenting time series lengths...\n"
     ]
    },
    {
     "name": "stderr",
     "output_type": "stream",
     "text": [
      "100%|██████████| 280605/280605 [00:21<00:00, 13295.48it/s]\n"
     ]
    },
    {
     "name": "stdout",
     "output_type": "stream",
     "text": [
      "Training...\n",
      "Avg training loss: 0.6270\n",
      "Time taken: 42.77s\n",
      "==========\n",
      "\n",
      "Start of epoch 9:\n",
      "Augmenting time series lengths...\n"
     ]
    },
    {
     "name": "stderr",
     "output_type": "stream",
     "text": [
      "100%|██████████| 280605/280605 [00:21<00:00, 13272.58it/s]\n"
     ]
    },
    {
     "name": "stdout",
     "output_type": "stream",
     "text": [
      "Training...\n",
      "Avg training loss: 0.5740\n"
     ]
    },
    {
     "data": {
      "image/png": "[encoded data removed]",
      "text/plain": [
       "<Figure size 640x480 with 1 Axes>"
      ]
     },
     "metadata": {},
     "output_type": "display_data"
    },
    {
     "name": "stdout",
     "output_type": "stream",
     "text": [
      "Time taken: 44.82s\n",
      "Best model is at epoch 9. Saving\n",
      "==========\n",
      "\n",
      "Start of epoch 10:\n",
      "Augmenting time series lengths...\n"
     ]
    },
    {
     "name": "stderr",
     "output_type": "stream",
     "text": [
      "100%|██████████| 280605/280605 [00:21<00:00, 13267.66it/s]\n"
     ]
    },
    {
     "name": "stdout",
     "output_type": "stream",
     "text": [
      "Training...\n",
      "Avg training loss: 0.6624\n",
      "Time taken: 38.82s\n",
      "==========\n",
      "\n",
      "Start of epoch 11:\n",
      "Augmenting time series lengths...\n"
     ]
    },
    {
     "name": "stderr",
     "output_type": "stream",
     "text": [
      "100%|██████████| 280605/280605 [00:20<00:00, 13418.56it/s]\n"
     ]
    },
    {
     "name": "stdout",
     "output_type": "stream",
     "text": [
      "Training...\n",
      "Avg training loss: 0.5212\n",
      "Time taken: 46.60s\n",
      "Best model is at epoch 11. Saving\n",
      "==========\n",
      "\n",
      "Start of epoch 12:\n",
      "Augmenting time series lengths...\n"
     ]
    },
    {
     "name": "stderr",
     "output_type": "stream",
     "text": [
      "100%|██████████| 280605/280605 [00:20<00:00, 13409.33it/s]\n"
     ]
    },
    {
     "name": "stdout",
     "output_type": "stream",
     "text": [
      "Training...\n",
      "Avg training loss: 0.5064\n",
      "Time taken: 45.47s\n",
      "Best model is at epoch 12. Saving\n",
      "==========\n",
      "\n",
      "Start of epoch 13:\n",
      "Augmenting time series lengths...\n"
     ]
    },
    {
     "name": "stderr",
     "output_type": "stream",
     "text": [
      "100%|██████████| 280605/280605 [00:21<00:00, 13336.17it/s]\n"
     ]
    },
    {
     "name": "stdout",
     "output_type": "stream",
     "text": [
      "Training...\n",
      "Avg training loss: 0.5142\n",
      "Time taken: 43.24s\n",
      "==========\n",
      "\n",
      "Start of epoch 14:\n",
      "Augmenting time series lengths...\n"
     ]
    },
    {
     "name": "stderr",
     "output_type": "stream",
     "text": [
      "100%|██████████| 280605/280605 [00:20<00:00, 13530.18it/s]\n"
     ]
    },
    {
     "name": "stdout",
     "output_type": "stream",
     "text": [
      "Training...\n",
      "Avg training loss: 0.6937\n",
      "Time taken: 35.87s\n",
      "==========\n",
      "\n",
      "Start of epoch 15:\n",
      "Augmenting time series lengths...\n"
     ]
    },
    {
     "name": "stderr",
     "output_type": "stream",
     "text": [
      "100%|██████████| 280605/280605 [00:21<00:00, 13237.95it/s]\n"
     ]
    },
    {
     "name": "stdout",
     "output_type": "stream",
     "text": [
      "Training...\n",
      "Avg training loss: 0.5629\n",
      "Time taken: 39.93s\n",
      "==========\n",
      "\n",
      "Start of epoch 16:\n",
      "Augmenting time series lengths...\n"
     ]
    },
    {
     "name": "stderr",
     "output_type": "stream",
     "text": [
      "100%|██████████| 280605/280605 [00:20<00:00, 13480.87it/s]\n"
     ]
    },
    {
     "name": "stdout",
     "output_type": "stream",
     "text": [
      "Training...\n",
      "Avg training loss: 0.4803\n",
      "Time taken: 44.06s\n",
      "Best model is at epoch 16. Saving\n",
      "==========\n",
      "\n",
      "Start of epoch 17:\n",
      "Augmenting time series lengths...\n"
     ]
    },
    {
     "name": "stderr",
     "output_type": "stream",
     "text": [
      "100%|██████████| 280605/280605 [00:21<00:00, 13075.87it/s]\n"
     ]
    },
    {
     "name": "stdout",
     "output_type": "stream",
     "text": [
      "Training...\n",
      "Avg training loss: 0.4569\n",
      "Time taken: 45.23s\n",
      "Best model is at epoch 17. Saving\n",
      "==========\n",
      "\n",
      "Start of epoch 18:\n",
      "Augmenting time series lengths...\n"
     ]
    },
    {
     "name": "stderr",
     "output_type": "stream",
     "text": [
      "100%|██████████| 280605/280605 [00:20<00:00, 13531.26it/s]\n"
     ]
    },
    {
     "name": "stdout",
     "output_type": "stream",
     "text": [
      "Training...\n",
      "Avg training loss: 0.4641\n",
      "Time taken: 43.71s\n",
      "==========\n",
      "\n",
      "Start of epoch 19:\n",
      "Augmenting time series lengths...\n"
     ]
    },
    {
     "name": "stderr",
     "output_type": "stream",
     "text": [
      "100%|██████████| 280605/280605 [00:21<00:00, 13180.36it/s]\n"
     ]
    },
    {
     "name": "stdout",
     "output_type": "stream",
     "text": [
      "Training...\n",
      "Avg training loss: 0.4488\n"
     ]
    },
    {
     "data": {
      "image/png": "[encoded data removed]",
      "text/plain": [
       "<Figure size 640x480 with 1 Axes>"
      ]
     },
     "metadata": {},
     "output_type": "display_data"
    },
    {
     "name": "stdout",
     "output_type": "stream",
     "text": [
      "Time taken: 44.47s\n",
      "Best model is at epoch 19. Saving\n",
      "==========\n",
      "\n",
      "Start of epoch 20:\n",
      "Augmenting time series lengths...\n"
     ]
    },
    {
     "name": "stderr",
     "output_type": "stream",
     "text": [
      "100%|██████████| 280605/280605 [00:20<00:00, 13585.96it/s]\n"
     ]
    },
    {
     "name": "stdout",
     "output_type": "stream",
     "text": [
      "Training...\n",
      "Avg training loss: 0.6488\n",
      "Time taken: 36.06s\n",
      "==========\n",
      "\n",
      "Start of epoch 21:\n",
      "Augmenting time series lengths...\n"
     ]
    },
    {
     "name": "stderr",
     "output_type": "stream",
     "text": [
      "100%|██████████| 280605/280605 [00:21<00:00, 13172.73it/s]\n"
     ]
    },
    {
     "name": "stdout",
     "output_type": "stream",
     "text": [
      "Training...\n",
      "Avg training loss: 0.4126\n",
      "Time taken: 48.08s\n",
      "Best model is at epoch 21. Saving\n",
      "==========\n",
      "\n",
      "Start of epoch 22:\n",
      "Augmenting time series lengths...\n"
     ]
    },
    {
     "name": "stderr",
     "output_type": "stream",
     "text": [
      "100%|██████████| 280605/280605 [00:20<00:00, 13761.50it/s]\n"
     ]
    },
    {
     "name": "stdout",
     "output_type": "stream",
     "text": [
      "Training...\n",
      "Avg training loss: 0.7604\n",
      "Time taken: 33.54s\n",
      "==========\n",
      "\n",
      "Start of epoch 23:\n",
      "Augmenting time series lengths...\n"
     ]
    },
    {
     "name": "stderr",
     "output_type": "stream",
     "text": [
      "100%|██████████| 280605/280605 [00:21<00:00, 13107.20it/s]\n"
     ]
    },
    {
     "name": "stdout",
     "output_type": "stream",
     "text": [
      "Training...\n",
      "Avg training loss: 0.5282\n",
      "Time taken: 39.85s\n",
      "==========\n",
      "\n",
      "Start of epoch 24:\n",
      "Augmenting time series lengths...\n"
     ]
    },
    {
     "name": "stderr",
     "output_type": "stream",
     "text": [
      "100%|██████████| 280605/280605 [00:20<00:00, 13702.74it/s]\n"
     ]
    },
    {
     "name": "stdout",
     "output_type": "stream",
     "text": [
      "Training...\n",
      "Avg training loss: 0.5986\n",
      "Time taken: 36.33s\n",
      "==========\n",
      "\n",
      "Start of epoch 25:\n",
      "Augmenting time series lengths...\n"
     ]
    },
    {
     "name": "stderr",
     "output_type": "stream",
     "text": [
      "100%|██████████| 280605/280605 [00:21<00:00, 12946.51it/s]\n"
     ]
    },
    {
     "name": "stdout",
     "output_type": "stream",
     "text": [
      "Training...\n",
      "Avg training loss: 0.3818\n",
      "Time taken: 49.07s\n",
      "Best model is at epoch 25. Saving\n",
      "==========\n",
      "\n",
      "Start of epoch 26:\n",
      "Augmenting time series lengths...\n"
     ]
    },
    {
     "name": "stderr",
     "output_type": "stream",
     "text": [
      "100%|██████████| 280605/280605 [00:20<00:00, 13693.04it/s]\n"
     ]
    },
    {
     "name": "stdout",
     "output_type": "stream",
     "text": [
      "Training...\n",
      "Avg training loss: 0.4239\n",
      "Time taken: 43.33s\n",
      "==========\n",
      "\n",
      "Start of epoch 27:\n",
      "Augmenting time series lengths...\n"
     ]
    },
    {
     "name": "stderr",
     "output_type": "stream",
     "text": [
      "100%|██████████| 280605/280605 [00:21<00:00, 12969.66it/s]\n"
     ]
    },
    {
     "name": "stdout",
     "output_type": "stream",
     "text": [
      "Training...\n",
      "Avg training loss: 0.6511\n",
      "Time taken: 36.16s\n",
      "==========\n",
      "\n",
      "Start of epoch 28:\n",
      "Augmenting time series lengths...\n"
     ]
    },
    {
     "name": "stderr",
     "output_type": "stream",
     "text": [
      "100%|██████████| 280605/280605 [00:20<00:00, 13710.48it/s]\n"
     ]
    },
    {
     "name": "stdout",
     "output_type": "stream",
     "text": [
      "Training...\n",
      "Avg training loss: 0.3907\n",
      "Time taken: 46.09s\n",
      "==========\n",
      "\n",
      "Start of epoch 29:\n",
      "Augmenting time series lengths...\n"
     ]
    },
    {
     "name": "stderr",
     "output_type": "stream",
     "text": [
      "100%|██████████| 280605/280605 [00:21<00:00, 12938.31it/s]\n"
     ]
    },
    {
     "name": "stdout",
     "output_type": "stream",
     "text": [
      "Training...\n",
      "Avg training loss: 0.3596\n"
     ]
    },
    {
     "data": {
      "image/png": "[encoded data removed]",
      "text/plain": [
       "<Figure size 640x480 with 1 Axes>"
      ]
     },
     "metadata": {},
     "output_type": "display_data"
    },
    {
     "name": "stdout",
     "output_type": "stream",
     "text": [
      "Time taken: 48.43s\n",
      "Best model is at epoch 29. Saving\n",
      "==========\n",
      "\n",
      "Start of epoch 30:\n",
      "Augmenting time series lengths...\n"
     ]
    },
    {
     "name": "stderr",
     "output_type": "stream",
     "text": [
      "100%|██████████| 280605/280605 [00:20<00:00, 13626.29it/s]\n"
     ]
    },
    {
     "name": "stdout",
     "output_type": "stream",
     "text": [
      "Training...\n",
      "Avg training loss: 0.4357\n",
      "Time taken: 41.82s\n",
      "==========\n",
      "\n",
      "Start of epoch 31:\n",
      "Augmenting time series lengths...\n"
     ]
    },
    {
     "name": "stderr",
     "output_type": "stream",
     "text": [
      "100%|██████████| 280605/280605 [00:21<00:00, 12990.52it/s]\n"
     ]
    },
    {
     "name": "stdout",
     "output_type": "stream",
     "text": [
      "Training...\n",
      "Avg training loss: 0.4359\n",
      "Time taken: 42.28s\n",
      "==========\n",
      "\n",
      "Start of epoch 32:\n",
      "Augmenting time series lengths...\n"
     ]
    },
    {
     "name": "stderr",
     "output_type": "stream",
     "text": [
      "100%|██████████| 280605/280605 [00:20<00:00, 13602.08it/s]\n"
     ]
    },
    {
     "name": "stdout",
     "output_type": "stream",
     "text": [
      "Training...\n",
      "Avg training loss: 0.3444\n",
      "Time taken: 47.58s\n",
      "Best model is at epoch 32. Saving\n",
      "==========\n",
      "\n",
      "Start of epoch 33:\n",
      "Augmenting time series lengths...\n"
     ]
    },
    {
     "name": "stderr",
     "output_type": "stream",
     "text": [
      "100%|██████████| 280605/280605 [00:21<00:00, 12937.74it/s]\n"
     ]
    },
    {
     "name": "stdout",
     "output_type": "stream",
     "text": [
      "Training...\n",
      "Avg training loss: 0.5469\n",
      "Time taken: 38.07s\n",
      "==========\n",
      "\n",
      "Start of epoch 34:\n",
      "Augmenting time series lengths...\n"
     ]
    },
    {
     "name": "stderr",
     "output_type": "stream",
     "text": [
      "100%|██████████| 280605/280605 [00:20<00:00, 13620.73it/s]\n"
     ]
    },
    {
     "name": "stdout",
     "output_type": "stream",
     "text": [
      "Training...\n",
      "Avg training loss: 0.6819\n",
      "Time taken: 34.51s\n",
      "==========\n",
      "\n",
      "Start of epoch 35:\n",
      "Augmenting time series lengths...\n"
     ]
    },
    {
     "name": "stderr",
     "output_type": "stream",
     "text": [
      "100%|██████████| 280605/280605 [00:21<00:00, 12966.37it/s]\n"
     ]
    },
    {
     "name": "stdout",
     "output_type": "stream",
     "text": [
      "Training...\n",
      "Avg training loss: 0.7226\n",
      "Time taken: 34.50s\n",
      "==========\n",
      "\n",
      "Start of epoch 36:\n",
      "Augmenting time series lengths...\n"
     ]
    },
    {
     "name": "stderr",
     "output_type": "stream",
     "text": [
      "100%|██████████| 280605/280605 [00:20<00:00, 13830.09it/s]\n"
     ]
    },
    {
     "name": "stdout",
     "output_type": "stream",
     "text": [
      "Training...\n",
      "Avg training loss: 0.3975\n",
      "Time taken: 43.76s\n",
      "==========\n",
      "\n",
      "Start of epoch 37:\n",
      "Augmenting time series lengths...\n"
     ]
    },
    {
     "name": "stderr",
     "output_type": "stream",
     "text": [
      "100%|██████████| 280605/280605 [00:21<00:00, 12893.36it/s]\n"
     ]
    },
    {
     "name": "stdout",
     "output_type": "stream",
     "text": [
      "Training...\n",
      "Avg training loss: 0.3140\n",
      "Time taken: 50.08s\n",
      "Best model is at epoch 37. Saving\n",
      "==========\n",
      "\n",
      "Start of epoch 38:\n",
      "Augmenting time series lengths...\n"
     ]
    },
    {
     "name": "stderr",
     "output_type": "stream",
     "text": [
      "100%|██████████| 280605/280605 [00:20<00:00, 13649.43it/s]\n"
     ]
    },
    {
     "name": "stdout",
     "output_type": "stream",
     "text": [
      "Training...\n",
      "Avg training loss: 0.3050\n",
      "Time taken: 49.48s\n",
      "Best model is at epoch 38. Saving\n",
      "==========\n",
      "\n",
      "Start of epoch 39:\n",
      "Augmenting time series lengths...\n"
     ]
    },
    {
     "name": "stderr",
     "output_type": "stream",
     "text": [
      "100%|██████████| 280605/280605 [00:21<00:00, 12972.94it/s]\n"
     ]
    },
    {
     "name": "stdout",
     "output_type": "stream",
     "text": [
      "Training...\n",
      "Avg training loss: 0.6995\n"
     ]
    },
    {
     "data": {
      "image/png": "[encoded data removed]",
      "text/plain": [
       "<Figure size 640x480 with 1 Axes>"
      ]
     },
     "metadata": {},
     "output_type": "display_data"
    },
    {
     "name": "stdout",
     "output_type": "stream",
     "text": [
      "Time taken: 34.88s\n",
      "==========\n",
      "\n",
      "Start of epoch 40:\n",
      "Augmenting time series lengths...\n"
     ]
    },
    {
     "name": "stderr",
     "output_type": "stream",
     "text": [
      "100%|██████████| 280605/280605 [00:20<00:00, 13623.50it/s]\n"
     ]
    },
    {
     "name": "stdout",
     "output_type": "stream",
     "text": [
      "Training...\n",
      "Avg training loss: 0.3063\n",
      "Time taken: 49.23s\n",
      "==========\n",
      "\n",
      "Start of epoch 41:\n",
      "Augmenting time series lengths...\n"
     ]
    },
    {
     "name": "stderr",
     "output_type": "stream",
     "text": [
      "100%|██████████| 280605/280605 [00:21<00:00, 13026.98it/s]\n"
     ]
    },
    {
     "name": "stdout",
     "output_type": "stream",
     "text": [
      "Training...\n",
      "Avg training loss: 0.4718\n",
      "Time taken: 39.55s\n",
      "==========\n",
      "\n",
      "Start of epoch 42:\n",
      "Augmenting time series lengths...\n"
     ]
    },
    {
     "name": "stderr",
     "output_type": "stream",
     "text": [
      "100%|██████████| 280605/280605 [00:20<00:00, 13664.68it/s]\n"
     ]
    },
    {
     "name": "stdout",
     "output_type": "stream",
     "text": [
      "Training...\n",
      "Avg training loss: 0.5507\n",
      "Time taken: 36.44s\n",
      "==========\n",
      "\n",
      "Start of epoch 43:\n",
      "Augmenting time series lengths...\n"
     ]
    },
    {
     "name": "stderr",
     "output_type": "stream",
     "text": [
      "100%|██████████| 280605/280605 [00:21<00:00, 13084.21it/s]\n"
     ]
    },
    {
     "name": "stdout",
     "output_type": "stream",
     "text": [
      "Training...\n",
      "Avg training loss: 0.8533\n",
      "Time taken: 33.15s\n",
      "==========\n",
      "\n",
      "Start of epoch 44:\n",
      "Augmenting time series lengths...\n"
     ]
    },
    {
     "name": "stderr",
     "output_type": "stream",
     "text": [
      "100%|██████████| 280605/280605 [00:20<00:00, 13822.70it/s]\n"
     ]
    },
    {
     "name": "stdout",
     "output_type": "stream",
     "text": [
      "Training...\n",
      "Avg training loss: 0.4226\n",
      "Time taken: 40.42s\n",
      "==========\n",
      "\n",
      "Start of epoch 45:\n",
      "Augmenting time series lengths...\n"
     ]
    },
    {
     "name": "stderr",
     "output_type": "stream",
     "text": [
      "100%|██████████| 280605/280605 [00:21<00:00, 13003.03it/s]\n"
     ]
    },
    {
     "name": "stdout",
     "output_type": "stream",
     "text": [
      "Training...\n",
      "Avg training loss: 0.4103\n",
      "Time taken: 41.88s\n",
      "==========\n",
      "\n",
      "Start of epoch 46:\n",
      "Augmenting time series lengths...\n"
     ]
    },
    {
     "name": "stderr",
     "output_type": "stream",
     "text": [
      "100%|██████████| 280605/280605 [00:20<00:00, 13603.52it/s]\n"
     ]
    },
    {
     "name": "stdout",
     "output_type": "stream",
     "text": [
      "Training...\n",
      "Avg training loss: 0.3112\n",
      "Time taken: 47.16s\n",
      "==========\n",
      "\n",
      "Start of epoch 47:\n",
      "Augmenting time series lengths...\n"
     ]
    },
    {
     "name": "stderr",
     "output_type": "stream",
     "text": [
      "100%|██████████| 280605/280605 [00:21<00:00, 12849.25it/s]\n"
     ]
    },
    {
     "name": "stdout",
     "output_type": "stream",
     "text": [
      "Training...\n",
      "Avg training loss: 0.5541\n",
      "Time taken: 37.30s\n",
      "==========\n",
      "\n",
      "Start of epoch 48:\n",
      "Augmenting time series lengths...\n"
     ]
    },
    {
     "name": "stderr",
     "output_type": "stream",
     "text": [
      "100%|██████████| 280605/280605 [00:20<00:00, 13754.12it/s]\n"
     ]
    },
    {
     "name": "stdout",
     "output_type": "stream",
     "text": [
      "Training...\n",
      "Avg training loss: 0.3339\n",
      "Time taken: 44.86s\n",
      "==========\n",
      "\n",
      "Start of epoch 49:\n",
      "Augmenting time series lengths...\n"
     ]
    },
    {
     "name": "stderr",
     "output_type": "stream",
     "text": [
      "100%|██████████| 280605/280605 [00:21<00:00, 12942.50it/s]\n"
     ]
    },
    {
     "name": "stdout",
     "output_type": "stream",
     "text": [
      "Training...\n",
      "Avg training loss: 0.4414\n"
     ]
    },
    {
     "data": {
      "image/png": "[encoded data removed]",
      "text/plain": [
       "<Figure size 640x480 with 1 Axes>"
      ]
     },
     "metadata": {},
     "output_type": "display_data"
    },
    {
     "name": "stdout",
     "output_type": "stream",
     "text": [
      "Time taken: 40.42s\n",
      "==========\n"
     ]
    }
   ],
   "source": [
    "avg_train_losses = []\n",
    "for epoch in range(num_epochs):\n",
    "    \n",
    "    print(f\"\\nStart of epoch {epoch}:\")\n",
    "    start_time = time.time()\n",
    "\n",
    "    print(\"Augmenting time series lengths...\")\n",
    "    \n",
    "    # Create the augmented data set for training\n",
    "    X_ts_train_aug, X_static_train_aug, Y_train_aug, astrophysical_classes_train_aug = get_augmented_data(X_ts_train, X_static_train, Y_train, astrophysical_classes_train)\n",
    "    train_dataset =  tf.data.Dataset.from_tensor_slices((X_ts_train_aug, X_static_train_aug, Y_train_aug, astrophysical_classes_train_aug)).batch(batch_size)\n",
    "    \n",
    "    # Array to keep tracking of the training loss\n",
    "    train_loss_values = []\n",
    "    \n",
    "    print(\"Training...\")\n",
    "    # Iterate over the batches of the dataset.\n",
    "    for step, (x_ts_batch_train, x_static_batch_train, y_batch_train, a_class_batch_train) in enumerate(train_dataset):\n",
    "        loss_value = train_step(x_ts_batch_train, x_static_batch_train, y_batch_train)\n",
    "        train_loss_values.append(float(loss_value))\n",
    "    \n",
    "    # Log the avg train loss\n",
    "    avg_train_loss = np.mean(train_loss_values)\n",
    "    avg_train_losses.append(avg_train_loss)\n",
    "    print(f\"Avg training loss: {float(avg_train_loss):.4f}\")\n",
    "    \n",
    "    # Plot every 10th epoch\n",
    "    if (epoch + 1) % 10 == 0:\n",
    "        plt.plot(list(range(len(avg_train_losses))), avg_train_losses)\n",
    "        plt.xlabel(\"Epoch\")\n",
    "        plt.ylabel(\"Avg log loss for training\")\n",
    "        plt.show()\n",
    "\n",
    "    print(f\"Time taken: {time.time() - start_time:.2f}s\")\n",
    "    model.save(f\"models/lsst_rate_agnostic/lstm_epoch_{epoch}.h5\")\n",
    "    \n",
    "    # Save the model with the smallest training loss\n",
    "    best_model_epoch = np.argmin(avg_train_losses)\n",
    "    if best_model_epoch == epoch:\n",
    "        print(f\"Best model is at epoch {epoch} Saving\")\n",
    "        model.save(f\"models/lsst_rate_agnostic/best_model.h5\")\n",
    "        \n",
    "    print(\"==========\")"
   ]
  },
  {
   "cell_type": "markdown",
   "id": "b0fb9f1b-06ad-4ed3-92ae-0968fb99091c",
   "metadata": {},
   "source": [
    "## Load the saved model and validate that everthing looks okay"
   ]
  },
  {
   "cell_type": "code",
   "execution_count": 19,
   "id": "ca62e204-7471-44cc-9b22-8348f4e946a8",
   "metadata": {},
   "outputs": [],
   "source": [
    "best_model = keras.models.load_model(f\"models/lsst_rate_agnostic/best_model.h5\", compile=False)"
   ]
  },
  {
   "cell_type": "code",
   "execution_count": 20,
   "id": "1a343fc2-e951-4659-89bb-67208cdc4db9",
   "metadata": {},
   "outputs": [],
   "source": [
    "fractions = [0.1, 0.5, 1]"
   ]
  },
  {
   "cell_type": "code",
   "execution_count": 21,
   "id": "d7a79713-2f62-4f4b-b744-63394b432338",
   "metadata": {
    "tags": []
   },
   "outputs": [
    {
     "name": "stdout",
     "output_type": "stream",
     "text": [
      "Running inference for 10% light curves...\n"
     ]
    },
    {
     "name": "stderr",
     "output_type": "stream",
     "text": [
      "100%|██████████| 14769/14769 [00:01<00:00, 12060.73it/s]\n"
     ]
    },
    {
     "name": "stdout",
     "output_type": "stream",
     "text": [
      "462/462 [==============================] - 3s 3ms/step\n",
      "Running inference for 50% light curves...\n"
     ]
    },
    {
     "name": "stderr",
     "output_type": "stream",
     "text": [
      "100%|██████████| 14769/14769 [00:01<00:00, 13769.21it/s]\n"
     ]
    },
    {
     "name": "stdout",
     "output_type": "stream",
     "text": [
      "462/462 [==============================] - 3s 6ms/step\n",
      "Running inference for 100% light curves...\n"
     ]
    },
    {
     "name": "stderr",
     "output_type": "stream",
     "text": [
      "100%|██████████| 14769/14769 [00:01<00:00, 14325.29it/s]\n"
     ]
    },
    {
     "name": "stdout",
     "output_type": "stream",
     "text": [
      "462/462 [==============================] - 4s 9ms/step\n"
     ]
    }
   ],
   "source": [
    "for f in fractions:\n",
    "\n",
    "    print(f'Running inference for {int(f*100)}% light curves...')\n",
    "\n",
    "    x1, x2, y_true, _ = get_augmented_data(X_ts_val, X_static_val, Y_val, astrophysical_classes_val, fraction=f)\n",
    "    \n",
    "    # Run inference on these\n",
    "    y_pred = best_model.predict([x1, x2])"
   ]
  },
  {
   "cell_type": "markdown",
   "id": "4888ffbd-596e-4f15-bb12-ffcb78361504",
   "metadata": {},
   "source": [
    "For the love of everthing that is good in this world, please use a different notebook for testing and genearting statistics. Keep this notebook simple enought to be converted into a script. "
   ]
  }
 ],
 "metadata": {
  "kernelspec": {
   "display_name": "NGC TensorFlow",
   "language": "python",
   "name": "tensorflow"
  },
  "language_info": {
   "codemirror_mode": {
    "name": "ipython",
    "version": 3
   },
   "file_extension": ".py",
   "mimetype": "text/x-python",
   "name": "python",
   "nbconvert_exporter": "python",
   "pygments_lexer": "ipython3",
   "version": "3.10.12"
  }
 },
 "nbformat": 4,
 "nbformat_minor": 5
}
